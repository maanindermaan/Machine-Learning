{
 "cells": [
  {
   "cell_type": "code",
   "execution_count": 2,
   "id": "d78f71b0",
   "metadata": {},
   "outputs": [
    {
     "data": {
      "text/plain": [
       "'45'"
      ]
     },
     "execution_count": 2,
     "metadata": {},
     "output_type": "execute_result"
    }
   ],
   "source": [
    "# Q How do you convert one data type to another in Python?\n",
    "# typecasting\n",
    "str(45)"
   ]
  },
  {
   "cell_type": "code",
   "execution_count": 4,
   "id": "54fb78fe",
   "metadata": {},
   "outputs": [],
   "source": [
    "l = [45]"
   ]
  },
  {
   "cell_type": "code",
   "execution_count": 7,
   "id": "c9291a71",
   "metadata": {},
   "outputs": [
    {
     "data": {
      "text/plain": [
       "'[45]'"
      ]
     },
     "execution_count": 7,
     "metadata": {},
     "output_type": "execute_result"
    }
   ],
   "source": [
    "str(l)"
   ]
  },
  {
   "cell_type": "code",
   "execution_count": 8,
   "id": "c0f98b98",
   "metadata": {},
   "outputs": [],
   "source": [
    "# Q. Given a list my_list = [1, 2, 3, 4, 5], write the code to slice the list and obtain the sub-list [2, 3].\n",
    "# Sol\n",
    "my_list = [1, 2, 3, 4, 5]"
   ]
  },
  {
   "cell_type": "code",
   "execution_count": 9,
   "id": "e5b96d5c",
   "metadata": {},
   "outputs": [
    {
     "data": {
      "text/plain": [
       "[2, 3]"
      ]
     },
     "execution_count": 9,
     "metadata": {},
     "output_type": "execute_result"
    }
   ],
   "source": [
    "my_list[1:3]"
   ]
  },
  {
   "cell_type": "code",
   "execution_count": 10,
   "id": "31ec778d",
   "metadata": {},
   "outputs": [],
   "source": [
    "a = 1+2j"
   ]
  },
  {
   "cell_type": "code",
   "execution_count": 11,
   "id": "4952d696",
   "metadata": {},
   "outputs": [
    {
     "data": {
      "text/plain": [
       "(1+2j)"
      ]
     },
     "execution_count": 11,
     "metadata": {},
     "output_type": "execute_result"
    }
   ],
   "source": [
    "a"
   ]
  },
  {
   "cell_type": "code",
   "execution_count": 12,
   "id": "f5ad1bbc",
   "metadata": {},
   "outputs": [],
   "source": [
    "s = 'Hello, World'"
   ]
  },
  {
   "cell_type": "code",
   "execution_count": 13,
   "id": "ce6acab6",
   "metadata": {},
   "outputs": [
    {
     "data": {
      "text/plain": [
       "7"
      ]
     },
     "execution_count": 13,
     "metadata": {},
     "output_type": "execute_result"
    }
   ],
   "source": [
    "s.find('World')"
   ]
  },
  {
   "cell_type": "code",
   "execution_count": 17,
   "id": "ebea69f4",
   "metadata": {},
   "outputs": [
    {
     "data": {
      "text/plain": [
       "'World'"
      ]
     },
     "execution_count": 17,
     "metadata": {},
     "output_type": "execute_result"
    }
   ],
   "source": [
    "s[7::]"
   ]
  },
  {
   "cell_type": "code",
   "execution_count": null,
   "id": "a3273e0b",
   "metadata": {},
   "outputs": [],
   "source": []
  }
 ],
 "metadata": {
  "kernelspec": {
   "display_name": "Python 3 (ipykernel)",
   "language": "python",
   "name": "python3"
  },
  "language_info": {
   "codemirror_mode": {
    "name": "ipython",
    "version": 3
   },
   "file_extension": ".py",
   "mimetype": "text/x-python",
   "name": "python",
   "nbconvert_exporter": "python",
   "pygments_lexer": "ipython3",
   "version": "3.9.13"
  }
 },
 "nbformat": 4,
 "nbformat_minor": 5
}
