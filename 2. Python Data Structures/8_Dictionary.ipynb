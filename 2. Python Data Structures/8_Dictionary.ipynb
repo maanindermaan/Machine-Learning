{
 "cells": [
  {
   "cell_type": "markdown",
   "id": "fcf8dc67",
   "metadata": {},
   "source": [
    "## Dictionary"
   ]
  },
  {
   "cell_type": "code",
   "execution_count": 1,
   "id": "a701bf7a",
   "metadata": {},
   "outputs": [],
   "source": [
    "d = {}"
   ]
  },
  {
   "cell_type": "code",
   "execution_count": 2,
   "id": "9d6aaa9e",
   "metadata": {},
   "outputs": [
    {
     "data": {
      "text/plain": [
       "dict"
      ]
     },
     "execution_count": 2,
     "metadata": {},
     "output_type": "execute_result"
    }
   ],
   "source": [
    "type(d)"
   ]
  },
  {
   "cell_type": "code",
   "execution_count": 3,
   "id": "72a01a81",
   "metadata": {},
   "outputs": [],
   "source": [
    "# dictionary have -> {key : value}"
   ]
  },
  {
   "cell_type": "code",
   "execution_count": 4,
   "id": "0620b69b",
   "metadata": {},
   "outputs": [],
   "source": [
    "d1 = {'key' : 'sudh'}\n",
    "# key should be unique otherwise it will update\n",
    "# Yeah samjhlo ki yeah word hai (key) or (sudh) uska meaning hai"
   ]
  },
  {
   "cell_type": "code",
   "execution_count": 5,
   "id": "108b1c67",
   "metadata": {},
   "outputs": [
    {
     "data": {
      "text/plain": [
       "{'key': 'sudh'}"
      ]
     },
     "execution_count": 5,
     "metadata": {},
     "output_type": "execute_result"
    }
   ],
   "source": [
    "d1"
   ]
  },
  {
   "cell_type": "code",
   "execution_count": 6,
   "id": "e71e60c5",
   "metadata": {},
   "outputs": [],
   "source": [
    "d2 = {'name' : 'maninder' , 'email' : 'manindermaan720@gmail.com' , 'number' : 12345}"
   ]
  },
  {
   "cell_type": "code",
   "execution_count": 7,
   "id": "9369a473",
   "metadata": {},
   "outputs": [
    {
     "data": {
      "text/plain": [
       "{'name': 'maninder', 'email': 'manindermaan720@gmail.com', 'number': 12345}"
      ]
     },
     "execution_count": 7,
     "metadata": {},
     "output_type": "execute_result"
    }
   ],
   "source": [
    "d2"
   ]
  },
  {
   "cell_type": "code",
   "execution_count": 10,
   "id": "af0aa0ca",
   "metadata": {},
   "outputs": [],
   "source": [
    "# d3 = {234 : 'maninder' , @wer : 'kumar' , _man : 'Doesnot work'}\n",
    "# key can have string , int , bool or any datatypes but not special case char"
   ]
  },
  {
   "cell_type": "code",
   "execution_count": 12,
   "id": "164ae2fa",
   "metadata": {},
   "outputs": [],
   "source": [
    "d3 = {234 : 'sudh' , '_wer' : 'Kumar' , True : 1234}"
   ]
  },
  {
   "cell_type": "code",
   "execution_count": 14,
   "id": "d14d2c13",
   "metadata": {},
   "outputs": [
    {
     "data": {
      "text/plain": [
       "'sudh'"
      ]
     },
     "execution_count": 14,
     "metadata": {},
     "output_type": "execute_result"
    }
   ],
   "source": [
    "# we can use key to extract values\n",
    "d3[234]"
   ]
  },
  {
   "cell_type": "code",
   "execution_count": 15,
   "id": "99da10d5",
   "metadata": {},
   "outputs": [
    {
     "data": {
      "text/plain": [
       "1234"
      ]
     },
     "execution_count": 15,
     "metadata": {},
     "output_type": "execute_result"
    }
   ],
   "source": [
    "d3[True]"
   ]
  },
  {
   "cell_type": "code",
   "execution_count": 17,
   "id": "fd0cb570",
   "metadata": {},
   "outputs": [
    {
     "data": {
      "text/plain": [
       "1234"
      ]
     },
     "execution_count": 17,
     "metadata": {},
     "output_type": "execute_result"
    }
   ],
   "source": [
    "# True = 1, we can'tuse indexing here\n",
    "d3[1]"
   ]
  },
  {
   "cell_type": "code",
   "execution_count": 18,
   "id": "bb6d6440",
   "metadata": {},
   "outputs": [],
   "source": [
    "d4 = {'name' : 'sudh' , 'mail_id' : 'ss@gmail.com' , 'name' : 'maninder'}"
   ]
  },
  {
   "cell_type": "code",
   "execution_count": 19,
   "id": "b6d0f2ee",
   "metadata": {},
   "outputs": [
    {
     "data": {
      "text/plain": [
       "'maninder'"
      ]
     },
     "execution_count": 19,
     "metadata": {},
     "output_type": "execute_result"
    }
   ],
   "source": [
    "# key should always be unique otherwise it will be overriden with new values and this is property of dictionary , \n",
    "# it will override with the most last value\n",
    "d4['name']"
   ]
  },
  {
   "cell_type": "code",
   "execution_count": 20,
   "id": "2e5e2f36",
   "metadata": {},
   "outputs": [],
   "source": [
    "d5 = {'company' : 'pwskills' , 'courses' : ['web dev' , 'data science' , 'maths']}"
   ]
  },
  {
   "cell_type": "code",
   "execution_count": 21,
   "id": "0d9d0217",
   "metadata": {},
   "outputs": [
    {
     "data": {
      "text/plain": [
       "{'company': 'pwskills', 'courses': ['web dev', 'data science', 'maths']}"
      ]
     },
     "execution_count": 21,
     "metadata": {},
     "output_type": "execute_result"
    }
   ],
   "source": [
    "d5"
   ]
  },
  {
   "cell_type": "code",
   "execution_count": 23,
   "id": "9bc147e0",
   "metadata": {},
   "outputs": [
    {
     "data": {
      "text/plain": [
       "['web dev', 'data science', 'maths']"
      ]
     },
     "execution_count": 23,
     "metadata": {},
     "output_type": "execute_result"
    }
   ],
   "source": [
    "d5['courses']"
   ]
  },
  {
   "cell_type": "code",
   "execution_count": 24,
   "id": "c0e41c18",
   "metadata": {},
   "outputs": [
    {
     "data": {
      "text/plain": [
       "'maths'"
      ]
     },
     "execution_count": 24,
     "metadata": {},
     "output_type": "execute_result"
    }
   ],
   "source": [
    "d5['courses'][2]"
   ]
  },
  {
   "cell_type": "code",
   "execution_count": 49,
   "id": "55ec0fe7",
   "metadata": {},
   "outputs": [],
   "source": [
    "d6 = {\"number\" : [1,2,3,4,54,54] , 'assignment' : (1,2,3,4,5,6) , 'launch_date' : {28,12,23,23,23,23} , 'class-time' : {'dsmasters' : 8 , 'babbar' :6 , 'java' : 5}}"
   ]
  },
  {
   "cell_type": "code",
   "execution_count": 50,
   "id": "afe0b6ce",
   "metadata": {},
   "outputs": [
    {
     "data": {
      "text/plain": [
       "{'number': [1, 2, 3, 4, 54, 54],\n",
       " 'assignment': (1, 2, 3, 4, 5, 6),\n",
       " 'launch_date': {12, 23, 28},\n",
       " 'class-time': {'dsmasters': 8, 'babbar': 6, 'java': 5}}"
      ]
     },
     "execution_count": 50,
     "metadata": {},
     "output_type": "execute_result"
    }
   ],
   "source": [
    "d6 # nested dictionary , list , set or tuple is allowed"
   ]
  },
  {
   "cell_type": "code",
   "execution_count": 51,
   "id": "e89d953b",
   "metadata": {},
   "outputs": [
    {
     "data": {
      "text/plain": [
       "5"
      ]
     },
     "execution_count": 51,
     "metadata": {},
     "output_type": "execute_result"
    }
   ],
   "source": [
    "# extracting data\n",
    "d6['class-time']['java']"
   ]
  },
  {
   "cell_type": "code",
   "execution_count": 52,
   "id": "9e768461",
   "metadata": {},
   "outputs": [],
   "source": [
    "# Appending into dictionary (adds new key)\n",
    "d6['mentor'] = ['sud' , 'man' , 'ali']"
   ]
  },
  {
   "cell_type": "code",
   "execution_count": 53,
   "id": "419d1e4e",
   "metadata": {},
   "outputs": [
    {
     "data": {
      "text/plain": [
       "{'number': [1, 2, 3, 4, 54, 54],\n",
       " 'assignment': (1, 2, 3, 4, 5, 6),\n",
       " 'launch_date': {12, 23, 28},\n",
       " 'class-time': {'dsmasters': 8, 'babbar': 6, 'java': 5},\n",
       " 'mentor': ['sud', 'man', 'ali']}"
      ]
     },
     "execution_count": 53,
     "metadata": {},
     "output_type": "execute_result"
    }
   ],
   "source": [
    "d6"
   ]
  },
  {
   "cell_type": "code",
   "execution_count": 54,
   "id": "c8d8fa09",
   "metadata": {},
   "outputs": [],
   "source": [
    "# Key likkha hua hai and you append again it will just update the values\n",
    "d6['number'] = [1]"
   ]
  },
  {
   "cell_type": "code",
   "execution_count": 55,
   "id": "3ebed8f1",
   "metadata": {},
   "outputs": [
    {
     "data": {
      "text/plain": [
       "{'number': [1],\n",
       " 'assignment': (1, 2, 3, 4, 5, 6),\n",
       " 'launch_date': {12, 23, 28},\n",
       " 'class-time': {'dsmasters': 8, 'babbar': 6, 'java': 5},\n",
       " 'mentor': ['sud', 'man', 'ali']}"
      ]
     },
     "execution_count": 55,
     "metadata": {},
     "output_type": "execute_result"
    }
   ],
   "source": [
    "d6"
   ]
  },
  {
   "cell_type": "code",
   "execution_count": 56,
   "id": "cd8709e9",
   "metadata": {},
   "outputs": [
    {
     "data": {
      "text/plain": [
       "{'assignment': (1, 2, 3, 4, 5, 6),\n",
       " 'launch_date': {12, 23, 28},\n",
       " 'class-time': {'dsmasters': 8, 'babbar': 6, 'java': 5},\n",
       " 'mentor': ['sud', 'man', 'ali']}"
      ]
     },
     "execution_count": 56,
     "metadata": {},
     "output_type": "execute_result"
    }
   ],
   "source": [
    "# For DELETE write it's key for which you wanto to delete it will delete whole item\n",
    "del d6['number']\n",
    "d6"
   ]
  },
  {
   "cell_type": "code",
   "execution_count": 57,
   "id": "ea2f9c31",
   "metadata": {},
   "outputs": [
    {
     "data": {
      "text/plain": [
       "dict_keys(['assignment', 'launch_date', 'class-time', 'mentor'])"
      ]
     },
     "execution_count": 57,
     "metadata": {},
     "output_type": "execute_result"
    }
   ],
   "source": [
    "# Extracting all keys\n",
    "d6.keys()"
   ]
  },
  {
   "cell_type": "code",
   "execution_count": 58,
   "id": "aeeb8b24",
   "metadata": {},
   "outputs": [
    {
     "data": {
      "text/plain": [
       "['assignment', 'launch_date', 'class-time', 'mentor']"
      ]
     },
     "execution_count": 58,
     "metadata": {},
     "output_type": "execute_result"
    }
   ],
   "source": [
    "list(d6.keys())"
   ]
  },
  {
   "cell_type": "code",
   "execution_count": 59,
   "id": "6e5ca721",
   "metadata": {},
   "outputs": [
    {
     "data": {
      "text/plain": [
       "[(1, 2, 3, 4, 5, 6),\n",
       " {12, 23, 28},\n",
       " {'dsmasters': 8, 'babbar': 6, 'java': 5},\n",
       " ['sud', 'man', 'ali']]"
      ]
     },
     "execution_count": 59,
     "metadata": {},
     "output_type": "execute_result"
    }
   ],
   "source": [
    "# Extracting all values\n",
    "list(d6.values())"
   ]
  },
  {
   "cell_type": "code",
   "execution_count": 60,
   "id": "8aea0fb8",
   "metadata": {},
   "outputs": [
    {
     "data": {
      "text/plain": [
       "[('assignment', (1, 2, 3, 4, 5, 6)),\n",
       " ('launch_date', {12, 23, 28}),\n",
       " ('class-time', {'dsmasters': 8, 'babbar': 6, 'java': 5}),\n",
       " ('mentor', ['sud', 'man', 'ali'])]"
      ]
     },
     "execution_count": 60,
     "metadata": {},
     "output_type": "execute_result"
    }
   ],
   "source": [
    "# Extracting all pairs\n",
    "list(d6.items())"
   ]
  },
  {
   "cell_type": "code",
   "execution_count": 61,
   "id": "a46c080c",
   "metadata": {},
   "outputs": [
    {
     "data": {
      "text/plain": [
       "(1, 2, 3, 4, 5, 6)"
      ]
     },
     "execution_count": 61,
     "metadata": {},
     "output_type": "execute_result"
    }
   ],
   "source": [
    "# Removes the item or pair whose key is provided\n",
    "d6.pop('assignment')"
   ]
  },
  {
   "cell_type": "code",
   "execution_count": 62,
   "id": "a5cc2466",
   "metadata": {},
   "outputs": [
    {
     "data": {
      "text/plain": [
       "{'launch_date': {12, 23, 28},\n",
       " 'class-time': {'dsmasters': 8, 'babbar': 6, 'java': 5},\n",
       " 'mentor': ['sud', 'man', 'ali']}"
      ]
     },
     "execution_count": 62,
     "metadata": {},
     "output_type": "execute_result"
    }
   ],
   "source": [
    "d6"
   ]
  },
  {
   "cell_type": "code",
   "execution_count": 63,
   "id": "c54391c4",
   "metadata": {},
   "outputs": [],
   "source": [
    "# DICTIONARY IS MUTABLE"
   ]
  },
  {
   "cell_type": "markdown",
   "id": "6e25b020",
   "metadata": {},
   "source": [
    "### Control Flow"
   ]
  },
  {
   "cell_type": "markdown",
   "id": "6df6de21",
   "metadata": {},
   "source": [
    "Control or decision making statement -> agar mai yeah karunga toh yeah hoga \n",
    "e.g. agar mai yha gya toh yeah hoga , this and that"
   ]
  },
  {
   "cell_type": "code",
   "execution_count": 67,
   "id": "2647710c",
   "metadata": {},
   "outputs": [
    {
     "name": "stdout",
     "output_type": "stream",
     "text": [
      "Enter your marks 100\n",
      "You will be part of A0 batch\n"
     ]
    }
   ],
   "source": [
    "# marks = 65\n",
    "# By default this input function convert into string\n",
    "# To make this into int again we have to typecaste\n",
    "marks = int(input(\"Enter your marks \"))\n",
    "if marks >= 80:\n",
    "    print('You will be part of A0 batch')\n",
    "elif marks >=60 and marks<80:\n",
    "    print('You will be part of A1 batch')\n",
    "elif marks >=40 and marks<60:\n",
    "    print('You will be part of A2 batch')\n",
    "else :\n",
    "    print('You will be part of A3 batch')"
   ]
  },
  {
   "cell_type": "code",
   "execution_count": 66,
   "id": "b681e0a3",
   "metadata": {},
   "outputs": [
    {
     "data": {
      "text/plain": [
       "False"
      ]
     },
     "execution_count": 66,
     "metadata": {},
     "output_type": "execute_result"
    }
   ],
   "source": [
    "10 >= 11"
   ]
  },
  {
   "cell_type": "code",
   "execution_count": 71,
   "id": "a61a4417",
   "metadata": {},
   "outputs": [
    {
     "name": "stdout",
     "output_type": "stream",
     "text": [
      "Enter price : 100\n",
      "i will purchase\n"
     ]
    }
   ],
   "source": [
    "price = int(input(\"Enter price : \"))\n",
    "if price > 1000:\n",
    "    print(\"i will not purchase\")\n",
    "else :\n",
    "    print(\"i will purchase\")"
   ]
  },
  {
   "cell_type": "code",
   "execution_count": 78,
   "id": "5ebe06f2",
   "metadata": {},
   "outputs": [
    {
     "name": "stdout",
     "output_type": "stream",
     "text": [
      "Enter price : 100000\n",
      "i will not purchase\n",
      "This is too much fuckoff\n"
     ]
    }
   ],
   "source": [
    "price = int(input(\"Enter price : \"))\n",
    "if price > 1000:\n",
    "    print(\"i will not purchase\")\n",
    "    if price > 5000:\n",
    "        print(\"This is too much fuckoff\")\n",
    "    elif price < 2000 :\n",
    "        print(\"Its okay\")\n",
    "elif price <1000:\n",
    "    print(\"I will purchase\")\n",
    "    if price>5000:\n",
    "        print(\"i will not purchase\")\n",
    "else : \n",
    "    print(\"not interesed\")\n",
    "    if price > 5000:\n",
    "        print(\"Too much for this shit\")"
   ]
  },
  {
   "cell_type": "code",
   "execution_count": 79,
   "id": "b5a9bde2",
   "metadata": {},
   "outputs": [],
   "source": [
    "l = [1,2,3,4,5,6,7,8]"
   ]
  },
  {
   "cell_type": "code",
   "execution_count": 86,
   "id": "1077bd5c",
   "metadata": {},
   "outputs": [],
   "source": [
    "# add 1 to list to every element\n",
    "l1 = []\n",
    "for i in l :\n",
    "    # print(i+1)\n",
    "    l1.append(i+1)"
   ]
  },
  {
   "cell_type": "code",
   "execution_count": 87,
   "id": "aa544a84",
   "metadata": {},
   "outputs": [
    {
     "data": {
      "text/plain": [
       "[2, 3, 4, 5, 6, 7, 8, 9]"
      ]
     },
     "execution_count": 87,
     "metadata": {},
     "output_type": "execute_result"
    }
   ],
   "source": [
    "l1"
   ]
  },
  {
   "cell_type": "code",
   "execution_count": 89,
   "id": "68ee5fdf",
   "metadata": {},
   "outputs": [],
   "source": [
    "l2 = ['sudh' , 'kumar' , 'pwSkills' , 'course']"
   ]
  },
  {
   "cell_type": "code",
   "execution_count": 90,
   "id": "694001a7",
   "metadata": {},
   "outputs": [],
   "source": [
    "# convert to upper case\n",
    "l3 = []\n",
    "for i in l2:\n",
    "    l3.append(i.upper())"
   ]
  },
  {
   "cell_type": "code",
   "execution_count": 91,
   "id": "1206d2c0",
   "metadata": {},
   "outputs": [
    {
     "data": {
      "text/plain": [
       "['SUDH', 'KUMAR', 'PWSKILLS', 'COURSE']"
      ]
     },
     "execution_count": 91,
     "metadata": {},
     "output_type": "execute_result"
    }
   ],
   "source": [
    "l3"
   ]
  },
  {
   "cell_type": "code",
   "execution_count": 92,
   "id": "a9f0183d",
   "metadata": {},
   "outputs": [],
   "source": [
    "l4 = [1,2,3,4,4,'sudh','kumar',324,34,456,'abc']"
   ]
  },
  {
   "cell_type": "code",
   "execution_count": 99,
   "id": "4ad0c5b5",
   "metadata": {},
   "outputs": [],
   "source": [
    "# make two separate list one having string and other having integer\n",
    "l1_num = []\n",
    "l2_str = []\n",
    "\n",
    "for i in l4 :\n",
    "    if type(i) == int or type(i) == float:\n",
    "        l1_num.append(i)\n",
    "    else :\n",
    "        l2_str.append(i)"
   ]
  },
  {
   "cell_type": "code",
   "execution_count": 100,
   "id": "3477a099",
   "metadata": {},
   "outputs": [
    {
     "data": {
      "text/plain": [
       "[1, 2, 3, 4, 4, 324, 34, 456]"
      ]
     },
     "execution_count": 100,
     "metadata": {},
     "output_type": "execute_result"
    }
   ],
   "source": [
    "l1_num"
   ]
  },
  {
   "cell_type": "code",
   "execution_count": 101,
   "id": "631b4daf",
   "metadata": {},
   "outputs": [
    {
     "data": {
      "text/plain": [
       "['sudh', 'kumar', 'abc']"
      ]
     },
     "execution_count": 101,
     "metadata": {},
     "output_type": "execute_result"
    }
   ],
   "source": [
    "l2_str"
   ]
  }
 ],
 "metadata": {
  "kernelspec": {
   "display_name": "Python 3 (ipykernel)",
   "language": "python",
   "name": "python3"
  },
  "language_info": {
   "codemirror_mode": {
    "name": "ipython",
    "version": 3
   },
   "file_extension": ".py",
   "mimetype": "text/x-python",
   "name": "python",
   "nbconvert_exporter": "python",
   "pygments_lexer": "ipython3",
   "version": "3.9.13"
  }
 },
 "nbformat": 4,
 "nbformat_minor": 5
}
