{
 "cells": [
  {
   "cell_type": "code",
   "execution_count": 2,
   "id": "ee6c82ee",
   "metadata": {},
   "outputs": [
    {
     "name": "stdout",
     "output_type": "stream",
     "text": [
      "My name is khan\n"
     ]
    }
   ],
   "source": [
    "# print function\n",
    "print(\"My name is khan\")"
   ]
  },
  {
   "cell_type": "code",
   "execution_count": 16,
   "id": "d87dae3f",
   "metadata": {},
   "outputs": [],
   "source": [
    "# Elements in string\n",
    "s = \"pwskills\""
   ]
  },
  {
   "cell_type": "code",
   "execution_count": 13,
   "id": "b9edbd5d",
   "metadata": {},
   "outputs": [
    {
     "data": {
      "text/plain": [
       "'pws'"
      ]
     },
     "execution_count": 13,
     "metadata": {},
     "output_type": "execute_result"
    }
   ],
   "source": [
    "# Slicing based on indexing(except higher index)\n",
    "# upperBound - 1\n",
    "s[0:3]"
   ]
  },
  {
   "cell_type": "code",
   "execution_count": 14,
   "id": "eb2b13cb",
   "metadata": {},
   "outputs": [
    {
     "data": {
      "text/plain": [
       "'psil'"
      ]
     },
     "execution_count": 14,
     "metadata": {},
     "output_type": "execute_result"
    }
   ],
   "source": [
    "# alternate data from string \n",
    "# Using jump \n",
    "# be default jump is 1\n",
    "s[0:8:2]"
   ]
  },
  {
   "cell_type": "code",
   "execution_count": 15,
   "id": "ac58ea13",
   "metadata": {},
   "outputs": [
    {
     "data": {
      "text/plain": [
       "'psil'"
      ]
     },
     "execution_count": 15,
     "metadata": {},
     "output_type": "execute_result"
    }
   ],
   "source": [
    "# start or end by default diye jaate hai\n",
    "s[::2]"
   ]
  },
  {
   "cell_type": "code",
   "execution_count": 16,
   "id": "4a783915",
   "metadata": {},
   "outputs": [
    {
     "data": {
      "text/plain": [
       "'sil'"
      ]
     },
     "execution_count": 16,
     "metadata": {},
     "output_type": "execute_result"
    }
   ],
   "source": [
    "s[2::2]"
   ]
  },
  {
   "cell_type": "code",
   "execution_count": 17,
   "id": "bb778bf9",
   "metadata": {},
   "outputs": [],
   "source": [
    "# # if jump = 0, invalid\n",
    "# s[2::0]"
   ]
  },
  {
   "cell_type": "code",
   "execution_count": 19,
   "id": "04bafbea",
   "metadata": {},
   "outputs": [
    {
     "data": {
      "text/plain": [
       "'sllikswp'"
      ]
     },
     "execution_count": 19,
     "metadata": {},
     "output_type": "execute_result"
    }
   ],
   "source": [
    "# printing string in reverse direction\n",
    "# jump = -1 , -ve direction jump\n",
    "s[::-1]"
   ]
  },
  {
   "cell_type": "code",
   "execution_count": 22,
   "id": "d8508d51",
   "metadata": {},
   "outputs": [
    {
     "data": {
      "text/plain": [
       "''"
      ]
     },
     "execution_count": 22,
     "metadata": {},
     "output_type": "execute_result"
    }
   ],
   "source": [
    "s[2:7:-1]\n",
    "# blank output\n",
    "# SCALING TECHNIQUE\n",
    "# because 2->7 is positive scale and jump=-1 is negative side so they don't intersect\n",
    "# Direction is different"
   ]
  },
  {
   "cell_type": "code",
   "execution_count": 23,
   "id": "3ca30318",
   "metadata": {},
   "outputs": [
    {
     "data": {
      "text/plain": [
       "''"
      ]
     },
     "execution_count": 23,
     "metadata": {},
     "output_type": "execute_result"
    }
   ],
   "source": [
    "s[8:0]\n",
    "# we are going from 8->0, scale decreasing(-ve), so default jump = 1,both are in opposite direction"
   ]
  },
  {
   "cell_type": "code",
   "execution_count": 24,
   "id": "51e5bba6",
   "metadata": {},
   "outputs": [
    {
     "data": {
      "text/plain": [
       "'sllikswp'"
      ]
     },
     "execution_count": 24,
     "metadata": {},
     "output_type": "execute_result"
    }
   ],
   "source": [
    "s[::-1]"
   ]
  },
  {
   "cell_type": "code",
   "execution_count": 25,
   "id": "f9af2838",
   "metadata": {},
   "outputs": [
    {
     "data": {
      "text/plain": [
       "'pwskills'"
      ]
     },
     "execution_count": 25,
     "metadata": {},
     "output_type": "execute_result"
    }
   ],
   "source": [
    "s[::1]"
   ]
  },
  {
   "cell_type": "code",
   "execution_count": 26,
   "id": "9d754cf2",
   "metadata": {},
   "outputs": [
    {
     "data": {
      "text/plain": [
       "'pwskills'"
      ]
     },
     "execution_count": 26,
     "metadata": {},
     "output_type": "execute_result"
    }
   ],
   "source": [
    "s[::]"
   ]
  },
  {
   "cell_type": "code",
   "execution_count": 27,
   "id": "73c431e3",
   "metadata": {},
   "outputs": [],
   "source": [
    "# This is indexing\n",
    "# can't access out of range string indexes\n",
    "# s[90]\n",
    "# sirf ek index call krne pe khojega nahi hai to error dega"
   ]
  },
  {
   "cell_type": "code",
   "execution_count": 28,
   "id": "e6afbae0",
   "metadata": {},
   "outputs": [
    {
     "data": {
      "text/plain": [
       "''"
      ]
     },
     "execution_count": 28,
     "metadata": {},
     "output_type": "execute_result"
    }
   ],
   "source": [
    "s[:-90:]"
   ]
  },
  {
   "cell_type": "code",
   "execution_count": 29,
   "id": "c73bd00d",
   "metadata": {},
   "outputs": [
    {
     "data": {
      "text/plain": [
       "'sllikswp'"
      ]
     },
     "execution_count": 29,
     "metadata": {},
     "output_type": "execute_result"
    }
   ],
   "source": [
    "# This is slicing (upper bound doesnot matter)\n",
    "s[:-90:-1]"
   ]
  },
  {
   "cell_type": "code",
   "execution_count": 1,
   "id": "1d6c8051",
   "metadata": {},
   "outputs": [],
   "source": [
    "# float , complex and integer data's element can't be extracted\n",
    "c = 200\n",
    "# to get it's elements firstly convert it into string"
   ]
  },
  {
   "cell_type": "code",
   "execution_count": 2,
   "id": "6333c32a",
   "metadata": {},
   "outputs": [],
   "source": [
    "s1 = \"this is my string class\""
   ]
  },
  {
   "cell_type": "markdown",
   "id": "34d50625",
   "metadata": {},
   "source": [
    "functions in strings (STRINGS MANIPULATION)"
   ]
  },
  {
   "cell_type": "code",
   "execution_count": 3,
   "id": "3e666801",
   "metadata": {},
   "outputs": [
    {
     "data": {
      "text/plain": [
       "23"
      ]
     },
     "execution_count": 3,
     "metadata": {},
     "output_type": "execute_result"
    }
   ],
   "source": [
    "# 1. Length of string\n",
    "len(s1)"
   ]
  },
  {
   "cell_type": "code",
   "execution_count": 4,
   "id": "e9fa80b8",
   "metadata": {},
   "outputs": [
    {
     "data": {
      "text/plain": [
       "3"
      ]
     },
     "execution_count": 4,
     "metadata": {},
     "output_type": "execute_result"
    }
   ],
   "source": [
    "# 2. Searching in string\n",
    "s1.find('s')\n",
    "# this is giving first s's index"
   ]
  },
  {
   "cell_type": "code",
   "execution_count": 5,
   "id": "0cd8b242",
   "metadata": {},
   "outputs": [
    {
     "data": {
      "text/plain": [
       "2"
      ]
     },
     "execution_count": 5,
     "metadata": {},
     "output_type": "execute_result"
    }
   ],
   "source": [
    "s1.find('i')"
   ]
  },
  {
   "cell_type": "markdown",
   "id": "0353b1db",
   "metadata": {},
   "source": [
    "1. press (shift + tab) to know about function and place curson on it\n",
    "2. if you want to know about their inbuilt functions just press tab e.g. s1.(tab)"
   ]
  },
  {
   "cell_type": "code",
   "execution_count": 7,
   "id": "f9ae661a",
   "metadata": {},
   "outputs": [
    {
     "data": {
      "text/plain": [
       "2"
      ]
     },
     "execution_count": 7,
     "metadata": {},
     "output_type": "execute_result"
    }
   ],
   "source": [
    "# You can search string as well\n",
    "# This will always give first index of that string\n",
    "# If you want next then you have to write custom function\n",
    "s1.find(\"is\")"
   ]
  },
  {
   "cell_type": "code",
   "execution_count": 8,
   "id": "ac1d0aba",
   "metadata": {},
   "outputs": [
    {
     "data": {
      "text/plain": [
       "-1"
      ]
     },
     "execution_count": 8,
     "metadata": {},
     "output_type": "execute_result"
    }
   ],
   "source": [
    "# As python is case senstive , agar nahi mila toh it will return -1.\n",
    "s1.find(\"IS\")"
   ]
  },
  {
   "cell_type": "code",
   "execution_count": 9,
   "id": "1b1ba9d1",
   "metadata": {},
   "outputs": [
    {
     "data": {
      "text/plain": [
       "5"
      ]
     },
     "execution_count": 9,
     "metadata": {},
     "output_type": "execute_result"
    }
   ],
   "source": [
    "# 3. Counting number of occurances of character or substring\n",
    "s1.count('s')"
   ]
  },
  {
   "cell_type": "code",
   "execution_count": 10,
   "id": "6fb0b3e2",
   "metadata": {},
   "outputs": [
    {
     "data": {
      "text/plain": [
       "0"
      ]
     },
     "execution_count": 10,
     "metadata": {},
     "output_type": "execute_result"
    }
   ],
   "source": [
    "# nahi hai toh 0 dega\n",
    "s1.count('z')"
   ]
  },
  {
   "cell_type": "code",
   "execution_count": 11,
   "id": "564e99e1",
   "metadata": {},
   "outputs": [
    {
     "data": {
      "text/plain": [
       "'THIS IS MY STRING CLASS'"
      ]
     },
     "execution_count": 11,
     "metadata": {},
     "output_type": "execute_result"
    }
   ],
   "source": [
    "# 4. Conversion to UPPER or LOWER character\n",
    "s1.upper()"
   ]
  },
  {
   "cell_type": "code",
   "execution_count": 12,
   "id": "325334de",
   "metadata": {},
   "outputs": [
    {
     "data": {
      "text/plain": [
       "'this is my string class'"
      ]
     },
     "execution_count": 12,
     "metadata": {},
     "output_type": "execute_result"
    }
   ],
   "source": [
    "s1.lower()"
   ]
  },
  {
   "cell_type": "code",
   "execution_count": 13,
   "id": "7bfd1b2a",
   "metadata": {},
   "outputs": [
    {
     "data": {
      "text/plain": [
       "'This Is My String Class'"
      ]
     },
     "execution_count": 13,
     "metadata": {},
     "output_type": "execute_result"
    }
   ],
   "source": [
    "# 5. Conversion to Title\n",
    "s1.title()"
   ]
  },
  {
   "cell_type": "code",
   "execution_count": 14,
   "id": "d63b71cc",
   "metadata": {},
   "outputs": [
    {
     "data": {
      "text/plain": [
       "'This is my string class'"
      ]
     },
     "execution_count": 14,
     "metadata": {},
     "output_type": "execute_result"
    }
   ],
   "source": [
    "# 6. Capitalise\n",
    "s1.capitalize()"
   ]
  },
  {
   "cell_type": "code",
   "execution_count": 17,
   "id": "41a02478",
   "metadata": {},
   "outputs": [
    {
     "data": {
      "text/plain": [
       "'pwskills'"
      ]
     },
     "execution_count": 17,
     "metadata": {},
     "output_type": "execute_result"
    }
   ],
   "source": [
    "s"
   ]
  },
  {
   "cell_type": "code",
   "execution_count": 19,
   "id": "fe23a5f4",
   "metadata": {},
   "outputs": [],
   "source": [
    "# s + 1\n",
    "# no meaning by adding 1 to string\n",
    "# concatination of str with int is INVALID\n",
    "# Can only concatinate str with str"
   ]
  },
  {
   "cell_type": "code",
   "execution_count": 20,
   "id": "748a129a",
   "metadata": {},
   "outputs": [
    {
     "data": {
      "text/plain": [
       "'pwskillssudh'"
      ]
     },
     "execution_count": 20,
     "metadata": {},
     "output_type": "execute_result"
    }
   ],
   "source": [
    "s + \"sudh\""
   ]
  },
  {
   "cell_type": "code",
   "execution_count": 21,
   "id": "8fcb7e71",
   "metadata": {},
   "outputs": [
    {
     "data": {
      "text/plain": [
       "'pwskills1'"
      ]
     },
     "execution_count": 21,
     "metadata": {},
     "output_type": "execute_result"
    }
   ],
   "source": [
    "# AGAR 1 ko add karna hi hai toh we have to do typecasting\n",
    "# Coversion of 1 to string first and then ADD\n",
    "s + '1'"
   ]
  },
  {
   "cell_type": "markdown",
   "id": "ea68a414",
   "metadata": {},
   "source": [
    "Can't do concatination operation with different data types"
   ]
  },
  {
   "cell_type": "code",
   "execution_count": 23,
   "id": "c65fe2a5",
   "metadata": {},
   "outputs": [
    {
     "data": {
      "text/plain": [
       "'pwskillspwskillspwskills'"
      ]
     },
     "execution_count": 23,
     "metadata": {},
     "output_type": "execute_result"
    }
   ],
   "source": [
    "# Repeating string number of times\n",
    "s * 3"
   ]
  },
  {
   "cell_type": "code",
   "execution_count": 25,
   "id": "d31b4dbc",
   "metadata": {},
   "outputs": [],
   "source": [
    "# \"sudh\" / 3\n",
    "# We can't do division and subtraction to string"
   ]
  },
  {
   "cell_type": "code",
   "execution_count": 28,
   "id": "ca3e83bd",
   "metadata": {},
   "outputs": [
    {
     "data": {
      "text/plain": [
       "\"don't do copy and paste in my class\""
      ]
     },
     "execution_count": 28,
     "metadata": {},
     "output_type": "execute_result"
    }
   ],
   "source": [
    "# 'don't do copy and paste in my class'\n",
    "# this doesnot work because system is getting confused because of don't mein single quote use hai or ' ' pure \n",
    "# sentence mein bhi hai you have to use diff\n",
    "# to solve it try to take doublequotes then and viceversa\n",
    "\"don't do copy and paste in my class\""
   ]
  },
  {
   "cell_type": "code",
   "execution_count": 29,
   "id": "06b691e4",
   "metadata": {},
   "outputs": [
    {
     "data": {
      "text/plain": [
       "'don\"t do copy and paste in my class'"
      ]
     },
     "execution_count": 29,
     "metadata": {},
     "output_type": "execute_result"
    }
   ],
   "source": [
    "'don\"t do copy and paste in my class'"
   ]
  },
  {
   "cell_type": "code",
   "execution_count": 31,
   "id": "ff123da1",
   "metadata": {},
   "outputs": [],
   "source": [
    "# for multiple comments (TRIPPLE QUOTES)\n",
    "# Can store as a string as well\n",
    "s2 = \"\"\"Lorem Ipsum is simply dummy text of the printing and typesetting industry. Lorem Ipsum has been the industry's \n",
    "standard dummy text ever since the 1500s, when an unknown printer took a galley of type and scrambled it to make \n",
    "a type specimen book.\"\"\""
   ]
  },
  {
   "cell_type": "code",
   "execution_count": 32,
   "id": "fe55b1e5",
   "metadata": {},
   "outputs": [
    {
     "data": {
      "text/plain": [
       "\"Lorem Ipsum is simply dummy text of the printing and typesetting industry. Lorem Ipsum has been the industry's \\nstandard dummy text ever since the 1500s, when an unknown printer took a galley of type and scrambled it to make \\na type specimen book.\""
      ]
     },
     "execution_count": 32,
     "metadata": {},
     "output_type": "execute_result"
    }
   ],
   "source": [
    "s2"
   ]
  },
  {
   "cell_type": "code",
   "execution_count": 33,
   "id": "19499607",
   "metadata": {},
   "outputs": [],
   "source": [
    "# you can use upper() and lower() while slicing as well\n",
    "# s[-8 :: -1].upper()"
   ]
  }
 ],
 "metadata": {
  "kernelspec": {
   "display_name": "Python 3 (ipykernel)",
   "language": "python",
   "name": "python3"
  },
  "language_info": {
   "codemirror_mode": {
    "name": "ipython",
    "version": 3
   },
   "file_extension": ".py",
   "mimetype": "text/x-python",
   "name": "python",
   "nbconvert_exporter": "python",
   "pygments_lexer": "ipython3",
   "version": "3.9.13"
  }
 },
 "nbformat": 4,
 "nbformat_minor": 5
}
