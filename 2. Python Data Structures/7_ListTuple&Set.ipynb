{
 "cells": [
  {
   "cell_type": "markdown",
   "id": "c5737d70",
   "metadata": {},
   "source": [
    "## Lists"
   ]
  },
  {
   "cell_type": "code",
   "execution_count": 1,
   "id": "6d69f110",
   "metadata": {},
   "outputs": [],
   "source": [
    "l = [1,2,3,\"sudh\" , True , 4.35]"
   ]
  },
  {
   "cell_type": "code",
   "execution_count": 2,
   "id": "29a06157",
   "metadata": {},
   "outputs": [
    {
     "data": {
      "text/plain": [
       "list"
      ]
     },
     "execution_count": 2,
     "metadata": {},
     "output_type": "execute_result"
    }
   ],
   "source": [
    "type(l)"
   ]
  },
  {
   "cell_type": "code",
   "execution_count": 3,
   "id": "97418e1f",
   "metadata": {},
   "outputs": [
    {
     "data": {
      "text/plain": [
       "1"
      ]
     },
     "execution_count": 3,
     "metadata": {},
     "output_type": "execute_result"
    }
   ],
   "source": [
    "l[0]"
   ]
  },
  {
   "cell_type": "code",
   "execution_count": 4,
   "id": "0efd1105",
   "metadata": {},
   "outputs": [
    {
     "data": {
      "text/plain": [
       "4.35"
      ]
     },
     "execution_count": 4,
     "metadata": {},
     "output_type": "execute_result"
    }
   ],
   "source": [
    "l[5]"
   ]
  },
  {
   "cell_type": "code",
   "execution_count": 5,
   "id": "08724b72",
   "metadata": {},
   "outputs": [],
   "source": [
    "# l[6]\n",
    "# Out of bound element not exists"
   ]
  },
  {
   "cell_type": "code",
   "execution_count": 6,
   "id": "de5f4b0f",
   "metadata": {},
   "outputs": [
    {
     "data": {
      "text/plain": [
       "[1, 2, 3]"
      ]
     },
     "execution_count": 6,
     "metadata": {},
     "output_type": "execute_result"
    }
   ],
   "source": [
    "l[0:3]"
   ]
  },
  {
   "cell_type": "code",
   "execution_count": 7,
   "id": "9bd56305",
   "metadata": {},
   "outputs": [
    {
     "data": {
      "text/plain": [
       "4.35"
      ]
     },
     "execution_count": 7,
     "metadata": {},
     "output_type": "execute_result"
    }
   ],
   "source": [
    "# indexing can be negative(starts from last->first) or positive(starts from first->last) both\n",
    "l[-1]"
   ]
  },
  {
   "cell_type": "markdown",
   "id": "3f9a0196",
   "metadata": {},
   "source": [
    "Slicing"
   ]
  },
  {
   "cell_type": "code",
   "execution_count": 8,
   "id": "fe048aff",
   "metadata": {},
   "outputs": [
    {
     "data": {
      "text/plain": [
       "[4.35, True, 'sudh', 3, 2, 1]"
      ]
     },
     "execution_count": 8,
     "metadata": {},
     "output_type": "execute_result"
    }
   ],
   "source": [
    "l[::-1]"
   ]
  },
  {
   "cell_type": "code",
   "execution_count": 9,
   "id": "02413427",
   "metadata": {},
   "outputs": [
    {
     "data": {
      "text/plain": [
       "[1, 3, True]"
      ]
     },
     "execution_count": 9,
     "metadata": {},
     "output_type": "execute_result"
    }
   ],
   "source": [
    "# Extract data from even index\n",
    "l[::2]"
   ]
  },
  {
   "cell_type": "code",
   "execution_count": 10,
   "id": "0e43d5cf",
   "metadata": {},
   "outputs": [],
   "source": [
    "s = 'pwSkills'"
   ]
  },
  {
   "cell_type": "code",
   "execution_count": 11,
   "id": "4ed1dcef",
   "metadata": {},
   "outputs": [],
   "source": [
    "# Different data types can't be concatenated\n",
    "# l+s\n",
    "# l+3"
   ]
  },
  {
   "cell_type": "code",
   "execution_count": 12,
   "id": "a93694bd",
   "metadata": {},
   "outputs": [
    {
     "data": {
      "text/plain": [
       "['p', 'w', 'S', 'k', 'i', 'l', 'l', 's']"
      ]
     },
     "execution_count": 12,
     "metadata": {},
     "output_type": "execute_result"
    }
   ],
   "source": [
    "# Ye list function todega characters ko\n",
    "# this is not type conversion it is breaking string into chars and then storing it into l\n",
    "list(s) "
   ]
  },
  {
   "cell_type": "code",
   "execution_count": 13,
   "id": "90f5f3e2",
   "metadata": {},
   "outputs": [
    {
     "data": {
      "text/plain": [
       "['p', 'w', 'S', 'k', 'i', 'l', 'l', 's', 1, 2, 3, 'sudh', True, 4.35]"
      ]
     },
     "execution_count": 13,
     "metadata": {},
     "output_type": "execute_result"
    }
   ],
   "source": [
    "# haan ab add kr sakte ho but tutke add hoga\n",
    "list(s) + l"
   ]
  },
  {
   "cell_type": "code",
   "execution_count": 14,
   "id": "b32fa0c6",
   "metadata": {},
   "outputs": [
    {
     "data": {
      "text/plain": [
       "[1, 2, 3, 'sudh', True, 4.35]"
      ]
     },
     "execution_count": 14,
     "metadata": {},
     "output_type": "execute_result"
    }
   ],
   "source": [
    "l"
   ]
  },
  {
   "cell_type": "code",
   "execution_count": 15,
   "id": "20d01985",
   "metadata": {},
   "outputs": [
    {
     "data": {
      "text/plain": [
       "'su'"
      ]
     },
     "execution_count": 15,
     "metadata": {},
     "output_type": "execute_result"
    }
   ],
   "source": [
    "# As it is separtely a string now you can apply slicing operation\n",
    "l[3][0:2]"
   ]
  },
  {
   "cell_type": "code",
   "execution_count": 16,
   "id": "b5f82152",
   "metadata": {},
   "outputs": [
    {
     "data": {
      "text/plain": [
       "'Tr'"
      ]
     },
     "execution_count": 16,
     "metadata": {},
     "output_type": "execute_result"
    }
   ],
   "source": [
    "# l[4][0:2] can't find as l[4] is boolean , firstly we have to convert it into string\n",
    "# firstly converted into string\n",
    "str(l[4])[0:2]"
   ]
  },
  {
   "cell_type": "code",
   "execution_count": 17,
   "id": "15808e34",
   "metadata": {},
   "outputs": [],
   "source": [
    "l1 = [3,4,5]"
   ]
  },
  {
   "cell_type": "code",
   "execution_count": 18,
   "id": "6b6dfd60",
   "metadata": {},
   "outputs": [
    {
     "data": {
      "text/plain": [
       "[1, 2, 3, 'sudh', True, 4.35, 3, 4, 5]"
      ]
     },
     "execution_count": 18,
     "metadata": {},
     "output_type": "execute_result"
    }
   ],
   "source": [
    "# concatinating two lists\n",
    "l+l1"
   ]
  },
  {
   "cell_type": "code",
   "execution_count": 19,
   "id": "4b243151",
   "metadata": {},
   "outputs": [
    {
     "data": {
      "text/plain": [
       "[3, 4, 5, 3, 4, 5, 3, 4, 5]"
      ]
     },
     "execution_count": 19,
     "metadata": {},
     "output_type": "execute_result"
    }
   ],
   "source": [
    "# n number of times repeat krega\n",
    "l1*3"
   ]
  },
  {
   "cell_type": "code",
   "execution_count": 20,
   "id": "4112d70d",
   "metadata": {},
   "outputs": [
    {
     "data": {
      "text/plain": [
       "6"
      ]
     },
     "execution_count": 20,
     "metadata": {},
     "output_type": "execute_result"
    }
   ],
   "source": [
    "# number of elements\n",
    "len(l)"
   ]
  },
  {
   "cell_type": "markdown",
   "id": "2b3350a8",
   "metadata": {},
   "source": [
    "#### APPEND FUNCTION"
   ]
  },
  {
   "cell_type": "code",
   "execution_count": 21,
   "id": "b8965041",
   "metadata": {},
   "outputs": [],
   "source": [
    "# append ek sath daldega without breaking\n",
    "l.append(5)\n",
    "# this way we can concatanate list with int without conversion"
   ]
  },
  {
   "cell_type": "code",
   "execution_count": 22,
   "id": "0a5c5253",
   "metadata": {},
   "outputs": [
    {
     "data": {
      "text/plain": [
       "[1, 2, 3, 'sudh', True, 4.35, 5]"
      ]
     },
     "execution_count": 22,
     "metadata": {},
     "output_type": "execute_result"
    }
   ],
   "source": [
    "l"
   ]
  },
  {
   "cell_type": "code",
   "execution_count": 23,
   "id": "f633a757",
   "metadata": {},
   "outputs": [
    {
     "data": {
      "text/plain": [
       "'pwSkills'"
      ]
     },
     "execution_count": 23,
     "metadata": {},
     "output_type": "execute_result"
    }
   ],
   "source": [
    "s"
   ]
  },
  {
   "cell_type": "code",
   "execution_count": 24,
   "id": "6d31837f",
   "metadata": {},
   "outputs": [],
   "source": [
    "l.append(s)\n",
    "# this way we can concatinate str + list without breakdown into chars"
   ]
  },
  {
   "cell_type": "code",
   "execution_count": 25,
   "id": "ef99cdb9",
   "metadata": {},
   "outputs": [
    {
     "data": {
      "text/plain": [
       "[1, 2, 3, 'sudh', True, 4.35, 5, 'pwSkills']"
      ]
     },
     "execution_count": 25,
     "metadata": {},
     "output_type": "execute_result"
    }
   ],
   "source": [
    "l"
   ]
  },
  {
   "cell_type": "code",
   "execution_count": 26,
   "id": "800f6d4d",
   "metadata": {},
   "outputs": [],
   "source": [
    "# we can append two lists as well \n",
    "l.append(l1)"
   ]
  },
  {
   "cell_type": "code",
   "execution_count": 27,
   "id": "3a025a47",
   "metadata": {},
   "outputs": [
    {
     "data": {
      "text/plain": [
       "[1, 2, 3, 'sudh', True, 4.35, 5, 'pwSkills', [3, 4, 5]]"
      ]
     },
     "execution_count": 27,
     "metadata": {},
     "output_type": "execute_result"
    }
   ],
   "source": [
    "l"
   ]
  },
  {
   "cell_type": "code",
   "execution_count": 28,
   "id": "d15802f9",
   "metadata": {},
   "outputs": [
    {
     "data": {
      "text/plain": [
       "4"
      ]
     },
     "execution_count": 28,
     "metadata": {},
     "output_type": "execute_result"
    }
   ],
   "source": [
    "# extracting 4\n",
    "l[8][1]\n",
    "# or\n",
    "# l[-1][1]"
   ]
  },
  {
   "cell_type": "markdown",
   "id": "4a9b4688",
   "metadata": {},
   "source": [
    "#### EXTEND FUNCTION"
   ]
  },
  {
   "cell_type": "code",
   "execution_count": 29,
   "id": "95cdcd83",
   "metadata": {},
   "outputs": [],
   "source": [
    "# integer not working\n",
    "# l.extend(4)\n",
    "# string working after breaking it\n",
    "# because string mein hum break kr sakte hai index mein , iterable hai stirng\n",
    "l.extend(\"sudh\")"
   ]
  },
  {
   "cell_type": "code",
   "execution_count": 30,
   "id": "4308078e",
   "metadata": {},
   "outputs": [
    {
     "data": {
      "text/plain": [
       "[1, 2, 3, 'sudh', True, 4.35, 5, 'pwSkills', [3, 4, 5], 's', 'u', 'd', 'h']"
      ]
     },
     "execution_count": 30,
     "metadata": {},
     "output_type": "execute_result"
    }
   ],
   "source": [
    "l"
   ]
  },
  {
   "cell_type": "code",
   "execution_count": 31,
   "id": "098b973b",
   "metadata": {},
   "outputs": [],
   "source": [
    "# todke dalta hai extend\n",
    "# as it is dalta hai append\n",
    "l.extend([10,11,12])"
   ]
  },
  {
   "cell_type": "code",
   "execution_count": 32,
   "id": "42594379",
   "metadata": {},
   "outputs": [
    {
     "data": {
      "text/plain": [
       "[1,\n",
       " 2,\n",
       " 3,\n",
       " 'sudh',\n",
       " True,\n",
       " 4.35,\n",
       " 5,\n",
       " 'pwSkills',\n",
       " [3, 4, 5],\n",
       " 's',\n",
       " 'u',\n",
       " 'd',\n",
       " 'h',\n",
       " 10,\n",
       " 11,\n",
       " 12]"
      ]
     },
     "execution_count": 32,
     "metadata": {},
     "output_type": "execute_result"
    }
   ],
   "source": [
    "l"
   ]
  },
  {
   "cell_type": "code",
   "execution_count": 33,
   "id": "87d83bee",
   "metadata": {},
   "outputs": [],
   "source": [
    "# data duplicacy is allowed"
   ]
  },
  {
   "cell_type": "code",
   "execution_count": 34,
   "id": "35d89604",
   "metadata": {},
   "outputs": [],
   "source": [
    "l1 = [3,4,5]"
   ]
  },
  {
   "cell_type": "code",
   "execution_count": 35,
   "id": "2b09ddf1",
   "metadata": {},
   "outputs": [
    {
     "data": {
      "text/plain": [
       "[3, 4, 5]"
      ]
     },
     "execution_count": 35,
     "metadata": {},
     "output_type": "execute_result"
    }
   ],
   "source": [
    "l1"
   ]
  },
  {
   "cell_type": "markdown",
   "id": "39371e05",
   "metadata": {},
   "source": [
    "#### INSERT FUNCTION"
   ]
  },
  {
   "cell_type": "code",
   "execution_count": 36,
   "id": "be4ffd85",
   "metadata": {},
   "outputs": [],
   "source": [
    "# insert data at first position now or in a given position\n",
    "# INSERT FUNCTION\n",
    "# format->(index , data)\n",
    "# format na ya index\n",
    "l1.insert(1,\"MAN\")"
   ]
  },
  {
   "cell_type": "code",
   "execution_count": 37,
   "id": "430bd8d1",
   "metadata": {},
   "outputs": [
    {
     "data": {
      "text/plain": [
       "[3, 'MAN', 4, 5]"
      ]
     },
     "execution_count": 37,
     "metadata": {},
     "output_type": "execute_result"
    }
   ],
   "source": [
    "l1"
   ]
  },
  {
   "cell_type": "code",
   "execution_count": 38,
   "id": "7d8054a4",
   "metadata": {},
   "outputs": [],
   "source": [
    "l1.insert(2,\"INDER\")"
   ]
  },
  {
   "cell_type": "code",
   "execution_count": 39,
   "id": "4edc43a1",
   "metadata": {},
   "outputs": [
    {
     "data": {
      "text/plain": [
       "[3, 'MAN', 'INDER', 4, 5]"
      ]
     },
     "execution_count": 39,
     "metadata": {},
     "output_type": "execute_result"
    }
   ],
   "source": [
    "l1"
   ]
  },
  {
   "cell_type": "code",
   "execution_count": 40,
   "id": "987cdf26",
   "metadata": {},
   "outputs": [],
   "source": [
    "l1.insert(3,[1,2,3])"
   ]
  },
  {
   "cell_type": "code",
   "execution_count": 41,
   "id": "9d560ae5",
   "metadata": {},
   "outputs": [
    {
     "data": {
      "text/plain": [
       "[3, 'MAN', 'INDER', [1, 2, 3], 4, 5]"
      ]
     },
     "execution_count": 41,
     "metadata": {},
     "output_type": "execute_result"
    }
   ],
   "source": [
    "l1"
   ]
  },
  {
   "cell_type": "code",
   "execution_count": 42,
   "id": "62117186",
   "metadata": {},
   "outputs": [],
   "source": [
    "l1.insert(-1,45)\n",
    "# second last pe isliye aaya becuas humne bola ki -1 pe 45 daldo or jo tha(5) usko aage push krdo that's why you see 5 at end"
   ]
  },
  {
   "cell_type": "code",
   "execution_count": 43,
   "id": "a76a0cc9",
   "metadata": {},
   "outputs": [
    {
     "data": {
      "text/plain": [
       "[3, 'MAN', 'INDER', [1, 2, 3], 4, 45, 5]"
      ]
     },
     "execution_count": 43,
     "metadata": {},
     "output_type": "execute_result"
    }
   ],
   "source": [
    "l1"
   ]
  },
  {
   "cell_type": "code",
   "execution_count": 44,
   "id": "5d79c6e5",
   "metadata": {},
   "outputs": [],
   "source": [
    "l1.insert(0,1)"
   ]
  },
  {
   "cell_type": "code",
   "execution_count": 45,
   "id": "3c1b52c1",
   "metadata": {},
   "outputs": [
    {
     "data": {
      "text/plain": [
       "[1, 3, 'MAN', 'INDER', [1, 2, 3], 4, 45, 5]"
      ]
     },
     "execution_count": 45,
     "metadata": {},
     "output_type": "execute_result"
    }
   ],
   "source": [
    "l1"
   ]
  },
  {
   "cell_type": "markdown",
   "id": "4813c8e8",
   "metadata": {},
   "source": [
    "#### DATA DELETE"
   ]
  },
  {
   "cell_type": "code",
   "execution_count": 46,
   "id": "c2e7b72a",
   "metadata": {},
   "outputs": [
    {
     "data": {
      "text/plain": [
       "5"
      ]
     },
     "execution_count": 46,
     "metadata": {},
     "output_type": "execute_result"
    }
   ],
   "source": [
    "# 1. POP FUNCTION\n",
    "# By default deletes from -1 i.e. end\n",
    "l1.pop()"
   ]
  },
  {
   "cell_type": "code",
   "execution_count": 47,
   "id": "a0e9cfa3",
   "metadata": {},
   "outputs": [
    {
     "data": {
      "text/plain": [
       "[1, 3, 'MAN', 'INDER', [1, 2, 3], 4, 45]"
      ]
     },
     "execution_count": 47,
     "metadata": {},
     "output_type": "execute_result"
    }
   ],
   "source": [
    "l1"
   ]
  },
  {
   "cell_type": "code",
   "execution_count": 48,
   "id": "6b3bd478",
   "metadata": {},
   "outputs": [
    {
     "data": {
      "text/plain": [
       "45"
      ]
     },
     "execution_count": 48,
     "metadata": {},
     "output_type": "execute_result"
    }
   ],
   "source": [
    "l1.pop()"
   ]
  },
  {
   "cell_type": "code",
   "execution_count": 49,
   "id": "9a687f78",
   "metadata": {},
   "outputs": [
    {
     "data": {
      "text/plain": [
       "[1, 3, 'MAN', 'INDER', [1, 2, 3], 4]"
      ]
     },
     "execution_count": 49,
     "metadata": {},
     "output_type": "execute_result"
    }
   ],
   "source": [
    "l1"
   ]
  },
  {
   "cell_type": "code",
   "execution_count": 50,
   "id": "009ec05c",
   "metadata": {},
   "outputs": [
    {
     "data": {
      "text/plain": [
       "'MAN'"
      ]
     },
     "execution_count": 50,
     "metadata": {},
     "output_type": "execute_result"
    }
   ],
   "source": [
    "# pops from particular index\n",
    "l1.pop(2)"
   ]
  },
  {
   "cell_type": "code",
   "execution_count": 51,
   "id": "345a11d6",
   "metadata": {},
   "outputs": [
    {
     "data": {
      "text/plain": [
       "[1, 3, 'INDER', [1, 2, 3], 4]"
      ]
     },
     "execution_count": 51,
     "metadata": {},
     "output_type": "execute_result"
    }
   ],
   "source": [
    "l1"
   ]
  },
  {
   "cell_type": "code",
   "execution_count": 52,
   "id": "fcafe4f1",
   "metadata": {},
   "outputs": [
    {
     "data": {
      "text/plain": [
       "[1, 2, 3]"
      ]
     },
     "execution_count": 52,
     "metadata": {},
     "output_type": "execute_result"
    }
   ],
   "source": [
    "l1.pop(3)"
   ]
  },
  {
   "cell_type": "code",
   "execution_count": 53,
   "id": "da1c4468",
   "metadata": {},
   "outputs": [
    {
     "data": {
      "text/plain": [
       "[1, 3, 'INDER', 4]"
      ]
     },
     "execution_count": 53,
     "metadata": {},
     "output_type": "execute_result"
    }
   ],
   "source": [
    "l1"
   ]
  },
  {
   "cell_type": "code",
   "execution_count": 54,
   "id": "bba935a5",
   "metadata": {},
   "outputs": [],
   "source": [
    "# 2. REMOVE FUNCTION\n",
    "# This deletes particular value from list\n",
    "l1.remove(1)"
   ]
  },
  {
   "cell_type": "code",
   "execution_count": 55,
   "id": "c5a4c2c6",
   "metadata": {},
   "outputs": [
    {
     "data": {
      "text/plain": [
       "[3, 'INDER', 4]"
      ]
     },
     "execution_count": 55,
     "metadata": {},
     "output_type": "execute_result"
    }
   ],
   "source": [
    "l1"
   ]
  },
  {
   "cell_type": "code",
   "execution_count": 56,
   "id": "afbca52f",
   "metadata": {},
   "outputs": [],
   "source": [
    "# # if not exist in list it will show error\n",
    "# l1.remove(234)"
   ]
  },
  {
   "cell_type": "code",
   "execution_count": 57,
   "id": "0c3c92a1",
   "metadata": {},
   "outputs": [],
   "source": [
    "l1.append([4,5,6])"
   ]
  },
  {
   "cell_type": "code",
   "execution_count": 58,
   "id": "1e5fe2f3",
   "metadata": {},
   "outputs": [
    {
     "data": {
      "text/plain": [
       "[3, 'INDER', 4, [4, 5, 6]]"
      ]
     },
     "execution_count": 58,
     "metadata": {},
     "output_type": "execute_result"
    }
   ],
   "source": [
    "l1"
   ]
  },
  {
   "cell_type": "code",
   "execution_count": 59,
   "id": "718cb591",
   "metadata": {},
   "outputs": [],
   "source": [
    "# if you want to delete 5 from list of list you have take whole list of list and then remove 5 seperately and then youve to append it again"
   ]
  },
  {
   "cell_type": "code",
   "execution_count": 60,
   "id": "35f59ef4",
   "metadata": {},
   "outputs": [],
   "source": [
    "l1[3].remove(5)"
   ]
  },
  {
   "cell_type": "code",
   "execution_count": 61,
   "id": "28c38ad6",
   "metadata": {},
   "outputs": [
    {
     "data": {
      "text/plain": [
       "[3, 'INDER', 4, [4, 6]]"
      ]
     },
     "execution_count": 61,
     "metadata": {},
     "output_type": "execute_result"
    }
   ],
   "source": [
    "l1"
   ]
  },
  {
   "cell_type": "code",
   "execution_count": 62,
   "id": "e219ebb4",
   "metadata": {},
   "outputs": [],
   "source": [
    "# l1[1].remove(\"DER\") -> not possible for string only possible for list"
   ]
  },
  {
   "cell_type": "code",
   "execution_count": 63,
   "id": "9e0244a4",
   "metadata": {},
   "outputs": [],
   "source": [
    "# remove only removes first occurance if multiple occurance of given value is present i.e. not any other occurance\n",
    "l1.append(3)"
   ]
  },
  {
   "cell_type": "code",
   "execution_count": 64,
   "id": "9f27e216",
   "metadata": {},
   "outputs": [
    {
     "data": {
      "text/plain": [
       "[3, 'INDER', 4, [4, 6], 3]"
      ]
     },
     "execution_count": 64,
     "metadata": {},
     "output_type": "execute_result"
    }
   ],
   "source": [
    "l1"
   ]
  },
  {
   "cell_type": "code",
   "execution_count": 65,
   "id": "8d85a2b7",
   "metadata": {},
   "outputs": [],
   "source": [
    "l1.remove(3)"
   ]
  },
  {
   "cell_type": "code",
   "execution_count": 66,
   "id": "3ea795fd",
   "metadata": {},
   "outputs": [
    {
     "data": {
      "text/plain": [
       "['INDER', 4, [4, 6], 3]"
      ]
     },
     "execution_count": 66,
     "metadata": {},
     "output_type": "execute_result"
    }
   ],
   "source": [
    "l1"
   ]
  },
  {
   "cell_type": "code",
   "execution_count": 67,
   "id": "6c63fcd7",
   "metadata": {},
   "outputs": [],
   "source": [
    "# REVERSE OF LIST\n",
    "l1[::-1] # -> donot changes org list, temporary reverse\n",
    "# making it permanent reversal we have to :\n",
    "l1 = l1[::-1] \n",
    "# now this will be parmanent reversal as we are storing the temporary reversal into element itself"
   ]
  },
  {
   "cell_type": "code",
   "execution_count": 68,
   "id": "ffe8d45c",
   "metadata": {},
   "outputs": [],
   "source": [
    "l1.reverse() # this is permanent reverse makes changes in origninal list"
   ]
  },
  {
   "cell_type": "code",
   "execution_count": 69,
   "id": "69c0e708",
   "metadata": {},
   "outputs": [
    {
     "data": {
      "text/plain": [
       "['INDER', 4, [4, 6], 3]"
      ]
     },
     "execution_count": 69,
     "metadata": {},
     "output_type": "execute_result"
    }
   ],
   "source": [
    "l1 # this is because it is already reversed in above col"
   ]
  },
  {
   "cell_type": "code",
   "execution_count": 70,
   "id": "5b967d10",
   "metadata": {},
   "outputs": [],
   "source": [
    "l2 = [7,6,5,4,3,2,1,0]"
   ]
  },
  {
   "cell_type": "code",
   "execution_count": 71,
   "id": "e31e034d",
   "metadata": {},
   "outputs": [],
   "source": [
    "l2.sort()"
   ]
  },
  {
   "cell_type": "code",
   "execution_count": 72,
   "id": "b26f814d",
   "metadata": {},
   "outputs": [
    {
     "data": {
      "text/plain": [
       "[0, 1, 2, 3, 4, 5, 6, 7]"
      ]
     },
     "execution_count": 72,
     "metadata": {},
     "output_type": "execute_result"
    }
   ],
   "source": [
    "l2"
   ]
  },
  {
   "cell_type": "code",
   "execution_count": 73,
   "id": "cf5b0a4f",
   "metadata": {},
   "outputs": [],
   "source": [
    "# only sort integer value\n",
    "# l1.sort()\n",
    "# because it sort by comparing"
   ]
  },
  {
   "cell_type": "code",
   "execution_count": 74,
   "id": "608f3de7",
   "metadata": {},
   "outputs": [],
   "source": [
    "# sort in alphabetical order for strings\n",
    "# but it can't sort int and string or any pther data types mixed\n",
    "l4 = [\"sud\" , \"kum\" , \"pwSkil\" , \"data\"]\n",
    "l4.sort()"
   ]
  },
  {
   "cell_type": "code",
   "execution_count": 75,
   "id": "a5461e3b",
   "metadata": {},
   "outputs": [
    {
     "data": {
      "text/plain": [
       "['data', 'kum', 'pwSkil', 'sud']"
      ]
     },
     "execution_count": 75,
     "metadata": {},
     "output_type": "execute_result"
    }
   ],
   "source": [
    "l4"
   ]
  },
  {
   "cell_type": "code",
   "execution_count": 76,
   "id": "cb66dfdd",
   "metadata": {},
   "outputs": [],
   "source": [
    "l4.sort(reverse = True)"
   ]
  },
  {
   "cell_type": "code",
   "execution_count": 77,
   "id": "9d034b1e",
   "metadata": {},
   "outputs": [
    {
     "data": {
      "text/plain": [
       "['sud', 'pwSkil', 'kum', 'data']"
      ]
     },
     "execution_count": 77,
     "metadata": {},
     "output_type": "execute_result"
    }
   ],
   "source": [
    "l4"
   ]
  },
  {
   "cell_type": "code",
   "execution_count": 78,
   "id": "fc99a9e9",
   "metadata": {},
   "outputs": [
    {
     "data": {
      "text/plain": [
       "1"
      ]
     },
     "execution_count": 78,
     "metadata": {},
     "output_type": "execute_result"
    }
   ],
   "source": [
    "l4.index('pwSkil')"
   ]
  },
  {
   "cell_type": "code",
   "execution_count": 79,
   "id": "f2a29398",
   "metadata": {},
   "outputs": [
    {
     "data": {
      "text/plain": [
       "1"
      ]
     },
     "execution_count": 79,
     "metadata": {},
     "output_type": "execute_result"
    }
   ],
   "source": [
    "l4.count('pwSkil')"
   ]
  },
  {
   "cell_type": "code",
   "execution_count": 80,
   "id": "a26d91bd",
   "metadata": {},
   "outputs": [
    {
     "data": {
      "text/plain": [
       "0"
      ]
     },
     "execution_count": 80,
     "metadata": {},
     "output_type": "execute_result"
    }
   ],
   "source": [
    "l4.count('am') # frequency"
   ]
  },
  {
   "cell_type": "code",
   "execution_count": 81,
   "id": "05680dd5",
   "metadata": {},
   "outputs": [],
   "source": [
    "s = \"sudh\""
   ]
  },
  {
   "cell_type": "code",
   "execution_count": 82,
   "id": "e6e93fa4",
   "metadata": {},
   "outputs": [],
   "source": [
    "l5 = [3,4,5,6]"
   ]
  },
  {
   "cell_type": "code",
   "execution_count": 83,
   "id": "61a628e4",
   "metadata": {},
   "outputs": [
    {
     "data": {
      "text/plain": [
       "'s'"
      ]
     },
     "execution_count": 83,
     "metadata": {},
     "output_type": "execute_result"
    }
   ],
   "source": [
    "s[0]"
   ]
  },
  {
   "cell_type": "code",
   "execution_count": 84,
   "id": "fa80725c",
   "metadata": {},
   "outputs": [],
   "source": [
    "# replace s with a\n",
    "# s[0] = 'a' -> assignment in string not allowed\n",
    "# reassignment is different \n",
    "# you can extract remove update and then say it is different"
   ]
  },
  {
   "cell_type": "code",
   "execution_count": 85,
   "id": "7ab4790c",
   "metadata": {},
   "outputs": [],
   "source": [
    "l5[0] = 30 #->assignment/mutability in list allowed"
   ]
  },
  {
   "cell_type": "code",
   "execution_count": 86,
   "id": "52d34010",
   "metadata": {},
   "outputs": [
    {
     "data": {
      "text/plain": [
       "[30, 4, 5, 6]"
      ]
     },
     "execution_count": 86,
     "metadata": {},
     "output_type": "execute_result"
    }
   ],
   "source": [
    "l5"
   ]
  },
  {
   "cell_type": "code",
   "execution_count": 87,
   "id": "3f98d766",
   "metadata": {},
   "outputs": [],
   "source": [
    "# MUTABILITY AND IMMUTABILITY ALREADY DISCUSSED"
   ]
  },
  {
   "cell_type": "code",
   "execution_count": 88,
   "id": "9d8ab37c",
   "metadata": {
    "scrolled": true
   },
   "outputs": [
    {
     "data": {
      "text/plain": [
       "'mudh'"
      ]
     },
     "execution_count": 88,
     "metadata": {},
     "output_type": "execute_result"
    }
   ],
   "source": [
    "# Orignal s is not changed \n",
    "s.replace('s' , 'm')"
   ]
  },
  {
   "cell_type": "code",
   "execution_count": 89,
   "id": "b03bf8e2",
   "metadata": {},
   "outputs": [
    {
     "data": {
      "text/plain": [
       "'sudh'"
      ]
     },
     "execution_count": 89,
     "metadata": {},
     "output_type": "execute_result"
    }
   ],
   "source": [
    "s"
   ]
  },
  {
   "cell_type": "markdown",
   "id": "0b528d3f",
   "metadata": {},
   "source": [
    "### Tuples -> jo string me tha or list mein tha lagbhag same hai"
   ]
  },
  {
   "cell_type": "code",
   "execution_count": 90,
   "id": "263c79a4",
   "metadata": {},
   "outputs": [],
   "source": [
    "t = (2,3,4,5,\"sudh\" , 45.56,False , 45+457j,[3,4,5])"
   ]
  },
  {
   "cell_type": "code",
   "execution_count": 91,
   "id": "0fc4adc8",
   "metadata": {},
   "outputs": [
    {
     "data": {
      "text/plain": [
       "(2, 3, 4, 5, 'sudh', 45.56, False, (45+457j), [3, 4, 5])"
      ]
     },
     "execution_count": 91,
     "metadata": {},
     "output_type": "execute_result"
    }
   ],
   "source": [
    "t"
   ]
  },
  {
   "cell_type": "code",
   "execution_count": 92,
   "id": "d2f6b6b9",
   "metadata": {},
   "outputs": [
    {
     "data": {
      "text/plain": [
       "tuple"
      ]
     },
     "execution_count": 92,
     "metadata": {},
     "output_type": "execute_result"
    }
   ],
   "source": [
    "type(t)"
   ]
  },
  {
   "cell_type": "code",
   "execution_count": 93,
   "id": "b2ab3757",
   "metadata": {},
   "outputs": [
    {
     "data": {
      "text/plain": [
       "9"
      ]
     },
     "execution_count": 93,
     "metadata": {},
     "output_type": "execute_result"
    }
   ],
   "source": [
    "len(t)"
   ]
  },
  {
   "cell_type": "code",
   "execution_count": 94,
   "id": "d4f8377d",
   "metadata": {},
   "outputs": [
    {
     "data": {
      "text/plain": [
       "2"
      ]
     },
     "execution_count": 94,
     "metadata": {},
     "output_type": "execute_result"
    }
   ],
   "source": [
    "t[0]"
   ]
  },
  {
   "cell_type": "code",
   "execution_count": 95,
   "id": "32c8383a",
   "metadata": {},
   "outputs": [
    {
     "data": {
      "text/plain": [
       "[3, 4, 5]"
      ]
     },
     "execution_count": 95,
     "metadata": {},
     "output_type": "execute_result"
    }
   ],
   "source": [
    "t[-1]"
   ]
  },
  {
   "cell_type": "code",
   "execution_count": 96,
   "id": "03971c9e",
   "metadata": {},
   "outputs": [
    {
     "data": {
      "text/plain": [
       "([3, 4, 5], (45+457j), False, 45.56, 'sudh', 5, 4, 3, 2)"
      ]
     },
     "execution_count": 96,
     "metadata": {},
     "output_type": "execute_result"
    }
   ],
   "source": [
    "t[::-1]"
   ]
  },
  {
   "cell_type": "code",
   "execution_count": 97,
   "id": "7d2b7a92",
   "metadata": {},
   "outputs": [],
   "source": [
    "# The main difference is Mutability & Immutability"
   ]
  },
  {
   "cell_type": "code",
   "execution_count": 98,
   "id": "65f8c3eb",
   "metadata": {},
   "outputs": [],
   "source": [
    "l4[0] = 23423"
   ]
  },
  {
   "cell_type": "code",
   "execution_count": 99,
   "id": "defbdad8",
   "metadata": {},
   "outputs": [
    {
     "data": {
      "text/plain": [
       "[23423, 'pwSkil', 'kum', 'data']"
      ]
     },
     "execution_count": 99,
     "metadata": {},
     "output_type": "execute_result"
    }
   ],
   "source": [
    "l4"
   ]
  },
  {
   "cell_type": "code",
   "execution_count": 100,
   "id": "b9729347",
   "metadata": {},
   "outputs": [],
   "source": [
    "# t[0] = \"sudh\"\n",
    "# tuple' object does not support item assignment\n",
    "# String and tuples are IMMUTABLE"
   ]
  },
  {
   "cell_type": "code",
   "execution_count": 101,
   "id": "2ca06087",
   "metadata": {},
   "outputs": [
    {
     "data": {
      "text/plain": [
       "([3, 4, 5], (45+457j), False, 45.56, 'sudh', 5, 4, 3, 2)"
      ]
     },
     "execution_count": 101,
     "metadata": {},
     "output_type": "execute_result"
    }
   ],
   "source": [
    "t[::-1]\n",
    "# reverse is not linked with mutability , this is creating a new object"
   ]
  },
  {
   "cell_type": "code",
   "execution_count": 102,
   "id": "65d39187",
   "metadata": {},
   "outputs": [
    {
     "data": {
      "text/plain": [
       "6"
      ]
     },
     "execution_count": 102,
     "metadata": {},
     "output_type": "execute_result"
    }
   ],
   "source": [
    "t.index(False)"
   ]
  },
  {
   "cell_type": "markdown",
   "id": "3e1aae19",
   "metadata": {},
   "source": [
    "### Set"
   ]
  },
  {
   "cell_type": "code",
   "execution_count": 103,
   "id": "b2034fd7",
   "metadata": {},
   "outputs": [],
   "source": [
    "s1 = {}"
   ]
  },
  {
   "cell_type": "code",
   "execution_count": 104,
   "id": "ed89b82c",
   "metadata": {},
   "outputs": [
    {
     "data": {
      "text/plain": [
       "dict"
      ]
     },
     "execution_count": 104,
     "metadata": {},
     "output_type": "execute_result"
    }
   ],
   "source": [
    "type(s1)\n",
    "# emtpy set is considered dictionary only"
   ]
  },
  {
   "cell_type": "code",
   "execution_count": 105,
   "id": "6d0c7c6d",
   "metadata": {},
   "outputs": [],
   "source": [
    "s2 = {2,3,4,55,6}"
   ]
  },
  {
   "cell_type": "code",
   "execution_count": 106,
   "id": "56fc9014",
   "metadata": {},
   "outputs": [
    {
     "data": {
      "text/plain": [
       "set"
      ]
     },
     "execution_count": 106,
     "metadata": {},
     "output_type": "execute_result"
    }
   ],
   "source": [
    "type(s2)"
   ]
  },
  {
   "cell_type": "code",
   "execution_count": 107,
   "id": "367e258b",
   "metadata": {},
   "outputs": [],
   "source": [
    "s3 = {1,2,3,4,\"Ma\",4.56,True,1+2j}"
   ]
  },
  {
   "cell_type": "code",
   "execution_count": 108,
   "id": "e78e488a",
   "metadata": {},
   "outputs": [],
   "source": [
    "# # list is not allowed as it takes immutable data types only\n",
    "# s4 = {[1,2,3,4]}"
   ]
  },
  {
   "cell_type": "code",
   "execution_count": 109,
   "id": "6c4dc8f4",
   "metadata": {},
   "outputs": [],
   "source": [
    "s4 = {(1,2,3,4)}"
   ]
  },
  {
   "cell_type": "code",
   "execution_count": 110,
   "id": "4d10dfb8",
   "metadata": {},
   "outputs": [],
   "source": [
    "s5 = {2,3,4,5,5,6,6,7,7,5,5,4,3,2,2,1,1,1,1}"
   ]
  },
  {
   "cell_type": "code",
   "execution_count": 111,
   "id": "2d1be145",
   "metadata": {},
   "outputs": [
    {
     "data": {
      "text/plain": [
       "{1, 2, 3, 4, 5, 6, 7}"
      ]
     },
     "execution_count": 111,
     "metadata": {},
     "output_type": "execute_result"
    }
   ],
   "source": [
    "# Set remove all the duplicates\n",
    "# Set is used when we have to remove duplicates\n",
    "# Set looks like arranging but it creates build unordered collection of unique element\n",
    "s5"
   ]
  },
  {
   "cell_type": "code",
   "execution_count": 112,
   "id": "645a2a4a",
   "metadata": {},
   "outputs": [],
   "source": [
    "# it is case sensitive as python is case sensitive\n",
    "s5 = {1,2,3,4,\"sudH\",4,5,5,5,6,\"Sudh\",6,\"sudh\",7,7,\"sudh\",8,8}"
   ]
  },
  {
   "cell_type": "code",
   "execution_count": 113,
   "id": "46347372",
   "metadata": {},
   "outputs": [
    {
     "data": {
      "text/plain": [
       "{1, 2, 3, 4, 5, 6, 7, 8, 'Sudh', 'sudH', 'sudh'}"
      ]
     },
     "execution_count": 113,
     "metadata": {},
     "output_type": "execute_result"
    }
   ],
   "source": [
    "s5"
   ]
  },
  {
   "cell_type": "code",
   "execution_count": 114,
   "id": "384223aa",
   "metadata": {},
   "outputs": [],
   "source": [
    "s6 = {234,45,23,12,567,45,2,789,\"bc\",456,342,23}"
   ]
  },
  {
   "cell_type": "code",
   "execution_count": 115,
   "id": "454d9366",
   "metadata": {},
   "outputs": [
    {
     "data": {
      "text/plain": [
       "{12, 2, 23, 234, 342, 45, 456, 567, 789, 'bc'}"
      ]
     },
     "execution_count": 115,
     "metadata": {},
     "output_type": "execute_result"
    }
   ],
   "source": [
    "# SET NEVER ARRANGES A DATA\n",
    "s6"
   ]
  },
  {
   "cell_type": "code",
   "execution_count": 116,
   "id": "38d28618",
   "metadata": {},
   "outputs": [],
   "source": [
    "# 'set' object is not subscriptable\n",
    "# s5[0]\n",
    "# Indexing and Slicing operation are not going to work for set\n",
    "# s5[::-1]"
   ]
  },
  {
   "cell_type": "code",
   "execution_count": 117,
   "id": "dc89c6a8",
   "metadata": {},
   "outputs": [
    {
     "data": {
      "text/plain": [
       "{1, 2, 3, 4, 5, 6, 7, 8, 'Sudh', 'sudH', 'sudh'}"
      ]
     },
     "execution_count": 117,
     "metadata": {},
     "output_type": "execute_result"
    }
   ],
   "source": [
    "s5"
   ]
  },
  {
   "cell_type": "code",
   "execution_count": 118,
   "id": "87981de3",
   "metadata": {},
   "outputs": [],
   "source": [
    "# s5.(press tab) to get all the methods\n",
    "s5.add(0)\n",
    "# only adds if the element is not already present as it takes unique elements"
   ]
  },
  {
   "cell_type": "code",
   "execution_count": 119,
   "id": "f3c11b48",
   "metadata": {},
   "outputs": [
    {
     "data": {
      "text/plain": [
       "{0, 1, 2, 3, 4, 5, 6, 7, 8, 'Sudh', 'sudH', 'sudh'}"
      ]
     },
     "execution_count": 119,
     "metadata": {},
     "output_type": "execute_result"
    }
   ],
   "source": [
    "s5"
   ]
  },
  {
   "cell_type": "code",
   "execution_count": 120,
   "id": "219a2f0e",
   "metadata": {},
   "outputs": [],
   "source": [
    "s5.remove(2)"
   ]
  },
  {
   "cell_type": "code",
   "execution_count": 121,
   "id": "3b72492d",
   "metadata": {},
   "outputs": [
    {
     "data": {
      "text/plain": [
       "{0, 1, 3, 4, 5, 6, 7, 8, 'Sudh', 'sudH', 'sudh'}"
      ]
     },
     "execution_count": 121,
     "metadata": {},
     "output_type": "execute_result"
    }
   ],
   "source": [
    "s5"
   ]
  }
 ],
 "metadata": {
  "kernelspec": {
   "display_name": "Python 3 (ipykernel)",
   "language": "python",
   "name": "python3"
  },
  "language_info": {
   "codemirror_mode": {
    "name": "ipython",
    "version": 3
   },
   "file_extension": ".py",
   "mimetype": "text/x-python",
   "name": "python",
   "nbconvert_exporter": "python",
   "pygments_lexer": "ipython3",
   "version": "3.9.13"
  }
 },
 "nbformat": 4,
 "nbformat_minor": 5
}
