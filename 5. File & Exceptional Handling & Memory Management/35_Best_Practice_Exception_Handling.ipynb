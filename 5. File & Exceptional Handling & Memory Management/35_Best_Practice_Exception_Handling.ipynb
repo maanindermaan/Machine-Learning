{
 "cells": [
  {
   "cell_type": "code",
   "execution_count": 1,
   "id": "a6b2fc5e",
   "metadata": {},
   "outputs": [
    {
     "name": "stdout",
     "output_type": "stream",
     "text": [
      "division by zero\n"
     ]
    }
   ],
   "source": [
    "# use always a specific exception\n",
    "# not a good way\n",
    "try:\n",
    "    10/0\n",
    "except Exception as e:\n",
    "    print(e)"
   ]
  },
  {
   "cell_type": "code",
   "execution_count": 2,
   "id": "cb9deae5",
   "metadata": {},
   "outputs": [
    {
     "name": "stdout",
     "output_type": "stream",
     "text": [
      "division by zero\n"
     ]
    }
   ],
   "source": [
    "try:\n",
    "    10/0\n",
    "except ZeroDivisionError as e:\n",
    "    print(e)"
   ]
  },
  {
   "cell_type": "code",
   "execution_count": 3,
   "id": "c7f9f41f",
   "metadata": {},
   "outputs": [
    {
     "name": "stdout",
     "output_type": "stream",
     "text": [
      "I am trying to handle a zero division error :  division by zero\n"
     ]
    }
   ],
   "source": [
    "# print always a proper message\n",
    "try:\n",
    "    10/0\n",
    "except ZeroDivisionError as e:\n",
    "    print(\"I am trying to handle a zero division error : \",e)"
   ]
  },
  {
   "cell_type": "code",
   "execution_count": 4,
   "id": "abf92fb1",
   "metadata": {},
   "outputs": [],
   "source": [
    "# always try to log your error\n",
    "import logging\n",
    "logging.basicConfig(filename = \"35_error.log\" , level = logging.ERROR)\n",
    "try:\n",
    "    10/0\n",
    "except ZeroDivisionError as e:\n",
    "    logging.error(\"I am trying to handle a zero division error {} \".format(e))"
   ]
  },
  {
   "cell_type": "code",
   "execution_count": 5,
   "id": "7ea38cea",
   "metadata": {},
   "outputs": [],
   "source": [
    "# always avoid to write a multiple exception handling\n",
    "try:\n",
    "    10/0\n",
    "except FileNotFoundError as e:\n",
    "    logging.error(\"I am handling file not found {} \".format(e))\n",
    "except AttributeError as e:\n",
    "    logging.error(\"I am handling attribute error {} \".format(e))\n",
    "except ZeroDivisionError as e:\n",
    "    logging.error(\"I am trying to handle a zero division error {} \".format(e))\n",
    "                  \n",
    "# befaltu mein kyu itna likhna hai"
   ]
  },
  {
   "cell_type": "code",
   "execution_count": 7,
   "id": "57fe50f1",
   "metadata": {},
   "outputs": [],
   "source": [
    "# document all the error\n",
    "# ye error kis purpose se yha pe likha hai \n",
    "# code apka kyu or kaise kaam krrha hai\n",
    "# documentation with a proper meaning\n",
    "\n",
    "# cleanup all the resources\n",
    "try:\n",
    "    with open(\"35_testx3.txt\" , \"w\") as f:\n",
    "        f.write(\"this is my data to file\")\n",
    "except FileNotFoundError as e:\n",
    "    logging.error(\"I am handling file not found {} \".format(e))\n",
    "finally :\n",
    "    f.close()"
   ]
  }
 ],
 "metadata": {
  "kernelspec": {
   "display_name": "Python 3 (ipykernel)",
   "language": "python",
   "name": "python3"
  },
  "language_info": {
   "codemirror_mode": {
    "name": "ipython",
    "version": 3
   },
   "file_extension": ".py",
   "mimetype": "text/x-python",
   "name": "python",
   "nbconvert_exporter": "python",
   "pygments_lexer": "ipython3",
   "version": "3.9.13"
  }
 },
 "nbformat": 4,
 "nbformat_minor": 5
}
