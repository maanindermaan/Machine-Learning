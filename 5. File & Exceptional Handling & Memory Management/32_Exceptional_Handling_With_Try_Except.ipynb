{
 "cells": [
  {
   "cell_type": "code",
   "execution_count": 1,
   "id": "ce91835e",
   "metadata": {},
   "outputs": [],
   "source": [
    "# Most of the error handling are already defined in class so you just have to write except which are not defined \n",
    "# for them you have to use custom exceptional handlers"
   ]
  },
  {
   "cell_type": "code",
   "execution_count": 2,
   "id": "4951ee31",
   "metadata": {},
   "outputs": [],
   "source": [
    "a = 10"
   ]
  },
  {
   "cell_type": "code",
   "execution_count": 3,
   "id": "1ffdfe1b",
   "metadata": {},
   "outputs": [],
   "source": [
    "# a/0 -> error"
   ]
  },
  {
   "cell_type": "code",
   "execution_count": 4,
   "id": "caa4b491",
   "metadata": {},
   "outputs": [],
   "source": [
    "# f = open(\"testx.txt\" , \"r\") -> error\n",
    "# print(\"this is my print\")\n",
    "# agar uper error aagya toh neche wala execute nahi hoga\n",
    "# so how to handle this above error statement and such that the second one execute\n",
    "# this is why exceptional handling(exceptions ko handle karne ka tarika) is used"
   ]
  },
  {
   "cell_type": "code",
   "execution_count": 5,
   "id": "170076da",
   "metadata": {},
   "outputs": [
    {
     "name": "stdout",
     "output_type": "stream",
     "text": [
      "this is except block [Errno 2] No such file or directory: '32_testx.txt'\n"
     ]
    },
    {
     "data": {
      "text/plain": [
       "9"
      ]
     },
     "execution_count": 5,
     "metadata": {},
     "output_type": "execute_result"
    }
   ],
   "source": [
    "# jha lagta hai error aasakta hai usko try mein rakhdo\n",
    "try:\n",
    "    f = open(\"32_testx.txt\" , \"r\")\n",
    "# as a begginer we don't know which type of error is coming\n",
    "except Exception as e :\n",
    "#     write any custom message\n",
    "    print(\"this is except block\" , e)\n",
    "a = 4+5\n",
    "a"
   ]
  },
  {
   "cell_type": "code",
   "execution_count": 6,
   "id": "ecd0294a",
   "metadata": {},
   "outputs": [],
   "source": [
    "# try -> jha error ayega\n",
    "# except -> usko handle karna"
   ]
  },
  {
   "cell_type": "code",
   "execution_count": 7,
   "id": "12f8365a",
   "metadata": {},
   "outputs": [
    {
     "data": {
      "text/plain": [
       "9"
      ]
     },
     "execution_count": 7,
     "metadata": {},
     "output_type": "execute_result"
    }
   ],
   "source": [
    "# agar error nahi ayega toh except ke andar nahi jayega\n",
    "try:\n",
    "    f = open(\"32_testx.txt\" , \"w\")\n",
    "    f.write(\"write into my file\")\n",
    "    f.close()\n",
    "except Exception as e :\n",
    "    print(\"this is except block\" , e)\n",
    "a = 4+5\n",
    "a"
   ]
  },
  {
   "cell_type": "code",
   "execution_count": 8,
   "id": "aad6126c",
   "metadata": {},
   "outputs": [],
   "source": [
    "# ELSE BLOCK \n",
    "# vo block jo execute krega apne aap ko agar try block successfully execute hua hai toh\n",
    "# aisa code jo try ke success pe execute karana ho"
   ]
  },
  {
   "cell_type": "code",
   "execution_count": 9,
   "id": "3cdaf782",
   "metadata": {},
   "outputs": [
    {
     "name": "stdout",
     "output_type": "stream",
     "text": [
      "this will be executed once try will be executed without error\n"
     ]
    }
   ],
   "source": [
    "# agar error nahi ayega toh except ke andar nahi jayega\n",
    "try:\n",
    "    f = open(\"32_testx.txt\" , \"w\")\n",
    "    f.write(\"write into my file\")\n",
    "except Exception as e :\n",
    "    print(\"this is except block\" , e)\n",
    "else:\n",
    "    f.close()\n",
    "    print(\"this will be executed once try will be executed without error\")"
   ]
  },
  {
   "cell_type": "code",
   "execution_count": 10,
   "id": "1b62b60a",
   "metadata": {},
   "outputs": [
    {
     "name": "stdout",
     "output_type": "stream",
     "text": [
      "this is except block [Errno 2] No such file or directory: '32_testx1.txt'\n"
     ]
    }
   ],
   "source": [
    "# ab error aagya toh else execute nahi hoga\n",
    "try:\n",
    "    f = open(\"32_testx1.txt\" , \"r\")\n",
    "    f.write(\"write into my file\")\n",
    "except Exception as e :\n",
    "    print(\"this is except block\" , e)\n",
    "else:\n",
    "    f.close()\n",
    "    print(\"this will be executed once try will be executed without error\")"
   ]
  },
  {
   "cell_type": "code",
   "execution_count": 10,
   "id": "ed0a8e82",
   "metadata": {},
   "outputs": [],
   "source": [
    "# kitne bhi level tak jake try ke andar try , else ke andar bhi try and except ke andar bhi try you can use"
   ]
  },
  {
   "cell_type": "code",
   "execution_count": 11,
   "id": "16c1457a",
   "metadata": {},
   "outputs": [],
   "source": [
    "# Another block -> FINALLY BLOCK\n",
    "# in any situation finally will try to execute itself \n",
    "# to aisa code jisko mujhe karna hi karna hai , tab hum finally likhte hai"
   ]
  },
  {
   "cell_type": "code",
   "execution_count": 11,
   "id": "536434ec",
   "metadata": {},
   "outputs": [
    {
     "name": "stdout",
     "output_type": "stream",
     "text": [
      "finally will execute itself itself in any situation\n"
     ]
    }
   ],
   "source": [
    "try :\n",
    "    f = open(\"32_testx2.txt\" , 'w')\n",
    "    f.write('write something')\n",
    "finally:\n",
    "    print(\"finally will execute itself itself in any situation\")"
   ]
  },
  {
   "cell_type": "code",
   "execution_count": 13,
   "id": "9e0e7a15",
   "metadata": {},
   "outputs": [
    {
     "name": "stdout",
     "output_type": "stream",
     "text": [
      "No such file to read\n",
      "finally will execute itself itself in any situation\n"
     ]
    }
   ],
   "source": [
    "try :\n",
    "    f = open(\"32_testx3.txt\" , 'r')\n",
    "    f.write('write something')\n",
    "except:\n",
    "    print(\"No such file to read\")\n",
    "finally:\n",
    "    print(\"finally will execute itself itself in any situation\")"
   ]
  }
 ],
 "metadata": {
  "kernelspec": {
   "display_name": "Python 3 (ipykernel)",
   "language": "python",
   "name": "python3"
  },
  "language_info": {
   "codemirror_mode": {
    "name": "ipython",
    "version": 3
   },
   "file_extension": ".py",
   "mimetype": "text/x-python",
   "name": "python",
   "nbconvert_exporter": "python",
   "pygments_lexer": "ipython3",
   "version": "3.9.13"
  }
 },
 "nbformat": 4,
 "nbformat_minor": 5
}
