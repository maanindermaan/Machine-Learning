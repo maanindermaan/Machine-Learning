{
 "cells": [
  {
   "cell_type": "code",
   "execution_count": 1,
   "id": "78d7667c",
   "metadata": {},
   "outputs": [],
   "source": [
    "# buffer use krke read and write kroge to jo bhi bada file hoga usko yeah chunks mein wrtie krega"
   ]
  },
  {
   "cell_type": "code",
   "execution_count": 2,
   "id": "c3498a45",
   "metadata": {},
   "outputs": [],
   "source": [
    "import io"
   ]
  },
  {
   "cell_type": "code",
   "execution_count": 3,
   "id": "a704f8cb",
   "metadata": {},
   "outputs": [],
   "source": [
    "# writing"
   ]
  },
  {
   "cell_type": "code",
   "execution_count": 4,
   "id": "5701b9df",
   "metadata": {},
   "outputs": [],
   "source": [
    "with open(\"29_test.txt\" , \"wb\") as f:\n",
    "    file = io.BufferedWriter(f)\n",
    "    \n",
    "    file.write(b\"this is my first line\\n\")\n",
    "    file.write(b\"this is my second line\")\n",
    "    \n",
    "#     flush use krna padega tabhi data ayega file mein\n",
    "    file.flush()"
   ]
  },
  {
   "cell_type": "code",
   "execution_count": 5,
   "id": "edc86077",
   "metadata": {},
   "outputs": [],
   "source": [
    "# reading"
   ]
  },
  {
   "cell_type": "code",
   "execution_count": 6,
   "id": "de5fece0",
   "metadata": {},
   "outputs": [
    {
     "name": "stdout",
     "output_type": "stream",
     "text": [
      "b'this is my first line\\nthis is my second line'\n"
     ]
    }
   ],
   "source": [
    "with open(\"29_test.txt\" , \"rb\") as f:\n",
    "    \n",
    "    file = io.BufferedReader(f)\n",
    "    data = file.read()\n",
    "#     jitna karna hai utna dega \n",
    "#     data = file.read(100)\n",
    "    print(data)"
   ]
  }
 ],
 "metadata": {
  "kernelspec": {
   "display_name": "Python 3 (ipykernel)",
   "language": "python",
   "name": "python3"
  },
  "language_info": {
   "codemirror_mode": {
    "name": "ipython",
    "version": 3
   },
   "file_extension": ".py",
   "mimetype": "text/x-python",
   "name": "python",
   "nbconvert_exporter": "python",
   "pygments_lexer": "ipython3",
   "version": "3.9.13"
  }
 },
 "nbformat": 4,
 "nbformat_minor": 5
}
