{
 "cells": [
  {
   "cell_type": "code",
   "execution_count": 1,
   "id": "4a02a381",
   "metadata": {},
   "outputs": [],
   "source": [
    "# File Operations -> or bhi kis kis tarike ke files ko hum read and write kar sakte hai"
   ]
  },
  {
   "cell_type": "code",
   "execution_count": 2,
   "id": "4a0af68e",
   "metadata": {},
   "outputs": [],
   "source": [
    "# this is also known as JSON data set / object i.e. key value pair\n",
    "data = {\n",
    "    \"name\" : \"sudh\",\n",
    "    \"mail_id\" : \"sudh@gg.com\",\n",
    "    \"phone_number\" : 9991231324,\n",
    "    \"subject\" : [\"data science\" , \"big data\" , \"data analytics\"]\n",
    "}"
   ]
  },
  {
   "cell_type": "code",
   "execution_count": 3,
   "id": "95016b72",
   "metadata": {},
   "outputs": [],
   "source": [
    "import json"
   ]
  },
  {
   "cell_type": "code",
   "execution_count": 4,
   "id": "449760de",
   "metadata": {},
   "outputs": [],
   "source": [
    "with open(\"28_data.json\" , \"w\") as f:\n",
    "#   helps in data writing -> dump\n",
    "    json.dump(data , f)"
   ]
  },
  {
   "cell_type": "code",
   "execution_count": 5,
   "id": "8547d29e",
   "metadata": {},
   "outputs": [],
   "source": [
    "# reading using load"
   ]
  },
  {
   "cell_type": "code",
   "execution_count": 6,
   "id": "5d766783",
   "metadata": {},
   "outputs": [],
   "source": [
    "with open(\"28_data.json\" , \"r\") as f:\n",
    "    data1 = json.load(f)"
   ]
  },
  {
   "cell_type": "code",
   "execution_count": 7,
   "id": "dfce5646",
   "metadata": {},
   "outputs": [
    {
     "data": {
      "text/plain": [
       "{'name': 'sudh',\n",
       " 'mail_id': 'sudh@gg.com',\n",
       " 'phone_number': 9991231324,\n",
       " 'subject': ['data science', 'big data', 'data analytics']}"
      ]
     },
     "execution_count": 7,
     "metadata": {},
     "output_type": "execute_result"
    }
   ],
   "source": [
    "data1"
   ]
  },
  {
   "cell_type": "code",
   "execution_count": 8,
   "id": "d610cdac",
   "metadata": {},
   "outputs": [
    {
     "data": {
      "text/plain": [
       "'big data'"
      ]
     },
     "execution_count": 8,
     "metadata": {},
     "output_type": "execute_result"
    }
   ],
   "source": [
    "# extracting \"big data\"\n",
    "data1[\"subject\"][1]"
   ]
  },
  {
   "cell_type": "code",
   "execution_count": 9,
   "id": "3ef5101a",
   "metadata": {},
   "outputs": [],
   "source": [
    "# another type of data is -> commah seperated values (csv)"
   ]
  },
  {
   "cell_type": "code",
   "execution_count": 10,
   "id": "03ec35fc",
   "metadata": {},
   "outputs": [],
   "source": [
    "import csv"
   ]
  },
  {
   "cell_type": "code",
   "execution_count": 11,
   "id": "1161b28d",
   "metadata": {},
   "outputs": [],
   "source": [
    "data = [[\"name\" , \"email_id\" , \"phone_number\"],\n",
    "        [\"sudh\" , \"sudh@gg.com\" , 1234],\n",
    "        [\"maninder\" , \"mm@gg.com\" , 4567]\n",
    "]"
   ]
  },
  {
   "cell_type": "code",
   "execution_count": 12,
   "id": "2645e0f3",
   "metadata": {},
   "outputs": [],
   "source": [
    "# writing this csv data into file\n",
    "with open(\"28_data.csv\" , \"w\") as f:\n",
    "    writer = csv.writer(f)\n",
    "    for i in data:\n",
    "        writer.writerow(i)"
   ]
  },
  {
   "cell_type": "code",
   "execution_count": 13,
   "id": "44fdfa30",
   "metadata": {},
   "outputs": [
    {
     "name": "stdout",
     "output_type": "stream",
     "text": [
      "['name', 'email_id', 'phone_number']\n",
      "['sudh', 'sudh@gg.com', '1234']\n",
      "['maninder', 'mm@gg.com', '4567']\n"
     ]
    }
   ],
   "source": [
    "with open(\"28_data.csv\" , \"r\") as f:\n",
    "    read_data = csv.reader(f)\n",
    "    \n",
    "    for i in read_data:\n",
    "        print(i)"
   ]
  },
  {
   "cell_type": "code",
   "execution_count": 14,
   "id": "b8af663b",
   "metadata": {},
   "outputs": [],
   "source": [
    "# Reading or Writing BINARY DATA [0 1]"
   ]
  },
  {
   "cell_type": "code",
   "execution_count": 15,
   "id": "41b805d4",
   "metadata": {},
   "outputs": [],
   "source": [
    "# binary data is not human readable it is machine readable"
   ]
  },
  {
   "cell_type": "code",
   "execution_count": 16,
   "id": "cffacf1e",
   "metadata": {},
   "outputs": [],
   "source": [
    "# Creating BINARY FILES"
   ]
  },
  {
   "cell_type": "code",
   "execution_count": 17,
   "id": "ea9992fd",
   "metadata": {},
   "outputs": [],
   "source": [
    "with open(\"28_test.bin\" , \"wb\") as f:\n",
    "    f.write(b\"\\x01\\x02\\x03\\x1234\")"
   ]
  },
  {
   "cell_type": "code",
   "execution_count": 18,
   "id": "83311f13",
   "metadata": {},
   "outputs": [],
   "source": [
    "# reading binary files"
   ]
  },
  {
   "cell_type": "code",
   "execution_count": 19,
   "id": "bb6b0f1d",
   "metadata": {},
   "outputs": [
    {
     "name": "stdout",
     "output_type": "stream",
     "text": [
      "b'\\x01\\x02\\x03\\x1234'\n"
     ]
    }
   ],
   "source": [
    "with open(\"28_test.bin\" , \"rb\") as f:\n",
    "    print(f.read())"
   ]
  }
 ],
 "metadata": {
  "kernelspec": {
   "display_name": "Python 3 (ipykernel)",
   "language": "python",
   "name": "python3"
  },
  "language_info": {
   "codemirror_mode": {
    "name": "ipython",
    "version": 3
   },
   "file_extension": ".py",
   "mimetype": "text/x-python",
   "name": "python",
   "nbconvert_exporter": "python",
   "pygments_lexer": "ipython3",
   "version": "3.9.13"
  }
 },
 "nbformat": 4,
 "nbformat_minor": 5
}
