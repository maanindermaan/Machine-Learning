{
 "cells": [
  {
   "cell_type": "code",
   "execution_count": 1,
   "id": "260fe70c",
   "metadata": {},
   "outputs": [],
   "source": [
    "# open is inbuilt option which help in making files\n",
    "f = open(\"27_test.txt\" , 'w')"
   ]
  },
  {
   "cell_type": "code",
   "execution_count": 2,
   "id": "8fbca415",
   "metadata": {},
   "outputs": [
    {
     "data": {
      "text/plain": [
       "'/Users/apple/DATA SCIENCE MASTERS/5. File & Exceptional Handling & Memory Management'"
      ]
     },
     "execution_count": 2,
     "metadata": {},
     "output_type": "execute_result"
    }
   ],
   "source": [
    "pwd"
   ]
  },
  {
   "cell_type": "code",
   "execution_count": 3,
   "id": "26bd5a34",
   "metadata": {},
   "outputs": [
    {
     "name": "stdout",
     "output_type": "stream",
     "text": [
      "27_Working_with_Files.ipynb\r\n",
      "27_copy_new.txt\r\n",
      "27_new.txt\r\n",
      "27_test.txt\r\n",
      "28_Reading_&_Writing_Files.ipynb\r\n",
      "28_data.csv\r\n",
      "28_data.json\r\n",
      "28_test.bin\r\n",
      "29_Buffered_Read_&_Write_&_Other_File_Methods.ipynb\r\n",
      "29_test.txt\r\n",
      "30_Logging_&_Debugger.ipynb\r\n",
      "\u001b[34m31_Modules & Import Statments\u001b[m\u001b[m/\r\n",
      "32_Exceptional_Handling_With_Try_Except.ipynb\r\n",
      "33_Custom_Exception_Handling.ipynb\r\n",
      "34_List_Of_General_Use_Exceptions.ipynb\r\n",
      "35_Best_Practice_Exception_Handling.ipynb\r\n",
      "36_Multithreading.ipynb\r\n",
      "36_data1.txt\r\n",
      "36_data2.txt\r\n",
      "36_test.txt\r\n",
      "37_Multiprocessing.ipynb\r\n",
      "copy_new.txt\r\n",
      "error.log\r\n",
      "test.log\r\n",
      "test1.log\r\n",
      "test2.log\r\n",
      "test3.log\r\n",
      "testx.txt\r\n",
      "testx2.txt\r\n",
      "testx3.txt\r\n"
     ]
    }
   ],
   "source": [
    "ls"
   ]
  },
  {
   "cell_type": "code",
   "execution_count": 4,
   "id": "b48d45aa",
   "metadata": {},
   "outputs": [],
   "source": [
    "# you can change directory with -> cd\n",
    "# initially it is blank"
   ]
  },
  {
   "cell_type": "code",
   "execution_count": 5,
   "id": "42ad045c",
   "metadata": {},
   "outputs": [
    {
     "data": {
      "text/plain": [
       "30"
      ]
     },
     "execution_count": 5,
     "metadata": {},
     "output_type": "execute_result"
    }
   ],
   "source": [
    "f.write(\"this is my first file to write\")"
   ]
  },
  {
   "cell_type": "code",
   "execution_count": 6,
   "id": "ed1557d0",
   "metadata": {},
   "outputs": [],
   "source": [
    "f.close()"
   ]
  },
  {
   "cell_type": "code",
   "execution_count": 7,
   "id": "ce77f97c",
   "metadata": {},
   "outputs": [],
   "source": [
    "f = open(\"27_test.txt\" , 'w')"
   ]
  },
  {
   "cell_type": "code",
   "execution_count": 8,
   "id": "d7e144ea",
   "metadata": {},
   "outputs": [
    {
     "data": {
      "text/plain": [
       "23"
      ]
     },
     "execution_count": 8,
     "metadata": {},
     "output_type": "execute_result"
    }
   ],
   "source": [
    "f.write(\"this is my updated text\")"
   ]
  },
  {
   "cell_type": "code",
   "execution_count": 9,
   "id": "627eeef4",
   "metadata": {},
   "outputs": [],
   "source": [
    "f.close()"
   ]
  },
  {
   "cell_type": "code",
   "execution_count": 10,
   "id": "78d94dc0",
   "metadata": {},
   "outputs": [],
   "source": [
    "# 'w' matlab pehle vo truncate(empty) krta hai data jo present hai fir new data dalta hai"
   ]
  },
  {
   "cell_type": "code",
   "execution_count": 11,
   "id": "10e956c6",
   "metadata": {},
   "outputs": [],
   "source": [
    "# agar truncate na kare purane data ko then:\n",
    "f = open(\"27_test.txt\" , 'a')"
   ]
  },
  {
   "cell_type": "code",
   "execution_count": 12,
   "id": "91602788",
   "metadata": {},
   "outputs": [
    {
     "data": {
      "text/plain": [
       "574"
      ]
     },
     "execution_count": 12,
     "metadata": {},
     "output_type": "execute_result"
    }
   ],
   "source": [
    "f.write(\"Lorem Ipsum is simply dummy text of the printing and typesetting industry. Lorem Ipsum has been the industry's standard dummy text ever since the 1500s, when an unknown printer took a galley of type and scrambled it to make a type specimen book. It has survived not only five centuries, but also the leap into electronic typesetting, remaining essentially unchanged. It was popularised in the 1960s with the release of Letraset sheets containing Lorem Ipsum passages, and more recently with desktop publishing software like Aldus PageMaker including versions of Lorem Ipsum.\")"
   ]
  },
  {
   "cell_type": "code",
   "execution_count": 13,
   "id": "911c6c66",
   "metadata": {},
   "outputs": [],
   "source": [
    "f.close()"
   ]
  },
  {
   "cell_type": "code",
   "execution_count": 14,
   "id": "60fe36eb",
   "metadata": {},
   "outputs": [],
   "source": [
    "# sirf file ko padh sakte hai using r\n",
    "f  = open(\"27_test.txt\" , 'r')"
   ]
  },
  {
   "cell_type": "code",
   "execution_count": 15,
   "id": "d7471482",
   "metadata": {},
   "outputs": [
    {
     "data": {
      "text/plain": [
       "\"this is my updated textLorem Ipsum is simply dummy text of the printing and typesetting industry. Lorem Ipsum has been the industry's standard dummy text ever since the 1500s, when an unknown printer took a galley of type and scrambled it to make a type specimen book. It has survived not only five centuries, but also the leap into electronic typesetting, remaining essentially unchanged. It was popularised in the 1960s with the release of Letraset sheets containing Lorem Ipsum passages, and more recently with desktop publishing software like Aldus PageMaker including versions of Lorem Ipsum.\""
      ]
     },
     "execution_count": 15,
     "metadata": {},
     "output_type": "execute_result"
    }
   ],
   "source": [
    "f.read()"
   ]
  },
  {
   "cell_type": "code",
   "execution_count": 16,
   "id": "d2761704",
   "metadata": {},
   "outputs": [],
   "source": [
    "# saving into variable\n",
    "data = open(\"27_test.txt\" , 'r')"
   ]
  },
  {
   "cell_type": "code",
   "execution_count": 17,
   "id": "5226e377",
   "metadata": {},
   "outputs": [
    {
     "data": {
      "text/plain": [
       "\"this is my updated textLorem Ipsum is simply dummy text of the printing and typesetting industry. Lorem Ipsum has been the industry's standard dummy text ever since the 1500s, when an unknown printer took a galley of type and scrambled it to make a type specimen book. It has survived not only five centuries, but also the leap into electronic typesetting, remaining essentially unchanged. It was popularised in the 1960s with the release of Letraset sheets containing Lorem Ipsum passages, and more recently with desktop publishing software like Aldus PageMaker including versions of Lorem Ipsum.\""
      ]
     },
     "execution_count": 17,
     "metadata": {},
     "output_type": "execute_result"
    }
   ],
   "source": [
    "data.read()"
   ]
  },
  {
   "cell_type": "code",
   "execution_count": 18,
   "id": "c3e411ae",
   "metadata": {},
   "outputs": [],
   "source": [
    "# reading line by line"
   ]
  },
  {
   "cell_type": "code",
   "execution_count": 19,
   "id": "321e4ac6",
   "metadata": {},
   "outputs": [
    {
     "data": {
      "text/plain": [
       "''"
      ]
     },
     "execution_count": 19,
     "metadata": {},
     "output_type": "execute_result"
    }
   ],
   "source": [
    "data.readline()"
   ]
  },
  {
   "cell_type": "code",
   "execution_count": 20,
   "id": "3ee038b4",
   "metadata": {},
   "outputs": [],
   "source": [
    "# why it is blank \n",
    "# becuase pointer last position pe poch chuka hai sara traverse karke or ab vo kuch bhi read nahi kar sakta\n",
    "# to read the data we should seek it to 0th position again"
   ]
  },
  {
   "cell_type": "code",
   "execution_count": 23,
   "id": "8397f343",
   "metadata": {},
   "outputs": [
    {
     "data": {
      "text/plain": [
       "\"this is my updated textLorem Ipsum is simply dummy text of the printing and typesetting industry. Lorem Ipsum has been the industry's standard dummy text ever since the 1500s, when an unknown printer took a galley of type and scrambled it to make a type specimen book. It has survived not only five centuries, but also the leap into electronic typesetting, remaining essentially unchanged. It was popularised in the 1960s with the release of Letraset sheets containing Lorem Ipsum passages, and more recently with desktop publishing software like Aldus PageMaker including versions of Lorem Ipsum.\""
      ]
     },
     "execution_count": 23,
     "metadata": {},
     "output_type": "execute_result"
    }
   ],
   "source": [
    "# 1. executing this blank\n",
    "# 3. again execute text will be given\n",
    "data.readline()"
   ]
  },
  {
   "cell_type": "code",
   "execution_count": 22,
   "id": "f00578dd",
   "metadata": {},
   "outputs": [
    {
     "data": {
      "text/plain": [
       "0"
      ]
     },
     "execution_count": 22,
     "metadata": {},
     "output_type": "execute_result"
    }
   ],
   "source": [
    "# 2. executing this then\n",
    "data.seek(0)"
   ]
  },
  {
   "cell_type": "code",
   "execution_count": 24,
   "id": "4b456df7",
   "metadata": {},
   "outputs": [],
   "source": [
    "# you can set cursor at any position\n",
    "# data.seek(10)"
   ]
  },
  {
   "cell_type": "code",
   "execution_count": 25,
   "id": "cc017c8f",
   "metadata": {},
   "outputs": [],
   "source": [
    "# reading line by line using for loop\n",
    "data1 = open(\"27_test.txt\" , 'r')"
   ]
  },
  {
   "cell_type": "code",
   "execution_count": 26,
   "id": "120636b6",
   "metadata": {},
   "outputs": [
    {
     "name": "stdout",
     "output_type": "stream",
     "text": [
      "this is my updated textLorem Ipsum is simply dummy text of the printing and typesetting industry. Lorem Ipsum has been the industry's standard dummy text ever since the 1500s, when an unknown printer took a galley of type and scrambled it to make a type specimen book. It has survived not only five centuries, but also the leap into electronic typesetting, remaining essentially unchanged. It was popularised in the 1960s with the release of Letraset sheets containing Lorem Ipsum passages, and more recently with desktop publishing software like Aldus PageMaker including versions of Lorem Ipsum.\n"
     ]
    }
   ],
   "source": [
    "for i in data1:\n",
    "    print(i)"
   ]
  },
  {
   "cell_type": "code",
   "execution_count": 27,
   "id": "75aa6491",
   "metadata": {},
   "outputs": [],
   "source": [
    "# finding size of file"
   ]
  },
  {
   "cell_type": "code",
   "execution_count": 28,
   "id": "d11ed121",
   "metadata": {},
   "outputs": [],
   "source": [
    "import os"
   ]
  },
  {
   "cell_type": "code",
   "execution_count": 29,
   "id": "b49656a7",
   "metadata": {},
   "outputs": [
    {
     "data": {
      "text/plain": [
       "597"
      ]
     },
     "execution_count": 29,
     "metadata": {},
     "output_type": "execute_result"
    }
   ],
   "source": [
    "os.path.getsize(\"27_test.txt\")"
   ]
  },
  {
   "cell_type": "code",
   "execution_count": 30,
   "id": "30e8bd7c",
   "metadata": {},
   "outputs": [],
   "source": [
    "# deleting a file\n",
    "os.remove(\"27_test.txt\") #-> this will remove the file "
   ]
  },
  {
   "cell_type": "code",
   "execution_count": 30,
   "id": "2dbe9e89",
   "metadata": {},
   "outputs": [],
   "source": [
    "# creating another file now"
   ]
  },
  {
   "cell_type": "code",
   "execution_count": 31,
   "id": "b3d0b373",
   "metadata": {},
   "outputs": [],
   "source": [
    "f = open(\"27_test1.txt\" , \"w\")"
   ]
  },
  {
   "cell_type": "code",
   "execution_count": 32,
   "id": "5f2f71d1",
   "metadata": {},
   "outputs": [
    {
     "data": {
      "text/plain": [
       "574"
      ]
     },
     "execution_count": 32,
     "metadata": {},
     "output_type": "execute_result"
    }
   ],
   "source": [
    "f.write(\"Lorem Ipsum is simply dummy text of the printing and typesetting industry. Lorem Ipsum has been the industry's standard dummy text ever since the 1500s, when an unknown printer took a galley of type and scrambled it to make a type specimen book. It has survived not only five centuries, but also the leap into electronic typesetting, remaining essentially unchanged. It was popularised in the 1960s with the release of Letraset sheets containing Lorem Ipsum passages, and more recently with desktop publishing software like Aldus PageMaker including versions of Lorem Ipsum.\")"
   ]
  },
  {
   "cell_type": "code",
   "execution_count": 33,
   "id": "4d579742",
   "metadata": {},
   "outputs": [],
   "source": [
    "f.close()"
   ]
  },
  {
   "cell_type": "code",
   "execution_count": 34,
   "id": "1926ca5b",
   "metadata": {},
   "outputs": [],
   "source": [
    "# renaming a file"
   ]
  },
  {
   "cell_type": "code",
   "execution_count": 35,
   "id": "4aa6630a",
   "metadata": {},
   "outputs": [],
   "source": [
    "os.rename(\"27_test1.txt\" , \"27_new.txt\")"
   ]
  },
  {
   "cell_type": "code",
   "execution_count": 36,
   "id": "9d3f99c5",
   "metadata": {},
   "outputs": [],
   "source": [
    "# creating copy of files"
   ]
  },
  {
   "cell_type": "code",
   "execution_count": 37,
   "id": "24888ff6",
   "metadata": {},
   "outputs": [],
   "source": [
    "import shutil"
   ]
  },
  {
   "cell_type": "code",
   "execution_count": 38,
   "id": "d83755ed",
   "metadata": {},
   "outputs": [
    {
     "data": {
      "text/plain": [
       "'27_copy_new.txt'"
      ]
     },
     "execution_count": 38,
     "metadata": {},
     "output_type": "execute_result"
    }
   ],
   "source": [
    "shutil.copy(\"27_new.txt\" , \"27_copy_new.txt\")"
   ]
  },
  {
   "cell_type": "code",
   "execution_count": 39,
   "id": "ac7fc787",
   "metadata": {},
   "outputs": [],
   "source": [
    "# another method to open file"
   ]
  },
  {
   "cell_type": "code",
   "execution_count": 40,
   "id": "3a5f1ab0",
   "metadata": {},
   "outputs": [
    {
     "name": "stdout",
     "output_type": "stream",
     "text": [
      "Lorem Ipsum is simply dummy text of the printing and typesetting industry. Lorem Ipsum has been the industry's standard dummy text ever since the 1500s, when an unknown printer took a galley of type and scrambled it to make a type specimen book. It has survived not only five centuries, but also the leap into electronic typesetting, remaining essentially unchanged. It was popularised in the 1960s with the release of Letraset sheets containing Lorem Ipsum passages, and more recently with desktop publishing software like Aldus PageMaker including versions of Lorem Ipsum.\n"
     ]
    }
   ],
   "source": [
    "# yha par f as alias hai you can give any thing\n",
    "# you can do any operation r , w , a \n",
    "with open(\"27_new.txt\" , \"r\") as f:\n",
    "    print(f.read())"
   ]
  },
  {
   "cell_type": "code",
   "execution_count": 41,
   "id": "47c7eeb3",
   "metadata": {},
   "outputs": [
    {
     "name": "stdout",
     "output_type": "stream",
     "text": [
      "Lorem Ipsum is simply dummy text of the printing and typesetting industry. Lorem Ipsum has been the industry's standard dummy text ever since the 1500s, when an unknown printer took a galley of type and scrambled it to make a type specimen book. It has survived not only five centuries, but also the leap into electronic typesetting, remaining essentially unchanged. It was popularised in the 1960s with the release of Letraset sheets containing Lorem Ipsum passages, and more recently with desktop publishing software like Aldus PageMaker including versions of Lorem Ipsum.\n"
     ]
    }
   ],
   "source": [
    "with open(\"27_copy_new.txt\" , \"r\") as astha:\n",
    "    print(astha.read())"
   ]
  }
 ],
 "metadata": {
  "kernelspec": {
   "display_name": "Python 3 (ipykernel)",
   "language": "python",
   "name": "python3"
  },
  "language_info": {
   "codemirror_mode": {
    "name": "ipython",
    "version": 3
   },
   "file_extension": ".py",
   "mimetype": "text/x-python",
   "name": "python",
   "nbconvert_exporter": "python",
   "pygments_lexer": "ipython3",
   "version": "3.9.13"
  }
 },
 "nbformat": 4,
 "nbformat_minor": 5
}
