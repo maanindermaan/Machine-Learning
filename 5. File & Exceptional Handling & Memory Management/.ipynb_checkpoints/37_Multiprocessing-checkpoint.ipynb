{
 "cells": [
  {
   "cell_type": "code",
   "execution_count": 1,
   "id": "1aba0742",
   "metadata": {},
   "outputs": [],
   "source": [
    "# Multiprocessing -> Multiple processors ko engage krke , multiple program ko execute krke , uske beech jo bhi \n",
    "# communication channel hoga usko establish krke finallyy mujhe output dena"
   ]
  },
  {
   "cell_type": "code",
   "execution_count": 7,
   "id": "7b09c800",
   "metadata": {},
   "outputs": [],
   "source": [
    "# PROCESS EXAMPLE\n",
    "# some error coming while executing\n",
    "import multiprocessing\n",
    "def test():\n",
    "    print(\"this is my multiprocessing prog\")\n",
    "\n",
    "# ek main program jo ki python ke saare resources ko invoke krlega\n",
    "if __name__ == '__main__':\n",
    "    m = multiprocessing.Process(target = test)\n",
    "#     calling and executing main\n",
    "    print(\"this is my main prog\")\n",
    "#     main ke baad target ko execute krwado isse test call hojega\n",
    "\n",
    "#   this is child process of my main program\n",
    "    m.start()\n",
    "    \n",
    "#   rukega jab tak child terminnatena hojaye\n",
    "    m.join()"
   ]
  },
  {
   "cell_type": "code",
   "execution_count": 6,
   "id": "98f76a3d",
   "metadata": {},
   "outputs": [],
   "source": [
    "# test()"
   ]
  },
  {
   "cell_type": "code",
   "execution_count": 4,
   "id": "3f38cf4b",
   "metadata": {},
   "outputs": [],
   "source": [
    "# other program -> POOL EXAMPLE ->Jitne processor chahiye ek process ke liye you can define that"
   ]
  },
  {
   "cell_type": "code",
   "execution_count": 5,
   "id": "613f612d",
   "metadata": {},
   "outputs": [],
   "source": [
    "# error on execution\n",
    "def square(n):\n",
    "    return n**2\n",
    "\n",
    "if __name__ == '__main__':\n",
    "#     pool return in bulk object\n",
    "#     pool matlab ki utne number ko process ko aap define krderhe ho like here it is 4 , kitne proccess ko aap allocate kr derhe ho , isliye program boht zyada fast hogya\n",
    "    with multiprocessing.Pool(processes = 4) as pool:\n",
    "        out = pool.map(square , [1,2,3,4,5,6,7,8,9])\n",
    "        print(out)"
   ]
  },
  {
   "cell_type": "code",
   "execution_count": 8,
   "id": "1d28094b",
   "metadata": {},
   "outputs": [],
   "source": [
    "# Using Multiprocessing using queue\n",
    "# ek process mein hum data dalenge or dusre mein hum nikalenge"
   ]
  },
  {
   "cell_type": "code",
   "execution_count": 10,
   "id": "001d7393",
   "metadata": {},
   "outputs": [],
   "source": [
    "# error on executing\n",
    "import multiprocessing\n",
    "# hum separetly bhi in dono ko call kar sakte hai but usme time lageaga zayda so we do multiporcessing\n",
    "def producer(q):\n",
    "#     data dalega\n",
    "    for i in range(10):\n",
    "        q.put(i)\n",
    "        \n",
    "#     data nikalega\n",
    "def consume(q):\n",
    "    while True:\n",
    "        item = q.get()\n",
    "        if item is None:\n",
    "            break\n",
    "        print(item)\n",
    "        \n",
    "if __name__ == '__main__':\n",
    "    queue = multiprocessing.Queue()\n",
    "    m1 = multiprocessing.Process(target = producer , args = (queue,))\n",
    "    m2 = multiprocessing.Process(target = consume , args = (queue,))\n",
    "    m1.start()\n",
    "    m2.start()\n",
    "    queue.put(\"sudh\")\n",
    "    m1.join()\n",
    "    m2.join()"
   ]
  },
  {
   "cell_type": "code",
   "execution_count": 11,
   "id": "1fc10866",
   "metadata": {},
   "outputs": [],
   "source": [
    "# error on executing\n",
    "import multiprocessing\n",
    "# hum separetly bhi in dono ko call kar sakte hai but usme time lageaga zayda so we do multiporcessing\n",
    "def producer(q):\n",
    "#     data dalega\n",
    "    for i in [\"sudh\" , \"kumar\" , \"asmr\"]:\n",
    "        q.put(i)\n",
    "        \n",
    "#     data nikalega\n",
    "def consume(q):\n",
    "    while True:\n",
    "        item = q.get()\n",
    "        if item is None:\n",
    "            break\n",
    "        print(item)\n",
    "        \n",
    "if __name__ == '__main__':\n",
    "    queue = multiprocessing.Queue()\n",
    "    m1 = multiprocessing.Process(target = producer , args = (queue,))\n",
    "    m2 = multiprocessing.Process(target = consume , args = (queue,))\n",
    "    m1.start()\n",
    "    m2.start()\n",
    "    queue.put(\"sudh\")\n",
    "    m1.join()\n",
    "    m2.join()"
   ]
  },
  {
   "cell_type": "code",
   "execution_count": 4,
   "id": "c8b017c0",
   "metadata": {},
   "outputs": [],
   "source": [
    "# import multiprocessing\n",
    "# Another example\n",
    "def square(index, value):\n",
    "    value[index] = value[index]**2\n",
    "    \n",
    "if __name__ == \"__main__\":\n",
    "    arr = multiprocessing.Array('i' , [2,3,4,5,6,7,8])\n",
    "    process = []\n",
    "    for i in range(7):\n",
    "        m = multiprocessing.Process(target = square , args = (i , arr))\n",
    "#         ab hum process mein data append karenge\n",
    "#         ek process data nikalega square krega\n",
    "#         dusra process data dalega\n",
    "#         outcome ko we are appending\n",
    "        process.append(m)\n",
    "        m.start()\n",
    "#     ending process\n",
    "    for m in process:\n",
    "        m.join()\n",
    "    print(list(arr))"
   ]
  },
  {
   "cell_type": "code",
   "execution_count": 5,
   "id": "05d938ae",
   "metadata": {},
   "outputs": [],
   "source": [
    "# jo uper queue wala example that you can do it using pipes as well"
   ]
  },
  {
   "cell_type": "code",
   "execution_count": 7,
   "id": "74c85aba",
   "metadata": {},
   "outputs": [],
   "source": [
    "# Pipe -> send / recv, ek send krte rehga ek recv karte rhega\n",
    "# Pipe banado 2 connection milgye ek se mai connected hu ek se mera dost connected hai or dono ka common obj hai yeah pipe , aap bhi data pipe mein bhejrhe ho or dusre wala data bhi pipe se access karrha hai\n",
    "# using pipes\n",
    "import multiprocessing\n",
    "def sender(conn , msg):\n",
    "    for i in msg:\n",
    "        conn.send()\n",
    "    conn.close()\n",
    "    \n",
    "def recieve(conn) : \n",
    "    while True:\n",
    "        try:\n",
    "            msg = conn.recv()\n",
    "        except Exception as e:\n",
    "            print(e)\n",
    "            break\n",
    "        print(msg)\n",
    "        \n",
    "        \n",
    "# making main program\n",
    "if __name__ == '__main__':\n",
    "    msg = [\"my name is sudh\" , \"this is my msg to sudents\" , \"i am taking on multiporcessing\"]\n",
    "#     pipe-> duplex mode -> same time bhejna and recv karna, msg bhejega bhi lga bhi like whatsapp \n",
    "    parent_con , child_con = multiprocessing.Pipe()\n",
    "#     ek function dalne ka kaam krega dusra nikalne ka kaam krega\n",
    "    m1 = multiprocessing.Process(target = sender , args = (child_con , msg))\n",
    "    m2 = multiprocessing.Process(target = recieve , args = (parent_con , ))\n",
    "    \n",
    "    m1.start()\n",
    "    m2.start()\n",
    "    m1.join()\n",
    "    child_con.close()\n",
    "    m2.join()\n",
    "    parent_con.close()"
   ]
  }
 ],
 "metadata": {
  "kernelspec": {
   "display_name": "Python 3 (ipykernel)",
   "language": "python",
   "name": "python3"
  },
  "language_info": {
   "codemirror_mode": {
    "name": "ipython",
    "version": 3
   },
   "file_extension": ".py",
   "mimetype": "text/x-python",
   "name": "python",
   "nbconvert_exporter": "python",
   "pygments_lexer": "ipython3",
   "version": "3.9.13"
  }
 },
 "nbformat": 4,
 "nbformat_minor": 5
}
