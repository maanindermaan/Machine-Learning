{
 "cells": [
  {
   "cell_type": "code",
   "execution_count": 1,
   "id": "bbcd9e78",
   "metadata": {},
   "outputs": [],
   "source": [
    "# laghbhag har scenario ke liye exception already defined hai but vaisa kuch jiske baare mein diya hua hi nahi hai \n",
    "# class ke andar , python ke andar library bani hui hi nahi hai par fir bhi aapko exception raise karna hai \n",
    "# suppose kisi custom scneraio mein aap kaise karoge?"
   ]
  },
  {
   "cell_type": "code",
   "execution_count": 2,
   "id": "3ca01b95",
   "metadata": {},
   "outputs": [
    {
     "name": "stdout",
     "output_type": "stream",
     "text": [
      "enter your age -1000\n"
     ]
    }
   ],
   "source": [
    "age = int(input(\"enter your age \" ))"
   ]
  },
  {
   "cell_type": "code",
   "execution_count": 3,
   "id": "64eb42a6",
   "metadata": {},
   "outputs": [],
   "source": [
    "# but age can't be negative, input doesn't consider this as an error , you can although write if else but we use \n",
    "# custom exception"
   ]
  },
  {
   "cell_type": "code",
   "execution_count": 4,
   "id": "43f30857",
   "metadata": {},
   "outputs": [],
   "source": [
    "# this is extending exception class\n",
    "class validateage(Exception):\n",
    "    \n",
    "    def __init__(self , msg):\n",
    "        self.msg = msg"
   ]
  },
  {
   "cell_type": "code",
   "execution_count": 5,
   "id": "397ef09d",
   "metadata": {},
   "outputs": [],
   "source": [
    "def validateageinput(age):\n",
    "    if age < 0:\n",
    "        raise validateage(\"entered age is negative\")\n",
    "    elif age>200:\n",
    "        raise validateage(\"entered age is very very high\")\n",
    "    else:\n",
    "        print(\"age is valid\")"
   ]
  },
  {
   "cell_type": "code",
   "execution_count": 6,
   "id": "54f5565a",
   "metadata": {},
   "outputs": [
    {
     "name": "stdout",
     "output_type": "stream",
     "text": [
      "enter your age 2344\n",
      "entered age is very very high\n"
     ]
    }
   ],
   "source": [
    "try :\n",
    "    age = int(input(\"enter your age \" ))\n",
    "    validateageinput(age)\n",
    "except validateage as e:\n",
    "    print(e)"
   ]
  },
  {
   "cell_type": "code",
   "execution_count": 7,
   "id": "9ca28d4b",
   "metadata": {},
   "outputs": [
    {
     "name": "stdout",
     "output_type": "stream",
     "text": [
      "enter your age -100\n",
      "entered age is negative\n"
     ]
    }
   ],
   "source": [
    "try :\n",
    "    age = int(input(\"enter your age \" ))\n",
    "    validateageinput(age)\n",
    "except validateage as e:\n",
    "    print(e)"
   ]
  }
 ],
 "metadata": {
  "kernelspec": {
   "display_name": "Python 3 (ipykernel)",
   "language": "python",
   "name": "python3"
  },
  "language_info": {
   "codemirror_mode": {
    "name": "ipython",
    "version": 3
   },
   "file_extension": ".py",
   "mimetype": "text/x-python",
   "name": "python",
   "nbconvert_exporter": "python",
   "pygments_lexer": "ipython3",
   "version": "3.9.13"
  }
 },
 "nbformat": 4,
 "nbformat_minor": 5
}
