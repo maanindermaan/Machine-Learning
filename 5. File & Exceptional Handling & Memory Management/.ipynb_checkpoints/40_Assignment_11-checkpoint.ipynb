{
 "cells": [
  {
   "cell_type": "markdown",
   "id": "f68ef293",
   "metadata": {},
   "source": [
    "Write a python code to create a process using the multiprocessing module."
   ]
  },
  {
   "cell_type": "code",
   "execution_count": 1,
   "id": "ee55c4ae",
   "metadata": {},
   "outputs": [],
   "source": [
    "import multiprocessing\n",
    "\n",
    "def test():\n",
    "    print(\"I am feeling very upset these days\")\n",
    "    \n",
    "if __name__ == \"__main__\":\n",
    "    m = multiprocessing.Process(target = test)\n",
    "    \n",
    "    print(\"I am missing someone badly\")\n",
    "    \n",
    "    m.start()\n",
    "    \n",
    "    m.join()"
   ]
  },
  {
   "cell_type": "markdown",
   "id": "a93bbbd7",
   "metadata": {},
   "source": [
    "Write a python program to create 4 processes, each process should print a different number using the\n",
    "multiprocessing module in python."
   ]
  },
  {
   "cell_type": "code",
   "execution_count": 2,
   "id": "dd7047ab",
   "metadata": {},
   "outputs": [],
   "source": [
    "def multiple(n):\n",
    "    return n\n",
    "\n",
    "if __name__ == \"__main__\":\n",
    "    with multiprocessing.Pool(processes = 4) as pool:\n",
    "        out = pool.map(multiple , [1,2,3,4])\n",
    "        print(out)"
   ]
  },
  {
   "cell_type": "markdown",
   "id": "dbb3de6b",
   "metadata": {},
   "source": [
    " "
   ]
  }
 ],
 "metadata": {
  "kernelspec": {
   "display_name": "Python 3 (ipykernel)",
   "language": "python",
   "name": "python3"
  },
  "language_info": {
   "codemirror_mode": {
    "name": "ipython",
    "version": 3
   },
   "file_extension": ".py",
   "mimetype": "text/x-python",
   "name": "python",
   "nbconvert_exporter": "python",
   "pygments_lexer": "ipython3",
   "version": "3.9.13"
  }
 },
 "nbformat": 4,
 "nbformat_minor": 5
}
