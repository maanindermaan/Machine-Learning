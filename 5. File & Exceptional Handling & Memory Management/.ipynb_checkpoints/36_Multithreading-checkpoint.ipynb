{
 "cells": [
  {
   "cell_type": "code",
   "execution_count": 1,
   "id": "6cebce9e",
   "metadata": {},
   "outputs": [],
   "source": [
    "import threading"
   ]
  },
  {
   "cell_type": "code",
   "execution_count": 2,
   "id": "1e110771",
   "metadata": {},
   "outputs": [],
   "source": [
    "# input lerha hai or print krrha hai\n",
    "def test(id):\n",
    "    print(\"prog start %d\" % id)"
   ]
  },
  {
   "cell_type": "code",
   "execution_count": 3,
   "id": "fa2860c3",
   "metadata": {},
   "outputs": [
    {
     "name": "stdout",
     "output_type": "stream",
     "text": [
      "prog start 45\n"
     ]
    }
   ],
   "source": [
    "test(45)"
   ]
  },
  {
   "cell_type": "code",
   "execution_count": 4,
   "id": "309b1844",
   "metadata": {},
   "outputs": [],
   "source": [
    "# making multiple programs of the above\n",
    "# target is the function \n",
    "# args takes input parameter and how much time you want it to run\n",
    "# ek hi program hum bana rhe hai or usko different different input se hum run krrhe hai\n",
    "thread = [threading.Thread(target = test , args = (i,)) for i in range(10)]"
   ]
  },
  {
   "cell_type": "code",
   "execution_count": 5,
   "id": "1782495e",
   "metadata": {},
   "outputs": [
    {
     "name": "stdout",
     "output_type": "stream",
     "text": [
      "prog start 0prog start 1\n",
      "\n",
      "prog start 2\n",
      "prog start 3\n",
      "prog start 4\n",
      "prog start 5\n",
      "prog start 6\n",
      "prog start 7\n",
      "prog start 8\n",
      "prog start 9\n"
     ]
    }
   ],
   "source": [
    "# running it 10 times with different values\n",
    "for t in thread:\n",
    "    t.start()"
   ]
  },
  {
   "cell_type": "code",
   "execution_count": 6,
   "id": "5e16dfda",
   "metadata": {},
   "outputs": [
    {
     "data": {
      "text/plain": [
       "[<Thread(Thread-5, stopped 13205856256)>,\n",
       " <Thread(Thread-6, stopped 13222645760)>,\n",
       " <Thread(Thread-7, stopped 13205856256)>,\n",
       " <Thread(Thread-8, stopped 13205856256)>,\n",
       " <Thread(Thread-9, stopped 13205856256)>,\n",
       " <Thread(Thread-10, stopped 13205856256)>,\n",
       " <Thread(Thread-11, stopped 13205856256)>,\n",
       " <Thread(Thread-12, stopped 13205856256)>,\n",
       " <Thread(Thread-13, stopped 13205856256)>,\n",
       " <Thread(Thread-14, stopped 13205856256)>]"
      ]
     },
     "execution_count": 6,
     "metadata": {},
     "output_type": "execute_result"
    }
   ],
   "source": [
    "thread"
   ]
  },
  {
   "cell_type": "code",
   "execution_count": 7,
   "id": "d3bed8fc",
   "metadata": {},
   "outputs": [
    {
     "data": {
      "text/plain": [
       "140308962663168"
      ]
     },
     "execution_count": 7,
     "metadata": {},
     "output_type": "execute_result"
    }
   ],
   "source": [
    "# this is running in single process or single core\n",
    "id(thread)"
   ]
  },
  {
   "cell_type": "code",
   "execution_count": 8,
   "id": "ec4a6f89",
   "metadata": {},
   "outputs": [],
   "source": [
    "# another program example \n",
    "# multiple files"
   ]
  },
  {
   "cell_type": "code",
   "execution_count": 9,
   "id": "9069935e",
   "metadata": {},
   "outputs": [],
   "source": [
    "import threading\n",
    "import urllib.request\n",
    "\n",
    "# hume 3 files chiye toh ek hi program likho or using threads use hi 3 baar chalado\n",
    "def file_download(url , filename):\n",
    "    urllib.request.urlretrieve(url , filename)"
   ]
  },
  {
   "cell_type": "code",
   "execution_count": 10,
   "id": "f8d27453",
   "metadata": {},
   "outputs": [],
   "source": [
    "file_download('https://github.com/itsfoss/text-files/blob/master/agatha.txt' , \"36_test.txt\")"
   ]
  },
  {
   "cell_type": "code",
   "execution_count": 11,
   "id": "31932f21",
   "metadata": {},
   "outputs": [],
   "source": [
    "# hum 2 lerhe hai\n",
    "url_list = ['https://github.com/itsfoss/text-files/blob/master/agatha.txt' , 'https://github.com/itsfoss/text-files/blob/master/sherlock.txt' ]"
   ]
  },
  {
   "cell_type": "code",
   "execution_count": 12,
   "id": "b7c127c1",
   "metadata": {},
   "outputs": [
    {
     "data": {
      "text/plain": [
       "['https://github.com/itsfoss/text-files/blob/master/agatha.txt',\n",
       " 'https://github.com/itsfoss/text-files/blob/master/sherlock.txt']"
      ]
     },
     "execution_count": 12,
     "metadata": {},
     "output_type": "execute_result"
    }
   ],
   "source": [
    "url_list"
   ]
  },
  {
   "cell_type": "code",
   "execution_count": 13,
   "id": "fe286d8d",
   "metadata": {},
   "outputs": [],
   "source": [
    "file_name_list = [\"36_data1.txt\" , \"36_data2.txt\"]"
   ]
  },
  {
   "cell_type": "code",
   "execution_count": 14,
   "id": "c722681a",
   "metadata": {},
   "outputs": [],
   "source": [
    "# ek hi core mein multiple instance karna\n",
    "ther = [threading.Thread(target = file_download , args = (url_list[i] , file_name_list[i])) for i in range(len(url_list))]"
   ]
  },
  {
   "cell_type": "code",
   "execution_count": 15,
   "id": "e16c95ab",
   "metadata": {},
   "outputs": [
    {
     "data": {
      "text/plain": [
       "[<Thread(Thread-15, initial)>, <Thread(Thread-16, initial)>]"
      ]
     },
     "execution_count": 15,
     "metadata": {},
     "output_type": "execute_result"
    }
   ],
   "source": [
    "ther"
   ]
  },
  {
   "cell_type": "code",
   "execution_count": 16,
   "id": "feca8501",
   "metadata": {},
   "outputs": [],
   "source": [
    "for t in ther:\n",
    "    t.start()"
   ]
  },
  {
   "cell_type": "code",
   "execution_count": 17,
   "id": "84b763f5",
   "metadata": {},
   "outputs": [],
   "source": [
    "# Another program"
   ]
  },
  {
   "cell_type": "code",
   "execution_count": 18,
   "id": "b4cd0ad3",
   "metadata": {},
   "outputs": [],
   "source": [
    "import time\n",
    "import threading"
   ]
  },
  {
   "cell_type": "code",
   "execution_count": 19,
   "id": "7c6108cd",
   "metadata": {},
   "outputs": [],
   "source": [
    "def test1(id):\n",
    "    for i in range(10):\n",
    "        print(\"test1 %d printing %d %s\" % (id , i , time.ctime()))\n",
    "        time.sleep(1)"
   ]
  },
  {
   "cell_type": "code",
   "execution_count": 20,
   "id": "d1697a33",
   "metadata": {},
   "outputs": [
    {
     "name": "stdout",
     "output_type": "stream",
     "text": [
      "test1 1 printing 0 Wed Oct 11 22:44:40 2023\n",
      "test1 1 printing 1 Wed Oct 11 22:44:41 2023\n",
      "test1 1 printing 2 Wed Oct 11 22:44:42 2023\n",
      "test1 1 printing 3 Wed Oct 11 22:44:43 2023\n",
      "test1 1 printing 4 Wed Oct 11 22:44:44 2023\n",
      "test1 1 printing 5 Wed Oct 11 22:44:45 2023\n",
      "test1 1 printing 6 Wed Oct 11 22:44:46 2023\n",
      "test1 1 printing 7 Wed Oct 11 22:44:47 2023\n",
      "test1 1 printing 8 Wed Oct 11 22:44:48 2023\n",
      "test1 1 printing 9 Wed Oct 11 22:44:49 2023\n"
     ]
    }
   ],
   "source": [
    "test1(1)"
   ]
  },
  {
   "cell_type": "code",
   "execution_count": 21,
   "id": "ac638695",
   "metadata": {},
   "outputs": [],
   "source": [
    "thread1 = [threading.Thread(target = test1 , args = (i,)) for i in range(3)]"
   ]
  },
  {
   "cell_type": "code",
   "execution_count": 22,
   "id": "efc7a1b7",
   "metadata": {},
   "outputs": [
    {
     "name": "stdout",
     "output_type": "stream",
     "text": [
      "test1 0 printing 0 Wed Oct 11 22:45:16 2023test1 1 printing 0 Wed Oct 11 22:45:16 2023\n",
      "\n",
      "test1 2 printing 0 Wed Oct 11 22:45:16 2023\n",
      "test1 1 printing 1 Wed Oct 11 22:45:17 2023\n",
      "test1 0 printing 1 Wed Oct 11 22:45:17 2023\n",
      "test1 2 printing 1 Wed Oct 11 22:45:17 2023\n",
      "test1 1 printing 2 Wed Oct 11 22:45:18 2023\n",
      "test1 2 printing 2 Wed Oct 11 22:45:18 2023\n",
      "test1 0 printing 2 Wed Oct 11 22:45:18 2023\n",
      "test1 0 printing 3 Wed Oct 11 22:45:19 2023test1 1 printing 3 Wed Oct 11 22:45:19 2023\n",
      "\n",
      "test1 2 printing 3 Wed Oct 11 22:45:19 2023\n",
      "test1 1 printing 4 Wed Oct 11 22:45:20 2023test1 2 printing 4 Wed Oct 11 22:45:20 2023\n",
      "test1 0 printing 4 Wed Oct 11 22:45:20 2023\n",
      "\n",
      "test1 0 printing 5 Wed Oct 11 22:45:21 2023\n",
      "test1 1 printing 5 Wed Oct 11 22:45:21 2023\n",
      "test1 2 printing 5 Wed Oct 11 22:45:21 2023\n",
      "test1 0 printing 6 Wed Oct 11 22:45:22 2023test1 1 printing 6 Wed Oct 11 22:45:22 2023\n",
      "\n",
      "test1 2 printing 6 Wed Oct 11 22:45:22 2023\n",
      "test1 1 printing 7 Wed Oct 11 22:45:23 2023\n",
      "test1 2 printing 7 Wed Oct 11 22:45:23 2023\n",
      "test1 0 printing 7 Wed Oct 11 22:45:23 2023\n",
      "test1 0 printing 8 Wed Oct 11 22:45:24 2023test1 2 printing 8 Wed Oct 11 22:45:24 2023\n",
      "test1 1 printing 8 Wed Oct 11 22:45:24 2023\n",
      "\n",
      "test1 0 printing 9 Wed Oct 11 22:45:25 2023test1 1 printing 9 Wed Oct 11 22:45:25 2023\n",
      "\n",
      "test1 2 printing 9 Wed Oct 11 22:45:25 2023\n"
     ]
    }
   ],
   "source": [
    "# ye apne aap hi ek program ko chodke dusre program ke andar jarha ahi fir usko print karva rha hai \n",
    "# agar id(0) likhte toh 0-9 tak print karwata pehle 0 ke liye\n",
    "# but apne sone ka time dediya toh vo so rha hoga or dusra program chaljega\n",
    "for t in thread1:\n",
    "    t.start()"
   ]
  },
  {
   "cell_type": "code",
   "execution_count": 23,
   "id": "8c90adab",
   "metadata": {},
   "outputs": [],
   "source": [
    "# Resource Shared \n",
    "# Ek hi number hai jisko sare program try karenge update krne ka\n",
    "shared_var = 0\n",
    "lock_var = threading.Lock()"
   ]
  },
  {
   "cell_type": "code",
   "execution_count": 24,
   "id": "639b8163",
   "metadata": {},
   "outputs": [
    {
     "name": "stdout",
     "output_type": "stream",
     "text": [
      "test2 if is 0 has increased the shared variable by 1\n",
      "test2 if is 1 has increased the shared variable by 2\n",
      "test2 if is 2 has increased the shared variable by 3\n"
     ]
    }
   ],
   "source": [
    "# global matalb sab share kar paye\n",
    "# one by one sab access karparhe hai or update kar parhe hai\n",
    "shared_var = 0\n",
    "lock_var = threading.Lock()\n",
    "def test2(id):\n",
    "    global shared_var\n",
    "    with lock_var:\n",
    "        shared_var = shared_var + 1\n",
    "        print(\"test2 if is %d has increased the shared variable by %d\"%(id , shared_var))\n",
    "        time.sleep(1)\n",
    "ther3 = [threading.Thread(target = test2 , args = (i , )) for i in range(3)]\n",
    "for t in ther3:\n",
    "    t.start()"
   ]
  }
 ],
 "metadata": {
  "kernelspec": {
   "display_name": "Python 3 (ipykernel)",
   "language": "python",
   "name": "python3"
  },
  "language_info": {
   "codemirror_mode": {
    "name": "ipython",
    "version": 3
   },
   "file_extension": ".py",
   "mimetype": "text/x-python",
   "name": "python",
   "nbconvert_exporter": "python",
   "pygments_lexer": "ipython3",
   "version": "3.9.13"
  }
 },
 "nbformat": 4,
 "nbformat_minor": 5
}
