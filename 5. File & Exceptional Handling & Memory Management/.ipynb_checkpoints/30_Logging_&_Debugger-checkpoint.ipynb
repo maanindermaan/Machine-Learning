{
 "cells": [
  {
   "cell_type": "code",
   "execution_count": 1,
   "id": "8a4fdf9b",
   "metadata": {},
   "outputs": [
    {
     "name": "stdout",
     "output_type": "stream",
     "text": [
      "this is my print\n"
     ]
    }
   ],
   "source": [
    "print(\"this is my print\")"
   ]
  },
  {
   "cell_type": "code",
   "execution_count": 2,
   "id": "24d10082",
   "metadata": {},
   "outputs": [],
   "source": [
    "# yeah console mein chala hai or agar kabhi future mein isko aapko investigate karna hua you can't do it becuase it\n",
    "# is not stored anywhere\n",
    "# if you want to investigate this in future what you can do is you can store this into some file\n",
    "# in this context we will discuss now \n",
    "# LOGGING\n",
    "# Logging is always preferred over print because in print it is not storing output it is just displaying on the \n",
    "# console"
   ]
  },
  {
   "cell_type": "markdown",
   "id": "a97e5309",
   "metadata": {},
   "source": [
    "Logging -> iske andar file create hota hai or uske andar hum Information store karlete hai"
   ]
  },
  {
   "cell_type": "code",
   "execution_count": 3,
   "id": "54b59c6f",
   "metadata": {},
   "outputs": [],
   "source": [
    "# iss logging mein error aata hai, har baar new log file create krne ke liye you have to just restart kernal again"
   ]
  },
  {
   "cell_type": "code",
   "execution_count": 3,
   "id": "088f0ca0",
   "metadata": {},
   "outputs": [],
   "source": [
    "import logging\n",
    "\n",
    "\n",
    "# importlib.reload function. used to reload module in python\n",
    "# debug is lowest level of logging"
   ]
  },
  {
   "cell_type": "code",
   "execution_count": 5,
   "id": "ff01ecea",
   "metadata": {},
   "outputs": [],
   "source": [
    "# basic configuration setup\n",
    "# jo bhi aap print mein karrhe ho vohi aapko iss file mein store karna hai\n",
    "logging.basicConfig(filename = \"30_test.log\" , level = logging.INFO)"
   ]
  },
  {
   "cell_type": "code",
   "execution_count": 6,
   "id": "0f9f7afa",
   "metadata": {},
   "outputs": [],
   "source": [
    "logging.info(\"log this line of execution\\n\")"
   ]
  },
  {
   "cell_type": "code",
   "execution_count": 7,
   "id": "1bb98e04",
   "metadata": {},
   "outputs": [],
   "source": [
    "logging.info(\"this is my print\")"
   ]
  },
  {
   "cell_type": "markdown",
   "id": "9d5590a5",
   "metadata": {},
   "source": [
    "levels in logging\n",
    "1. NOTSET\n",
    "2. DEBUG\n",
    "3. INFO\n",
    "4. WARNING\n",
    "5. ERROR\n",
    "6. CRITICAL"
   ]
  },
  {
   "cell_type": "code",
   "execution_count": 8,
   "id": "82f398ad",
   "metadata": {},
   "outputs": [],
   "source": [
    "# agar maine info call kiya hai toh uske neche wale saare i can include just by calling info only but can't include\n",
    "# above info i.e. debug and notset"
   ]
  },
  {
   "cell_type": "code",
   "execution_count": 9,
   "id": "ca0636ff",
   "metadata": {},
   "outputs": [],
   "source": [
    "logging.debug(\"this is my msg\")\n",
    "# this will never be logged becuase logging lvl is INFO and debug is above info"
   ]
  },
  {
   "cell_type": "code",
   "execution_count": 10,
   "id": "befba311",
   "metadata": {},
   "outputs": [],
   "source": [
    "logging.warning(\"this is my warning msg\")"
   ]
  },
  {
   "cell_type": "code",
   "execution_count": 11,
   "id": "17a2790d",
   "metadata": {},
   "outputs": [],
   "source": [
    "logging.error(\"this is my error\")"
   ]
  },
  {
   "cell_type": "code",
   "execution_count": 12,
   "id": "c7468f11",
   "metadata": {},
   "outputs": [],
   "source": [
    "logging.critical(\"this is my critical msg\")"
   ]
  },
  {
   "cell_type": "code",
   "execution_count": 13,
   "id": "be79d25a",
   "metadata": {},
   "outputs": [],
   "source": [
    "# purane file ko band karna \n",
    "logging.shutdown()"
   ]
  },
  {
   "cell_type": "code",
   "execution_count": 1,
   "id": "6fa8a958",
   "metadata": {},
   "outputs": [],
   "source": [
    "# jo bhi info store ho rha hai vo kis tarah se hoga -> we can define that as well"
   ]
  },
  {
   "cell_type": "code",
   "execution_count": 4,
   "id": "46c1bf43",
   "metadata": {},
   "outputs": [],
   "source": [
    "logging.basicConfig(filename = \"30_test1.log\" , level = logging.DEBUG , format = '%(asctime)s %(message)s') #s is for string here"
   ]
  },
  {
   "cell_type": "code",
   "execution_count": 5,
   "id": "c4879678",
   "metadata": {},
   "outputs": [],
   "source": [
    "logging.info(\"this is my info logging\")\n",
    "logging.error(\"this is my error msg\")\n",
    "logging.critical(\"this is my critical\")"
   ]
  },
  {
   "cell_type": "code",
   "execution_count": 6,
   "id": "ce060844",
   "metadata": {},
   "outputs": [],
   "source": [
    "logging.shutdown()"
   ]
  },
  {
   "cell_type": "code",
   "execution_count": 1,
   "id": "f3b277f9",
   "metadata": {},
   "outputs": [],
   "source": [
    "import logging"
   ]
  },
  {
   "cell_type": "code",
   "execution_count": 2,
   "id": "ada99be1",
   "metadata": {},
   "outputs": [],
   "source": [
    "logging.basicConfig(filename = \"30_test2.log\" , level = logging.DEBUG , format = \"%(asctime)s %(name)s %(levelname)s %(message)s\")"
   ]
  },
  {
   "cell_type": "code",
   "execution_count": 3,
   "id": "c7477d74",
   "metadata": {},
   "outputs": [],
   "source": [
    "logging.info(\"this is my info logging\")\n",
    "logging.error(\"this is my error msg\")\n",
    "logging.critical(\"this is my critical\")"
   ]
  },
  {
   "cell_type": "code",
   "execution_count": 4,
   "id": "dc550b5d",
   "metadata": {},
   "outputs": [],
   "source": [
    "# ek operation likho or jo bhi alag alag data types hai unhe aag alag string mein rakhdo"
   ]
  },
  {
   "cell_type": "code",
   "execution_count": 5,
   "id": "1301f924",
   "metadata": {},
   "outputs": [],
   "source": [
    "l = [1,2,3,4,5,[6,7,8] , \"sudh\" , \"kumar\"]"
   ]
  },
  {
   "cell_type": "code",
   "execution_count": 6,
   "id": "d6956839",
   "metadata": {},
   "outputs": [],
   "source": [
    "l1_int = []\n",
    "l2_str = []\n",
    "\n",
    "for i in l:\n",
    "    if type(i) == list:\n",
    "        for j in i :\n",
    "            if type(j) == int:\n",
    "                l1_int.append(j)\n",
    "    elif type(i) == int:\n",
    "        l1_int.append(i)\n",
    "    else:\n",
    "        if type(i) == str:\n",
    "            l2_str.append(i)"
   ]
  },
  {
   "cell_type": "code",
   "execution_count": 7,
   "id": "7d45fd22",
   "metadata": {},
   "outputs": [
    {
     "data": {
      "text/plain": [
       "[1, 2, 3, 4, 5, 6, 7, 8]"
      ]
     },
     "execution_count": 7,
     "metadata": {},
     "output_type": "execute_result"
    }
   ],
   "source": [
    "l1_int"
   ]
  },
  {
   "cell_type": "code",
   "execution_count": 8,
   "id": "513bd099",
   "metadata": {},
   "outputs": [
    {
     "data": {
      "text/plain": [
       "['sudh', 'kumar']"
      ]
     },
     "execution_count": 8,
     "metadata": {},
     "output_type": "execute_result"
    }
   ],
   "source": [
    "l2_str"
   ]
  },
  {
   "cell_type": "code",
   "execution_count": 9,
   "id": "5137a4be",
   "metadata": {},
   "outputs": [],
   "source": [
    "# now how can you import loggin into above code"
   ]
  },
  {
   "cell_type": "code",
   "execution_count": 10,
   "id": "91d75eef",
   "metadata": {},
   "outputs": [],
   "source": [
    "l1_int = []\n",
    "l2_str = []\n",
    "\n",
    "for i in l:\n",
    "    logging.info(\"we are iterating throgh our list and our local var is i\")\n",
    "    if type(i) == list:\n",
    "        logging.info(\"i am inside if statement and i am trying to check list type\")\n",
    "        for j in i :\n",
    "            logging.info(\"i am inside another for loop for list inside list elements\")\n",
    "            if type(j) == int:\n",
    "                logging.info(\"i am inside if statement\")\n",
    "                l1_int.append(j)\n",
    "    elif type(i) == int:\n",
    "        l1_int.append(i)\n",
    "    else:\n",
    "        if type(i) == str:\n",
    "            l2_str.append(i)"
   ]
  },
  {
   "cell_type": "code",
   "execution_count": 11,
   "id": "2b855814",
   "metadata": {},
   "outputs": [],
   "source": [
    "# ab yeah sara baar baar test2.log mein store hojayega becuase test2 hi logged tha vo shutdown nahi hua tha"
   ]
  },
  {
   "cell_type": "code",
   "execution_count": 12,
   "id": "aaed324a",
   "metadata": {},
   "outputs": [],
   "source": [
    "# if you want that it should log list l as well then first convert that list into string and then concat with log \n",
    "# info , you can log integers i and j as well"
   ]
  },
  {
   "cell_type": "code",
   "execution_count": 14,
   "id": "f17ebfd1",
   "metadata": {},
   "outputs": [],
   "source": [
    "l1_int = []\n",
    "l2_str = []\n",
    "\n",
    "for i in l:\n",
    "    logging.info(\"we are iterating throgh our list and our local var is i\" + str(l))\n",
    "    if type(i) == list:\n",
    "        logging.info(\"i am inside if statement and i am trying to check list type\" + str(i))\n",
    "        for j in i :\n",
    "            logging.info(\"i am inside another for loop for list inside list elements\" + str(j))\n",
    "            if type(j) == int:\n",
    "                logging.info(\"i am inside if statement\")\n",
    "                l1_int.append(j)\n",
    "    elif type(i) == int:\n",
    "        l1_int.append(i)\n",
    "    else:\n",
    "        if type(i) == str:\n",
    "            l2_str.append(i)"
   ]
  },
  {
   "cell_type": "code",
   "execution_count": 15,
   "id": "a6a6e15c",
   "metadata": {},
   "outputs": [],
   "source": [
    "logging.shutdown()"
   ]
  },
  {
   "cell_type": "code",
   "execution_count": 1,
   "id": "cdd7f6df",
   "metadata": {},
   "outputs": [],
   "source": [
    "import logging"
   ]
  },
  {
   "cell_type": "code",
   "execution_count": 2,
   "id": "dbd7e83f",
   "metadata": {},
   "outputs": [],
   "source": [
    "logging.basicConfig(filename = \"30_test3.log\" , level = logging.DEBUG , format = \"%(asctime)s %(name)s %(levelname)s %(message)s\")"
   ]
  },
  {
   "cell_type": "code",
   "execution_count": 3,
   "id": "e934146c",
   "metadata": {},
   "outputs": [],
   "source": [
    "# You can use placeholders as well '{}'"
   ]
  },
  {
   "cell_type": "code",
   "execution_count": 6,
   "id": "19bf74e1",
   "metadata": {},
   "outputs": [],
   "source": [
    "l1_int = []\n",
    "l2_str = []\n",
    "\n",
    "for i in l:\n",
    "    logging.info(\"we are iterating throgh our list and our local var is {}\".format(l))\n",
    "    if type(i) == list:\n",
    "        logging.info(\"i am inside if statement and i am trying to check list type\" + str(i))\n",
    "        for j in i :\n",
    "            logging.info(\"i am inside another for loop for list inside list elements\" + str(j))\n",
    "            if type(j) == int:\n",
    "                logging.info(\"i am inside if statement\")\n",
    "                l1_int.append(j)\n",
    "    elif type(i) == int:\n",
    "        l1_int.append(i)\n",
    "    else:\n",
    "        if type(i) == str:\n",
    "            l2_str.append(i)\n",
    "            \n",
    "# now finally logging the result as well\n",
    "logging.info(\"my final result for int is {l1} and str is {l2}\".format(l1 = l1_int , l2 = l2_str))"
   ]
  },
  {
   "cell_type": "code",
   "execution_count": 7,
   "id": "50a272ad",
   "metadata": {},
   "outputs": [],
   "source": [
    "# have to start kernal multiple times"
   ]
  },
  {
   "cell_type": "code",
   "execution_count": 8,
   "id": "da886998",
   "metadata": {},
   "outputs": [],
   "source": [
    "logging.shutdown()"
   ]
  }
 ],
 "metadata": {
  "kernelspec": {
   "display_name": "Python 3 (ipykernel)",
   "language": "python",
   "name": "python3"
  },
  "language_info": {
   "codemirror_mode": {
    "name": "ipython",
    "version": 3
   },
   "file_extension": ".py",
   "mimetype": "text/x-python",
   "name": "python",
   "nbconvert_exporter": "python",
   "pygments_lexer": "ipython3",
   "version": "3.9.13"
  }
 },
 "nbformat": 4,
 "nbformat_minor": 5
}
