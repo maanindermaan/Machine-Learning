{
 "cells": [
  {
   "cell_type": "markdown",
   "id": "945ca6ec",
   "metadata": {},
   "source": [
    "Write a python program to create two threads. Thread one must print the list of squares and thread\n",
    "two must print the list of cubes"
   ]
  },
  {
   "cell_type": "code",
   "execution_count": 1,
   "id": "a7148ef8",
   "metadata": {},
   "outputs": [],
   "source": [
    "# Method-1"
   ]
  },
  {
   "cell_type": "code",
   "execution_count": 2,
   "id": "17259e5a",
   "metadata": {},
   "outputs": [],
   "source": [
    "def test(x):\n",
    "    print (x*x)"
   ]
  },
  {
   "cell_type": "code",
   "execution_count": 3,
   "id": "4129834c",
   "metadata": {},
   "outputs": [
    {
     "name": "stdout",
     "output_type": "stream",
     "text": [
      "100\n"
     ]
    }
   ],
   "source": [
    "test(10)"
   ]
  },
  {
   "cell_type": "code",
   "execution_count": 4,
   "id": "cc90a014",
   "metadata": {},
   "outputs": [],
   "source": [
    "import threading"
   ]
  },
  {
   "cell_type": "code",
   "execution_count": 5,
   "id": "c9774cb3",
   "metadata": {},
   "outputs": [],
   "source": [
    "thread1 = [threading.Thread(target = test , args = (i,)) for i in range(10)]"
   ]
  },
  {
   "cell_type": "code",
   "execution_count": 6,
   "id": "2ff3990a",
   "metadata": {},
   "outputs": [
    {
     "name": "stdout",
     "output_type": "stream",
     "text": [
      "0\n",
      "1\n",
      "4\n",
      "9\n",
      "16\n",
      "25\n",
      "36\n",
      "49\n",
      "64\n",
      "81\n"
     ]
    }
   ],
   "source": [
    "for t1 in thread1:\n",
    "    t1.start();"
   ]
  },
  {
   "cell_type": "code",
   "execution_count": 7,
   "id": "1b89f94b",
   "metadata": {},
   "outputs": [],
   "source": [
    "def test2(x):\n",
    "    print (x*x*x)"
   ]
  },
  {
   "cell_type": "code",
   "execution_count": 8,
   "id": "cd95fb92",
   "metadata": {},
   "outputs": [
    {
     "name": "stdout",
     "output_type": "stream",
     "text": [
      "1000\n"
     ]
    }
   ],
   "source": [
    "test2(10)"
   ]
  },
  {
   "cell_type": "code",
   "execution_count": 9,
   "id": "8f33390f",
   "metadata": {},
   "outputs": [],
   "source": [
    "thread2 = [threading.Thread(target = test2 , args=(i , )) for i in range(30)]"
   ]
  },
  {
   "cell_type": "code",
   "execution_count": 10,
   "id": "58184d72",
   "metadata": {},
   "outputs": [
    {
     "name": "stdout",
     "output_type": "stream",
     "text": [
      "01\n",
      "\n",
      "8\n",
      "27\n",
      "64\n",
      "125\n",
      "216\n",
      "343\n",
      "512\n",
      "729\n",
      "1000\n",
      "1331\n",
      "1728\n",
      "2197\n",
      "2744\n",
      "3375\n",
      "4096\n",
      "4913\n",
      "5832\n",
      "6859\n",
      "8000\n",
      "9261\n",
      "10648\n",
      "12167\n",
      "13824\n",
      "15625\n",
      "17576\n",
      "19683\n",
      "21952\n",
      "24389\n"
     ]
    }
   ],
   "source": [
    "for t in thread2:\n",
    "    t.start()"
   ]
  },
  {
   "cell_type": "code",
   "execution_count": 11,
   "id": "35cfc298",
   "metadata": {},
   "outputs": [],
   "source": [
    "# Method-2"
   ]
  },
  {
   "cell_type": "code",
   "execution_count": 12,
   "id": "3e8ac4d3",
   "metadata": {},
   "outputs": [
    {
     "name": "stdout",
     "output_type": "stream",
     "text": [
      "0\n",
      "1\n",
      "4\n",
      "9\n",
      "16\n",
      "25\n",
      "36\n",
      "49\n",
      "64\n",
      "81\n",
      "0\n",
      "1\n",
      "8\n",
      "27\n",
      "64\n",
      "125\n",
      "216\n",
      "343\n",
      "512\n",
      "729\n",
      "Both threads have finished.\n"
     ]
    }
   ],
   "source": [
    "import threading\n",
    "\n",
    "def print_squares():\n",
    "    for i in range(10):\n",
    "        print(i * i)\n",
    "\n",
    "def print_cubes():\n",
    "    for i in range(10):\n",
    "        print(i * i * i)\n",
    "\n",
    "thread1 = threading.Thread(target=print_squares)\n",
    "thread2 = threading.Thread(target=print_cubes)\n",
    "\n",
    "thread1.start()\n",
    "thread2.start()\n",
    "\n",
    "# Wait for both threads to finish\n",
    "thread1.join()\n",
    "thread2.join()\n",
    "\n",
    "print(\"Both threads have finished.\")\n"
   ]
  },
  {
   "cell_type": "code",
   "execution_count": 13,
   "id": "ad1f08fe",
   "metadata": {},
   "outputs": [],
   "source": [
    "# Method-3"
   ]
  },
  {
   "cell_type": "code",
   "execution_count": 14,
   "id": "a7c93a50",
   "metadata": {},
   "outputs": [
    {
     "name": "stdout",
     "output_type": "stream",
     "text": [
      "Number: 0, Square: 0, Cube: 0\n",
      "Number: 1, Square: 1, Cube: 1\n",
      "Number: 2, Square: 4, Cube: 8\n",
      "Number: 3, Square: 9, Cube: 27\n",
      "Number: 4, Square: 16, Cube: 64\n",
      "Number: 5, Square: 25, Cube: 125\n",
      "Number: 6, Square: 36, Cube: 216\n",
      "Number: 7, Square: 49, Cube: 343\n",
      "Number: 8, Square: 64, Cube: 512\n",
      "Number: 9, Square: 81, Cube: 729\n",
      "Thread has finished.\n"
     ]
    }
   ],
   "source": [
    "import threading\n",
    "\n",
    "def calculate_squares_and_cubes():\n",
    "    for i in range(10):\n",
    "        square = i * i\n",
    "        cube = i * i * i\n",
    "        print(f\"Number: {i}, Square: {square}, Cube: {cube}\")\n",
    "\n",
    "thread = threading.Thread(target=calculate_squares_and_cubes)\n",
    "thread.start()\n",
    "thread.join()\n",
    "print(\"Thread has finished.\")"
   ]
  }
 ],
 "metadata": {
  "kernelspec": {
   "display_name": "Python 3 (ipykernel)",
   "language": "python",
   "name": "python3"
  },
  "language_info": {
   "codemirror_mode": {
    "name": "ipython",
    "version": 3
   },
   "file_extension": ".py",
   "mimetype": "text/x-python",
   "name": "python",
   "nbconvert_exporter": "python",
   "pygments_lexer": "ipython3",
   "version": "3.9.13"
  }
 },
 "nbformat": 4,
 "nbformat_minor": 5
}
