{
 "cells": [
  {
   "cell_type": "markdown",
   "id": "8d794f47",
   "metadata": {},
   "source": [
    "# Python Variables"
   ]
  },
  {
   "cell_type": "markdown",
   "id": "6f9cdc49",
   "metadata": {},
   "source": [
    "Python will now allocate a memory and will store 1 int it and usko a se refer krdega"
   ]
  },
  {
   "cell_type": "code",
   "execution_count": 13,
   "id": "3af0dc60",
   "metadata": {},
   "outputs": [],
   "source": [
    "# a is variable and 1 is numeric data\n",
    "a = 1\n",
    "# '=' is assignment operator which is assignning 1 to a"
   ]
  },
  {
   "cell_type": "code",
   "execution_count": 14,
   "id": "172d1847",
   "metadata": {},
   "outputs": [
    {
     "data": {
      "text/plain": [
       "1"
      ]
     },
     "execution_count": 14,
     "metadata": {},
     "output_type": "execute_result"
    }
   ],
   "source": [
    "a"
   ]
  },
  {
   "cell_type": "code",
   "execution_count": 15,
   "id": "197f840f",
   "metadata": {},
   "outputs": [
    {
     "data": {
      "text/plain": [
       "int"
      ]
     },
     "execution_count": 15,
     "metadata": {},
     "output_type": "execute_result"
    }
   ],
   "source": [
    "# using type() we get variable type\n",
    "type(a)"
   ]
  },
  {
   "cell_type": "code",
   "execution_count": 16,
   "id": "9ee899bf",
   "metadata": {},
   "outputs": [],
   "source": [
    "# '' or \"\" contains string inside it\n",
    "b = \"sudh\""
   ]
  },
  {
   "cell_type": "code",
   "execution_count": 17,
   "id": "c35464f3",
   "metadata": {},
   "outputs": [
    {
     "data": {
      "text/plain": [
       "str"
      ]
     },
     "execution_count": 17,
     "metadata": {},
     "output_type": "execute_result"
    }
   ],
   "source": [
    "type(b)"
   ]
  },
  {
   "cell_type": "code",
   "execution_count": 18,
   "id": "b319fda7",
   "metadata": {},
   "outputs": [
    {
     "data": {
      "text/plain": [
       "'sudh'"
      ]
     },
     "execution_count": 18,
     "metadata": {},
     "output_type": "execute_result"
    }
   ],
   "source": [
    "b"
   ]
  },
  {
   "cell_type": "code",
   "execution_count": 19,
   "id": "2497826a",
   "metadata": {},
   "outputs": [],
   "source": [
    "c = 45.6743"
   ]
  },
  {
   "cell_type": "code",
   "execution_count": 20,
   "id": "00ab42e5",
   "metadata": {},
   "outputs": [
    {
     "data": {
      "text/plain": [
       "float"
      ]
     },
     "execution_count": 20,
     "metadata": {},
     "output_type": "execute_result"
    }
   ],
   "source": [
    "type(c)"
   ]
  },
  {
   "cell_type": "code",
   "execution_count": 21,
   "id": "875a343e",
   "metadata": {},
   "outputs": [],
   "source": [
    "d = 1.23453221344"
   ]
  },
  {
   "cell_type": "code",
   "execution_count": 22,
   "id": "fe3c5b89",
   "metadata": {},
   "outputs": [
    {
     "data": {
      "text/plain": [
       "float"
      ]
     },
     "execution_count": 22,
     "metadata": {},
     "output_type": "execute_result"
    }
   ],
   "source": [
    "type(d)"
   ]
  },
  {
   "cell_type": "code",
   "execution_count": 23,
   "id": "a9790ce7",
   "metadata": {},
   "outputs": [],
   "source": [
    "e = True"
   ]
  },
  {
   "cell_type": "code",
   "execution_count": 24,
   "id": "73d7e38d",
   "metadata": {},
   "outputs": [
    {
     "data": {
      "text/plain": [
       "bool"
      ]
     },
     "execution_count": 24,
     "metadata": {},
     "output_type": "execute_result"
    }
   ],
   "source": [
    "type(e)"
   ]
  },
  {
   "cell_type": "code",
   "execution_count": 25,
   "id": "cc981a0f",
   "metadata": {},
   "outputs": [
    {
     "data": {
      "text/plain": [
       "1"
      ]
     },
     "execution_count": 25,
     "metadata": {},
     "output_type": "execute_result"
    }
   ],
   "source": [
    "# Internally True = 1 and False = 0\n",
    "True-False"
   ]
  },
  {
   "cell_type": "code",
   "execution_count": 26,
   "id": "b6d49f4c",
   "metadata": {},
   "outputs": [
    {
     "data": {
      "text/plain": [
       "0"
      ]
     },
     "execution_count": 26,
     "metadata": {},
     "output_type": "execute_result"
    }
   ],
   "source": [
    "True*False"
   ]
  },
  {
   "cell_type": "code",
   "execution_count": 29,
   "id": "a857a22d",
   "metadata": {},
   "outputs": [],
   "source": [
    "# True / False as 1/0 is (Zero Division Error)"
   ]
  },
  {
   "cell_type": "code",
   "execution_count": 30,
   "id": "33ec0bc3",
   "metadata": {},
   "outputs": [],
   "source": [
    "# complex numbers\n",
    "# 5 is real and 4j is imaginary(img is for j)\n",
    "f = 5 + 4j"
   ]
  },
  {
   "cell_type": "code",
   "execution_count": 31,
   "id": "4b239cc5",
   "metadata": {},
   "outputs": [
    {
     "data": {
      "text/plain": [
       "complex"
      ]
     },
     "execution_count": 31,
     "metadata": {},
     "output_type": "execute_result"
    }
   ],
   "source": [
    "type(f)"
   ]
  },
  {
   "cell_type": "code",
   "execution_count": null,
   "id": "6be44c60",
   "metadata": {},
   "outputs": [],
   "source": [
    "# g = 5 + 4i will never work"
   ]
  }
 ],
 "metadata": {
  "kernelspec": {
   "display_name": "Python 3 (ipykernel)",
   "language": "python",
   "name": "python3"
  },
  "language_info": {
   "codemirror_mode": {
    "name": "ipython",
    "version": 3
   },
   "file_extension": ".py",
   "mimetype": "text/x-python",
   "name": "python",
   "nbconvert_exporter": "python",
   "pygments_lexer": "ipython3",
   "version": "3.9.13"
  }
 },
 "nbformat": 4,
 "nbformat_minor": 5
}
