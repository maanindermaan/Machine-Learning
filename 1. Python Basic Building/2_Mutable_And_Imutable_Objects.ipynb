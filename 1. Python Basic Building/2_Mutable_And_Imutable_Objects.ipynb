{
 "cells": [
  {
   "cell_type": "markdown",
   "id": "d6bab81c",
   "metadata": {},
   "source": [
    "# Mutability & Immutability"
   ]
  },
  {
   "cell_type": "code",
   "execution_count": 1,
   "id": "4dbab2d7",
   "metadata": {},
   "outputs": [],
   "source": [
    "# List -> Collection of data, kisi bhi type ke data ko iske andar rakh sakte ho, list bhi rakh sakte ho\n",
    "l = [2,3,4,5,\"sud\" , 'man' , True , 3+3j]"
   ]
  },
  {
   "cell_type": "code",
   "execution_count": 2,
   "id": "b4f250df",
   "metadata": {},
   "outputs": [
    {
     "data": {
      "text/plain": [
       "list"
      ]
     },
     "execution_count": 2,
     "metadata": {},
     "output_type": "execute_result"
    }
   ],
   "source": [
    "type(l)"
   ]
  },
  {
   "cell_type": "code",
   "execution_count": 4,
   "id": "32c3d168",
   "metadata": {},
   "outputs": [],
   "source": [
    "# system jab memeory allocate krke kuch bhi store karta hai toh apne aap hi usko indexing dedeta ai ya toh forward indexing starting from 0 or ya to backward indexing starting from -1\n",
    "\n",
    "# ab iss indexing ki wajah se hum jo bhi specific data chahe vo nikal sakte hai \n",
    "\n",
    "s = 'sudh'"
   ]
  },
  {
   "cell_type": "code",
   "execution_count": 5,
   "id": "a751f784",
   "metadata": {},
   "outputs": [
    {
     "data": {
      "text/plain": [
       "'s'"
      ]
     },
     "execution_count": 5,
     "metadata": {},
     "output_type": "execute_result"
    }
   ],
   "source": [
    "s[0]"
   ]
  },
  {
   "cell_type": "code",
   "execution_count": 6,
   "id": "569b9c2a",
   "metadata": {},
   "outputs": [
    {
     "data": {
      "text/plain": [
       "'u'"
      ]
     },
     "execution_count": 6,
     "metadata": {},
     "output_type": "execute_result"
    }
   ],
   "source": [
    "s[1]"
   ]
  },
  {
   "cell_type": "code",
   "execution_count": 7,
   "id": "95bb3546",
   "metadata": {},
   "outputs": [
    {
     "data": {
      "text/plain": [
       "'d'"
      ]
     },
     "execution_count": 7,
     "metadata": {},
     "output_type": "execute_result"
    }
   ],
   "source": [
    "s[2]"
   ]
  },
  {
   "cell_type": "code",
   "execution_count": 8,
   "id": "98b9ceea",
   "metadata": {},
   "outputs": [
    {
     "data": {
      "text/plain": [
       "[2, 3, 4, 5, 'sud', 'man', True, (3+3j)]"
      ]
     },
     "execution_count": 8,
     "metadata": {},
     "output_type": "execute_result"
    }
   ],
   "source": [
    "l"
   ]
  },
  {
   "cell_type": "code",
   "execution_count": 9,
   "id": "9ba53dd3",
   "metadata": {},
   "outputs": [
    {
     "data": {
      "text/plain": [
       "'sud'"
      ]
     },
     "execution_count": 9,
     "metadata": {},
     "output_type": "execute_result"
    }
   ],
   "source": [
    "l[4]"
   ]
  },
  {
   "cell_type": "code",
   "execution_count": 12,
   "id": "7bdce966",
   "metadata": {},
   "outputs": [
    {
     "data": {
      "text/plain": [
       "(3+3j)"
      ]
     },
     "execution_count": 12,
     "metadata": {},
     "output_type": "execute_result"
    }
   ],
   "source": [
    "l[7] # forward indexing "
   ]
  },
  {
   "cell_type": "code",
   "execution_count": 13,
   "id": "0e547e91",
   "metadata": {},
   "outputs": [
    {
     "data": {
      "text/plain": [
       "(3+3j)"
      ]
     },
     "execution_count": 13,
     "metadata": {},
     "output_type": "execute_result"
    }
   ],
   "source": [
    "l[-1] # backward indexing"
   ]
  },
  {
   "cell_type": "code",
   "execution_count": 14,
   "id": "4d6bf7aa",
   "metadata": {},
   "outputs": [
    {
     "data": {
      "text/plain": [
       "[2, 3, 4, 5, 'sud', 'man', True, (3+3j)]"
      ]
     },
     "execution_count": 14,
     "metadata": {},
     "output_type": "execute_result"
    }
   ],
   "source": [
    "# Reassigning into list again\n",
    "l"
   ]
  },
  {
   "cell_type": "code",
   "execution_count": 18,
   "id": "f43e0df1",
   "metadata": {},
   "outputs": [],
   "source": [
    "# reassigning or replacing data: sud -> Aashna\n",
    "l[4] = \"Aashna\""
   ]
  },
  {
   "cell_type": "code",
   "execution_count": 19,
   "id": "a3849154",
   "metadata": {},
   "outputs": [
    {
     "data": {
      "text/plain": [
       "[2, 3, 4, 5, 'Aashna', 'man', True, (3+3j)]"
      ]
     },
     "execution_count": 19,
     "metadata": {},
     "output_type": "execute_result"
    }
   ],
   "source": [
    "l"
   ]
  },
  {
   "cell_type": "code",
   "execution_count": 20,
   "id": "a3564b3a",
   "metadata": {},
   "outputs": [],
   "source": [
    "s = 'sudh'"
   ]
  },
  {
   "cell_type": "code",
   "execution_count": 21,
   "id": "9f194d6f",
   "metadata": {},
   "outputs": [
    {
     "data": {
      "text/plain": [
       "'sudh'"
      ]
     },
     "execution_count": 21,
     "metadata": {},
     "output_type": "execute_result"
    }
   ],
   "source": [
    "s"
   ]
  },
  {
   "cell_type": "code",
   "execution_count": 23,
   "id": "1166fe2a",
   "metadata": {},
   "outputs": [],
   "source": [
    "# trying to reassign in string\n",
    "# s[0] = 'p'\n",
    "# 'str' object does not support item assignment\n",
    "# It is not possible"
   ]
  },
  {
   "cell_type": "markdown",
   "id": "4738bfc5",
   "metadata": {},
   "source": [
    "So list ke andar mutate krne diya jarha hai vo a particular indexes but it is not possible in case of strings, so string 's' is IMMUTABLE OBJECT and list 'l' is MUTABLE OBJECT"
   ]
  },
  {
   "cell_type": "markdown",
   "id": "10b433b2",
   "metadata": {},
   "source": [
    "Jab bhi aap at a particular index change krte ho tab hi aata hai mutability ka concept , agar variable ko hi assign krdiya kisi or variable se then it will be overridden and it is not called mutable then"
   ]
  },
  {
   "cell_type": "code",
   "execution_count": null,
   "id": "6703b17f",
   "metadata": {},
   "outputs": [],
   "source": []
  }
 ],
 "metadata": {
  "kernelspec": {
   "display_name": "Python 3 (ipykernel)",
   "language": "python",
   "name": "python3"
  },
  "language_info": {
   "codemirror_mode": {
    "name": "ipython",
    "version": 3
   },
   "file_extension": ".py",
   "mimetype": "text/x-python",
   "name": "python",
   "nbconvert_exporter": "python",
   "pygments_lexer": "ipython3",
   "version": "3.9.13"
  }
 },
 "nbformat": 4,
 "nbformat_minor": 5
}
