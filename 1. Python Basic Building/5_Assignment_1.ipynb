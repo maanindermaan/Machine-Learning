{
 "cells": [
  {
   "cell_type": "markdown",
   "id": "8ffa6767",
   "metadata": {},
   "source": [
    "Q1. Create one variable containing following type of data:\n",
    "(i) string\n",
    "(ii) list\n",
    "(iii) float\n",
    "(iv) tuple"
   ]
  },
  {
   "cell_type": "code",
   "execution_count": 3,
   "id": "d1b61349",
   "metadata": {},
   "outputs": [],
   "source": [
    "a = 'maninder'\n",
    "b = [1,2,3,'maan',True,3+4j]\n",
    "c = 2.345\n",
    "d = (1,2,3,4,'hello')"
   ]
  },
  {
   "cell_type": "markdown",
   "id": "ac72b521",
   "metadata": {},
   "source": [
    "Q2. Given are some following variables containing data:\n",
    "(i) var1 = ‘ ‘\n",
    "(ii) var2 = ‘[ DS , ML , Python]’\n",
    "(iii) var3 = [ ‘DS’ , ’ML’ , ‘Python’ ]\n",
    "(iv) var4 = 1."
   ]
  },
  {
   "cell_type": "code",
   "execution_count": 12,
   "id": "310e8da8",
   "metadata": {},
   "outputs": [
    {
     "name": "stdout",
     "output_type": "stream",
     "text": [
      "<class 'str'>\n",
      "<class 'str'>\n",
      "<class 'list'>\n",
      "<class 'float'>\n"
     ]
    }
   ],
   "source": [
    "var1 = ''\n",
    "var2 = '[ DS , ML , Python]'\n",
    "var3 = ['DS', 'ML', 'Python']\n",
    "var4 = 1.\n",
    "\n",
    "print(type(var1))\n",
    "print(type(var2))\n",
    "print(type(var3))\n",
    "print(type(var4))"
   ]
  },
  {
   "cell_type": "markdown",
   "id": "2821d334",
   "metadata": {},
   "source": [
    "Q3. Explain the use of the following operators using an example:\n",
    "(i) /\n",
    "(ii) %\n",
    "(iii) //\n",
    "(iv) **"
   ]
  },
  {
   "cell_type": "code",
   "execution_count": 13,
   "id": "ab6a225b",
   "metadata": {},
   "outputs": [
    {
     "data": {
      "text/plain": [
       "0.8"
      ]
     },
     "execution_count": 13,
     "metadata": {},
     "output_type": "execute_result"
    }
   ],
   "source": [
    "# Division\n",
    "4/5"
   ]
  },
  {
   "cell_type": "code",
   "execution_count": 14,
   "id": "75fdf4d1",
   "metadata": {},
   "outputs": [
    {
     "data": {
      "text/plain": [
       "1"
      ]
     },
     "execution_count": 14,
     "metadata": {},
     "output_type": "execute_result"
    }
   ],
   "source": [
    "# Modulus \n",
    "5%4"
   ]
  },
  {
   "cell_type": "code",
   "execution_count": 15,
   "id": "bf637974",
   "metadata": {},
   "outputs": [
    {
     "data": {
      "text/plain": [
       "3"
      ]
     },
     "execution_count": 15,
     "metadata": {},
     "output_type": "execute_result"
    }
   ],
   "source": [
    "# Floor\n",
    "100//33"
   ]
  },
  {
   "cell_type": "code",
   "execution_count": 17,
   "id": "90ce58b2",
   "metadata": {},
   "outputs": [
    {
     "data": {
      "text/plain": [
       "1024"
      ]
     },
     "execution_count": 17,
     "metadata": {},
     "output_type": "execute_result"
    }
   ],
   "source": [
    "# Power\n",
    "2**10"
   ]
  },
  {
   "cell_type": "markdown",
   "id": "5761f698",
   "metadata": {},
   "source": [
    "Q4. Create a list of length 10 of your choice containing multiple types of data. Using for loop print the\n",
    "element and its data type."
   ]
  },
  {
   "cell_type": "code",
   "execution_count": 22,
   "id": "1e4b3f86",
   "metadata": {},
   "outputs": [
    {
     "name": "stdout",
     "output_type": "stream",
     "text": [
      "<class 'int'>\n",
      "1\n",
      "<class 'int'>\n",
      "2\n",
      "<class 'int'>\n",
      "3\n",
      "<class 'int'>\n",
      "4\n",
      "<class 'int'>\n",
      "5\n",
      "<class 'str'>\n",
      "maninder\n",
      "<class 'str'>\n",
      "Maan\n",
      "<class 'bool'>\n",
      "True\n",
      "<class 'bool'>\n",
      "False\n",
      "<class 'complex'>\n",
      "(3+4j)\n",
      "<class 'float'>\n",
      "1.00422\n"
     ]
    }
   ],
   "source": [
    "l = [1,2,3,4,5,'maninder' , 'Maan' , True , False , 3+4j , 1.00422]\n",
    "for i in l:\n",
    "    print(type(i))\n",
    "    print(i)"
   ]
  },
  {
   "cell_type": "markdown",
   "id": "681dfc5b",
   "metadata": {},
   "source": [
    "Q5. Using a while loop, verify if the number A is purely divisible by number B and if so then how many\n",
    "times it can be divisible."
   ]
  },
  {
   "cell_type": "code",
   "execution_count": 1,
   "id": "d95fcaa0",
   "metadata": {},
   "outputs": [
    {
     "name": "stdout",
     "output_type": "stream",
     "text": [
      "Enter the number A: 100\n",
      "Enter the number B: 2\n",
      "The number A is divisible by B  2  times.\n"
     ]
    }
   ],
   "source": [
    "a = int(input(\"Enter the number A: \"))\n",
    "b = int(input(\"Enter the number B: \"))\n",
    "count = 0\n",
    "\n",
    "while a % b == 0:\n",
    "    a = a / b\n",
    "    count += 1\n",
    "\n",
    "if count > 0:\n",
    "    print(\"The number A is divisible by B \", count, \" times.\")\n",
    "else:\n",
    "    print(\"The number A is not divisible by B.\")\n"
   ]
  },
  {
   "cell_type": "markdown",
   "id": "831a9f5a",
   "metadata": {},
   "source": [
    "Q6. Create a list containing 25 int type data. Using for loop and if-else condition print if the element is\n",
    "divisible by 3 or not."
   ]
  },
  {
   "cell_type": "code",
   "execution_count": 7,
   "id": "42f8cb37",
   "metadata": {},
   "outputs": [],
   "source": [
    "l = [1,2,3,4,5,6,7,8,9,10,11,12,13,14,15,16,17,18,19,20,21,22,23,24,25]"
   ]
  },
  {
   "cell_type": "code",
   "execution_count": 8,
   "id": "53614296",
   "metadata": {},
   "outputs": [
    {
     "name": "stdout",
     "output_type": "stream",
     "text": [
      "No 1 is not divisible by 3\n",
      "No 2 is not divisible by 3\n",
      "Yes 3 is divisible by 3\n",
      "No 4 is not divisible by 3\n",
      "No 5 is not divisible by 3\n",
      "Yes 6 is divisible by 3\n",
      "No 7 is not divisible by 3\n",
      "No 8 is not divisible by 3\n",
      "Yes 9 is divisible by 3\n",
      "No 10 is not divisible by 3\n",
      "No 11 is not divisible by 3\n",
      "Yes 12 is divisible by 3\n",
      "No 13 is not divisible by 3\n",
      "No 14 is not divisible by 3\n",
      "Yes 15 is divisible by 3\n",
      "No 16 is not divisible by 3\n",
      "No 17 is not divisible by 3\n",
      "Yes 18 is divisible by 3\n",
      "No 19 is not divisible by 3\n",
      "No 20 is not divisible by 3\n",
      "Yes 21 is divisible by 3\n",
      "No 22 is not divisible by 3\n",
      "No 23 is not divisible by 3\n",
      "Yes 24 is divisible by 3\n",
      "No 25 is not divisible by 3\n"
     ]
    }
   ],
   "source": [
    "for i in l:\n",
    "    if i % 3 == 0:\n",
    "        print(\"Yes\" , i , \"is divisible by 3\")\n",
    "    else:\n",
    "        print(\"No\" , i , \"is not divisible by 3\")"
   ]
  },
  {
   "cell_type": "markdown",
   "id": "8b744b1c",
   "metadata": {},
   "source": [
    "Q7. What do you understand about mutable and immutable data types? Give examples for both showing\n",
    "this property."
   ]
  },
  {
   "cell_type": "code",
   "execution_count": 9,
   "id": "6e05a02a",
   "metadata": {},
   "outputs": [],
   "source": [
    "# 1. Mutable data types are the ones whose values can be modified or reassigned \n",
    "# e.g -> lists\n",
    "l = [1,2,3,4] "
   ]
  },
  {
   "cell_type": "code",
   "execution_count": 10,
   "id": "7d996364",
   "metadata": {},
   "outputs": [
    {
     "data": {
      "text/plain": [
       "1"
      ]
     },
     "execution_count": 10,
     "metadata": {},
     "output_type": "execute_result"
    }
   ],
   "source": [
    "l[0]"
   ]
  },
  {
   "cell_type": "code",
   "execution_count": 11,
   "id": "109db2d7",
   "metadata": {},
   "outputs": [],
   "source": [
    "l[0] = 5"
   ]
  },
  {
   "cell_type": "code",
   "execution_count": 12,
   "id": "1f76c584",
   "metadata": {},
   "outputs": [
    {
     "data": {
      "text/plain": [
       "5"
      ]
     },
     "execution_count": 12,
     "metadata": {},
     "output_type": "execute_result"
    }
   ],
   "source": [
    "# this way we mutated the value\n",
    "l[0]"
   ]
  },
  {
   "cell_type": "code",
   "execution_count": 13,
   "id": "fce82727",
   "metadata": {},
   "outputs": [],
   "source": [
    "# 2. Immutable data types can be defined as the one whose values can't be mdoified or reassigned, they are only \n",
    "# overriden e.g. strings\n",
    "s = 'maninder'"
   ]
  },
  {
   "cell_type": "code",
   "execution_count": 14,
   "id": "674b0d58",
   "metadata": {},
   "outputs": [
    {
     "data": {
      "text/plain": [
       "'m'"
      ]
     },
     "execution_count": 14,
     "metadata": {},
     "output_type": "execute_result"
    }
   ],
   "source": [
    "s[0]"
   ]
  },
  {
   "cell_type": "code",
   "execution_count": 16,
   "id": "6aedf2df",
   "metadata": {},
   "outputs": [],
   "source": [
    "# This gives typeError\n",
    "# s[0] = 'l'"
   ]
  },
  {
   "cell_type": "code",
   "execution_count": null,
   "id": "55d34c02",
   "metadata": {},
   "outputs": [],
   "source": []
  }
 ],
 "metadata": {
  "kernelspec": {
   "display_name": "Python 3 (ipykernel)",
   "language": "python",
   "name": "python3"
  },
  "language_info": {
   "codemirror_mode": {
    "name": "ipython",
    "version": 3
   },
   "file_extension": ".py",
   "mimetype": "text/x-python",
   "name": "python",
   "nbconvert_exporter": "python",
   "pygments_lexer": "ipython3",
   "version": "3.9.13"
  }
 },
 "nbformat": 4,
 "nbformat_minor": 5
}
