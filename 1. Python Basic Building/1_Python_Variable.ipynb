{
 "cells": [
  {
   "cell_type": "markdown",
   "id": "54bf916b",
   "metadata": {},
   "source": [
    "# Python Variables"
   ]
  },
  {
   "cell_type": "markdown",
   "id": "3b766cff",
   "metadata": {},
   "source": [
    "Python will now allocate a memory and will store 1 int it and usko a se refer krdega"
   ]
  },
  {
   "cell_type": "code",
   "execution_count": 13,
   "id": "733b96a7",
   "metadata": {},
   "outputs": [],
   "source": [
    "# a is variable and 1 is numeric data\n",
    "a = 1\n",
    "# '=' is assignment operator which is assignning 1 to a"
   ]
  },
  {
   "cell_type": "code",
   "execution_count": 14,
   "id": "aa7c9de3",
   "metadata": {},
   "outputs": [
    {
     "data": {
      "text/plain": [
       "1"
      ]
     },
     "execution_count": 14,
     "metadata": {},
     "output_type": "execute_result"
    }
   ],
   "source": [
    "a"
   ]
  },
  {
   "cell_type": "code",
   "execution_count": 15,
   "id": "988c8ba9",
   "metadata": {},
   "outputs": [
    {
     "data": {
      "text/plain": [
       "int"
      ]
     },
     "execution_count": 15,
     "metadata": {},
     "output_type": "execute_result"
    }
   ],
   "source": [
    "# using type() we get variable type\n",
    "type(a)"
   ]
  },
  {
   "cell_type": "code",
   "execution_count": 16,
   "id": "1c135251",
   "metadata": {},
   "outputs": [],
   "source": [
    "# '' or \"\" contains string inside it\n",
    "b = \"sudh\""
   ]
  },
  {
   "cell_type": "code",
   "execution_count": 17,
   "id": "409089ed",
   "metadata": {},
   "outputs": [
    {
     "data": {
      "text/plain": [
       "str"
      ]
     },
     "execution_count": 17,
     "metadata": {},
     "output_type": "execute_result"
    }
   ],
   "source": [
    "type(b)"
   ]
  },
  {
   "cell_type": "code",
   "execution_count": 18,
   "id": "673cadce",
   "metadata": {},
   "outputs": [
    {
     "data": {
      "text/plain": [
       "'sudh'"
      ]
     },
     "execution_count": 18,
     "metadata": {},
     "output_type": "execute_result"
    }
   ],
   "source": [
    "b"
   ]
  },
  {
   "cell_type": "code",
   "execution_count": 19,
   "id": "05d9b074",
   "metadata": {},
   "outputs": [],
   "source": [
    "c = 45.6743"
   ]
  },
  {
   "cell_type": "code",
   "execution_count": 20,
   "id": "4ce15692",
   "metadata": {},
   "outputs": [
    {
     "data": {
      "text/plain": [
       "float"
      ]
     },
     "execution_count": 20,
     "metadata": {},
     "output_type": "execute_result"
    }
   ],
   "source": [
    "type(c)"
   ]
  },
  {
   "cell_type": "code",
   "execution_count": 21,
   "id": "4e3e66f9",
   "metadata": {},
   "outputs": [],
   "source": [
    "d = 1.23453221344"
   ]
  },
  {
   "cell_type": "code",
   "execution_count": 22,
   "id": "c9a6f2a1",
   "metadata": {},
   "outputs": [
    {
     "data": {
      "text/plain": [
       "float"
      ]
     },
     "execution_count": 22,
     "metadata": {},
     "output_type": "execute_result"
    }
   ],
   "source": [
    "type(d)"
   ]
  },
  {
   "cell_type": "code",
   "execution_count": 23,
   "id": "c816fd08",
   "metadata": {},
   "outputs": [],
   "source": [
    "e = True"
   ]
  },
  {
   "cell_type": "code",
   "execution_count": 24,
   "id": "8255aa10",
   "metadata": {},
   "outputs": [
    {
     "data": {
      "text/plain": [
       "bool"
      ]
     },
     "execution_count": 24,
     "metadata": {},
     "output_type": "execute_result"
    }
   ],
   "source": [
    "type(e)"
   ]
  },
  {
   "cell_type": "code",
   "execution_count": 25,
   "id": "e5416fd1",
   "metadata": {},
   "outputs": [
    {
     "data": {
      "text/plain": [
       "1"
      ]
     },
     "execution_count": 25,
     "metadata": {},
     "output_type": "execute_result"
    }
   ],
   "source": [
    "# Internally True = 1 and False = 0\n",
    "True-False"
   ]
  },
  {
   "cell_type": "code",
   "execution_count": 26,
   "id": "f760520d",
   "metadata": {},
   "outputs": [
    {
     "data": {
      "text/plain": [
       "0"
      ]
     },
     "execution_count": 26,
     "metadata": {},
     "output_type": "execute_result"
    }
   ],
   "source": [
    "True*False"
   ]
  },
  {
   "cell_type": "code",
   "execution_count": 29,
   "id": "4ca2fdc0",
   "metadata": {},
   "outputs": [],
   "source": [
    "# True / False as 1/0 is (Zero Division Error)"
   ]
  },
  {
   "cell_type": "code",
   "execution_count": 30,
   "id": "6759890c",
   "metadata": {},
   "outputs": [],
   "source": [
    "# complex numbers\n",
    "# 5 is real and 4j is imaginary(img is for j)\n",
    "f = 5 + 4j"
   ]
  },
  {
   "cell_type": "code",
   "execution_count": 31,
   "id": "3b8c708f",
   "metadata": {},
   "outputs": [
    {
     "data": {
      "text/plain": [
       "complex"
      ]
     },
     "execution_count": 31,
     "metadata": {},
     "output_type": "execute_result"
    }
   ],
   "source": [
    "type(f)"
   ]
  },
  {
   "cell_type": "code",
   "execution_count": 32,
   "id": "dd198f9e",
   "metadata": {},
   "outputs": [],
   "source": [
    "# g = 5 + 4i will never work\n",
    "g = 4j"
   ]
  },
  {
   "cell_type": "code",
   "execution_count": 33,
   "id": "cbb1512c",
   "metadata": {},
   "outputs": [
    {
     "data": {
      "text/plain": [
       "complex"
      ]
     },
     "execution_count": 33,
     "metadata": {},
     "output_type": "execute_result"
    }
   ],
   "source": [
    "type(g)"
   ]
  },
  {
   "cell_type": "code",
   "execution_count": 36,
   "id": "875bb495",
   "metadata": {},
   "outputs": [],
   "source": [
    "# variable name can never be numeric e.g 123\n",
    "# alpha numberic is not available e.g. 45gh\n",
    "# $45 is invalid\n",
    "# #44 is invalid, # is comment\n",
    "# _a is valid, special character invalid"
   ]
  },
  {
   "cell_type": "code",
   "execution_count": 37,
   "id": "e3ce5a15",
   "metadata": {},
   "outputs": [
    {
     "data": {
      "text/plain": [
       "(5+4j)"
      ]
     },
     "execution_count": 37,
     "metadata": {},
     "output_type": "execute_result"
    }
   ],
   "source": [
    "f"
   ]
  },
  {
   "cell_type": "code",
   "execution_count": 40,
   "id": "f6b6e31d",
   "metadata": {},
   "outputs": [
    {
     "data": {
      "text/plain": [
       "5.0"
      ]
     },
     "execution_count": 40,
     "metadata": {},
     "output_type": "execute_result"
    }
   ],
   "source": [
    "# separating imaginary and real\n",
    "f.real"
   ]
  },
  {
   "cell_type": "code",
   "execution_count": 41,
   "id": "c0fb3719",
   "metadata": {},
   "outputs": [
    {
     "data": {
      "text/plain": [
       "4.0"
      ]
     },
     "execution_count": 41,
     "metadata": {},
     "output_type": "execute_result"
    }
   ],
   "source": [
    "f.imag"
   ]
  },
  {
   "cell_type": "code",
   "execution_count": null,
   "id": "b8c434cb",
   "metadata": {},
   "outputs": [],
   "source": []
  }
 ],
 "metadata": {
  "kernelspec": {
   "display_name": "Python 3 (ipykernel)",
   "language": "python",
   "name": "python3"
  },
  "language_info": {
   "codemirror_mode": {
    "name": "ipython",
    "version": 3
   },
   "file_extension": ".py",
   "mimetype": "text/x-python",
   "name": "python",
   "nbconvert_exporter": "python",
   "pygments_lexer": "ipython3",
   "version": "3.9.13"
  }
 },
 "nbformat": 4,
 "nbformat_minor": 5
}
