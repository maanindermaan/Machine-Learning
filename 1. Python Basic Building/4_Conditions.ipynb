{
 "cells": [
  {
   "cell_type": "markdown",
   "id": "7460a50e",
   "metadata": {},
   "source": [
    "## If , Else , While & For"
   ]
  },
  {
   "cell_type": "code",
   "execution_count": 1,
   "id": "2c9a07ef",
   "metadata": {},
   "outputs": [],
   "source": [
    "# IF-ELSE\n",
    "# agar magar"
   ]
  },
  {
   "cell_type": "code",
   "execution_count": 5,
   "id": "5ce4a689",
   "metadata": {},
   "outputs": [],
   "source": [
    "a = 10 \n",
    "# Agar yeah false hua toh andar wala nahi chalega\n",
    "if a > 10 : \n",
    "    print(\"yes a is greater than 10\")"
   ]
  },
  {
   "cell_type": "code",
   "execution_count": 7,
   "id": "5acd9dd6",
   "metadata": {},
   "outputs": [
    {
     "data": {
      "text/plain": [
       "False"
      ]
     },
     "execution_count": 7,
     "metadata": {},
     "output_type": "execute_result"
    }
   ],
   "source": [
    "a > 10"
   ]
  },
  {
   "cell_type": "code",
   "execution_count": 8,
   "id": "d6dd42be",
   "metadata": {},
   "outputs": [
    {
     "data": {
      "text/plain": [
       "True"
      ]
     },
     "execution_count": 8,
     "metadata": {},
     "output_type": "execute_result"
    }
   ],
   "source": [
    "a >= 10"
   ]
  },
  {
   "cell_type": "code",
   "execution_count": 9,
   "id": "97295578",
   "metadata": {},
   "outputs": [
    {
     "name": "stdout",
     "output_type": "stream",
     "text": [
      "yes a is greater than 10\n"
     ]
    }
   ],
   "source": [
    "a = 10 \n",
    "# Agar yeah true hua toh andar wala chalega\n",
    "if a >= 10 : \n",
    "    print(\"yes a is greater than 10\")"
   ]
  },
  {
   "cell_type": "code",
   "execution_count": 11,
   "id": "8716f57d",
   "metadata": {},
   "outputs": [],
   "source": [
    "b = 20 \n",
    "if b > 30 :\n",
    "    print(\"yes b is greater than 30\")"
   ]
  },
  {
   "cell_type": "code",
   "execution_count": 12,
   "id": "0f3e15d0",
   "metadata": {},
   "outputs": [
    {
     "data": {
      "text/plain": [
       "False"
      ]
     },
     "execution_count": 12,
     "metadata": {},
     "output_type": "execute_result"
    }
   ],
   "source": [
    "b > 30"
   ]
  },
  {
   "cell_type": "code",
   "execution_count": 20,
   "id": "3dfe9204",
   "metadata": {},
   "outputs": [
    {
     "name": "stdout",
     "output_type": "stream",
     "text": [
      "Default\n"
     ]
    }
   ],
   "source": [
    "# Multiple Conditions\n",
    "# pehla condition true hua toh next wala condition kabhi bhi check ni krega\n",
    "# Jis block mein true mila uss block ko vo execute krdega\n",
    "# agar hum ek ke andar ek dalde toh nested if else hojega we can do that as well \n",
    "b = 20 \n",
    "if b > 30 :\n",
    "    print(\"yes b is greater than 30\")\n",
    "elif b > 40 :\n",
    "    print(\"yes b is lesser than 40\")\n",
    "else : \n",
    "    print(\"Default\")"
   ]
  },
  {
   "cell_type": "code",
   "execution_count": 21,
   "id": "bc2985b5",
   "metadata": {},
   "outputs": [
    {
     "data": {
      "text/plain": [
       "True"
      ]
     },
     "execution_count": 21,
     "metadata": {},
     "output_type": "execute_result"
    }
   ],
   "source": [
    "b < 40"
   ]
  },
  {
   "cell_type": "code",
   "execution_count": 22,
   "id": "f37a812e",
   "metadata": {},
   "outputs": [
    {
     "name": "stdout",
     "output_type": "stream",
     "text": [
      "10\n"
     ]
    },
    {
     "data": {
      "text/plain": [
       "'10'"
      ]
     },
     "execution_count": 22,
     "metadata": {},
     "output_type": "execute_result"
    }
   ],
   "source": [
    "# Taking input from user\n",
    "input()"
   ]
  },
  {
   "cell_type": "markdown",
   "id": "cf7f8607",
   "metadata": {},
   "source": [
    "TYPE CASTING\n"
   ]
  },
  {
   "cell_type": "code",
   "execution_count": 23,
   "id": "6398c1e3",
   "metadata": {},
   "outputs": [
    {
     "name": "stdout",
     "output_type": "stream",
     "text": [
      "10\n"
     ]
    },
    {
     "data": {
      "text/plain": [
       "10"
      ]
     },
     "execution_count": 23,
     "metadata": {},
     "output_type": "execute_result"
    }
   ],
   "source": [
    "# but jo bhi daloge vo string me convert hojega input mein.\n",
    "# typecasting krdo\n",
    "int(input())"
   ]
  },
  {
   "cell_type": "code",
   "execution_count": 24,
   "id": "0a273345",
   "metadata": {},
   "outputs": [
    {
     "data": {
      "text/plain": [
       "34"
      ]
     },
     "execution_count": 24,
     "metadata": {},
     "output_type": "execute_result"
    }
   ],
   "source": [
    "int('34')"
   ]
  },
  {
   "cell_type": "code",
   "execution_count": 25,
   "id": "a491ff52",
   "metadata": {},
   "outputs": [
    {
     "name": "stdout",
     "output_type": "stream",
     "text": [
      "100\n",
      "yes b is greater than 30\n"
     ]
    }
   ],
   "source": [
    "b = int(input()) \n",
    "if b > 30 :\n",
    "    print(\"yes b is greater than 30\")\n",
    "elif b > 40 :\n",
    "    print(\"yes b is lesser than 40\")\n",
    "elif b > 100 :\n",
    "    print(\"yes b is lesser than 100\")\n",
    "else : \n",
    "    print(\"Default\")"
   ]
  },
  {
   "cell_type": "markdown",
   "id": "1400543c",
   "metadata": {},
   "source": [
    "### LOOPS"
   ]
  },
  {
   "cell_type": "markdown",
   "id": "740bb4cf",
   "metadata": {},
   "source": [
    "#### WHILE LOOP"
   ]
  },
  {
   "cell_type": "code",
   "execution_count": 30,
   "id": "ac7d6332",
   "metadata": {},
   "outputs": [
    {
     "name": "stdout",
     "output_type": "stream",
     "text": [
      "1\n",
      "2\n",
      "3\n"
     ]
    }
   ],
   "source": [
    "n = 4\n",
    "i = 1\n",
    "# while hmesha condition check krega agar condition sucessful hui tabhi yeah ghusega or ghumta rhega jab tak false \n",
    "# na hojaye otherwise nahi ghusega\n",
    "while i < n :\n",
    "    print(i)\n",
    "    i = i+1"
   ]
  },
  {
   "cell_type": "code",
   "execution_count": 31,
   "id": "00b2a757",
   "metadata": {},
   "outputs": [
    {
     "name": "stdout",
     "output_type": "stream",
     "text": [
      "1\n",
      "2\n",
      "3\n",
      "ELSE\n"
     ]
    }
   ],
   "source": [
    "# WHILE-ELSE\n",
    "n = 4\n",
    "i = 1\n",
    "# to while hmesha condition check krega agar condition sucessful hui tabhi yeah ghusega or ghumta rhega jab tak\n",
    "# false na hojaye otherwise nahi ghusega\n",
    "while i < n :\n",
    "    print(i)\n",
    "    i = i+1\n",
    "# else tabhi chalega agar while uper wala succesfully execute hogya hai bina kisi break ke otherwise agar kisi \n",
    "# way mein vo apne aap ko close nahi karparha hai toh it will not print anything\n",
    "else :\n",
    "    print(\"ELSE\")"
   ]
  },
  {
   "cell_type": "code",
   "execution_count": 34,
   "id": "45d43421",
   "metadata": {
    "scrolled": true
   },
   "outputs": [
    {
     "name": "stdout",
     "output_type": "stream",
     "text": [
      "1\n",
      "2\n"
     ]
    }
   ],
   "source": [
    "# WHILE-ELSE \n",
    "# e.g. jab else nahi chelega\n",
    "n = 4\n",
    "i = 1\n",
    "# to while hmesha condition check krega agar condition sucessful hui tabhi yeah ghusega or ghumta rhega jab tak false na hojaye otherwise nahi ghusega\n",
    "while i < n :\n",
    "    print(i)\n",
    "    i = i+1\n",
    "    if i==3 :\n",
    "        break\n",
    "# else tabhi chalega agar while uper wala succesfully execute hogya hai bina kisi break ke otherwise agar kisi way mein vo apne aap ko close nahi karparha hai toh it will not print anything\n",
    "else :\n",
    "    print(\"ELSE\")"
   ]
  },
  {
   "cell_type": "markdown",
   "id": "ce00c6c3",
   "metadata": {},
   "source": [
    "#### FOR LOOP"
   ]
  },
  {
   "cell_type": "code",
   "execution_count": 36,
   "id": "0a9c083e",
   "metadata": {},
   "outputs": [
    {
     "name": "stdout",
     "output_type": "stream",
     "text": [
      "s\n",
      "u\n",
      "d\n",
      "h\n"
     ]
    }
   ],
   "source": [
    "s = \"sudh\"\n",
    "# 'i' tum 's' ke paas jao or baar baar jao or print kro or print krte hi incrmeent hojega index ko or last element \n",
    "# ko print krne ke baad stop krjega\n",
    "for i in s : \n",
    "    print(i)"
   ]
  },
  {
   "cell_type": "code",
   "execution_count": 37,
   "id": "7cb0ea76",
   "metadata": {},
   "outputs": [],
   "source": [
    "l = [2,3,4,6,\"sudh\" , \"pwskills\" , 23.45 , True]"
   ]
  },
  {
   "cell_type": "code",
   "execution_count": 38,
   "id": "05b600ef",
   "metadata": {},
   "outputs": [
    {
     "name": "stdout",
     "output_type": "stream",
     "text": [
      "<class 'int'>\n",
      "<class 'int'>\n",
      "<class 'int'>\n",
      "<class 'int'>\n",
      "<class 'str'>\n",
      "<class 'str'>\n",
      "<class 'float'>\n",
      "<class 'bool'>\n"
     ]
    }
   ],
   "source": [
    "for i in l :\n",
    "    print(type(i))"
   ]
  },
  {
   "cell_type": "code",
   "execution_count": 39,
   "id": "4b84bfe1",
   "metadata": {},
   "outputs": [
    {
     "name": "stdout",
     "output_type": "stream",
     "text": [
      "<class 'int'>\n",
      "<class 'int'>\n",
      "<class 'int'>\n",
      "<class 'int'>\n",
      "<class 'str'>\n",
      "<class 'str'>\n",
      "<class 'float'>\n",
      "<class 'bool'>\n",
      "I am else case\n"
     ]
    }
   ],
   "source": [
    "# FOR - ELSE\n",
    "for i in l :\n",
    "    print(type(i))\n",
    "# yeah bhi for ke complete hone pe hi execute hoga\n",
    "else : \n",
    "    print(\"I am else case\")"
   ]
  },
  {
   "cell_type": "code",
   "execution_count": 40,
   "id": "8ac70745",
   "metadata": {},
   "outputs": [
    {
     "name": "stdout",
     "output_type": "stream",
     "text": [
      "<class 'int'>\n",
      "<class 'int'>\n",
      "<class 'int'>\n",
      "<class 'int'>\n"
     ]
    }
   ],
   "source": [
    "# FOR - ELSE\n",
    "# e.g. where else is not executed\n",
    "for i in l :\n",
    "    print(type(i))\n",
    "    if i == 6:\n",
    "        break\n",
    "# yeah bhi for ke sucessful complete hone pe hi execute hoga\n",
    "else : \n",
    "    print(\"I am else case\")"
   ]
  },
  {
   "cell_type": "code",
   "execution_count": 42,
   "id": "259c5ec4",
   "metadata": {},
   "outputs": [
    {
     "name": "stdout",
     "output_type": "stream",
     "text": [
      "<class 'int'>\n",
      "<class 'int'>\n",
      "<class 'int'>\n",
      "<class 'int'>\n",
      "<class 'str'>\n",
      "<class 'str'>\n",
      "<class 'float'>\n",
      "<class 'bool'>\n",
      "I am else case\n"
     ]
    }
   ],
   "source": [
    "# CONTINUE : -> jha pe loop ko resume krna ho\n",
    "# yeah continue aapko firse bhejdega for ke paas natural way mein jo vo jarha tha\n",
    "for i in l :\n",
    "    print(type(i))\n",
    "    if i==6:\n",
    "        continue\n",
    "else : \n",
    "    print(\"I am else case\")"
   ]
  },
  {
   "cell_type": "code",
   "execution_count": 45,
   "id": "6641a5ac",
   "metadata": {},
   "outputs": [
    {
     "name": "stdout",
     "output_type": "stream",
     "text": [
      "<class 'int'>\n",
      "2\n",
      "<class 'int'>\n",
      "3\n",
      "<class 'int'>\n",
      "4\n",
      "<class 'int'>\n",
      "<class 'str'>\n",
      "sudh\n",
      "<class 'str'>\n",
      "pwskills\n",
      "<class 'float'>\n",
      "23.45\n",
      "<class 'bool'>\n",
      "True\n",
      "I am else case\n"
     ]
    }
   ],
   "source": [
    "# e.g. of continue\n",
    "for i in l :\n",
    "    print(type(i))\n",
    "    if i==6:\n",
    "        continue\n",
    "# jab i == 6 aayega toh yeah print(i) ko call nahi krega skip krdega ek iteration ko or vapis chalajayega for ke paas\n",
    "    print(i)\n",
    "else : \n",
    "    print(\"I am else case\")"
   ]
  },
  {
   "cell_type": "code",
   "execution_count": 46,
   "id": "73a3fd58",
   "metadata": {},
   "outputs": [
    {
     "data": {
      "text/plain": [
       "range(0, 10)"
      ]
     },
     "execution_count": 46,
     "metadata": {},
     "output_type": "execute_result"
    }
   ],
   "source": [
    "# RANGE FUNCTION\n",
    "range(10) # exlcuding 10"
   ]
  },
  {
   "cell_type": "code",
   "execution_count": 48,
   "id": "59dcade9",
   "metadata": {},
   "outputs": [
    {
     "data": {
      "text/plain": [
       "[0, 1, 2, 3, 4, 5, 6, 7, 8, 9]"
      ]
     },
     "execution_count": 48,
     "metadata": {},
     "output_type": "execute_result"
    }
   ],
   "source": [
    "# data dekhne ke liye\n",
    "list(range(10))"
   ]
  },
  {
   "cell_type": "code",
   "execution_count": null,
   "id": "89f06f9e",
   "metadata": {},
   "outputs": [],
   "source": []
  }
 ],
 "metadata": {
  "kernelspec": {
   "display_name": "Python 3 (ipykernel)",
   "language": "python",
   "name": "python3"
  },
  "language_info": {
   "codemirror_mode": {
    "name": "ipython",
    "version": 3
   },
   "file_extension": ".py",
   "mimetype": "text/x-python",
   "name": "python",
   "nbconvert_exporter": "python",
   "pygments_lexer": "ipython3",
   "version": "3.9.13"
  }
 },
 "nbformat": 4,
 "nbformat_minor": 5
}
