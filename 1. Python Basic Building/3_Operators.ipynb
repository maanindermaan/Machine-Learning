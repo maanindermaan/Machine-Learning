{
 "cells": [
  {
   "cell_type": "markdown",
   "id": "67db3291",
   "metadata": {},
   "source": [
    "## Arithmetic Calculations"
   ]
  },
  {
   "cell_type": "code",
   "execution_count": 1,
   "id": "b7757fd5",
   "metadata": {},
   "outputs": [],
   "source": [
    "# Arithmetic Operator"
   ]
  },
  {
   "cell_type": "code",
   "execution_count": 2,
   "id": "ce9571c1",
   "metadata": {},
   "outputs": [
    {
     "data": {
      "text/plain": [
       "3"
      ]
     },
     "execution_count": 2,
     "metadata": {},
     "output_type": "execute_result"
    }
   ],
   "source": [
    "1+2"
   ]
  },
  {
   "cell_type": "code",
   "execution_count": 3,
   "id": "b67dbeee",
   "metadata": {},
   "outputs": [
    {
     "data": {
      "text/plain": [
       "-1"
      ]
     },
     "execution_count": 3,
     "metadata": {},
     "output_type": "execute_result"
    }
   ],
   "source": [
    "1-2"
   ]
  },
  {
   "cell_type": "code",
   "execution_count": 4,
   "id": "40b03bc4",
   "metadata": {},
   "outputs": [
    {
     "data": {
      "text/plain": [
       "2"
      ]
     },
     "execution_count": 4,
     "metadata": {},
     "output_type": "execute_result"
    }
   ],
   "source": [
    "1*2"
   ]
  },
  {
   "cell_type": "code",
   "execution_count": 5,
   "id": "1c8b920e",
   "metadata": {},
   "outputs": [
    {
     "data": {
      "text/plain": [
       "0.5"
      ]
     },
     "execution_count": 5,
     "metadata": {},
     "output_type": "execute_result"
    }
   ],
   "source": [
    "1/2"
   ]
  },
  {
   "cell_type": "code",
   "execution_count": 6,
   "id": "272585e1",
   "metadata": {},
   "outputs": [],
   "source": [
    "# Modulus Operator "
   ]
  },
  {
   "cell_type": "code",
   "execution_count": 7,
   "id": "e1d514bf",
   "metadata": {},
   "outputs": [
    {
     "data": {
      "text/plain": [
       "1"
      ]
     },
     "execution_count": 7,
     "metadata": {},
     "output_type": "execute_result"
    }
   ],
   "source": [
    "5%4"
   ]
  },
  {
   "cell_type": "code",
   "execution_count": 8,
   "id": "c600254c",
   "metadata": {},
   "outputs": [],
   "source": [
    "# Floor Operator"
   ]
  },
  {
   "cell_type": "code",
   "execution_count": 9,
   "id": "a051118a",
   "metadata": {},
   "outputs": [
    {
     "data": {
      "text/plain": [
       "1"
      ]
     },
     "execution_count": 9,
     "metadata": {},
     "output_type": "execute_result"
    }
   ],
   "source": [
    "5//4"
   ]
  },
  {
   "cell_type": "code",
   "execution_count": 10,
   "id": "5d6d4ea4",
   "metadata": {},
   "outputs": [],
   "source": [
    "# Power Operator(Exponent Operator)"
   ]
  },
  {
   "cell_type": "code",
   "execution_count": 11,
   "id": "99e639bd",
   "metadata": {},
   "outputs": [
    {
     "data": {
      "text/plain": [
       "8"
      ]
     },
     "execution_count": 11,
     "metadata": {},
     "output_type": "execute_result"
    }
   ],
   "source": [
    "2**3"
   ]
  },
  {
   "cell_type": "markdown",
   "id": "fbd67f01",
   "metadata": {},
   "source": [
    "## Comparison Operator "
   ]
  },
  {
   "cell_type": "code",
   "execution_count": 12,
   "id": "2141e1b6",
   "metadata": {},
   "outputs": [
    {
     "data": {
      "text/plain": [
       "False"
      ]
     },
     "execution_count": 12,
     "metadata": {},
     "output_type": "execute_result"
    }
   ],
   "source": [
    "1>2"
   ]
  },
  {
   "cell_type": "code",
   "execution_count": 13,
   "id": "eadc8b7d",
   "metadata": {},
   "outputs": [
    {
     "data": {
      "text/plain": [
       "True"
      ]
     },
     "execution_count": 13,
     "metadata": {},
     "output_type": "execute_result"
    }
   ],
   "source": [
    "1<2"
   ]
  },
  {
   "cell_type": "code",
   "execution_count": 14,
   "id": "80b8f861",
   "metadata": {},
   "outputs": [
    {
     "data": {
      "text/plain": [
       "False"
      ]
     },
     "execution_count": 14,
     "metadata": {},
     "output_type": "execute_result"
    }
   ],
   "source": [
    "# '==' compare\n",
    "1 == 2"
   ]
  },
  {
   "cell_type": "code",
   "execution_count": 15,
   "id": "6eed5f72",
   "metadata": {},
   "outputs": [
    {
     "data": {
      "text/plain": [
       "True"
      ]
     },
     "execution_count": 15,
     "metadata": {},
     "output_type": "execute_result"
    }
   ],
   "source": [
    "1 == 1"
   ]
  },
  {
   "cell_type": "code",
   "execution_count": 16,
   "id": "cd16a547",
   "metadata": {},
   "outputs": [
    {
     "data": {
      "text/plain": [
       "True"
      ]
     },
     "execution_count": 16,
     "metadata": {},
     "output_type": "execute_result"
    }
   ],
   "source": [
    "1 != 2"
   ]
  },
  {
   "cell_type": "code",
   "execution_count": 17,
   "id": "53ddf375",
   "metadata": {},
   "outputs": [
    {
     "data": {
      "text/plain": [
       "False"
      ]
     },
     "execution_count": 17,
     "metadata": {},
     "output_type": "execute_result"
    }
   ],
   "source": [
    "1 != 1"
   ]
  },
  {
   "cell_type": "code",
   "execution_count": 18,
   "id": "57bf46aa",
   "metadata": {},
   "outputs": [
    {
     "data": {
      "text/plain": [
       "True"
      ]
     },
     "execution_count": 18,
     "metadata": {},
     "output_type": "execute_result"
    }
   ],
   "source": [
    "2 >= 1"
   ]
  },
  {
   "cell_type": "code",
   "execution_count": 19,
   "id": "0d964147",
   "metadata": {},
   "outputs": [
    {
     "data": {
      "text/plain": [
       "False"
      ]
     },
     "execution_count": 19,
     "metadata": {},
     "output_type": "execute_result"
    }
   ],
   "source": [
    "2 > 2"
   ]
  },
  {
   "cell_type": "code",
   "execution_count": 20,
   "id": "b79ddaee",
   "metadata": {},
   "outputs": [
    {
     "data": {
      "text/plain": [
       "True"
      ]
     },
     "execution_count": 20,
     "metadata": {},
     "output_type": "execute_result"
    }
   ],
   "source": [
    "2 >= 2"
   ]
  },
  {
   "cell_type": "code",
   "execution_count": 21,
   "id": "06073b84",
   "metadata": {},
   "outputs": [
    {
     "data": {
      "text/plain": [
       "False"
      ]
     },
     "execution_count": 21,
     "metadata": {},
     "output_type": "execute_result"
    }
   ],
   "source": [
    "2 < 2"
   ]
  },
  {
   "cell_type": "code",
   "execution_count": 22,
   "id": "1fcd1573",
   "metadata": {},
   "outputs": [
    {
     "data": {
      "text/plain": [
       "True"
      ]
     },
     "execution_count": 22,
     "metadata": {},
     "output_type": "execute_result"
    }
   ],
   "source": [
    "2 <= 2"
   ]
  },
  {
   "cell_type": "markdown",
   "id": "50172a35",
   "metadata": {},
   "source": [
    "## Logical Operator "
   ]
  },
  {
   "cell_type": "code",
   "execution_count": 23,
   "id": "5310b741",
   "metadata": {},
   "outputs": [
    {
     "data": {
      "text/plain": [
       "True"
      ]
     },
     "execution_count": 23,
     "metadata": {},
     "output_type": "execute_result"
    }
   ],
   "source": [
    "True and True # (AND)-> dono sach toh sach"
   ]
  },
  {
   "cell_type": "code",
   "execution_count": 24,
   "id": "317f1291",
   "metadata": {},
   "outputs": [
    {
     "data": {
      "text/plain": [
       "True"
      ]
     },
     "execution_count": 24,
     "metadata": {},
     "output_type": "execute_result"
    }
   ],
   "source": [
    "False or True # (OR)-> koi bhi sach toh sach"
   ]
  },
  {
   "cell_type": "code",
   "execution_count": 25,
   "id": "454ab92b",
   "metadata": {},
   "outputs": [
    {
     "data": {
      "text/plain": [
       "False"
      ]
     },
     "execution_count": 25,
     "metadata": {},
     "output_type": "execute_result"
    }
   ],
   "source": [
    "True and False"
   ]
  },
  {
   "cell_type": "code",
   "execution_count": 26,
   "id": "919873bf",
   "metadata": {},
   "outputs": [
    {
     "data": {
      "text/plain": [
       "0"
      ]
     },
     "execution_count": 26,
     "metadata": {},
     "output_type": "execute_result"
    }
   ],
   "source": [
    "1 and 0"
   ]
  },
  {
   "cell_type": "code",
   "execution_count": 27,
   "id": "166e75d2",
   "metadata": {},
   "outputs": [
    {
     "data": {
      "text/plain": [
       "1"
      ]
     },
     "execution_count": 27,
     "metadata": {},
     "output_type": "execute_result"
    }
   ],
   "source": [
    "1 or 0"
   ]
  },
  {
   "cell_type": "code",
   "execution_count": 28,
   "id": "caa718a0",
   "metadata": {},
   "outputs": [
    {
     "data": {
      "text/plain": [
       "False"
      ]
     },
     "execution_count": 28,
     "metadata": {},
     "output_type": "execute_result"
    }
   ],
   "source": [
    "not True"
   ]
  },
  {
   "cell_type": "code",
   "execution_count": 29,
   "id": "e0e37197",
   "metadata": {},
   "outputs": [
    {
     "data": {
      "text/plain": [
       "False"
      ]
     },
     "execution_count": 29,
     "metadata": {},
     "output_type": "execute_result"
    }
   ],
   "source": [
    "not 1"
   ]
  },
  {
   "cell_type": "markdown",
   "id": "01718b1b",
   "metadata": {},
   "source": [
    "## Bitwise Operator"
   ]
  },
  {
   "cell_type": "code",
   "execution_count": 30,
   "id": "e150e715",
   "metadata": {},
   "outputs": [
    {
     "data": {
      "text/plain": [
       "0"
      ]
     },
     "execution_count": 30,
     "metadata": {},
     "output_type": "execute_result"
    }
   ],
   "source": [
    "# internally bit mein convert krega 0 1 0 1 mein convert krega, or tab jake yeah koi bhi computation krega otherwise nahi krega\n",
    "# and hi lagrha hai but convert krne ke baad \n",
    "10 & 4"
   ]
  },
  {
   "cell_type": "code",
   "execution_count": 31,
   "id": "ef4ed4bd",
   "metadata": {},
   "outputs": [
    {
     "data": {
      "text/plain": [
       "'0b1010'"
      ]
     },
     "execution_count": 31,
     "metadata": {},
     "output_type": "execute_result"
    }
   ],
   "source": [
    "# converting to binary\n",
    "bin(10)"
   ]
  },
  {
   "cell_type": "code",
   "execution_count": 32,
   "id": "248f74ed",
   "metadata": {},
   "outputs": [
    {
     "data": {
      "text/plain": [
       "'0b100'"
      ]
     },
     "execution_count": 32,
     "metadata": {},
     "output_type": "execute_result"
    }
   ],
   "source": [
    "bin(4)"
   ]
  },
  {
   "cell_type": "code",
   "execution_count": 33,
   "id": "aca4866c",
   "metadata": {},
   "outputs": [],
   "source": [
    "#  1010\n",
    "#  0100\n",
    "# &\n",
    "#  0000 = 0"
   ]
  },
  {
   "cell_type": "code",
   "execution_count": 34,
   "id": "4f0435e3",
   "metadata": {},
   "outputs": [
    {
     "data": {
      "text/plain": [
       "20"
      ]
     },
     "execution_count": 34,
     "metadata": {},
     "output_type": "execute_result"
    }
   ],
   "source": [
    "# BITWISE AND\n",
    "23 & 20"
   ]
  },
  {
   "cell_type": "code",
   "execution_count": 35,
   "id": "48940d1a",
   "metadata": {},
   "outputs": [
    {
     "data": {
      "text/plain": [
       "15"
      ]
     },
     "execution_count": 35,
     "metadata": {},
     "output_type": "execute_result"
    }
   ],
   "source": [
    "# BITWISE OR \n",
    "11 | 6 "
   ]
  },
  {
   "cell_type": "code",
   "execution_count": 36,
   "id": "a5eb2cfe",
   "metadata": {},
   "outputs": [
    {
     "data": {
      "text/plain": [
       "'0b1011'"
      ]
     },
     "execution_count": 36,
     "metadata": {},
     "output_type": "execute_result"
    }
   ],
   "source": [
    "bin(11)"
   ]
  },
  {
   "cell_type": "code",
   "execution_count": 37,
   "id": "fc6ee7be",
   "metadata": {},
   "outputs": [
    {
     "data": {
      "text/plain": [
       "'0b110'"
      ]
     },
     "execution_count": 37,
     "metadata": {},
     "output_type": "execute_result"
    }
   ],
   "source": [
    "bin(6)"
   ]
  },
  {
   "cell_type": "code",
   "execution_count": 38,
   "id": "8ca8acb2",
   "metadata": {},
   "outputs": [],
   "source": [
    "#  1011\n",
    "#  0110\n",
    "# |\n",
    "#  1111 = 15"
   ]
  },
  {
   "cell_type": "code",
   "execution_count": 39,
   "id": "888b8ac8",
   "metadata": {},
   "outputs": [
    {
     "data": {
      "text/plain": [
       "-13"
      ]
     },
     "execution_count": 39,
     "metadata": {},
     "output_type": "execute_result"
    }
   ],
   "source": [
    "# ~TILDA OPERATOR(NOT OPERATOR)\n",
    "~12"
   ]
  },
  {
   "cell_type": "code",
   "execution_count": 40,
   "id": "9a4c30ac",
   "metadata": {},
   "outputs": [
    {
     "data": {
      "text/plain": [
       "-21"
      ]
     },
     "execution_count": 40,
     "metadata": {},
     "output_type": "execute_result"
    }
   ],
   "source": [
    "~20"
   ]
  },
  {
   "cell_type": "code",
   "execution_count": 41,
   "id": "4ff756fe",
   "metadata": {},
   "outputs": [
    {
     "data": {
      "text/plain": [
       "'0b1100'"
      ]
     },
     "execution_count": 41,
     "metadata": {},
     "output_type": "execute_result"
    }
   ],
   "source": [
    "bin(12)"
   ]
  },
  {
   "cell_type": "code",
   "execution_count": 42,
   "id": "de56c302",
   "metadata": {},
   "outputs": [],
   "source": [
    "# -(1100 + 1) -> -13"
   ]
  },
  {
   "cell_type": "code",
   "execution_count": 43,
   "id": "f9b361f1",
   "metadata": {},
   "outputs": [
    {
     "data": {
      "text/plain": [
       "'-0b1101'"
      ]
     },
     "execution_count": 43,
     "metadata": {},
     "output_type": "execute_result"
    }
   ],
   "source": [
    "bin(-13)"
   ]
  },
  {
   "cell_type": "code",
   "execution_count": 44,
   "id": "5c6855bb",
   "metadata": {},
   "outputs": [
    {
     "data": {
      "text/plain": [
       "-21"
      ]
     },
     "execution_count": 44,
     "metadata": {},
     "output_type": "execute_result"
    }
   ],
   "source": [
    "~20"
   ]
  },
  {
   "cell_type": "code",
   "execution_count": 45,
   "id": "9fad80fe",
   "metadata": {},
   "outputs": [
    {
     "data": {
      "text/plain": [
       "'0b10100'"
      ]
     },
     "execution_count": 45,
     "metadata": {},
     "output_type": "execute_result"
    }
   ],
   "source": [
    "bin(20)"
   ]
  },
  {
   "cell_type": "code",
   "execution_count": 46,
   "id": "f03491e7",
   "metadata": {},
   "outputs": [
    {
     "data": {
      "text/plain": [
       "'-0b10101'"
      ]
     },
     "execution_count": 46,
     "metadata": {},
     "output_type": "execute_result"
    }
   ],
   "source": [
    "bin(-21)"
   ]
  },
  {
   "cell_type": "code",
   "execution_count": 47,
   "id": "c91028d1",
   "metadata": {},
   "outputs": [],
   "source": [
    "# -21 -> -(10100 + 1)\n",
    "#        -(10101)\n",
    "#        - 21\n",
    "# Add 1 and put negation "
   ]
  },
  {
   "cell_type": "markdown",
   "id": "5b43da46",
   "metadata": {},
   "source": [
    "## Right & Left Shift Operator"
   ]
  },
  {
   "cell_type": "code",
   "execution_count": 48,
   "id": "5de7b486",
   "metadata": {},
   "outputs": [],
   "source": [
    "a = 8 "
   ]
  },
  {
   "cell_type": "code",
   "execution_count": 49,
   "id": "564a3dc7",
   "metadata": {},
   "outputs": [
    {
     "data": {
      "text/plain": [
       "2"
      ]
     },
     "execution_count": 49,
     "metadata": {},
     "output_type": "execute_result"
    }
   ],
   "source": [
    "# Right Shift Operator (>>)\n",
    "a >> 2"
   ]
  },
  {
   "cell_type": "code",
   "execution_count": 50,
   "id": "cb73fae2",
   "metadata": {},
   "outputs": [
    {
     "data": {
      "text/plain": [
       "'0b1000'"
      ]
     },
     "execution_count": 50,
     "metadata": {},
     "output_type": "execute_result"
    }
   ],
   "source": [
    "bin(a)"
   ]
  },
  {
   "cell_type": "code",
   "execution_count": 51,
   "id": "8771d06c",
   "metadata": {},
   "outputs": [],
   "source": [
    "# 1000 shifting right side 3 digits(only 1 will be left whose decimal will be 1 )"
   ]
  },
  {
   "cell_type": "code",
   "execution_count": 52,
   "id": "a8c96ac7",
   "metadata": {},
   "outputs": [
    {
     "data": {
      "text/plain": [
       "1"
      ]
     },
     "execution_count": 52,
     "metadata": {},
     "output_type": "execute_result"
    }
   ],
   "source": [
    "a >> 3"
   ]
  },
  {
   "cell_type": "code",
   "execution_count": 53,
   "id": "c3480c2c",
   "metadata": {},
   "outputs": [
    {
     "data": {
      "text/plain": [
       "0"
      ]
     },
     "execution_count": 53,
     "metadata": {},
     "output_type": "execute_result"
    }
   ],
   "source": [
    "a>>4"
   ]
  },
  {
   "cell_type": "code",
   "execution_count": 54,
   "id": "619e64c0",
   "metadata": {},
   "outputs": [
    {
     "data": {
      "text/plain": [
       "80"
      ]
     },
     "execution_count": 54,
     "metadata": {},
     "output_type": "execute_result"
    }
   ],
   "source": [
    "# Left Shift Operator (<<)\n",
    "20 << 2"
   ]
  },
  {
   "cell_type": "code",
   "execution_count": 55,
   "id": "845c71be",
   "metadata": {},
   "outputs": [
    {
     "data": {
      "text/plain": [
       "160"
      ]
     },
     "execution_count": 55,
     "metadata": {},
     "output_type": "execute_result"
    }
   ],
   "source": [
    "20 << 3"
   ]
  },
  {
   "cell_type": "code",
   "execution_count": 56,
   "id": "e878adea",
   "metadata": {},
   "outputs": [
    {
     "data": {
      "text/plain": [
       "320"
      ]
     },
     "execution_count": 56,
     "metadata": {},
     "output_type": "execute_result"
    }
   ],
   "source": [
    "20 << 4"
   ]
  },
  {
   "cell_type": "code",
   "execution_count": 57,
   "id": "8ae3e7c7",
   "metadata": {},
   "outputs": [
    {
     "data": {
      "text/plain": [
       "'0b10100'"
      ]
     },
     "execution_count": 57,
     "metadata": {},
     "output_type": "execute_result"
    }
   ],
   "source": [
    "bin(20)"
   ]
  },
  {
   "cell_type": "code",
   "execution_count": 58,
   "id": "f1ad65c1",
   "metadata": {},
   "outputs": [
    {
     "data": {
      "text/plain": [
       "'0b1010000'"
      ]
     },
     "execution_count": 58,
     "metadata": {},
     "output_type": "execute_result"
    }
   ],
   "source": [
    "bin(80) # adding 2 zeroes"
   ]
  },
  {
   "cell_type": "code",
   "execution_count": 59,
   "id": "736b0868",
   "metadata": {},
   "outputs": [
    {
     "data": {
      "text/plain": [
       "'0b10100000'"
      ]
     },
     "execution_count": 59,
     "metadata": {},
     "output_type": "execute_result"
    }
   ],
   "source": [
    "bin(160) # adding 3 zeroes"
   ]
  },
  {
   "cell_type": "code",
   "execution_count": 60,
   "id": "cb4a3297",
   "metadata": {},
   "outputs": [
    {
     "data": {
      "text/plain": [
       "'0b101000000'"
      ]
     },
     "execution_count": 60,
     "metadata": {},
     "output_type": "execute_result"
    }
   ],
   "source": [
    "bin(320) # adding 4 zeroes in 20 "
   ]
  },
  {
   "cell_type": "code",
   "execution_count": 61,
   "id": "f7ddbfe5",
   "metadata": {},
   "outputs": [],
   "source": [
    "# ASSIGNMENT OPERATOR ('=')\n",
    "a = 10"
   ]
  },
  {
   "cell_type": "code",
   "execution_count": 62,
   "id": "5b0376d9",
   "metadata": {},
   "outputs": [],
   "source": [
    "a += 1 # adding and assigning "
   ]
  },
  {
   "cell_type": "code",
   "execution_count": 63,
   "id": "51732fd0",
   "metadata": {},
   "outputs": [],
   "source": [
    "a = a+1"
   ]
  },
  {
   "cell_type": "code",
   "execution_count": 64,
   "id": "f797c767",
   "metadata": {},
   "outputs": [
    {
     "data": {
      "text/plain": [
       "12"
      ]
     },
     "execution_count": 64,
     "metadata": {},
     "output_type": "execute_result"
    }
   ],
   "source": [
    "a"
   ]
  },
  {
   "cell_type": "code",
   "execution_count": 65,
   "id": "13137941",
   "metadata": {},
   "outputs": [],
   "source": [
    "b = 10 "
   ]
  },
  {
   "cell_type": "code",
   "execution_count": 66,
   "id": "8e9b88e9",
   "metadata": {},
   "outputs": [],
   "source": [
    "b += 1"
   ]
  },
  {
   "cell_type": "code",
   "execution_count": 67,
   "id": "17b35c92",
   "metadata": {},
   "outputs": [
    {
     "data": {
      "text/plain": [
       "11"
      ]
     },
     "execution_count": 67,
     "metadata": {},
     "output_type": "execute_result"
    }
   ],
   "source": [
    "b"
   ]
  },
  {
   "cell_type": "code",
   "execution_count": 68,
   "id": "bad24091",
   "metadata": {},
   "outputs": [],
   "source": [
    "b = b+1"
   ]
  },
  {
   "cell_type": "code",
   "execution_count": 69,
   "id": "c468d630",
   "metadata": {},
   "outputs": [
    {
     "data": {
      "text/plain": [
       "12"
      ]
     },
     "execution_count": 69,
     "metadata": {},
     "output_type": "execute_result"
    }
   ],
   "source": [
    "b"
   ]
  },
  {
   "cell_type": "code",
   "execution_count": 70,
   "id": "e5c648aa",
   "metadata": {},
   "outputs": [],
   "source": [
    "c = 20"
   ]
  },
  {
   "cell_type": "code",
   "execution_count": 71,
   "id": "ff5f5ec9",
   "metadata": {},
   "outputs": [],
   "source": [
    "c = c-1"
   ]
  },
  {
   "cell_type": "code",
   "execution_count": 72,
   "id": "78eaf3fe",
   "metadata": {},
   "outputs": [
    {
     "data": {
      "text/plain": [
       "19"
      ]
     },
     "execution_count": 72,
     "metadata": {},
     "output_type": "execute_result"
    }
   ],
   "source": [
    "c"
   ]
  },
  {
   "cell_type": "code",
   "execution_count": 73,
   "id": "00d55a8b",
   "metadata": {},
   "outputs": [],
   "source": [
    "c -= 1"
   ]
  },
  {
   "cell_type": "code",
   "execution_count": 74,
   "id": "b616e77d",
   "metadata": {},
   "outputs": [
    {
     "data": {
      "text/plain": [
       "18"
      ]
     },
     "execution_count": 74,
     "metadata": {},
     "output_type": "execute_result"
    }
   ],
   "source": [
    "c"
   ]
  }
 ],
 "metadata": {
  "kernelspec": {
   "display_name": "Python 3 (ipykernel)",
   "language": "python",
   "name": "python3"
  },
  "language_info": {
   "codemirror_mode": {
    "name": "ipython",
    "version": 3
   },
   "file_extension": ".py",
   "mimetype": "text/x-python",
   "name": "python",
   "nbconvert_exporter": "python",
   "pygments_lexer": "ipython3",
   "version": "3.9.13"
  }
 },
 "nbformat": 4,
 "nbformat_minor": 5
}
