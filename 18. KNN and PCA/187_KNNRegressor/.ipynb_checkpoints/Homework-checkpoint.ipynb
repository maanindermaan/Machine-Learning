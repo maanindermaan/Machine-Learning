{
 "cells": [
  {
   "cell_type": "markdown",
   "id": "1e39935d",
   "metadata": {},
   "source": [
    "## Ques 1\n",
    "#### Write a Python code to implement the KNN classifier algorithm on load_iris dataset in sklearn.datasets."
   ]
  },
  {
   "cell_type": "code",
   "execution_count": 1,
   "id": "2fd27d4e",
   "metadata": {},
   "outputs": [],
   "source": [
    "from sklearn.datasets import load_iris\n",
    "from sklearn.model_selection import train_test_split"
   ]
  },
  {
   "cell_type": "code",
   "execution_count": 2,
   "id": "72fa20df",
   "metadata": {},
   "outputs": [],
   "source": [
    "iris = load_iris()"
   ]
  },
  {
   "cell_type": "code",
   "execution_count": 3,
   "id": "624de241",
   "metadata": {},
   "outputs": [],
   "source": [
    "X1 = iris.data"
   ]
  },
  {
   "cell_type": "code",
   "execution_count": 4,
   "id": "5d78caeb",
   "metadata": {},
   "outputs": [],
   "source": [
    "y1 = iris.target"
   ]
  },
  {
   "cell_type": "code",
   "execution_count": 5,
   "id": "d78f3c4c",
   "metadata": {},
   "outputs": [
    {
     "data": {
      "text/plain": [
       "array([0, 0, 0, 0, 0, 0, 0, 0, 0, 0, 0, 0, 0, 0, 0, 0, 0, 0, 0, 0, 0, 0,\n",
       "       0, 0, 0, 0, 0, 0, 0, 0, 0, 0, 0, 0, 0, 0, 0, 0, 0, 0, 0, 0, 0, 0,\n",
       "       0, 0, 0, 0, 0, 0, 1, 1, 1, 1, 1, 1, 1, 1, 1, 1, 1, 1, 1, 1, 1, 1,\n",
       "       1, 1, 1, 1, 1, 1, 1, 1, 1, 1, 1, 1, 1, 1, 1, 1, 1, 1, 1, 1, 1, 1,\n",
       "       1, 1, 1, 1, 1, 1, 1, 1, 1, 1, 1, 1, 2, 2, 2, 2, 2, 2, 2, 2, 2, 2,\n",
       "       2, 2, 2, 2, 2, 2, 2, 2, 2, 2, 2, 2, 2, 2, 2, 2, 2, 2, 2, 2, 2, 2,\n",
       "       2, 2, 2, 2, 2, 2, 2, 2, 2, 2, 2, 2, 2, 2, 2, 2, 2, 2])"
      ]
     },
     "execution_count": 5,
     "metadata": {},
     "output_type": "execute_result"
    }
   ],
   "source": [
    "y1"
   ]
  },
  {
   "cell_type": "code",
   "execution_count": 6,
   "id": "934a21a4",
   "metadata": {},
   "outputs": [
    {
     "data": {
      "text/plain": [
       "array(['setosa', 'versicolor', 'virginica'], dtype='<U10')"
      ]
     },
     "execution_count": 6,
     "metadata": {},
     "output_type": "execute_result"
    }
   ],
   "source": [
    "iris.target_names"
   ]
  },
  {
   "cell_type": "code",
   "execution_count": 7,
   "id": "fd49b00d",
   "metadata": {},
   "outputs": [
    {
     "data": {
      "text/plain": [
       "(150, 4)"
      ]
     },
     "execution_count": 7,
     "metadata": {},
     "output_type": "execute_result"
    }
   ],
   "source": [
    "X1.shape"
   ]
  },
  {
   "cell_type": "code",
   "execution_count": 8,
   "id": "8351f609",
   "metadata": {},
   "outputs": [
    {
     "data": {
      "text/plain": [
       "(150,)"
      ]
     },
     "execution_count": 8,
     "metadata": {},
     "output_type": "execute_result"
    }
   ],
   "source": [
    "y1.shape"
   ]
  },
  {
   "cell_type": "code",
   "execution_count": 9,
   "id": "e5c562f0",
   "metadata": {},
   "outputs": [],
   "source": [
    "X_train1 , X_test1 , y_train1 , y_test1 = train_test_split(X1 , y1 , test_size=0.33 , random_state=42)"
   ]
  },
  {
   "cell_type": "code",
   "execution_count": 10,
   "id": "73b06439",
   "metadata": {},
   "outputs": [],
   "source": [
    "from sklearn.neighbors import KNeighborsClassifier"
   ]
  },
  {
   "cell_type": "code",
   "execution_count": 11,
   "id": "cd7f616b",
   "metadata": {},
   "outputs": [
    {
     "data": {
      "text/html": [
       "<style>#sk-container-id-1 {color: black;}#sk-container-id-1 pre{padding: 0;}#sk-container-id-1 div.sk-toggleable {background-color: white;}#sk-container-id-1 label.sk-toggleable__label {cursor: pointer;display: block;width: 100%;margin-bottom: 0;padding: 0.3em;box-sizing: border-box;text-align: center;}#sk-container-id-1 label.sk-toggleable__label-arrow:before {content: \"▸\";float: left;margin-right: 0.25em;color: #696969;}#sk-container-id-1 label.sk-toggleable__label-arrow:hover:before {color: black;}#sk-container-id-1 div.sk-estimator:hover label.sk-toggleable__label-arrow:before {color: black;}#sk-container-id-1 div.sk-toggleable__content {max-height: 0;max-width: 0;overflow: hidden;text-align: left;background-color: #f0f8ff;}#sk-container-id-1 div.sk-toggleable__content pre {margin: 0.2em;color: black;border-radius: 0.25em;background-color: #f0f8ff;}#sk-container-id-1 input.sk-toggleable__control:checked~div.sk-toggleable__content {max-height: 200px;max-width: 100%;overflow: auto;}#sk-container-id-1 input.sk-toggleable__control:checked~label.sk-toggleable__label-arrow:before {content: \"▾\";}#sk-container-id-1 div.sk-estimator input.sk-toggleable__control:checked~label.sk-toggleable__label {background-color: #d4ebff;}#sk-container-id-1 div.sk-label input.sk-toggleable__control:checked~label.sk-toggleable__label {background-color: #d4ebff;}#sk-container-id-1 input.sk-hidden--visually {border: 0;clip: rect(1px 1px 1px 1px);clip: rect(1px, 1px, 1px, 1px);height: 1px;margin: -1px;overflow: hidden;padding: 0;position: absolute;width: 1px;}#sk-container-id-1 div.sk-estimator {font-family: monospace;background-color: #f0f8ff;border: 1px dotted black;border-radius: 0.25em;box-sizing: border-box;margin-bottom: 0.5em;}#sk-container-id-1 div.sk-estimator:hover {background-color: #d4ebff;}#sk-container-id-1 div.sk-parallel-item::after {content: \"\";width: 100%;border-bottom: 1px solid gray;flex-grow: 1;}#sk-container-id-1 div.sk-label:hover label.sk-toggleable__label {background-color: #d4ebff;}#sk-container-id-1 div.sk-serial::before {content: \"\";position: absolute;border-left: 1px solid gray;box-sizing: border-box;top: 0;bottom: 0;left: 50%;z-index: 0;}#sk-container-id-1 div.sk-serial {display: flex;flex-direction: column;align-items: center;background-color: white;padding-right: 0.2em;padding-left: 0.2em;position: relative;}#sk-container-id-1 div.sk-item {position: relative;z-index: 1;}#sk-container-id-1 div.sk-parallel {display: flex;align-items: stretch;justify-content: center;background-color: white;position: relative;}#sk-container-id-1 div.sk-item::before, #sk-container-id-1 div.sk-parallel-item::before {content: \"\";position: absolute;border-left: 1px solid gray;box-sizing: border-box;top: 0;bottom: 0;left: 50%;z-index: -1;}#sk-container-id-1 div.sk-parallel-item {display: flex;flex-direction: column;z-index: 1;position: relative;background-color: white;}#sk-container-id-1 div.sk-parallel-item:first-child::after {align-self: flex-end;width: 50%;}#sk-container-id-1 div.sk-parallel-item:last-child::after {align-self: flex-start;width: 50%;}#sk-container-id-1 div.sk-parallel-item:only-child::after {width: 0;}#sk-container-id-1 div.sk-dashed-wrapped {border: 1px dashed gray;margin: 0 0.4em 0.5em 0.4em;box-sizing: border-box;padding-bottom: 0.4em;background-color: white;}#sk-container-id-1 div.sk-label label {font-family: monospace;font-weight: bold;display: inline-block;line-height: 1.2em;}#sk-container-id-1 div.sk-label-container {text-align: center;}#sk-container-id-1 div.sk-container {/* jupyter's `normalize.less` sets `[hidden] { display: none; }` but bootstrap.min.css set `[hidden] { display: none !important; }` so we also need the `!important` here to be able to override the default hidden behavior on the sphinx rendered scikit-learn.org. See: https://github.com/scikit-learn/scikit-learn/issues/21755 */display: inline-block !important;position: relative;}#sk-container-id-1 div.sk-text-repr-fallback {display: none;}</style><div id=\"sk-container-id-1\" class=\"sk-top-container\"><div class=\"sk-text-repr-fallback\"><pre>KNeighborsClassifier()</pre><b>In a Jupyter environment, please rerun this cell to show the HTML representation or trust the notebook. <br />On GitHub, the HTML representation is unable to render, please try loading this page with nbviewer.org.</b></div><div class=\"sk-container\" hidden><div class=\"sk-item\"><div class=\"sk-estimator sk-toggleable\"><input class=\"sk-toggleable__control sk-hidden--visually\" id=\"sk-estimator-id-1\" type=\"checkbox\" checked><label for=\"sk-estimator-id-1\" class=\"sk-toggleable__label sk-toggleable__label-arrow\">KNeighborsClassifier</label><div class=\"sk-toggleable__content\"><pre>KNeighborsClassifier()</pre></div></div></div></div></div>"
      ],
      "text/plain": [
       "KNeighborsClassifier()"
      ]
     },
     "execution_count": 11,
     "metadata": {},
     "output_type": "execute_result"
    }
   ],
   "source": [
    "c = KNeighborsClassifier()\n",
    "c.fit(X_train1 , y_train1)"
   ]
  },
  {
   "cell_type": "code",
   "execution_count": 12,
   "id": "e6f559d9",
   "metadata": {},
   "outputs": [
    {
     "data": {
      "text/plain": [
       "0.98"
      ]
     },
     "execution_count": 12,
     "metadata": {},
     "output_type": "execute_result"
    }
   ],
   "source": [
    "from sklearn.metrics import accuracy_score,r2_score\n",
    "accuracy_score(y_test1 , c.predict(X_test1))"
   ]
  },
  {
   "cell_type": "markdown",
   "id": "123b3893",
   "metadata": {},
   "source": [
    "## Ques 2\n",
    "#### Write a Python code to implement the KNN regressor algorithm on load_boston dataset in sklearn.datasets."
   ]
  },
  {
   "cell_type": "code",
   "execution_count": 13,
   "id": "f2f7b3b2",
   "metadata": {},
   "outputs": [],
   "source": [
    "from sklearn.datasets import load_breast_cancer"
   ]
  },
  {
   "cell_type": "code",
   "execution_count": 14,
   "id": "e7f81bca",
   "metadata": {},
   "outputs": [],
   "source": [
    "brest = load_breast_cancer()"
   ]
  },
  {
   "cell_type": "code",
   "execution_count": 15,
   "id": "b0dbace1",
   "metadata": {},
   "outputs": [],
   "source": [
    "X2 = brest.data\n",
    "y2= brest.target"
   ]
  },
  {
   "cell_type": "code",
   "execution_count": 16,
   "id": "e68bf940",
   "metadata": {},
   "outputs": [
    {
     "data": {
      "text/plain": [
       "array([[1.799e+01, 1.038e+01, 1.228e+02, ..., 2.654e-01, 4.601e-01,\n",
       "        1.189e-01],\n",
       "       [2.057e+01, 1.777e+01, 1.329e+02, ..., 1.860e-01, 2.750e-01,\n",
       "        8.902e-02],\n",
       "       [1.969e+01, 2.125e+01, 1.300e+02, ..., 2.430e-01, 3.613e-01,\n",
       "        8.758e-02],\n",
       "       ...,\n",
       "       [1.660e+01, 2.808e+01, 1.083e+02, ..., 1.418e-01, 2.218e-01,\n",
       "        7.820e-02],\n",
       "       [2.060e+01, 2.933e+01, 1.401e+02, ..., 2.650e-01, 4.087e-01,\n",
       "        1.240e-01],\n",
       "       [7.760e+00, 2.454e+01, 4.792e+01, ..., 0.000e+00, 2.871e-01,\n",
       "        7.039e-02]])"
      ]
     },
     "execution_count": 16,
     "metadata": {},
     "output_type": "execute_result"
    }
   ],
   "source": [
    "X2"
   ]
  },
  {
   "cell_type": "code",
   "execution_count": 17,
   "id": "48f1bc5d",
   "metadata": {},
   "outputs": [
    {
     "data": {
      "text/plain": [
       "array([0, 0, 0, 0, 0, 0, 0, 0, 0, 0, 0, 0, 0, 0, 0, 0, 0, 0, 0, 1, 1, 1,\n",
       "       0, 0, 0, 0, 0, 0, 0, 0, 0, 0, 0, 0, 0, 0, 0, 1, 0, 0, 0, 0, 0, 0,\n",
       "       0, 0, 1, 0, 1, 1, 1, 1, 1, 0, 0, 1, 0, 0, 1, 1, 1, 1, 0, 1, 0, 0,\n",
       "       1, 1, 1, 1, 0, 1, 0, 0, 1, 0, 1, 0, 0, 1, 1, 1, 0, 0, 1, 0, 0, 0,\n",
       "       1, 1, 1, 0, 1, 1, 0, 0, 1, 1, 1, 0, 0, 1, 1, 1, 1, 0, 1, 1, 0, 1,\n",
       "       1, 1, 1, 1, 1, 1, 1, 0, 0, 0, 1, 0, 0, 1, 1, 1, 0, 0, 1, 0, 1, 0,\n",
       "       0, 1, 0, 0, 1, 1, 0, 1, 1, 0, 1, 1, 1, 1, 0, 1, 1, 1, 1, 1, 1, 1,\n",
       "       1, 1, 0, 1, 1, 1, 1, 0, 0, 1, 0, 1, 1, 0, 0, 1, 1, 0, 0, 1, 1, 1,\n",
       "       1, 0, 1, 1, 0, 0, 0, 1, 0, 1, 0, 1, 1, 1, 0, 1, 1, 0, 0, 1, 0, 0,\n",
       "       0, 0, 1, 0, 0, 0, 1, 0, 1, 0, 1, 1, 0, 1, 0, 0, 0, 0, 1, 1, 0, 0,\n",
       "       1, 1, 1, 0, 1, 1, 1, 1, 1, 0, 0, 1, 1, 0, 1, 1, 0, 0, 1, 0, 1, 1,\n",
       "       1, 1, 0, 1, 1, 1, 1, 1, 0, 1, 0, 0, 0, 0, 0, 0, 0, 0, 0, 0, 0, 0,\n",
       "       0, 0, 1, 1, 1, 1, 1, 1, 0, 1, 0, 1, 1, 0, 1, 1, 0, 1, 0, 0, 1, 1,\n",
       "       1, 1, 1, 1, 1, 1, 1, 1, 1, 1, 1, 0, 1, 1, 0, 1, 0, 1, 1, 1, 1, 1,\n",
       "       1, 1, 1, 1, 1, 1, 1, 1, 1, 0, 1, 1, 1, 0, 1, 0, 1, 1, 1, 1, 0, 0,\n",
       "       0, 1, 1, 1, 1, 0, 1, 0, 1, 0, 1, 1, 1, 0, 1, 1, 1, 1, 1, 1, 1, 0,\n",
       "       0, 0, 1, 1, 1, 1, 1, 1, 1, 1, 1, 1, 1, 0, 0, 1, 0, 0, 0, 1, 0, 0,\n",
       "       1, 1, 1, 1, 1, 0, 1, 1, 1, 1, 1, 0, 1, 1, 1, 0, 1, 1, 0, 0, 1, 1,\n",
       "       1, 1, 1, 1, 0, 1, 1, 1, 1, 1, 1, 1, 0, 1, 1, 1, 1, 1, 0, 1, 1, 0,\n",
       "       1, 1, 1, 1, 1, 1, 1, 1, 1, 1, 1, 1, 0, 1, 0, 0, 1, 0, 1, 1, 1, 1,\n",
       "       1, 0, 1, 1, 0, 1, 0, 1, 1, 0, 1, 0, 1, 1, 1, 1, 1, 1, 1, 1, 0, 0,\n",
       "       1, 1, 1, 1, 1, 1, 0, 1, 1, 1, 1, 1, 1, 1, 1, 1, 1, 0, 1, 1, 1, 1,\n",
       "       1, 1, 1, 0, 1, 0, 1, 1, 0, 1, 1, 1, 1, 1, 0, 0, 1, 0, 1, 0, 1, 1,\n",
       "       1, 1, 1, 0, 1, 1, 0, 1, 0, 1, 0, 0, 1, 1, 1, 0, 1, 1, 1, 1, 1, 1,\n",
       "       1, 1, 1, 1, 1, 0, 1, 0, 0, 1, 1, 1, 1, 1, 1, 1, 1, 1, 1, 1, 1, 1,\n",
       "       1, 1, 1, 1, 1, 1, 1, 1, 1, 1, 1, 1, 0, 0, 0, 0, 0, 0, 1])"
      ]
     },
     "execution_count": 17,
     "metadata": {},
     "output_type": "execute_result"
    }
   ],
   "source": [
    "y2"
   ]
  },
  {
   "cell_type": "code",
   "execution_count": 18,
   "id": "49d40e44",
   "metadata": {},
   "outputs": [],
   "source": [
    "X_train2 , X_test2 , y_train2 , y_test2 = train_test_split(X2 , y2 , random_state=42 , test_size=0.38)"
   ]
  },
  {
   "cell_type": "code",
   "execution_count": 19,
   "id": "3c575d2c",
   "metadata": {},
   "outputs": [],
   "source": [
    "from sklearn.neighbors import KNeighborsRegressor"
   ]
  },
  {
   "cell_type": "code",
   "execution_count": 20,
   "id": "365d88fe",
   "metadata": {},
   "outputs": [
    {
     "data": {
      "text/plain": [
       "0.8517693169092946"
      ]
     },
     "execution_count": 20,
     "metadata": {},
     "output_type": "execute_result"
    }
   ],
   "source": [
    "r = KNeighborsRegressor()\n",
    "r.fit(X_train2 , y_train2)\n",
    "r2_score(y_test2 , r.predict(X_test2))"
   ]
  },
  {
   "cell_type": "markdown",
   "id": "2358ae69",
   "metadata": {},
   "source": [
    "## Ques 3\n",
    "#### Write a Python code snippet to find the optimal value of K for the KNN classifier algorithm using cross-validation on load_iris dataset in sklearn.datasets."
   ]
  },
  {
   "cell_type": "code",
   "execution_count": 21,
   "id": "883ce8d1",
   "metadata": {},
   "outputs": [],
   "source": [
    "# Hyper paramter tuning\n",
    "hyper = {\n",
    "    'n_neighbors' : [1,2,3,4,5,6,7,8,9,10]\n",
    "}"
   ]
  },
  {
   "cell_type": "code",
   "execution_count": 22,
   "id": "1235eb50",
   "metadata": {},
   "outputs": [],
   "source": [
    "from sklearn.model_selection import GridSearchCV"
   ]
  },
  {
   "cell_type": "code",
   "execution_count": 23,
   "id": "0f6589d6",
   "metadata": {},
   "outputs": [
    {
     "name": "stdout",
     "output_type": "stream",
     "text": [
      "Fitting 20 folds for each of 10 candidates, totalling 200 fits\n",
      "Accuracy :  98.0 %\n",
      "{'n_neighbors': 5}\n"
     ]
    }
   ],
   "source": [
    "gscv1 = GridSearchCV(c , hyper , cv = 20 , verbose=1)\n",
    "gscv1.fit(X_train1 , y_train1)\n",
    "print(\"Accuracy : \" , accuracy_score(y_test1 , gscv1.predict(X_test1))*100 , '%')\n",
    "print(gscv1.best_params_)"
   ]
  },
  {
   "cell_type": "markdown",
   "id": "9ae58cec",
   "metadata": {},
   "source": [
    "## Ques 4\n",
    "#### Implement the KNN regressor algorithm with feature scaling on load_boston dataset in sklearn.datasets."
   ]
  },
  {
   "cell_type": "code",
   "execution_count": 24,
   "id": "0b35d0ce",
   "metadata": {},
   "outputs": [],
   "source": [
    "from sklearn.datasets import load_breast_cancer\n",
    "from sklearn.model_selection import train_test_split\n",
    "from sklearn.preprocessing import StandardScaler\n",
    "from sklearn.neighbors import KNeighborsRegressor\n",
    "from sklearn.metrics import r2_score"
   ]
  },
  {
   "cell_type": "code",
   "execution_count": 25,
   "id": "1d4a4373",
   "metadata": {},
   "outputs": [],
   "source": [
    "breast_cancer = load_breast_cancer()\n",
    "X2 = breast_cancer.data\n",
    "y2= breast_cancer.target"
   ]
  },
  {
   "cell_type": "code",
   "execution_count": 26,
   "id": "78ae0bd2",
   "metadata": {},
   "outputs": [],
   "source": [
    "X_train2 , X_test2 , y_train2 , y_test2 = train_test_split(X2 , y2 , random_state=42 , test_size=0.38)"
   ]
  },
  {
   "cell_type": "code",
   "execution_count": 27,
   "id": "976c8351",
   "metadata": {},
   "outputs": [],
   "source": [
    "from sklearn.preprocessing import StandardScaler"
   ]
  },
  {
   "cell_type": "code",
   "execution_count": 28,
   "id": "a8577900",
   "metadata": {},
   "outputs": [],
   "source": [
    "scaler = StandardScaler()"
   ]
  },
  {
   "cell_type": "code",
   "execution_count": 29,
   "id": "cf7f09a8",
   "metadata": {},
   "outputs": [],
   "source": [
    "X_train2 = scaler.fit_transform(X_train2)"
   ]
  },
  {
   "cell_type": "code",
   "execution_count": 30,
   "id": "cd54173b",
   "metadata": {},
   "outputs": [
    {
     "data": {
      "text/plain": [
       "array([[-0.88484188, -1.05068288, -0.91701945, ..., -1.11774607,\n",
       "        -1.54283685, -0.5856833 ],\n",
       "       [-0.89597145, -0.99947425, -0.89839641, ..., -0.73857239,\n",
       "         0.51665529, -0.60044742],\n",
       "       [-0.50921891, -0.51764758, -0.57735127, ..., -1.34605572,\n",
       "        -1.54442108, -1.36988531],\n",
       "       ...,\n",
       "       [ 0.00830607, -0.55954555, -0.10367811, ..., -1.26845522,\n",
       "        -0.66200791, -1.26312935],\n",
       "       [-0.07794809,  0.09220066, -0.0704805 , ...,  1.04515481,\n",
       "         0.48021812,  1.25244988],\n",
       "       [-0.57877872,  0.30169052, -0.63322041, ..., -0.63371104,\n",
       "        -0.28813087, -0.83269841]])"
      ]
     },
     "execution_count": 30,
     "metadata": {},
     "output_type": "execute_result"
    }
   ],
   "source": [
    "X_train2"
   ]
  },
  {
   "cell_type": "code",
   "execution_count": 31,
   "id": "f0467108",
   "metadata": {},
   "outputs": [],
   "source": [
    "X_test2 = scaler.transform(X_test2)"
   ]
  },
  {
   "cell_type": "code",
   "execution_count": 32,
   "id": "d3796bea",
   "metadata": {},
   "outputs": [
    {
     "data": {
      "text/plain": [
       "array([[-0.49808934, -0.14522117, -0.4765439 , ..., -0.21256183,\n",
       "         0.21882104,  0.23031837],\n",
       "       [ 1.30211853,  0.48557606,  1.24446857, ...,  0.98629615,\n",
       "        -0.51467501, -0.99680731],\n",
       "       [ 0.33384598,  0.05961335,  0.35784958, ...,  0.56034532,\n",
       "        -0.06158674, -0.1847806 ],\n",
       "       ...,\n",
       "       [-0.67338006, -0.12194452, -0.60447614, ...,  0.6099105 ,\n",
       "         2.98646163,  3.22289231],\n",
       "       [-1.04343825,  0.22487757, -0.98058072, ..., -0.83429515,\n",
       "        -0.78082476,  0.3870452 ],\n",
       "       [-0.44244149, -0.44781763, -0.47006632, ..., -0.91700706,\n",
       "        -0.29763622, -0.8270199 ]])"
      ]
     },
     "execution_count": 32,
     "metadata": {},
     "output_type": "execute_result"
    }
   ],
   "source": [
    "X_test2"
   ]
  },
  {
   "cell_type": "code",
   "execution_count": 33,
   "id": "c1d551de",
   "metadata": {},
   "outputs": [
    {
     "data": {
      "text/plain": [
       "0.8509593131765585"
      ]
     },
     "execution_count": 33,
     "metadata": {},
     "output_type": "execute_result"
    }
   ],
   "source": [
    "r2 = KNeighborsRegressor()\n",
    "r2.fit(X_train2 , y_train2)\n",
    "r2_score(y_test2 , r2.predict(X_test2))"
   ]
  },
  {
   "cell_type": "markdown",
   "id": "87748d21",
   "metadata": {},
   "source": [
    "## Ques 5\n",
    "#### Write a Python code snippet to implement the KNN classifier algorithm with weighted voting on load_iris dataset in sklearn.datasets."
   ]
  },
  {
   "cell_type": "code",
   "execution_count": 34,
   "id": "78fdefb8",
   "metadata": {},
   "outputs": [
    {
     "name": "stdout",
     "output_type": "stream",
     "text": [
      "Accuracy: 100.0 %\n"
     ]
    }
   ],
   "source": [
    "from sklearn.datasets import load_iris\n",
    "from sklearn.model_selection import train_test_split\n",
    "from sklearn.preprocessing import StandardScaler\n",
    "from sklearn.neighbors import KNeighborsClassifier\n",
    "from sklearn.metrics import accuracy_score\n",
    "\n",
    "# Load the iris dataset\n",
    "iris = load_iris()\n",
    "X = iris.data\n",
    "y = iris.target\n",
    "\n",
    "# Split the dataset into training and testing sets\n",
    "X_train, X_test, y_train, y_test = train_test_split(X, y, test_size=0.2, random_state=42)\n",
    "\n",
    "# Standardize the features\n",
    "scaler = StandardScaler()\n",
    "X_train = scaler.fit_transform(X_train)\n",
    "X_test = scaler.transform(X_test)\n",
    "\n",
    "# Instantiate the KNN classifier with weighted voting\n",
    "k = 5  # number of neighbors\n",
    "weights = 'distance'  # weighted voting\n",
    "knn_classifier = KNeighborsClassifier(n_neighbors=k, weights=weights)\n",
    "\n",
    "# Train the classifier\n",
    "knn_classifier.fit(X_train, y_train)\n",
    "\n",
    "# Predict on the test set\n",
    "y_pred = knn_classifier.predict(X_test)\n",
    "\n",
    "# Calculate the accuracy\n",
    "accuracy = accuracy_score(y_test, y_pred)\n",
    "print(\"Accuracy:\", accuracy*100 , '%')\n"
   ]
  },
  {
   "cell_type": "markdown",
   "id": "2f080fac",
   "metadata": {},
   "source": [
    "## Ques 6 \n",
    "#### Implement a function to standardise the features before applying KNN classifier."
   ]
  },
  {
   "cell_type": "code",
   "execution_count": 35,
   "id": "8a8d076c",
   "metadata": {},
   "outputs": [],
   "source": [
    "def standardised(x):\n",
    "    st = StandardScaler()\n",
    "    x = st.fit_transform(x)\n",
    "    return x"
   ]
  },
  {
   "cell_type": "code",
   "execution_count": 36,
   "id": "1eaa2074",
   "metadata": {},
   "outputs": [
    {
     "data": {
      "text/plain": [
       "array([[5.7, 2.9, 4.2, 1.3],\n",
       "       [7.6, 3. , 6.6, 2.1],\n",
       "       [5.6, 3. , 4.5, 1.5],\n",
       "       [5.1, 3.5, 1.4, 0.2],\n",
       "       [7.7, 2.8, 6.7, 2. ],\n",
       "       [5.8, 2.7, 4.1, 1. ],\n",
       "       [5.2, 3.4, 1.4, 0.2],\n",
       "       [5. , 3.5, 1.3, 0.3],\n",
       "       [5.1, 3.8, 1.9, 0.4],\n",
       "       [5. , 2. , 3.5, 1. ],\n",
       "       [6.3, 2.7, 4.9, 1.8],\n",
       "       [4.8, 3.4, 1.9, 0.2],\n",
       "       [5. , 3. , 1.6, 0.2],\n",
       "       [5.1, 3.3, 1.7, 0.5],\n",
       "       [5.6, 2.7, 4.2, 1.3],\n",
       "       [5.1, 3.4, 1.5, 0.2],\n",
       "       [5.7, 3. , 4.2, 1.2],\n",
       "       [7.7, 3.8, 6.7, 2.2],\n",
       "       [4.6, 3.2, 1.4, 0.2],\n",
       "       [6.2, 2.9, 4.3, 1.3],\n",
       "       [5.7, 2.5, 5. , 2. ],\n",
       "       [5.5, 4.2, 1.4, 0.2],\n",
       "       [6. , 3. , 4.8, 1.8],\n",
       "       [5.8, 2.7, 5.1, 1.9],\n",
       "       [6. , 2.2, 4. , 1. ],\n",
       "       [5.4, 3. , 4.5, 1.5],\n",
       "       [6.2, 3.4, 5.4, 2.3],\n",
       "       [5.5, 2.3, 4. , 1.3],\n",
       "       [5.4, 3.9, 1.7, 0.4],\n",
       "       [5. , 2.3, 3.3, 1. ],\n",
       "       [6.4, 2.7, 5.3, 1.9],\n",
       "       [5. , 3.3, 1.4, 0.2],\n",
       "       [5. , 3.2, 1.2, 0.2],\n",
       "       [5.5, 2.4, 3.8, 1.1],\n",
       "       [6.7, 3. , 5. , 1.7],\n",
       "       [4.9, 3.1, 1.5, 0.2],\n",
       "       [5.8, 2.8, 5.1, 2.4],\n",
       "       [5. , 3.4, 1.5, 0.2],\n",
       "       [5. , 3.5, 1.6, 0.6],\n",
       "       [5.9, 3.2, 4.8, 1.8],\n",
       "       [5.1, 2.5, 3. , 1.1],\n",
       "       [6.9, 3.2, 5.7, 2.3],\n",
       "       [6. , 2.7, 5.1, 1.6],\n",
       "       [6.1, 2.6, 5.6, 1.4],\n",
       "       [7.7, 3. , 6.1, 2.3],\n",
       "       [5.5, 2.5, 4. , 1.3],\n",
       "       [4.4, 2.9, 1.4, 0.2],\n",
       "       [4.3, 3. , 1.1, 0.1],\n",
       "       [6. , 2.2, 5. , 1.5],\n",
       "       [7.2, 3.2, 6. , 1.8],\n",
       "       [4.6, 3.1, 1.5, 0.2],\n",
       "       [5.1, 3.5, 1.4, 0.3],\n",
       "       [4.4, 3. , 1.3, 0.2],\n",
       "       [6.3, 2.5, 4.9, 1.5],\n",
       "       [6.3, 3.4, 5.6, 2.4],\n",
       "       [4.6, 3.4, 1.4, 0.3],\n",
       "       [6.8, 3. , 5.5, 2.1],\n",
       "       [6.3, 3.3, 6. , 2.5],\n",
       "       [4.7, 3.2, 1.3, 0.2],\n",
       "       [6.1, 2.9, 4.7, 1.4],\n",
       "       [6.5, 2.8, 4.6, 1.5],\n",
       "       [6.2, 2.8, 4.8, 1.8],\n",
       "       [7. , 3.2, 4.7, 1.4],\n",
       "       [6.4, 3.2, 5.3, 2.3],\n",
       "       [5.1, 3.8, 1.6, 0.2],\n",
       "       [6.9, 3.1, 5.4, 2.1],\n",
       "       [5.9, 3. , 4.2, 1.5],\n",
       "       [6.5, 3. , 5.2, 2. ],\n",
       "       [5.7, 2.6, 3.5, 1. ],\n",
       "       [5.2, 2.7, 3.9, 1.4],\n",
       "       [6.1, 3. , 4.6, 1.4],\n",
       "       [4.5, 2.3, 1.3, 0.3],\n",
       "       [6.6, 2.9, 4.6, 1.3],\n",
       "       [5.5, 2.6, 4.4, 1.2],\n",
       "       [5.3, 3.7, 1.5, 0.2],\n",
       "       [5.6, 3. , 4.1, 1.3],\n",
       "       [7.3, 2.9, 6.3, 1.8],\n",
       "       [6.7, 3.3, 5.7, 2.1],\n",
       "       [5.1, 3.7, 1.5, 0.4],\n",
       "       [4.9, 2.4, 3.3, 1. ],\n",
       "       [6.7, 3.3, 5.7, 2.5],\n",
       "       [7.2, 3. , 5.8, 1.6],\n",
       "       [4.9, 3.6, 1.4, 0.1],\n",
       "       [6.7, 3.1, 5.6, 2.4],\n",
       "       [4.9, 3. , 1.4, 0.2],\n",
       "       [6.9, 3.1, 4.9, 1.5],\n",
       "       [7.4, 2.8, 6.1, 1.9],\n",
       "       [6.3, 2.9, 5.6, 1.8],\n",
       "       [5.7, 2.8, 4.1, 1.3],\n",
       "       [6.5, 3. , 5.5, 1.8],\n",
       "       [6.3, 2.3, 4.4, 1.3],\n",
       "       [6.4, 2.9, 4.3, 1.3],\n",
       "       [5.6, 2.8, 4.9, 2. ],\n",
       "       [5.9, 3. , 5.1, 1.8],\n",
       "       [5.4, 3.4, 1.7, 0.2],\n",
       "       [6.1, 2.8, 4. , 1.3],\n",
       "       [4.9, 2.5, 4.5, 1.7],\n",
       "       [5.8, 4. , 1.2, 0.2],\n",
       "       [5.8, 2.6, 4. , 1.2],\n",
       "       [7.1, 3. , 5.9, 2.1]])"
      ]
     },
     "execution_count": 36,
     "metadata": {},
     "output_type": "execute_result"
    }
   ],
   "source": [
    "X_train1"
   ]
  },
  {
   "cell_type": "code",
   "execution_count": 37,
   "id": "ffa62c81",
   "metadata": {},
   "outputs": [
    {
     "data": {
      "text/plain": [
       "array([[-0.13835603, -0.26550845,  0.22229072,  0.10894943],\n",
       "       [ 2.14752625, -0.02631165,  1.61160773,  1.18499319],\n",
       "       [-0.25866563, -0.02631165,  0.39595535,  0.37796037],\n",
       "       [-0.8602136 ,  1.16967238, -1.39857913, -1.37061074],\n",
       "       [ 2.26783585, -0.50470526,  1.66949594,  1.05048772],\n",
       "       [-0.01804644, -0.74390206,  0.16440251, -0.29456698],\n",
       "       [-0.739904  ,  0.93047557, -1.39857913, -1.37061074],\n",
       "       [-0.98052319,  1.16967238, -1.45646733, -1.23610527],\n",
       "       [-0.8602136 ,  1.88726279, -1.10913808, -1.1015998 ],\n",
       "       [-0.98052319, -2.4182797 , -0.18292674, -0.29456698],\n",
       "       [ 0.58350153, -0.74390206,  0.62750818,  0.78147678],\n",
       "       [-1.22114238,  0.93047557, -1.10913808, -1.37061074],\n",
       "       [-0.98052319, -0.02631165, -1.28280271, -1.37061074],\n",
       "       [-0.8602136 ,  0.69127877, -1.2249145 , -0.96709433],\n",
       "       [-0.25866563, -0.74390206,  0.22229072,  0.10894943],\n",
       "       [-0.8602136 ,  0.93047557, -1.34069092, -1.37061074],\n",
       "       [-0.13835603, -0.02631165,  0.22229072, -0.02555604],\n",
       "       [ 2.26783585,  1.88726279,  1.66949594,  1.31949866],\n",
       "       [-1.46176157,  0.45208196, -1.39857913, -1.37061074],\n",
       "       [ 0.46319194, -0.26550845,  0.28017893,  0.10894943],\n",
       "       [-0.13835603, -1.22229567,  0.68539639,  1.05048772],\n",
       "       [-0.37897522,  2.84405001, -1.39857913, -1.37061074],\n",
       "       [ 0.22257275, -0.02631165,  0.56961997,  0.78147678],\n",
       "       [-0.01804644, -0.74390206,  0.7432846 ,  0.91598225],\n",
       "       [ 0.22257275, -1.93988609,  0.1065143 , -0.29456698],\n",
       "       [-0.49928482, -0.02631165,  0.39595535,  0.37796037],\n",
       "       [ 0.46319194,  0.93047557,  0.91694923,  1.45400413],\n",
       "       [-0.37897522, -1.70068929,  0.1065143 ,  0.10894943],\n",
       "       [-0.49928482,  2.1264596 , -1.2249145 , -1.1015998 ],\n",
       "       [-0.98052319, -1.70068929, -0.29870316, -0.29456698],\n",
       "       [ 0.70381112, -0.74390206,  0.85906102,  0.91598225],\n",
       "       [-0.98052319,  0.69127877, -1.39857913, -1.37061074],\n",
       "       [-0.98052319,  0.45208196, -1.51435554, -1.37061074],\n",
       "       [-0.37897522, -1.46149248, -0.00926211, -0.16006151],\n",
       "       [ 1.06473991, -0.02631165,  0.68539639,  0.64697131],\n",
       "       [-1.10083279,  0.21288516, -1.34069092, -1.37061074],\n",
       "       [-0.01804644, -0.50470526,  0.7432846 ,  1.5885096 ],\n",
       "       [-0.98052319,  0.93047557, -1.34069092, -1.37061074],\n",
       "       [-0.98052319,  1.16967238, -1.28280271, -0.83258886],\n",
       "       [ 0.10226315,  0.45208196,  0.56961997,  0.78147678],\n",
       "       [-0.8602136 , -1.22229567, -0.47236778, -0.16006151],\n",
       "       [ 1.30535909,  0.45208196,  1.09061385,  1.45400413],\n",
       "       [ 0.22257275, -0.74390206,  0.7432846 ,  0.51246584],\n",
       "       [ 0.34288234, -0.98309887,  1.03272565,  0.2434549 ],\n",
       "       [ 2.26783585, -0.02631165,  1.32216669,  1.45400413],\n",
       "       [-0.37897522, -1.22229567,  0.1065143 ,  0.10894943],\n",
       "       [-1.70238076, -0.26550845, -1.39857913, -1.37061074],\n",
       "       [-1.82269035, -0.02631165, -1.57224375, -1.50511621],\n",
       "       [ 0.22257275, -1.93988609,  0.68539639,  0.37796037],\n",
       "       [ 1.66628788,  0.45208196,  1.26427848,  0.78147678],\n",
       "       [-1.46176157,  0.21288516, -1.34069092, -1.37061074],\n",
       "       [-0.8602136 ,  1.16967238, -1.39857913, -1.23610527],\n",
       "       [-1.70238076, -0.02631165, -1.45646733, -1.37061074],\n",
       "       [ 0.58350153, -1.22229567,  0.62750818,  0.37796037],\n",
       "       [ 0.58350153,  0.93047557,  1.03272565,  1.5885096 ],\n",
       "       [-1.46176157,  0.93047557, -1.39857913, -1.23610527],\n",
       "       [ 1.1850495 , -0.02631165,  0.97483744,  1.18499319],\n",
       "       [ 0.58350153,  0.69127877,  1.26427848,  1.72301507],\n",
       "       [-1.34145197,  0.45208196, -1.45646733, -1.37061074],\n",
       "       [ 0.34288234, -0.26550845,  0.51173177,  0.2434549 ],\n",
       "       [ 0.82412072, -0.50470526,  0.45384356,  0.37796037],\n",
       "       [ 0.46319194, -0.50470526,  0.56961997,  0.78147678],\n",
       "       [ 1.42566869,  0.45208196,  0.51173177,  0.2434549 ],\n",
       "       [ 0.70381112,  0.45208196,  0.85906102,  1.45400413],\n",
       "       [-0.8602136 ,  1.88726279, -1.28280271, -1.37061074],\n",
       "       [ 1.30535909,  0.21288516,  0.91694923,  1.18499319],\n",
       "       [ 0.10226315, -0.02631165,  0.22229072,  0.37796037],\n",
       "       [ 0.82412072, -0.02631165,  0.80117281,  1.05048772],\n",
       "       [-0.13835603, -0.98309887, -0.18292674, -0.29456698],\n",
       "       [-0.739904  , -0.74390206,  0.0486261 ,  0.2434549 ],\n",
       "       [ 0.34288234, -0.02631165,  0.45384356,  0.2434549 ],\n",
       "       [-1.58207116, -1.70068929, -1.45646733, -1.23610527],\n",
       "       [ 0.94443031, -0.26550845,  0.45384356,  0.10894943],\n",
       "       [-0.37897522, -0.98309887,  0.33806714, -0.02555604],\n",
       "       [-0.61959441,  1.64806599, -1.34069092, -1.37061074],\n",
       "       [-0.25866563, -0.02631165,  0.16440251,  0.10894943],\n",
       "       [ 1.78659747, -0.26550845,  1.43794311,  0.78147678],\n",
       "       [ 1.06473991,  0.69127877,  1.09061385,  1.18499319],\n",
       "       [-0.8602136 ,  1.64806599, -1.34069092, -1.1015998 ],\n",
       "       [-1.10083279, -1.46149248, -0.29870316, -0.29456698],\n",
       "       [ 1.06473991,  0.69127877,  1.09061385,  1.72301507],\n",
       "       [ 1.66628788, -0.02631165,  1.14850206,  0.51246584],\n",
       "       [-1.10083279,  1.40886918, -1.39857913, -1.50511621],\n",
       "       [ 1.06473991,  0.21288516,  1.03272565,  1.5885096 ],\n",
       "       [-1.10083279, -0.02631165, -1.39857913, -1.37061074],\n",
       "       [ 1.30535909,  0.21288516,  0.62750818,  0.37796037],\n",
       "       [ 1.90690706, -0.50470526,  1.32216669,  0.91598225],\n",
       "       [ 0.58350153, -0.26550845,  1.03272565,  0.78147678],\n",
       "       [-0.13835603, -0.50470526,  0.16440251,  0.10894943],\n",
       "       [ 0.82412072, -0.02631165,  0.97483744,  0.78147678],\n",
       "       [ 0.58350153, -1.70068929,  0.33806714,  0.10894943],\n",
       "       [ 0.70381112, -0.26550845,  0.28017893,  0.10894943],\n",
       "       [-0.25866563, -0.50470526,  0.62750818,  1.05048772],\n",
       "       [ 0.10226315, -0.02631165,  0.7432846 ,  0.78147678],\n",
       "       [-0.49928482,  0.93047557, -1.2249145 , -1.37061074],\n",
       "       [ 0.34288234, -0.50470526,  0.1065143 ,  0.10894943],\n",
       "       [-1.10083279, -1.22229567,  0.39595535,  0.64697131],\n",
       "       [-0.01804644,  2.3656564 , -1.51435554, -1.37061074],\n",
       "       [-0.01804644, -0.98309887,  0.1065143 , -0.02555604],\n",
       "       [ 1.54597828, -0.02631165,  1.20639027,  1.18499319]])"
      ]
     },
     "execution_count": 37,
     "metadata": {},
     "output_type": "execute_result"
    }
   ],
   "source": [
    "standardised(X_train1)"
   ]
  },
  {
   "cell_type": "markdown",
   "id": "d1ed91ef",
   "metadata": {},
   "source": [
    "## Ques 7 \n",
    "#### Write a Python function to calculate the euclidean distance between two points."
   ]
  },
  {
   "cell_type": "code",
   "execution_count": 38,
   "id": "6fd9c904",
   "metadata": {},
   "outputs": [],
   "source": [
    "import numpy as np\n",
    "def eucledian(a , b):\n",
    "    a = np.array(a)\n",
    "    b = np.array(b)\n",
    "    \n",
    "    return np.linalg.norm(a-b)"
   ]
  },
  {
   "cell_type": "code",
   "execution_count": 39,
   "id": "2c45da69",
   "metadata": {},
   "outputs": [
    {
     "data": {
      "text/plain": [
       "2.8284271247461903"
      ]
     },
     "execution_count": 39,
     "metadata": {},
     "output_type": "execute_result"
    }
   ],
   "source": [
    "a = [1,2]\n",
    "b = [3,4]\n",
    "\n",
    "eucledian(a , b)"
   ]
  },
  {
   "cell_type": "markdown",
   "id": "b3ee3783",
   "metadata": {},
   "source": [
    "## Ques 8\n",
    "#### Write a Python function to calculate the manhattan distance between two points."
   ]
  },
  {
   "cell_type": "code",
   "execution_count": 40,
   "id": "042fe280",
   "metadata": {},
   "outputs": [],
   "source": [
    "import numpy as np\n",
    "def manhattan(a , b):\n",
    "    a = np.array(a)\n",
    "    b = np.array(b)\n",
    "    \n",
    "    return np.sum(np.abs(a-b))"
   ]
  },
  {
   "cell_type": "code",
   "execution_count": 41,
   "id": "8272085a",
   "metadata": {},
   "outputs": [
    {
     "data": {
      "text/plain": [
       "4"
      ]
     },
     "execution_count": 41,
     "metadata": {},
     "output_type": "execute_result"
    }
   ],
   "source": [
    "a = [1,2]\n",
    "b = [3,4]\n",
    "\n",
    "manhattan(a , b)"
   ]
  }
 ],
 "metadata": {
  "kernelspec": {
   "display_name": "Python 3 (ipykernel)",
   "language": "python",
   "name": "python3"
  },
  "language_info": {
   "codemirror_mode": {
    "name": "ipython",
    "version": 3
   },
   "file_extension": ".py",
   "mimetype": "text/x-python",
   "name": "python",
   "nbconvert_exporter": "python",
   "pygments_lexer": "ipython3",
   "version": "3.11.5"
  }
 },
 "nbformat": 4,
 "nbformat_minor": 5
}
