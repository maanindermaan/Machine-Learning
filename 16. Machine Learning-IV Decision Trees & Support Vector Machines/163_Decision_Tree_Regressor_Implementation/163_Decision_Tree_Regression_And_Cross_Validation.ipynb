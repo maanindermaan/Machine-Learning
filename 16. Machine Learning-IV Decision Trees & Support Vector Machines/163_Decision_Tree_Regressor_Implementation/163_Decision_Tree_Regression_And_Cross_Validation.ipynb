{
 "cells": [
  {
   "cell_type": "markdown",
   "id": "2f435652-14b3-410a-9a59-70de4019f828",
   "metadata": {
    "id": "2f435652-14b3-410a-9a59-70de4019f828"
   },
   "source": [
    "## Decision Tree Regressor Implementation"
   ]
  },
  {
   "cell_type": "code",
   "execution_count": 1,
   "id": "dc83492e",
   "metadata": {
    "executionInfo": {
     "elapsed": 1747,
     "status": "ok",
     "timestamp": 1693319352215,
     "user": {
      "displayName": "yash agarwal",
      "userId": "17024594359733032999"
     },
     "user_tz": -330
    },
    "id": "dc83492e"
   },
   "outputs": [],
   "source": [
    "import pandas as pd\n",
    "import matplotlib.pyplot as plt\n",
    "%matplotlib inline"
   ]
  },
  {
   "cell_type": "code",
   "execution_count": 2,
   "id": "161f2fd7",
   "metadata": {
    "executionInfo": {
     "elapsed": 2307,
     "status": "ok",
     "timestamp": 1693319354518,
     "user": {
      "displayName": "yash agarwal",
      "userId": "17024594359733032999"
     },
     "user_tz": -330
    },
    "id": "161f2fd7"
   },
   "outputs": [],
   "source": [
    "##California House Pricing Dataset\n",
    "from sklearn.datasets import fetch_california_housing\n",
    "california_df=fetch_california_housing()"
   ]
  },
  {
   "cell_type": "code",
   "execution_count": 3,
   "id": "e1e050c6",
   "metadata": {
    "colab": {
     "base_uri": "https://localhost:8080/"
    },
    "executionInfo": {
     "elapsed": 30,
     "status": "ok",
     "timestamp": 1693319354518,
     "user": {
      "displayName": "yash agarwal",
      "userId": "17024594359733032999"
     },
     "user_tz": -330
    },
    "id": "e1e050c6",
    "outputId": "c91208af-ea7e-41c8-b9e1-e460436b7ad0"
   },
   "outputs": [
    {
     "data": {
      "text/plain": [
       "{'data': array([[   8.3252    ,   41.        ,    6.98412698, ...,    2.55555556,\n",
       "           37.88      , -122.23      ],\n",
       "        [   8.3014    ,   21.        ,    6.23813708, ...,    2.10984183,\n",
       "           37.86      , -122.22      ],\n",
       "        [   7.2574    ,   52.        ,    8.28813559, ...,    2.80225989,\n",
       "           37.85      , -122.24      ],\n",
       "        ...,\n",
       "        [   1.7       ,   17.        ,    5.20554273, ...,    2.3256351 ,\n",
       "           39.43      , -121.22      ],\n",
       "        [   1.8672    ,   18.        ,    5.32951289, ...,    2.12320917,\n",
       "           39.43      , -121.32      ],\n",
       "        [   2.3886    ,   16.        ,    5.25471698, ...,    2.61698113,\n",
       "           39.37      , -121.24      ]]),\n",
       " 'target': array([4.526, 3.585, 3.521, ..., 0.923, 0.847, 0.894]),\n",
       " 'frame': None,\n",
       " 'target_names': ['MedHouseVal'],\n",
       " 'feature_names': ['MedInc',\n",
       "  'HouseAge',\n",
       "  'AveRooms',\n",
       "  'AveBedrms',\n",
       "  'Population',\n",
       "  'AveOccup',\n",
       "  'Latitude',\n",
       "  'Longitude'],\n",
       " 'DESCR': '.. _california_housing_dataset:\\n\\nCalifornia Housing dataset\\n--------------------------\\n\\n**Data Set Characteristics:**\\n\\n    :Number of Instances: 20640\\n\\n    :Number of Attributes: 8 numeric, predictive attributes and the target\\n\\n    :Attribute Information:\\n        - MedInc        median income in block group\\n        - HouseAge      median house age in block group\\n        - AveRooms      average number of rooms per household\\n        - AveBedrms     average number of bedrooms per household\\n        - Population    block group population\\n        - AveOccup      average number of household members\\n        - Latitude      block group latitude\\n        - Longitude     block group longitude\\n\\n    :Missing Attribute Values: None\\n\\nThis dataset was obtained from the StatLib repository.\\nhttps://www.dcc.fc.up.pt/~ltorgo/Regression/cal_housing.html\\n\\nThe target variable is the median house value for California districts,\\nexpressed in hundreds of thousands of dollars ($100,000).\\n\\nThis dataset was derived from the 1990 U.S. census, using one row per census\\nblock group. A block group is the smallest geographical unit for which the U.S.\\nCensus Bureau publishes sample data (a block group typically has a population\\nof 600 to 3,000 people).\\n\\nAn household is a group of people residing within a home. Since the average\\nnumber of rooms and bedrooms in this dataset are provided per household, these\\ncolumns may take surpinsingly large values for block groups with few households\\nand many empty houses, such as vacation resorts.\\n\\nIt can be downloaded/loaded using the\\n:func:`sklearn.datasets.fetch_california_housing` function.\\n\\n.. topic:: References\\n\\n    - Pace, R. Kelley and Ronald Barry, Sparse Spatial Autoregressions,\\n      Statistics and Probability Letters, 33 (1997) 291-297\\n'}"
      ]
     },
     "execution_count": 3,
     "metadata": {},
     "output_type": "execute_result"
    }
   ],
   "source": [
    "california_df"
   ]
  },
  {
   "cell_type": "code",
   "execution_count": 4,
   "id": "fcf26437-6293-459f-a1a2-3ab9631e2395",
   "metadata": {
    "executionInfo": {
     "elapsed": 26,
     "status": "ok",
     "timestamp": 1693319354519,
     "user": {
      "displayName": "yash agarwal",
      "userId": "17024594359733032999"
     },
     "user_tz": -330
    },
    "id": "fcf26437-6293-459f-a1a2-3ab9631e2395"
   },
   "outputs": [],
   "source": [
    "df=pd.DataFrame(california_df.data,columns=california_df.feature_names)\n",
    "df['Target']=california_df.target\n",
    "## Taking Sample Data i.e. taking 25% of data values\n",
    "df=df.sample(frac=0.25)"
   ]
  },
  {
   "cell_type": "code",
   "execution_count": 5,
   "id": "fafae4f3",
   "metadata": {
    "executionInfo": {
     "elapsed": 25,
     "status": "ok",
     "timestamp": 1693319354519,
     "user": {
      "displayName": "yash agarwal",
      "userId": "17024594359733032999"
     },
     "user_tz": -330
    },
    "id": "fafae4f3"
   },
   "outputs": [],
   "source": [
    "#independent features\n",
    "X=df.iloc[:,:-1]\n",
    "#dependent features\n",
    "y=df.iloc[:,-1]"
   ]
  },
  {
   "cell_type": "code",
   "execution_count": 6,
   "id": "5a30752c",
   "metadata": {
    "colab": {
     "base_uri": "https://localhost:8080/",
     "height": 206
    },
    "executionInfo": {
     "elapsed": 26,
     "status": "ok",
     "timestamp": 1693319354520,
     "user": {
      "displayName": "yash agarwal",
      "userId": "17024594359733032999"
     },
     "user_tz": -330
    },
    "id": "5a30752c",
    "outputId": "66468b0e-26fc-4e2b-e095-d702268758ec"
   },
   "outputs": [
    {
     "data": {
      "text/html": [
       "<div>\n",
       "<style scoped>\n",
       "    .dataframe tbody tr th:only-of-type {\n",
       "        vertical-align: middle;\n",
       "    }\n",
       "\n",
       "    .dataframe tbody tr th {\n",
       "        vertical-align: top;\n",
       "    }\n",
       "\n",
       "    .dataframe thead th {\n",
       "        text-align: right;\n",
       "    }\n",
       "</style>\n",
       "<table border=\"1\" class=\"dataframe\">\n",
       "  <thead>\n",
       "    <tr style=\"text-align: right;\">\n",
       "      <th></th>\n",
       "      <th>MedInc</th>\n",
       "      <th>HouseAge</th>\n",
       "      <th>AveRooms</th>\n",
       "      <th>AveBedrms</th>\n",
       "      <th>Population</th>\n",
       "      <th>AveOccup</th>\n",
       "      <th>Latitude</th>\n",
       "      <th>Longitude</th>\n",
       "    </tr>\n",
       "  </thead>\n",
       "  <tbody>\n",
       "    <tr>\n",
       "      <th>15515</th>\n",
       "      <td>5.4819</td>\n",
       "      <td>12.0</td>\n",
       "      <td>5.759346</td>\n",
       "      <td>0.962617</td>\n",
       "      <td>1226.0</td>\n",
       "      <td>2.864486</td>\n",
       "      <td>33.17</td>\n",
       "      <td>-117.10</td>\n",
       "    </tr>\n",
       "    <tr>\n",
       "      <th>10629</th>\n",
       "      <td>7.3518</td>\n",
       "      <td>16.0</td>\n",
       "      <td>7.165584</td>\n",
       "      <td>0.944805</td>\n",
       "      <td>1081.0</td>\n",
       "      <td>3.509740</td>\n",
       "      <td>33.71</td>\n",
       "      <td>-117.78</td>\n",
       "    </tr>\n",
       "    <tr>\n",
       "      <th>14371</th>\n",
       "      <td>6.6661</td>\n",
       "      <td>32.0</td>\n",
       "      <td>6.859967</td>\n",
       "      <td>1.154860</td>\n",
       "      <td>1277.0</td>\n",
       "      <td>2.103789</td>\n",
       "      <td>32.71</td>\n",
       "      <td>-117.24</td>\n",
       "    </tr>\n",
       "    <tr>\n",
       "      <th>1105</th>\n",
       "      <td>2.2419</td>\n",
       "      <td>16.0</td>\n",
       "      <td>5.653941</td>\n",
       "      <td>1.113300</td>\n",
       "      <td>1904.0</td>\n",
       "      <td>2.344828</td>\n",
       "      <td>39.83</td>\n",
       "      <td>-121.58</td>\n",
       "    </tr>\n",
       "    <tr>\n",
       "      <th>8894</th>\n",
       "      <td>4.5208</td>\n",
       "      <td>32.0</td>\n",
       "      <td>4.606459</td>\n",
       "      <td>1.076555</td>\n",
       "      <td>1456.0</td>\n",
       "      <td>1.741627</td>\n",
       "      <td>34.03</td>\n",
       "      <td>-118.49</td>\n",
       "    </tr>\n",
       "  </tbody>\n",
       "</table>\n",
       "</div>"
      ],
      "text/plain": [
       "       MedInc  HouseAge  AveRooms  AveBedrms  Population  AveOccup  Latitude  \\\n",
       "15515  5.4819      12.0  5.759346   0.962617      1226.0  2.864486     33.17   \n",
       "10629  7.3518      16.0  7.165584   0.944805      1081.0  3.509740     33.71   \n",
       "14371  6.6661      32.0  6.859967   1.154860      1277.0  2.103789     32.71   \n",
       "1105   2.2419      16.0  5.653941   1.113300      1904.0  2.344828     39.83   \n",
       "8894   4.5208      32.0  4.606459   1.076555      1456.0  1.741627     34.03   \n",
       "\n",
       "       Longitude  \n",
       "15515    -117.10  \n",
       "10629    -117.78  \n",
       "14371    -117.24  \n",
       "1105     -121.58  \n",
       "8894     -118.49  "
      ]
     },
     "execution_count": 6,
     "metadata": {},
     "output_type": "execute_result"
    }
   ],
   "source": [
    "X.head()"
   ]
  },
  {
   "cell_type": "code",
   "execution_count": 7,
   "id": "204dc4af",
   "metadata": {
    "executionInfo": {
     "elapsed": 23,
     "status": "ok",
     "timestamp": 1693319354520,
     "user": {
      "displayName": "yash agarwal",
      "userId": "17024594359733032999"
     },
     "user_tz": -330
    },
    "id": "204dc4af"
   },
   "outputs": [],
   "source": [
    "### train test split\n",
    "from sklearn.model_selection import train_test_split\n",
    "X_train, X_test, y_train, y_test = train_test_split(\n",
    "     X, y, test_size=0.33, random_state=42)"
   ]
  },
  {
   "cell_type": "code",
   "execution_count": 8,
   "id": "cddbf544",
   "metadata": {
    "executionInfo": {
     "elapsed": 1853,
     "status": "ok",
     "timestamp": 1693319356351,
     "user": {
      "displayName": "yash agarwal",
      "userId": "17024594359733032999"
     },
     "user_tz": -330
    },
    "id": "cddbf544"
   },
   "outputs": [],
   "source": [
    "from sklearn.tree import DecisionTreeRegressor\n",
    "regressor=DecisionTreeRegressor()"
   ]
  },
  {
   "cell_type": "code",
   "execution_count": 9,
   "id": "3464ee3b",
   "metadata": {
    "colab": {
     "base_uri": "https://localhost:8080/",
     "height": 74
    },
    "executionInfo": {
     "elapsed": 24,
     "status": "ok",
     "timestamp": 1693319356351,
     "user": {
      "displayName": "yash agarwal",
      "userId": "17024594359733032999"
     },
     "user_tz": -330
    },
    "id": "3464ee3b",
    "outputId": "0ee2a12c-7a2d-48c9-fd4a-a75cebea5f60"
   },
   "outputs": [
    {
     "data": {
      "text/plain": [
       "DecisionTreeRegressor()"
      ]
     },
     "execution_count": 9,
     "metadata": {},
     "output_type": "execute_result"
    }
   ],
   "source": [
    "regressor.fit(X_train,y_train)"
   ]
  },
  {
   "cell_type": "code",
   "execution_count": 10,
   "id": "68f011be",
   "metadata": {
    "executionInfo": {
     "elapsed": 19,
     "status": "ok",
     "timestamp": 1693319356352,
     "user": {
      "displayName": "yash agarwal",
      "userId": "17024594359733032999"
     },
     "user_tz": -330
    },
    "id": "68f011be"
   },
   "outputs": [],
   "source": [
    "y_pred=regressor.predict(X_test)"
   ]
  },
  {
   "cell_type": "code",
   "execution_count": 11,
   "id": "74aca27e",
   "metadata": {
    "colab": {
     "base_uri": "https://localhost:8080/"
    },
    "executionInfo": {
     "elapsed": 20,
     "status": "ok",
     "timestamp": 1693319356353,
     "user": {
      "displayName": "yash agarwal",
      "userId": "17024594359733032999"
     },
     "user_tz": -330
    },
    "id": "74aca27e",
    "outputId": "746d6cfd-e7cc-4423-d426-8380a0495566"
   },
   "outputs": [
    {
     "data": {
      "text/plain": [
       "array([5.00001, 2.117  , 0.775  , ..., 1.291  , 3.3    , 0.821  ])"
      ]
     },
     "execution_count": 11,
     "metadata": {},
     "output_type": "execute_result"
    }
   ],
   "source": [
    "y_pred"
   ]
  },
  {
   "cell_type": "code",
   "execution_count": 12,
   "id": "3b222c79",
   "metadata": {
    "executionInfo": {
     "elapsed": 18,
     "status": "ok",
     "timestamp": 1693319356354,
     "user": {
      "displayName": "yash agarwal",
      "userId": "17024594359733032999"
     },
     "user_tz": -330
    },
    "id": "3b222c79"
   },
   "outputs": [],
   "source": [
    "from sklearn.metrics import r2_score\n",
    "score=r2_score(y_pred,y_test)"
   ]
  },
  {
   "cell_type": "code",
   "execution_count": 13,
   "id": "b2762cc6",
   "metadata": {
    "colab": {
     "base_uri": "https://localhost:8080/"
    },
    "executionInfo": {
     "elapsed": 18,
     "status": "ok",
     "timestamp": 1693319356354,
     "user": {
      "displayName": "yash agarwal",
      "userId": "17024594359733032999"
     },
     "user_tz": -330
    },
    "id": "b2762cc6",
    "outputId": "1e8f3114-dde0-45ae-9259-322f40295530"
   },
   "outputs": [
    {
     "data": {
      "text/plain": [
       "0.5129170944430812"
      ]
     },
     "execution_count": 13,
     "metadata": {},
     "output_type": "execute_result"
    }
   ],
   "source": [
    "score"
   ]
  },
  {
   "cell_type": "code",
   "execution_count": 14,
   "id": "528e7da3",
   "metadata": {
    "executionInfo": {
     "elapsed": 15,
     "status": "ok",
     "timestamp": 1693319356354,
     "user": {
      "displayName": "yash agarwal",
      "userId": "17024594359733032999"
     },
     "user_tz": -330
    },
    "id": "528e7da3"
   },
   "outputs": [],
   "source": [
    "## Hyperparameter Tunning\n",
    "parameter={\n",
    " 'criterion':['squared_error','friedman_mse','absolute_error','poisson'],\n",
    "  'splitter':['best','random'],\n",
    "  'max_depth':[1,2,3,4,5,6,7,8,10,11,12],\n",
    "  'max_features':['auto', 'sqrt', 'log2']\n",
    "\n",
    "}\n",
    "regressor=DecisionTreeRegressor()"
   ]
  },
  {
   "cell_type": "code",
   "execution_count": 15,
   "id": "6a8d156c",
   "metadata": {
    "executionInfo": {
     "elapsed": 16,
     "status": "ok",
     "timestamp": 1693319356355,
     "user": {
      "displayName": "yash agarwal",
      "userId": "17024594359733032999"
     },
     "user_tz": -330
    },
    "id": "6a8d156c"
   },
   "outputs": [],
   "source": [
    "#https://scikit-learn.org/stable/modules/model_evaluation.html\n",
    "import warnings\n",
    "warnings.filterwarnings('ignore')\n",
    "from sklearn.model_selection import GridSearchCV\n",
    "regressorcv=GridSearchCV(regressor,param_grid=parameter,cv=2,scoring='neg_mean_squared_error')"
   ]
  },
  {
   "cell_type": "code",
   "execution_count": 16,
   "id": "e572bfee",
   "metadata": {
    "colab": {
     "base_uri": "https://localhost:8080/",
     "height": 117
    },
    "executionInfo": {
     "elapsed": 11463,
     "status": "ok",
     "timestamp": 1693319367803,
     "user": {
      "displayName": "yash agarwal",
      "userId": "17024594359733032999"
     },
     "user_tz": -330
    },
    "id": "e572bfee",
    "outputId": "a97b7d4e-7790-44be-fd67-1738db779331"
   },
   "outputs": [
    {
     "data": {
      "text/plain": [
       "GridSearchCV(cv=2, estimator=DecisionTreeRegressor(),\n",
       "             param_grid={'criterion': ['squared_error', 'friedman_mse',\n",
       "                                       'absolute_error', 'poisson'],\n",
       "                         'max_depth': [1, 2, 3, 4, 5, 6, 7, 8, 10, 11, 12],\n",
       "                         'max_features': ['auto', 'sqrt', 'log2'],\n",
       "                         'splitter': ['best', 'random']},\n",
       "             scoring='neg_mean_squared_error')"
      ]
     },
     "execution_count": 16,
     "metadata": {},
     "output_type": "execute_result"
    }
   ],
   "source": [
    "regressorcv.fit(X_train,y_train)"
   ]
  },
  {
   "cell_type": "code",
   "execution_count": 17,
   "id": "5f53a92b",
   "metadata": {
    "colab": {
     "base_uri": "https://localhost:8080/"
    },
    "executionInfo": {
     "elapsed": 16,
     "status": "ok",
     "timestamp": 1693319367803,
     "user": {
      "displayName": "yash agarwal",
      "userId": "17024594359733032999"
     },
     "user_tz": -330
    },
    "id": "5f53a92b",
    "outputId": "4052f6b6-3c4f-48e5-98a0-db01d2612b7e"
   },
   "outputs": [
    {
     "data": {
      "text/plain": [
       "{'criterion': 'absolute_error',\n",
       " 'max_depth': 6,\n",
       " 'max_features': 'auto',\n",
       " 'splitter': 'best'}"
      ]
     },
     "execution_count": 17,
     "metadata": {},
     "output_type": "execute_result"
    }
   ],
   "source": [
    "regressorcv.best_params_"
   ]
  },
  {
   "cell_type": "code",
   "execution_count": 18,
   "id": "0f30f6b4",
   "metadata": {
    "executionInfo": {
     "elapsed": 14,
     "status": "ok",
     "timestamp": 1693319367804,
     "user": {
      "displayName": "yash agarwal",
      "userId": "17024594359733032999"
     },
     "user_tz": -330
    },
    "id": "0f30f6b4"
   },
   "outputs": [],
   "source": [
    "y_pred=regressorcv.predict(X_test)"
   ]
  },
  {
   "cell_type": "code",
   "execution_count": 19,
   "id": "e2631117",
   "metadata": {
    "colab": {
     "base_uri": "https://localhost:8080/"
    },
    "executionInfo": {
     "elapsed": 13,
     "status": "ok",
     "timestamp": 1693319367804,
     "user": {
      "displayName": "yash agarwal",
      "userId": "17024594359733032999"
     },
     "user_tz": -330
    },
    "id": "e2631117",
    "outputId": "b3725f73-cd30-4aef-8267-39860d962d37"
   },
   "outputs": [
    {
     "data": {
      "text/plain": [
       "0.45210709722608433"
      ]
     },
     "execution_count": 19,
     "metadata": {},
     "output_type": "execute_result"
    }
   ],
   "source": [
    "r2_score(y_pred,y_test)"
   ]
  }
 ],
 "metadata": {
  "colab": {
   "provenance": []
  },
  "kernelspec": {
   "display_name": "Python 3 (ipykernel)",
   "language": "python",
   "name": "python3"
  },
  "language_info": {
   "codemirror_mode": {
    "name": "ipython",
    "version": 3
   },
   "file_extension": ".py",
   "mimetype": "text/x-python",
   "name": "python",
   "nbconvert_exporter": "python",
   "pygments_lexer": "ipython3",
   "version": "3.11.5"
  }
 },
 "nbformat": 4,
 "nbformat_minor": 5
}
