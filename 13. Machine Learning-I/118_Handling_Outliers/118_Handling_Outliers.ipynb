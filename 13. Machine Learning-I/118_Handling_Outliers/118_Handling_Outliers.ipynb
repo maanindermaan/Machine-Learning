{
 "cells": [
  {
   "cell_type": "markdown",
   "id": "e219a9bc",
   "metadata": {},
   "source": [
    "## Handling Outliers"
   ]
  },
  {
   "cell_type": "markdown",
   "id": "c40be649",
   "metadata": {},
   "source": [
    "### 5 number Summary And Box Plot\n",
    "1. Minimum Value\n",
    "2. Q1 - 25 percentile\n",
    "3. Median \n",
    "4. Q3 - 75 percentile\n",
    "5. Maximum"
   ]
  },
  {
   "cell_type": "code",
   "execution_count": 2,
   "id": "6aca918b",
   "metadata": {},
   "outputs": [],
   "source": [
    "import numpy as np"
   ]
  },
  {
   "cell_type": "code",
   "execution_count": 4,
   "id": "0066b6a9",
   "metadata": {},
   "outputs": [],
   "source": [
    "lst_marks=[45,32,56,75,89,54,32,89,90,87,67,54,45,98,99,67,74 ,1000 , 1100]"
   ]
  },
  {
   "cell_type": "code",
   "execution_count": 6,
   "id": "29bca583",
   "metadata": {},
   "outputs": [
    {
     "data": {
      "text/plain": [
       "array([54.])"
      ]
     },
     "execution_count": 6,
     "metadata": {},
     "output_type": "execute_result"
    }
   ],
   "source": [
    "# 25 percentile\n",
    "np.percentile(lst_marks , [25])"
   ]
  },
  {
   "cell_type": "code",
   "execution_count": 7,
   "id": "270abcee",
   "metadata": {},
   "outputs": [
    {
     "data": {
      "text/plain": [
       "array([74.])"
      ]
     },
     "execution_count": 7,
     "metadata": {},
     "output_type": "execute_result"
    }
   ],
   "source": [
    "np.percentile(lst_marks , [50])"
   ]
  },
  {
   "cell_type": "code",
   "execution_count": 8,
   "id": "8d117c92",
   "metadata": {},
   "outputs": [
    {
     "data": {
      "text/plain": [
       "array([1100.])"
      ]
     },
     "execution_count": 8,
     "metadata": {},
     "output_type": "execute_result"
    }
   ],
   "source": [
    "np.percentile(lst_marks , [100])"
   ]
  },
  {
   "cell_type": "code",
   "execution_count": 9,
   "id": "a83499e6",
   "metadata": {},
   "outputs": [],
   "source": [
    "# Finding Outliers"
   ]
  },
  {
   "cell_type": "code",
   "execution_count": 10,
   "id": "8e4faf33",
   "metadata": {},
   "outputs": [],
   "source": [
    "# We will create a range between <<<< Lower Fence & Higher Fence >>>>"
   ]
  },
  {
   "cell_type": "code",
   "execution_count": 13,
   "id": "2ed40829",
   "metadata": {},
   "outputs": [
    {
     "name": "stdout",
     "output_type": "stream",
     "text": [
      "[54.]\n"
     ]
    }
   ],
   "source": [
    "Q1 = np.percentile(lst_marks , [25])\n",
    "print(Q1)"
   ]
  },
  {
   "cell_type": "code",
   "execution_count": 17,
   "id": "9994d26c",
   "metadata": {},
   "outputs": [],
   "source": [
    "# Using inbuilt function to find these 5 things\n",
    "minimum , Q1 , Q2 , Q3 , maximum = np.quantile(lst_marks , [0,0.25,0.50,0.75,1.0])\n",
    "# outliers are included here "
   ]
  },
  {
   "cell_type": "code",
   "execution_count": 18,
   "id": "4f042023",
   "metadata": {},
   "outputs": [],
   "source": [
    "# Lower Fence \n",
    "# Finding IQR"
   ]
  },
  {
   "cell_type": "code",
   "execution_count": 19,
   "id": "f37469be",
   "metadata": {},
   "outputs": [
    {
     "name": "stdout",
     "output_type": "stream",
     "text": [
      "35.5\n"
     ]
    }
   ],
   "source": [
    "IQR = Q3-Q1\n",
    "print(IQR)"
   ]
  },
  {
   "cell_type": "code",
   "execution_count": 22,
   "id": "cfbb8415",
   "metadata": {},
   "outputs": [],
   "source": [
    "lower_fence = Q1 - 1.5*(IQR)\n",
    "higher_fence = Q3 + 1.5*(IQR)"
   ]
  },
  {
   "cell_type": "code",
   "execution_count": 23,
   "id": "b0b8b146",
   "metadata": {},
   "outputs": [
    {
     "data": {
      "text/plain": [
       "(0.75, 142.75)"
      ]
     },
     "execution_count": 23,
     "metadata": {},
     "output_type": "execute_result"
    }
   ],
   "source": [
    "lower_fence , higher_fence"
   ]
  },
  {
   "cell_type": "code",
   "execution_count": 29,
   "id": "af3aec42",
   "metadata": {},
   "outputs": [],
   "source": [
    "outliers = []\n",
    "for i in lst_marks:\n",
    "    if i<0.75 or i>142.75:\n",
    "        outliers.append(i)"
   ]
  },
  {
   "cell_type": "code",
   "execution_count": 30,
   "id": "7340d017",
   "metadata": {},
   "outputs": [
    {
     "data": {
      "text/plain": [
       "[1000, 1100]"
      ]
     },
     "execution_count": 30,
     "metadata": {},
     "output_type": "execute_result"
    }
   ],
   "source": [
    "outliers"
   ]
  },
  {
   "cell_type": "code",
   "execution_count": 31,
   "id": "683b4756",
   "metadata": {},
   "outputs": [],
   "source": [
    "# OR"
   ]
  },
  {
   "cell_type": "code",
   "execution_count": 37,
   "id": "cd92d160",
   "metadata": {},
   "outputs": [
    {
     "name": "stdout",
     "output_type": "stream",
     "text": [
      "The element 45 is not an outlier\n",
      "The element 32 is not an outlier\n",
      "The element 56 is not an outlier\n",
      "The element 75 is not an outlier\n",
      "The element 89 is not an outlier\n",
      "The element 54 is not an outlier\n",
      "The element 32 is not an outlier\n",
      "The element 89 is not an outlier\n",
      "The element 90 is not an outlier\n",
      "The element 87 is not an outlier\n",
      "The element 67 is not an outlier\n",
      "The element 54 is not an outlier\n",
      "The element 45 is not an outlier\n",
      "The element 98 is not an outlier\n",
      "The element 99 is not an outlier\n",
      "The element 67 is not an outlier\n",
      "The element 74 is not an outlier\n"
     ]
    }
   ],
   "source": [
    "outliers = []\n",
    "for i in lst_marks:\n",
    "    if i>=0.75 and i<=142.75:\n",
    "        print(\"The element\" , i , \"is not an outlier\")\n",
    "    else:\n",
    "        outliers.append(i)"
   ]
  },
  {
   "cell_type": "code",
   "execution_count": 34,
   "id": "eb969c0b",
   "metadata": {},
   "outputs": [
    {
     "data": {
      "text/plain": [
       "[1000, 1100]"
      ]
     },
     "execution_count": 34,
     "metadata": {},
     "output_type": "execute_result"
    }
   ],
   "source": [
    "outliers"
   ]
  },
  {
   "cell_type": "markdown",
   "id": "76b98b0e",
   "metadata": {},
   "source": [
    "### BOX PLOT"
   ]
  },
  {
   "cell_type": "code",
   "execution_count": 38,
   "id": "6145038d",
   "metadata": {},
   "outputs": [],
   "source": [
    "import seaborn as sns"
   ]
  },
  {
   "cell_type": "code",
   "execution_count": 41,
   "id": "fb9988ed",
   "metadata": {},
   "outputs": [
    {
     "name": "stderr",
     "output_type": "stream",
     "text": [
      "/Users/apple/opt/anaconda3/lib/python3.9/site-packages/seaborn/_decorators.py:36: FutureWarning: Pass the following variable as a keyword arg: x. From version 0.12, the only valid positional argument will be `data`, and passing other arguments without an explicit keyword will result in an error or misinterpretation.\n",
      "  warnings.warn(\n"
     ]
    },
    {
     "data": {
      "text/plain": [
       "<AxesSubplot:>"
      ]
     },
     "execution_count": 41,
     "metadata": {},
     "output_type": "execute_result"
    },
    {
     "data": {
      "image/png": "[encoded data removed]",
      "text/plain": [
       "<Figure size 640x480 with 1 Axes>"
      ]
     },
     "metadata": {},
     "output_type": "display_data"
    }
   ],
   "source": [
    "sns.boxplot(lst_marks)"
   ]
  },
  {
   "cell_type": "code",
   "execution_count": 42,
   "id": "d27e4ff8",
   "metadata": {},
   "outputs": [],
   "source": [
    "lst_marks=[45,32,56,75,89,54,32,89,90,87,67,54,45,98,99,67,74]"
   ]
  },
  {
   "cell_type": "code",
   "execution_count": 43,
   "id": "dc2abc40",
   "metadata": {},
   "outputs": [
    {
     "name": "stderr",
     "output_type": "stream",
     "text": [
      "/Users/apple/opt/anaconda3/lib/python3.9/site-packages/seaborn/_decorators.py:36: FutureWarning: Pass the following variable as a keyword arg: x. From version 0.12, the only valid positional argument will be `data`, and passing other arguments without an explicit keyword will result in an error or misinterpretation.\n",
      "  warnings.warn(\n"
     ]
    },
    {
     "data": {
      "text/plain": [
       "<AxesSubplot:>"
      ]
     },
     "execution_count": 43,
     "metadata": {},
     "output_type": "execute_result"
    },
    {
     "data": {
      "image/png": "[encoded data removed]",
      "text/plain": [
       "<Figure size 640x480 with 1 Axes>"
      ]
     },
     "metadata": {},
     "output_type": "display_data"
    }
   ],
   "source": [
    "sns.boxplot(lst_marks)"
   ]
  },
  {
   "cell_type": "code",
   "execution_count": null,
   "id": "9915bdff",
   "metadata": {},
   "outputs": [],
   "source": []
  }
 ],
 "metadata": {
  "kernelspec": {
   "display_name": "Python 3 (ipykernel)",
   "language": "python",
   "name": "python3"
  },
  "language_info": {
   "codemirror_mode": {
    "name": "ipython",
    "version": 3
   },
   "file_extension": ".py",
   "mimetype": "text/x-python",
   "name": "python",
   "nbconvert_exporter": "python",
   "pygments_lexer": "ipython3",
   "version": "3.9.13"
  }
 },
 "nbformat": 4,
 "nbformat_minor": 5
}
