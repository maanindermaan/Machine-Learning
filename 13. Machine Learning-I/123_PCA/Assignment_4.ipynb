{
 "cells": [
  {
   "cell_type": "markdown",
   "id": "32d9b886",
   "metadata": {},
   "source": [
    "Q. For a dataset containing the following values: [1, 5, 10, 15, 20], perform Min-Max scaling to transform the\n",
    "values to a range of -1 to 1."
   ]
  },
  {
   "cell_type": "code",
   "execution_count": 2,
   "id": "f249511b",
   "metadata": {},
   "outputs": [
    {
     "data": {
      "text/plain": [
       "array([[-1.        ],\n",
       "       [-0.57894737],\n",
       "       [-0.05263158],\n",
       "       [ 0.47368421],\n",
       "       [ 1.        ]])"
      ]
     },
     "execution_count": 2,
     "metadata": {},
     "output_type": "execute_result"
    }
   ],
   "source": [
    "import numpy as np\n",
    "from sklearn.preprocessing import MinMaxScaler\n",
    "\n",
    "data = np.array([[1,5,10,15,20]])\n",
    "\n",
    "minmax = MinMaxScaler(feature_range=(-1,1))\n",
    "\n",
    "# before scaling transpose the data\n",
    "transposed_data = data.T\n",
    "\n",
    "minmax.fit(transposed_data)\n",
    "\n",
    "minmax.transform(transposed_data)"
   ]
  },
  {
   "cell_type": "markdown",
   "id": "6cea101f",
   "metadata": {},
   "source": [
    "Q. For a dataset containing the following features: [height, weight, age, gender, blood pressure], perform\n",
    "Feature Extraction using PCA. How many principal components would you choose to retain, and why?"
   ]
  },
  {
   "cell_type": "code",
   "execution_count": 13,
   "id": "4b0d67e5",
   "metadata": {},
   "outputs": [
    {
     "data": {
      "application/javascript": [
       "\n",
       "        if (window._pyforest_update_imports_cell) { window._pyforest_update_imports_cell('import pandas as pd'); }\n",
       "    "
      ],
      "text/plain": [
       "<IPython.core.display.Javascript object>"
      ]
     },
     "metadata": {},
     "output_type": "display_data"
    }
   ],
   "source": [
    "df = pd.DataFrame({\n",
    "    'height' : [100,123,143,156,171] , \n",
    "    'weight' : [55,67,86,90,105],\n",
    "    'age' : [23,32,14,53,78],\n",
    "    'gender' : [1,0,1,0,0],\n",
    "    'blood_pressure' : [123,121,100,171,205]\n",
    "})"
   ]
  },
  {
   "cell_type": "code",
   "execution_count": 14,
   "id": "4b6425ae",
   "metadata": {},
   "outputs": [
    {
     "data": {
      "text/html": [
       "<div>\n",
       "<style scoped>\n",
       "    .dataframe tbody tr th:only-of-type {\n",
       "        vertical-align: middle;\n",
       "    }\n",
       "\n",
       "    .dataframe tbody tr th {\n",
       "        vertical-align: top;\n",
       "    }\n",
       "\n",
       "    .dataframe thead th {\n",
       "        text-align: right;\n",
       "    }\n",
       "</style>\n",
       "<table border=\"1\" class=\"dataframe\">\n",
       "  <thead>\n",
       "    <tr style=\"text-align: right;\">\n",
       "      <th></th>\n",
       "      <th>height</th>\n",
       "      <th>weight</th>\n",
       "      <th>age</th>\n",
       "      <th>gender</th>\n",
       "      <th>blood_pressure</th>\n",
       "    </tr>\n",
       "  </thead>\n",
       "  <tbody>\n",
       "    <tr>\n",
       "      <th>0</th>\n",
       "      <td>100</td>\n",
       "      <td>55</td>\n",
       "      <td>23</td>\n",
       "      <td>1</td>\n",
       "      <td>123</td>\n",
       "    </tr>\n",
       "    <tr>\n",
       "      <th>1</th>\n",
       "      <td>123</td>\n",
       "      <td>67</td>\n",
       "      <td>32</td>\n",
       "      <td>0</td>\n",
       "      <td>121</td>\n",
       "    </tr>\n",
       "    <tr>\n",
       "      <th>2</th>\n",
       "      <td>143</td>\n",
       "      <td>86</td>\n",
       "      <td>14</td>\n",
       "      <td>1</td>\n",
       "      <td>100</td>\n",
       "    </tr>\n",
       "    <tr>\n",
       "      <th>3</th>\n",
       "      <td>156</td>\n",
       "      <td>90</td>\n",
       "      <td>53</td>\n",
       "      <td>0</td>\n",
       "      <td>171</td>\n",
       "    </tr>\n",
       "    <tr>\n",
       "      <th>4</th>\n",
       "      <td>171</td>\n",
       "      <td>105</td>\n",
       "      <td>78</td>\n",
       "      <td>0</td>\n",
       "      <td>205</td>\n",
       "    </tr>\n",
       "  </tbody>\n",
       "</table>\n",
       "</div>"
      ],
      "text/plain": [
       "   height  weight  age  gender  blood_pressure\n",
       "0     100      55   23       1             123\n",
       "1     123      67   32       0             121\n",
       "2     143      86   14       1             100\n",
       "3     156      90   53       0             171\n",
       "4     171     105   78       0             205"
      ]
     },
     "execution_count": 14,
     "metadata": {},
     "output_type": "execute_result"
    }
   ],
   "source": [
    "df.head()"
   ]
  },
  {
   "cell_type": "code",
   "execution_count": 15,
   "id": "6e681a15",
   "metadata": {},
   "outputs": [],
   "source": [
    "# before pca applying Stnadization\n",
    "\n",
    "from sklearn.preprocessing import StandardScaler"
   ]
  },
  {
   "cell_type": "code",
   "execution_count": 16,
   "id": "768d3021",
   "metadata": {},
   "outputs": [],
   "source": [
    "scaler = StandardScaler()"
   ]
  },
  {
   "cell_type": "code",
   "execution_count": 17,
   "id": "d5f1908b",
   "metadata": {},
   "outputs": [
    {
     "data": {
      "text/plain": [
       "StandardScaler()"
      ]
     },
     "execution_count": 17,
     "metadata": {},
     "output_type": "execute_result"
    }
   ],
   "source": [
    "scaler.fit(df)"
   ]
  },
  {
   "cell_type": "code",
   "execution_count": 19,
   "id": "60290e02",
   "metadata": {},
   "outputs": [],
   "source": [
    "scaled_data = scaler.transform(df)"
   ]
  },
  {
   "cell_type": "code",
   "execution_count": 21,
   "id": "a5099f4e",
   "metadata": {},
   "outputs": [],
   "source": [
    "# applying PCA now\n",
    "from sklearn.decomposition import PCA"
   ]
  },
  {
   "cell_type": "code",
   "execution_count": 22,
   "id": "5eabd36a",
   "metadata": {},
   "outputs": [],
   "source": [
    "pca = PCA(n_components=3)"
   ]
  },
  {
   "cell_type": "code",
   "execution_count": 23,
   "id": "82600f23",
   "metadata": {},
   "outputs": [
    {
     "data": {
      "text/plain": [
       "PCA(n_components=3)"
      ]
     },
     "execution_count": 23,
     "metadata": {},
     "output_type": "execute_result"
    }
   ],
   "source": [
    "pca.fit(scaled_data)"
   ]
  },
  {
   "cell_type": "code",
   "execution_count": 24,
   "id": "489208e3",
   "metadata": {},
   "outputs": [
    {
     "data": {
      "text/plain": [
       "array([[-2.43241061, -0.50687773,  0.82568831],\n",
       "       [-0.75354802, -0.97212021, -0.78549587],\n",
       "       [-1.33729335,  1.53459542, -0.27698149],\n",
       "       [ 1.47004576, -0.16200554, -0.20410616],\n",
       "       [ 3.05320622,  0.10640806,  0.44089522]])"
      ]
     },
     "execution_count": 24,
     "metadata": {},
     "output_type": "execute_result"
    }
   ],
   "source": [
    "pca.transform(scaled_data)"
   ]
  },
  {
   "cell_type": "code",
   "execution_count": 25,
   "id": "e328ef81",
   "metadata": {},
   "outputs": [
    {
     "name": "stdout",
     "output_type": "stream",
     "text": [
      "Original DataFrame:\n",
      "       height     weight  age  gender  blood_pressure\n",
      "0  197.657666  93.134575   22  Female              85\n",
      "1  194.608409  50.751361   47    Male             109\n",
      "2  171.381724  99.635562   26  Female             100\n",
      "3  197.128706  50.481281   55    Male             102\n",
      "4  177.255539  73.083758   20  Female              93\n",
      "\n",
      "DataFrame after PCA (Reduced Features):\n",
      "        PC1       PC2       PC3\n",
      "0  2.700993 -0.508657  0.028689\n",
      "1 -1.362262 -1.618693 -0.373275\n",
      "2  1.471775  0.064887 -0.085519\n",
      "3 -1.298468 -1.071846 -0.702969\n",
      "4  1.067242 -0.474259  1.230395\n"
     ]
    }
   ],
   "source": [
    "import pandas as pd\n",
    "import numpy as np\n",
    "from sklearn.preprocessing import StandardScaler\n",
    "from sklearn.decomposition import PCA\n",
    "\n",
    "# Create a sample dataframe (replace this with your data)\n",
    "data = {\n",
    "    'height': np.random.uniform(150, 200, 100),\n",
    "    'weight': np.random.uniform(50, 100, 100),\n",
    "    'age': np.random.randint(20, 60, 100),\n",
    "    'gender': np.random.choice(['Male', 'Female'], 100),\n",
    "    'blood_pressure': np.random.randint(80, 120, 100)\n",
    "}\n",
    "\n",
    "df = pd.DataFrame(data)\n",
    "\n",
    "# Display the original dataframe\n",
    "print(\"Original DataFrame:\")\n",
    "print(df.head())\n",
    "\n",
    "# Separating numerical columns for scaling\n",
    "numerical_columns = ['height', 'weight', 'age', 'blood_pressure']\n",
    "X = df[numerical_columns]\n",
    "\n",
    "# Standardize the data (scaling)\n",
    "scaler = StandardScaler()\n",
    "X_scaled = scaler.fit_transform(X)\n",
    "\n",
    "# Applying PCA for dimensionality reduction\n",
    "num_components = 3  # Set the number of components for PCA\n",
    "pca = PCA(n_components=num_components)\n",
    "X_pca = pca.fit_transform(X_scaled)\n",
    "\n",
    "# Creating a new dataframe with reduced features\n",
    "df_pca = pd.DataFrame(data=X_pca, columns=[f\"PC{i+1}\" for i in range(num_components)])\n",
    "\n",
    "# Display the reduced feature dataframe\n",
    "print(\"\\nDataFrame after PCA (Reduced Features):\")\n",
    "print(df_pca.head())\n"
   ]
  },
  {
   "cell_type": "code",
   "execution_count": 26,
   "id": "79524cac",
   "metadata": {},
   "outputs": [
    {
     "name": "stdout",
     "output_type": "stream",
     "text": [
      "Original DataFrame:\n",
      "       height     weight  age  gender  blood_pressure\n",
      "0  163.872735  81.852525   31    Male              99\n",
      "1  162.681194  80.719538   45    Male             109\n",
      "2  159.245434  95.625189   46  Female             107\n",
      "3  157.153322  80.886021   31    Male             105\n",
      "4  181.495851  88.239461   23  Female              93\n",
      "\n",
      "DataFrame after PCA (Reduced Features):\n",
      "        PC1       PC2       PC3\n",
      "0  0.775115 -0.600737  0.299619\n",
      "1 -0.677760 -1.157711 -0.083233\n",
      "2 -0.125029 -1.682876 -0.965112\n",
      "3  0.448938 -1.141606  0.496058\n",
      "4  1.567207  0.622339 -0.305486\n",
      "\n",
      "Original features contributing to each Principal Component:\n",
      "Principal Component 1:\n",
      "          Feature  Contribution\n",
      "0          height     -0.193677\n",
      "1          weight      0.387347\n",
      "2             age     -0.628119\n",
      "3  blood_pressure     -0.646466\n",
      "\n",
      "Principal Component 2:\n",
      "          Feature  Contribution\n",
      "0          height      0.892277\n",
      "1          weight     -0.311029\n",
      "2             age     -0.201620\n",
      "3  blood_pressure     -0.257784\n",
      "\n",
      "Principal Component 3:\n",
      "          Feature  Contribution\n",
      "0          height     -0.394452\n",
      "1          weight     -0.855727\n",
      "2             age     -0.325616\n",
      "3  blood_pressure     -0.078180\n",
      "\n"
     ]
    }
   ],
   "source": [
    "import pandas as pd\n",
    "import numpy as np\n",
    "from sklearn.preprocessing import StandardScaler\n",
    "from sklearn.decomposition import PCA\n",
    "\n",
    "# Create a sample dataframe (replace this with your data)\n",
    "data = {\n",
    "    'height': np.random.uniform(150, 200, 100),\n",
    "    'weight': np.random.uniform(50, 100, 100),\n",
    "    'age': np.random.randint(20, 60, 100),\n",
    "    'gender': np.random.choice(['Male', 'Female'], 100),\n",
    "    'blood_pressure': np.random.randint(80, 120, 100)\n",
    "}\n",
    "\n",
    "df = pd.DataFrame(data)\n",
    "\n",
    "# Display the original dataframe\n",
    "print(\"Original DataFrame:\")\n",
    "print(df.head())\n",
    "\n",
    "# Separating numerical columns for scaling\n",
    "numerical_columns = ['height', 'weight', 'age', 'blood_pressure']\n",
    "X = df[numerical_columns]\n",
    "\n",
    "# Standardize the data (scaling)\n",
    "scaler = StandardScaler()\n",
    "X_scaled = scaler.fit_transform(X)\n",
    "\n",
    "# Applying PCA for dimensionality reduction\n",
    "num_components = 3  # Set the number of components for PCA\n",
    "pca = PCA(n_components=num_components)\n",
    "X_pca = pca.fit_transform(X_scaled)\n",
    "\n",
    "# Creating a new dataframe with reduced features\n",
    "df_pca = pd.DataFrame(data=X_pca, columns=[f\"PC{i+1}\" for i in range(num_components)])\n",
    "\n",
    "# Display the reduced feature dataframe\n",
    "print(\"\\nDataFrame after PCA (Reduced Features):\")\n",
    "print(df_pca.head())\n",
    "\n",
    "# Display the original features contributing to each principal component\n",
    "print(\"\\nOriginal features contributing to each Principal Component:\")\n",
    "for i, component in enumerate(pca.components_):\n",
    "    print(f\"Principal Component {i+1}:\")\n",
    "    component_df = pd.DataFrame({'Feature': numerical_columns, 'Contribution': component})\n",
    "    print(component_df)\n",
    "    print()\n"
   ]
  },
  {
   "cell_type": "code",
   "execution_count": null,
   "id": "e607ebce",
   "metadata": {},
   "outputs": [],
   "source": []
  }
 ],
 "metadata": {
  "kernelspec": {
   "display_name": "Python 3 (ipykernel)",
   "language": "python",
   "name": "python3"
  },
  "language_info": {
   "codemirror_mode": {
    "name": "ipython",
    "version": 3
   },
   "file_extension": ".py",
   "mimetype": "text/x-python",
   "name": "python",
   "nbconvert_exporter": "python",
   "pygments_lexer": "ipython3",
   "version": "3.9.13"
  }
 },
 "nbformat": 4,
 "nbformat_minor": 5
}
