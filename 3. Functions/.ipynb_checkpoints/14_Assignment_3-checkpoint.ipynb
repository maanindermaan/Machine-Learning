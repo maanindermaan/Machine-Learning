{
 "cells": [
  {
   "cell_type": "code",
   "execution_count": 1,
   "id": "5d07e6d7",
   "metadata": {},
   "outputs": [],
   "source": [
    "# Q1. Which keyword is used to create a function? Create a function to return a list of odd numbers in the\n",
    "# range of 1 to 25."
   ]
  },
  {
   "cell_type": "code",
   "execution_count": 2,
   "id": "8607498e",
   "metadata": {},
   "outputs": [],
   "source": [
    "def odd_num():\n",
    "    for i in range(1,26):\n",
    "        if i % 2 != 0:\n",
    "            print(i)"
   ]
  },
  {
   "cell_type": "code",
   "execution_count": 3,
   "id": "821eb69b",
   "metadata": {},
   "outputs": [
    {
     "name": "stdout",
     "output_type": "stream",
     "text": [
      "1\n",
      "3\n",
      "5\n",
      "7\n",
      "9\n",
      "11\n",
      "13\n",
      "15\n",
      "17\n",
      "19\n",
      "21\n",
      "23\n",
      "25\n"
     ]
    }
   ],
   "source": [
    "odd_num()"
   ]
  },
  {
   "cell_type": "code",
   "execution_count": 4,
   "id": "11c5f205",
   "metadata": {},
   "outputs": [],
   "source": [
    "# Q2. Why *args and **kwargs is used in some functions? Create a function each for *args and **kwargs\n",
    "# to demonstrate their use."
   ]
  },
  {
   "cell_type": "code",
   "execution_count": 5,
   "id": "b5b7e1ff",
   "metadata": {},
   "outputs": [],
   "source": [
    "# *args is used for dynamic parameters, it creates tuples\n",
    "# **args is used when you want to create dynamic dictionary\n",
    "\n",
    "def num(*args):\n",
    "    return args"
   ]
  },
  {
   "cell_type": "code",
   "execution_count": 6,
   "id": "398ba203",
   "metadata": {},
   "outputs": [
    {
     "data": {
      "text/plain": [
       "(1, 2, 3)"
      ]
     },
     "execution_count": 6,
     "metadata": {},
     "output_type": "execute_result"
    }
   ],
   "source": [
    "num(1,2,3)"
   ]
  },
  {
   "cell_type": "code",
   "execution_count": 7,
   "id": "02e4e4a4",
   "metadata": {},
   "outputs": [],
   "source": [
    "def dictionary(**args):\n",
    "    return args"
   ]
  },
  {
   "cell_type": "code",
   "execution_count": 8,
   "id": "1a8cced9",
   "metadata": {},
   "outputs": [
    {
     "data": {
      "text/plain": [
       "{'name': ['maninder', 'ram', 'sham'], 'age': [10, 11, 12]}"
      ]
     },
     "execution_count": 8,
     "metadata": {},
     "output_type": "execute_result"
    }
   ],
   "source": [
    "dictionary(name = [\"maninder\" , 'ram' , 'sham'] , age = [10,11,12])"
   ]
  },
  {
   "cell_type": "code",
   "execution_count": 9,
   "id": "3632fc36",
   "metadata": {},
   "outputs": [
    {
     "name": "stdout",
     "output_type": "stream",
     "text": [
      "2\n",
      "4\n",
      "6\n",
      "8\n",
      "10\n"
     ]
    }
   ],
   "source": [
    "# Q3. What is an iterator in python? Name the method used to initialise the iterator object and the method\n",
    "# used for iteration. Use these methods to print the first five elements of the given list [2, 4, 6, 8, 10, 12, 14,\n",
    "# 16, 18, 20].\n",
    "l = [2, 4, 6, 8, 10, 12, 14, 16, 18, 20]\n",
    "\n",
    "my_iter = iter(l)\n",
    "\n",
    "for i in range(5):\n",
    "    element = next(my_iter)\n",
    "    print(element)"
   ]
  },
  {
   "cell_type": "code",
   "execution_count": 10,
   "id": "332cf7d5",
   "metadata": {},
   "outputs": [
    {
     "name": "stdout",
     "output_type": "stream",
     "text": [
      "2\n",
      "3\n",
      "5\n",
      "7\n",
      "11\n",
      "13\n",
      "17\n",
      "19\n",
      "23\n",
      "29\n",
      "31\n",
      "37\n",
      "41\n",
      "43\n",
      "47\n",
      "53\n",
      "59\n",
      "61\n",
      "67\n",
      "71\n"
     ]
    }
   ],
   "source": [
    "# Q5. Create a generator function for prime numbers less than 1000. Use the next() method to print the\n",
    "# first 20 prime numbers.\n",
    "\n",
    "def is_prime(n):\n",
    "    if n<=1:\n",
    "        return False\n",
    "    elif n<=3:\n",
    "        return True\n",
    "    elif n%2==0 or n%3==0:\n",
    "        return False\n",
    "    i = 5\n",
    "    while i*i <= n:\n",
    "        if n%i == 0 or n%(i+2) == 0:\n",
    "            return False\n",
    "        i += 6\n",
    "    return True\n",
    "\n",
    "def primeGenerator():\n",
    "    num = 2\n",
    "    \n",
    "    while num<1000:\n",
    "        if is_prime(num):\n",
    "            yield num\n",
    "        num += 1\n",
    "        \n",
    "primes = primeGenerator()\n",
    "\n",
    "for i in range(20):\n",
    "    number = next(primes)\n",
    "    print(number)"
   ]
  },
  {
   "cell_type": "code",
   "execution_count": 11,
   "id": "36b143b5",
   "metadata": {},
   "outputs": [],
   "source": [
    "# Q. Write a python program to print the first 10 Fibonacci numbers using a while loop."
   ]
  },
  {
   "cell_type": "code",
   "execution_count": 12,
   "id": "3327cb97",
   "metadata": {},
   "outputs": [],
   "source": [
    "def fibbo(n):\n",
    "    a , b = 0 , 1 \n",
    "    while n>0:\n",
    "        yield a\n",
    "        a , b = b , a+b\n",
    "        n -= 1"
   ]
  },
  {
   "cell_type": "code",
   "execution_count": 13,
   "id": "d36f8f7f",
   "metadata": {},
   "outputs": [
    {
     "data": {
      "text/plain": [
       "generator"
      ]
     },
     "execution_count": 13,
     "metadata": {},
     "output_type": "execute_result"
    }
   ],
   "source": [
    "ans = fibbo(10)\n",
    "type(ans)"
   ]
  },
  {
   "cell_type": "code",
   "execution_count": 14,
   "id": "999e672b",
   "metadata": {},
   "outputs": [
    {
     "name": "stdout",
     "output_type": "stream",
     "text": [
      "0\n",
      "1\n",
      "1\n",
      "2\n",
      "3\n",
      "5\n",
      "8\n",
      "13\n",
      "21\n",
      "34\n"
     ]
    }
   ],
   "source": [
    "for i in range(10):\n",
    "    valid = next(ans)\n",
    "    print(valid)"
   ]
  },
  {
   "cell_type": "code",
   "execution_count": 15,
   "id": "20dc1e62",
   "metadata": {},
   "outputs": [
    {
     "name": "stdout",
     "output_type": "stream",
     "text": [
      "['p', 'w', 's', 'k', 'i', 'l', 'l', 's']\n"
     ]
    }
   ],
   "source": [
    "# LIST COMPREHENSION\n",
    "string = 'pwskills'\n",
    "char_list = [char for char in string]\n",
    "print(char_list)"
   ]
  },
  {
   "cell_type": "code",
   "execution_count": 16,
   "id": "d2c8c8c5",
   "metadata": {},
   "outputs": [],
   "source": [
    "# 1.\n",
    "# def check_palindrome(n):\n",
    "#     n = str(n)\n",
    "#     x = n[::-1]\n",
    "#     if(x==n):\n",
    "#         return True\n",
    "#     return False\n",
    "\n",
    "# 2. \n",
    "def check_palindrome(n):\n",
    "    orignal_number = n\n",
    "    reverse_number = 0\n",
    "    \n",
    "    while(n>0):\n",
    "        digit = orignal_number % 10\n",
    "        reverse_number = reverse_number * 10 + digit\n",
    "        n = n // 10\n",
    "    \n",
    "    return orignal_number == reverse_number\n",
    "\n",
    "# In Python, double division (i.e., using //) is used to perform integer division, which returns only the whole \n",
    "# number part of the division result, discarding the fractional part. This behavior is distinct from regular \n",
    "# division (i.e., using /), which can result in a floating-point number, including the fractional part."
   ]
  },
  {
   "cell_type": "code",
   "execution_count": 17,
   "id": "717ebc80",
   "metadata": {},
   "outputs": [
    {
     "data": {
      "text/plain": [
       "True"
      ]
     },
     "execution_count": 17,
     "metadata": {},
     "output_type": "execute_result"
    }
   ],
   "source": [
    "check_palindrome(999)"
   ]
  },
  {
   "cell_type": "code",
   "execution_count": 18,
   "id": "d26df00c",
   "metadata": {},
   "outputs": [],
   "source": [
    "# Q9. Write a code to print odd numbers from 1 to 100 using list comprehension."
   ]
  },
  {
   "cell_type": "code",
   "execution_count": 19,
   "id": "0442153b",
   "metadata": {},
   "outputs": [
    {
     "name": "stdout",
     "output_type": "stream",
     "text": [
      "[1, 3, 5, 7, 9, 11, 13, 15, 17, 19, 21, 23, 25, 27, 29, 31, 33, 35, 37, 39, 41, 43, 45, 47, 49, 51, 53, 55, 57, 59, 61, 63, 65, 67, 69, 71, 73, 75, 77, 79, 81, 83, 85, 87, 89, 91, 93, 95, 97, 99]\n"
     ]
    }
   ],
   "source": [
    "r = range(100)\n",
    "odd_list = [num for num in r if num % 2 != 0]\n",
    "print(odd_list)"
   ]
  }
 ],
 "metadata": {
  "kernelspec": {
   "display_name": "Python 3 (ipykernel)",
   "language": "python",
   "name": "python3"
  },
  "language_info": {
   "codemirror_mode": {
    "name": "ipython",
    "version": 3
   },
   "file_extension": ".py",
   "mimetype": "text/x-python",
   "name": "python",
   "nbconvert_exporter": "python",
   "pygments_lexer": "ipython3",
   "version": "3.9.13"
  }
 },
 "nbformat": 4,
 "nbformat_minor": 5
}
