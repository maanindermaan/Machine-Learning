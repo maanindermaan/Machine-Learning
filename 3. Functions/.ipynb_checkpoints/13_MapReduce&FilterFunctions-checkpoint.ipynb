{
 "cells": [
  {
   "cell_type": "markdown",
   "id": "3956ac65",
   "metadata": {},
   "source": [
    "### MAP"
   ]
  },
  {
   "cell_type": "code",
   "execution_count": 1,
   "id": "1cfff480",
   "metadata": {},
   "outputs": [],
   "source": [
    "l = [2,3,4,5,6]"
   ]
  },
  {
   "cell_type": "code",
   "execution_count": 2,
   "id": "472bf729",
   "metadata": {},
   "outputs": [],
   "source": [
    "# 1st method-> sqaure of number\n",
    "def test(l):\n",
    "    l1 = []\n",
    "    for i in l :\n",
    "        l1.append(i**2)\n",
    "    return l1"
   ]
  },
  {
   "cell_type": "code",
   "execution_count": 3,
   "id": "35771031",
   "metadata": {},
   "outputs": [
    {
     "data": {
      "text/plain": [
       "[4, 9, 16, 25, 36]"
      ]
     },
     "execution_count": 3,
     "metadata": {},
     "output_type": "execute_result"
    }
   ],
   "source": [
    "test(l)"
   ]
  },
  {
   "cell_type": "markdown",
   "id": "5b032b6d",
   "metadata": {},
   "source": [
    "Map ->> jo bhi aap function input doge uss function se map kardega every element ko, one by one parallelly map kardega"
   ]
  },
  {
   "cell_type": "code",
   "execution_count": 5,
   "id": "cfb6b54c",
   "metadata": {},
   "outputs": [],
   "source": [
    "# 2nd Method\n",
    "# agar kuch aisa hojaye jha pe hum map karde har ek element ko jo ki available hai iss list ke andar with a square function \n",
    "def sq(x):\n",
    "    return x**2"
   ]
  },
  {
   "cell_type": "code",
   "execution_count": 7,
   "id": "eda1c7e0",
   "metadata": {},
   "outputs": [
    {
     "data": {
      "text/plain": [
       "<map at 0x7fd479912a90>"
      ]
     },
     "execution_count": 7,
     "metadata": {},
     "output_type": "execute_result"
    }
   ],
   "source": [
    "# 2nd map method\n",
    "map(sq,l)\n",
    "# map takes 2 parameters (function , iterables)"
   ]
  },
  {
   "cell_type": "code",
   "execution_count": 8,
   "id": "7cf1d5bb",
   "metadata": {},
   "outputs": [
    {
     "data": {
      "text/plain": [
       "[4, 9, 16, 25, 36]"
      ]
     },
     "execution_count": 8,
     "metadata": {},
     "output_type": "execute_result"
    }
   ],
   "source": [
    "list(map(sq,l))"
   ]
  },
  {
   "cell_type": "code",
   "execution_count": 9,
   "id": "4a22c7b2",
   "metadata": {},
   "outputs": [
    {
     "data": {
      "text/plain": [
       "[4, 9, 16, 25, 36]"
      ]
     },
     "execution_count": 9,
     "metadata": {},
     "output_type": "execute_result"
    }
   ],
   "source": [
    "# 3rd Method using map and lambda function\n",
    "list(map(lambda x : x**2 , l))"
   ]
  },
  {
   "cell_type": "code",
   "execution_count": 12,
   "id": "c1facd65",
   "metadata": {},
   "outputs": [
    {
     "data": {
      "text/plain": [
       "[7, 9, 11, 13, 15]"
      ]
     },
     "execution_count": 12,
     "metadata": {},
     "output_type": "execute_result"
    }
   ],
   "source": [
    "# add corresponding digits of l1 and l2\n",
    "# approach 1\n",
    "l1 = [1,2,3,4,5]\n",
    "l2 = [6,7,8,9,10]\n",
    "\n",
    "list(map(lambda x,y : x+y , l1 , l2))"
   ]
  },
  {
   "cell_type": "code",
   "execution_count": 15,
   "id": "e661c735",
   "metadata": {},
   "outputs": [
    {
     "data": {
      "text/plain": [
       "[7, 9, 11, 13, 15]"
      ]
     },
     "execution_count": 15,
     "metadata": {},
     "output_type": "execute_result"
    }
   ],
   "source": [
    "# add corresponding digits of l1 and l2\n",
    "# approach 2\n",
    "def add(x,y):\n",
    "    return x+y\n",
    "\n",
    "list(map(add , l1 , l2))"
   ]
  },
  {
   "cell_type": "code",
   "execution_count": 17,
   "id": "ebcb14a3",
   "metadata": {},
   "outputs": [
    {
     "data": {
      "text/plain": [
       "['P', 'W', 'S', 'K', 'I', 'L', 'L', 'S']"
      ]
     },
     "execution_count": 17,
     "metadata": {},
     "output_type": "execute_result"
    }
   ],
   "source": [
    "# convert characters of string to upper case\n",
    "s = 'pwskills'\n",
    "\n",
    "list(map(lambda s : s.upper() , s))"
   ]
  },
  {
   "cell_type": "markdown",
   "id": "1e00fdb3",
   "metadata": {},
   "source": [
    "### REDUCE "
   ]
  },
  {
   "cell_type": "code",
   "execution_count": 23,
   "id": "9ccdea6e",
   "metadata": {},
   "outputs": [],
   "source": [
    "# it is also a mapper type function jo pure ke pure iterables pe kaam krta hai\n",
    "from functools import reduce\n",
    "\n",
    "# saare ko collapse krke add krke result dedo\n",
    "l = [1,2,3,4,5]"
   ]
  },
  {
   "cell_type": "code",
   "execution_count": 25,
   "id": "a024445e",
   "metadata": {},
   "outputs": [
    {
     "data": {
      "text/plain": [
       "15"
      ]
     },
     "execution_count": 25,
     "metadata": {},
     "output_type": "execute_result"
    }
   ],
   "source": [
    "reduce(lambda x , y : x+y , l)\n",
    " \n",
    "# x baar baar add (x+y) hoke update hota rhega and y will be next value\n",
    "# isme 2 hi parameter introduce krna hai x,y,z , z nahi chalega\n",
    "# becuase list may be of type that when x+y+z, z may not exist\n",
    "# har baar yeah true nahi hoga so we dont consider this"
   ]
  },
  {
   "cell_type": "code",
   "execution_count": 26,
   "id": "d1fb0b0d",
   "metadata": {},
   "outputs": [],
   "source": [
    "# error -> reduce(lambda x , y : x+y , [])"
   ]
  },
  {
   "cell_type": "code",
   "execution_count": 28,
   "id": "865f61a4",
   "metadata": {},
   "outputs": [
    {
     "data": {
      "text/plain": [
       "1"
      ]
     },
     "execution_count": 28,
     "metadata": {},
     "output_type": "execute_result"
    }
   ],
   "source": [
    "# excpetional case\n",
    "reduce(lambda x , y : x+y , [1])"
   ]
  },
  {
   "cell_type": "code",
   "execution_count": 29,
   "id": "79b32438",
   "metadata": {},
   "outputs": [
    {
     "data": {
      "text/plain": [
       "120"
      ]
     },
     "execution_count": 29,
     "metadata": {},
     "output_type": "execute_result"
    }
   ],
   "source": [
    "# multiplication of numbers\n",
    "reduce(lambda x , y : x*y , l)"
   ]
  },
  {
   "cell_type": "code",
   "execution_count": 30,
   "id": "79853962",
   "metadata": {},
   "outputs": [
    {
     "data": {
      "text/plain": [
       "5"
      ]
     },
     "execution_count": 30,
     "metadata": {},
     "output_type": "execute_result"
    }
   ],
   "source": [
    "# maximum number from list\n",
    "reduce(lambda x , y : x if x>y else y , l)"
   ]
  },
  {
   "cell_type": "markdown",
   "id": "3dc691f3",
   "metadata": {},
   "source": [
    "### Filter Functions \n",
    "Jha bhi aapke paas collections hai, mujhe ye condition lagake ye data filter karna hai,in that case you can use filter function"
   ]
  },
  {
   "cell_type": "code",
   "execution_count": 31,
   "id": "144cea28",
   "metadata": {},
   "outputs": [
    {
     "data": {
      "text/plain": [
       "[1, 2, 3, 4, 5]"
      ]
     },
     "execution_count": 31,
     "metadata": {},
     "output_type": "execute_result"
    }
   ],
   "source": [
    "l"
   ]
  },
  {
   "cell_type": "code",
   "execution_count": 32,
   "id": "47d56167",
   "metadata": {},
   "outputs": [],
   "source": [
    "# find even number / number divisible by 3 / number divisible by 5"
   ]
  },
  {
   "cell_type": "code",
   "execution_count": 36,
   "id": "b501aeb1",
   "metadata": {},
   "outputs": [
    {
     "data": {
      "text/plain": [
       "[2, 4]"
      ]
     },
     "execution_count": 36,
     "metadata": {},
     "output_type": "execute_result"
    }
   ],
   "source": [
    "# finding even number\n",
    "list(filter(lambda x : x % 2 == 0  , l))"
   ]
  },
  {
   "cell_type": "code",
   "execution_count": 37,
   "id": "fbb24db8",
   "metadata": {},
   "outputs": [
    {
     "data": {
      "text/plain": [
       "[2, 4]"
      ]
     },
     "execution_count": 37,
     "metadata": {},
     "output_type": "execute_result"
    }
   ],
   "source": [
    "list(filter(lambda x : x & 1 == 0  , l))"
   ]
  },
  {
   "cell_type": "code",
   "execution_count": 38,
   "id": "14aba1e4",
   "metadata": {},
   "outputs": [
    {
     "data": {
      "text/plain": [
       "[1, 3, 5]"
      ]
     },
     "execution_count": 38,
     "metadata": {},
     "output_type": "execute_result"
    }
   ],
   "source": [
    "# odd number\n",
    "list(filter(lambda x : x & 1 != 0  , l))"
   ]
  },
  {
   "cell_type": "code",
   "execution_count": 39,
   "id": "b8074608",
   "metadata": {},
   "outputs": [],
   "source": [
    "# find only negative number\n",
    "l1 = [-3,4,6,-1,-2,-11,12,-1223]"
   ]
  },
  {
   "cell_type": "code",
   "execution_count": 40,
   "id": "6f44f49e",
   "metadata": {},
   "outputs": [
    {
     "data": {
      "text/plain": [
       "[-3, -1, -2, -11, -1223]"
      ]
     },
     "execution_count": 40,
     "metadata": {},
     "output_type": "execute_result"
    }
   ],
   "source": [
    "list(filter(lambda x : x < 0  , l1))"
   ]
  },
  {
   "cell_type": "code",
   "execution_count": 41,
   "id": "90a8ac9d",
   "metadata": {},
   "outputs": [],
   "source": [
    "l2 = [\"sudh\" , 'kumar' , 'krish' , 'niak']"
   ]
  },
  {
   "cell_type": "code",
   "execution_count": 43,
   "id": "16da87df",
   "metadata": {},
   "outputs": [
    {
     "data": {
      "text/plain": [
       "['sudh', 'kumar', 'krish', 'niak']"
      ]
     },
     "execution_count": 43,
     "metadata": {},
     "output_type": "execute_result"
    }
   ],
   "source": [
    "# find string whose length is less than 6\n",
    "list(filter(lambda x : len(x)<6  , l2))"
   ]
  }
 ],
 "metadata": {
  "kernelspec": {
   "display_name": "Python 3 (ipykernel)",
   "language": "python",
   "name": "python3"
  },
  "language_info": {
   "codemirror_mode": {
    "name": "ipython",
    "version": 3
   },
   "file_extension": ".py",
   "mimetype": "text/x-python",
   "name": "python",
   "nbconvert_exporter": "python",
   "pygments_lexer": "ipython3",
   "version": "3.9.13"
  }
 },
 "nbformat": 4,
 "nbformat_minor": 5
}
