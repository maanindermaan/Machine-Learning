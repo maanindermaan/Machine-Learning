{
 "cells": [
  {
   "cell_type": "code",
   "execution_count": 1,
   "id": "30364e42",
   "metadata": {},
   "outputs": [],
   "source": [
    "n = 3\n",
    "p = 2"
   ]
  },
  {
   "cell_type": "code",
   "execution_count": 2,
   "id": "698210cb",
   "metadata": {},
   "outputs": [],
   "source": [
    "def test(n , p):\n",
    "    return n**p"
   ]
  },
  {
   "cell_type": "code",
   "execution_count": 3,
   "id": "bfa492b6",
   "metadata": {},
   "outputs": [
    {
     "data": {
      "text/plain": [
       "9"
      ]
     },
     "execution_count": 3,
     "metadata": {},
     "output_type": "execute_result"
    }
   ],
   "source": [
    "test(3,2)"
   ]
  },
  {
   "cell_type": "code",
   "execution_count": 4,
   "id": "02ffabfe",
   "metadata": {},
   "outputs": [
    {
     "data": {
      "text/plain": [
       "<function __main__.<lambda>(n, p)>"
      ]
     },
     "execution_count": 4,
     "metadata": {},
     "output_type": "execute_result"
    }
   ],
   "source": [
    "# same function into lamda function\n",
    "# ye def ki jagah lambda se intialise hoga\n",
    "lambda n , p : n**p"
   ]
  },
  {
   "cell_type": "code",
   "execution_count": 7,
   "id": "761f6996",
   "metadata": {},
   "outputs": [],
   "source": [
    "# n to the power p\n",
    "a = lambda n , p : n**p\n",
    "# ab har baar a ko call krenge\n",
    "# this type of function is one liner function or lambda function or anonymous function"
   ]
  },
  {
   "cell_type": "code",
   "execution_count": 6,
   "id": "876dcac6",
   "metadata": {},
   "outputs": [
    {
     "data": {
      "text/plain": [
       "9"
      ]
     },
     "execution_count": 6,
     "metadata": {},
     "output_type": "execute_result"
    }
   ],
   "source": [
    "a(3,2)"
   ]
  },
  {
   "cell_type": "code",
   "execution_count": 8,
   "id": "a4d1236a",
   "metadata": {},
   "outputs": [],
   "source": [
    "# addition of two numbers\n",
    "add = lambda x , y : x+y"
   ]
  },
  {
   "cell_type": "code",
   "execution_count": 9,
   "id": "4ca937d1",
   "metadata": {},
   "outputs": [
    {
     "data": {
      "text/plain": [
       "300"
      ]
     },
     "execution_count": 9,
     "metadata": {},
     "output_type": "execute_result"
    }
   ],
   "source": [
    "add(100,200)"
   ]
  },
  {
   "cell_type": "code",
   "execution_count": 11,
   "id": "5f5e83bf",
   "metadata": {},
   "outputs": [],
   "source": [
    "# conversion of celcius to ferheniet\n",
    "c_to_f = lambda c : (9/5)*c + 32"
   ]
  },
  {
   "cell_type": "code",
   "execution_count": 12,
   "id": "36f80c34",
   "metadata": {},
   "outputs": [
    {
     "data": {
      "text/plain": [
       "113.0"
      ]
     },
     "execution_count": 12,
     "metadata": {},
     "output_type": "execute_result"
    }
   ],
   "source": [
    "c_to_f(45)"
   ]
  },
  {
   "cell_type": "code",
   "execution_count": 13,
   "id": "c177fc0a",
   "metadata": {},
   "outputs": [],
   "source": [
    "# finding max of two number using lambda function\n",
    "finding_max = lambda x,y : x if x>y else y"
   ]
  },
  {
   "cell_type": "code",
   "execution_count": 15,
   "id": "29162af1",
   "metadata": {},
   "outputs": [
    {
     "data": {
      "text/plain": [
       "2"
      ]
     },
     "execution_count": 15,
     "metadata": {},
     "output_type": "execute_result"
    }
   ],
   "source": [
    "finding_max(1,2)"
   ]
  },
  {
   "cell_type": "code",
   "execution_count": 18,
   "id": "6991acc2",
   "metadata": {},
   "outputs": [],
   "source": [
    "s = \"pwskills\"\n",
    "find_len = lambda s : len(s)"
   ]
  },
  {
   "cell_type": "code",
   "execution_count": 19,
   "id": "fc22ec2a",
   "metadata": {},
   "outputs": [
    {
     "data": {
      "text/plain": [
       "8"
      ]
     },
     "execution_count": 19,
     "metadata": {},
     "output_type": "execute_result"
    }
   ],
   "source": [
    "find_len(s)"
   ]
  }
 ],
 "metadata": {
  "kernelspec": {
   "display_name": "Python 3 (ipykernel)",
   "language": "python",
   "name": "python3"
  },
  "language_info": {
   "codemirror_mode": {
    "name": "ipython",
    "version": 3
   },
   "file_extension": ".py",
   "mimetype": "text/x-python",
   "name": "python",
   "nbconvert_exporter": "python",
   "pygments_lexer": "ipython3",
   "version": "3.9.13"
  }
 },
 "nbformat": 4,
 "nbformat_minor": 5
}
