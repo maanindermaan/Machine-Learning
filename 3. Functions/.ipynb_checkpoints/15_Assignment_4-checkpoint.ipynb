{
 "cells": [
  {
   "cell_type": "code",
   "execution_count": 1,
   "id": "8cce8816",
   "metadata": {},
   "outputs": [],
   "source": [
    "# 1.Create a python program to sort the given list of tuples based on integer value using a\n",
    "# lambda function."
   ]
  },
  {
   "cell_type": "code",
   "execution_count": 2,
   "id": "ee4b917f",
   "metadata": {},
   "outputs": [],
   "source": [
    "l = [('Sachin Tendulkar', 34357), ('Ricky Ponting', 27483), ('Jack Kallis', 25534), ('Virat Kohli', 24936)]"
   ]
  },
  {
   "cell_type": "code",
   "execution_count": 3,
   "id": "a28f04d7",
   "metadata": {},
   "outputs": [],
   "source": [
    "a = lambda l : l.sort()"
   ]
  },
  {
   "cell_type": "code",
   "execution_count": 4,
   "id": "786d5d01",
   "metadata": {},
   "outputs": [],
   "source": [
    "# Sorted function arranges on basis of any index value you want\n",
    "sort = sorted(l , key = lambda x : x[1])"
   ]
  },
  {
   "cell_type": "code",
   "execution_count": 5,
   "id": "fb8f018c",
   "metadata": {},
   "outputs": [
    {
     "name": "stdout",
     "output_type": "stream",
     "text": [
      "[('Virat Kohli', 24936), ('Jack Kallis', 25534), ('Ricky Ponting', 27483), ('Sachin Tendulkar', 34357)]\n"
     ]
    }
   ],
   "source": [
    "print(sort)"
   ]
  },
  {
   "cell_type": "code",
   "execution_count": 6,
   "id": "9394a83d",
   "metadata": {},
   "outputs": [],
   "source": [
    "# 2. Write a Python Program to find the squares of all the numbers in the given list of integers using\n",
    "# lambda and map functions."
   ]
  },
  {
   "cell_type": "code",
   "execution_count": 7,
   "id": "1de205f5",
   "metadata": {},
   "outputs": [],
   "source": [
    "l1 = [1, 2, 3, 4, 5, 6, 7, 8, 9, 10]"
   ]
  },
  {
   "cell_type": "code",
   "execution_count": 8,
   "id": "ec3a609e",
   "metadata": {},
   "outputs": [],
   "source": [
    "b = lambda x : x*x "
   ]
  },
  {
   "cell_type": "code",
   "execution_count": 9,
   "id": "ef232052",
   "metadata": {},
   "outputs": [
    {
     "name": "stdout",
     "output_type": "stream",
     "text": [
      "1\n",
      "4\n",
      "9\n",
      "16\n",
      "25\n",
      "36\n",
      "49\n",
      "64\n",
      "81\n",
      "100\n"
     ]
    }
   ],
   "source": [
    "for i in l1:\n",
    "    b(i)\n",
    "    print(b(i))"
   ]
  },
  {
   "cell_type": "code",
   "execution_count": 10,
   "id": "865fdf9a",
   "metadata": {},
   "outputs": [
    {
     "data": {
      "text/plain": [
       "[1, 4, 9, 16, 25, 36, 49, 64, 81, 100]"
      ]
     },
     "execution_count": 10,
     "metadata": {},
     "output_type": "execute_result"
    }
   ],
   "source": [
    "list(map(lambda x : x*x , l1))"
   ]
  },
  {
   "cell_type": "code",
   "execution_count": 11,
   "id": "aa10eb37",
   "metadata": {},
   "outputs": [],
   "source": [
    "# 3. Write a python program to convert the given list of integers into a tuple of strings. Use map and\n",
    "# lambda functions"
   ]
  },
  {
   "cell_type": "code",
   "execution_count": 12,
   "id": "cfe6146b",
   "metadata": {},
   "outputs": [],
   "source": [
    "l2 = [1, 2, 3, 4, 5, 6, 7, 8, 9, 10]"
   ]
  },
  {
   "cell_type": "code",
   "execution_count": 13,
   "id": "50b74cb0",
   "metadata": {},
   "outputs": [
    {
     "data": {
      "text/plain": [
       "['1', '2', '3', '4', '5', '6', '7', '8', '9', '10']"
      ]
     },
     "execution_count": 13,
     "metadata": {},
     "output_type": "execute_result"
    }
   ],
   "source": [
    "list(map(lambda x : str(x) , l2))"
   ]
  },
  {
   "cell_type": "code",
   "execution_count": 14,
   "id": "90187b0f",
   "metadata": {},
   "outputs": [],
   "source": [
    "# 4. Write a python program using reduce function to compute the product of a list containing numbers\n",
    "# from 1 to 25.\n",
    "\n",
    "from functools import reduce\n",
    "\n",
    "l3 = [1,2,3,4,5,6,7,8,9,10,11,12,13,14,15,16,17,18,19,20,21,22,23,24,25,26,27,28,29,30]"
   ]
  },
  {
   "cell_type": "code",
   "execution_count": 15,
   "id": "4389dd6f",
   "metadata": {},
   "outputs": [
    {
     "data": {
      "text/plain": [
       "265252859812191058636308480000000"
      ]
     },
     "execution_count": 15,
     "metadata": {},
     "output_type": "execute_result"
    }
   ],
   "source": [
    "reduce(lambda x,y : x*y , l3)"
   ]
  },
  {
   "cell_type": "code",
   "execution_count": 21,
   "id": "265b6a1c",
   "metadata": {},
   "outputs": [],
   "source": [
    "# 5. Write a python program to filter the numbers in a given list that are divisible by 2 and 3 using the\n",
    "# filter function.\n",
    "\n",
    "l4 = [2, 3, 6, 9, 27, 60, 90, 120, 55, 46]"
   ]
  },
  {
   "cell_type": "code",
   "execution_count": 22,
   "id": "ecee2eb8",
   "metadata": {},
   "outputs": [
    {
     "name": "stdout",
     "output_type": "stream",
     "text": [
      "[6, 60, 90, 120]\n"
     ]
    }
   ],
   "source": [
    "result = list(filter(lambda x: x % 2 == 0 and x % 3 == 0, l4))\n",
    "print(result)"
   ]
  },
  {
   "cell_type": "code",
   "execution_count": 23,
   "id": "3f84030b",
   "metadata": {},
   "outputs": [],
   "source": [
    "# 6. Write a python program to find palindromes in the given list of strings using lambda and filter\n",
    "# function.\n",
    "\n",
    "l5 = ['python', 'php', 'aba', 'radar', 'level']"
   ]
  },
  {
   "cell_type": "code",
   "execution_count": 24,
   "id": "f6f4d60f",
   "metadata": {},
   "outputs": [
    {
     "data": {
      "text/plain": [
       "['php', 'aba', 'radar', 'level']"
      ]
     },
     "execution_count": 24,
     "metadata": {},
     "output_type": "execute_result"
    }
   ],
   "source": [
    "list(filter(lambda x : x == (x[::-1]) , l5))"
   ]
  }
 ],
 "metadata": {
  "kernelspec": {
   "display_name": "Python 3 (ipykernel)",
   "language": "python",
   "name": "python3"
  },
  "language_info": {
   "codemirror_mode": {
    "name": "ipython",
    "version": 3
   },
   "file_extension": ".py",
   "mimetype": "text/x-python",
   "name": "python",
   "nbconvert_exporter": "python",
   "pygments_lexer": "ipython3",
   "version": "3.9.13"
  }
 },
 "nbformat": 4,
 "nbformat_minor": 5
}
