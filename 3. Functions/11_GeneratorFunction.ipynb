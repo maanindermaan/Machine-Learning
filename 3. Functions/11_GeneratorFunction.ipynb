{
 "cells": [
  {
   "cell_type": "markdown",
   "id": "1ea94c33",
   "metadata": {},
   "source": [
    "### Generator Function"
   ]
  },
  {
   "cell_type": "code",
   "execution_count": 1,
   "id": "465d03c7",
   "metadata": {},
   "outputs": [
    {
     "data": {
      "text/plain": [
       "range(0, 10)"
      ]
     },
     "execution_count": 1,
     "metadata": {},
     "output_type": "execute_result"
    }
   ],
   "source": [
    "range(10)\n",
    "# this is giving outcome as an object"
   ]
  },
  {
   "cell_type": "code",
   "execution_count": 3,
   "id": "67a3e4fa",
   "metadata": {},
   "outputs": [
    {
     "name": "stdout",
     "output_type": "stream",
     "text": [
      "0\n",
      "1\n",
      "2\n",
      "3\n",
      "4\n",
      "5\n",
      "6\n",
      "7\n",
      "8\n",
      "9\n"
     ]
    }
   ],
   "source": [
    "# to extract value or data\n",
    "# this is giving output in form of a list, so the bigger is the list , bigger is the space occupied in memory\n",
    "# to optimize memory we make generator function which gives the outcome without holding it into the memory\n",
    "for i in range(10):\n",
    "    print(i)"
   ]
  },
  {
   "cell_type": "code",
   "execution_count": 4,
   "id": "7ed6a39e",
   "metadata": {},
   "outputs": [],
   "source": [
    "# fibbonacci number\n",
    "def test_fib(n):\n",
    "    a,b = 0,1\n",
    "    for i in range(n):\n",
    "        yield a # this means a mein value daldo or jab generator function call hoga yeh yehi value dedega\n",
    "        a,b = b , a+b\n",
    "# this is a generator function isme koi bhi return nahi hai, YIELD is acting as giving or throwing the data\n",
    "# isme aap ek baar mein data nahi nikalrhe ho aram aram se nikalte ja rhe ho ek ek krke\n",
    "#generator function -> data banaye or outcome deta rahe\n",
    "\n",
    "# # YIELD\n",
    "# a = 0    b = 1\n",
    "# a = 1    b = 1\n",
    "# a = 1    b = 2\n",
    "# a = 2    b = 3\n",
    "# a = 3    b = 5\n",
    "# a = 5    b = 8"
   ]
  },
  {
   "cell_type": "code",
   "execution_count": 5,
   "id": "867f7380",
   "metadata": {},
   "outputs": [
    {
     "data": {
      "text/plain": [
       "<generator object test_fib at 0x7fd7b9fd66d0>"
      ]
     },
     "execution_count": 5,
     "metadata": {},
     "output_type": "execute_result"
    }
   ],
   "source": [
    "test_fib(10)"
   ]
  },
  {
   "cell_type": "code",
   "execution_count": 6,
   "id": "0ce9c308",
   "metadata": {},
   "outputs": [
    {
     "name": "stdout",
     "output_type": "stream",
     "text": [
      "0\n",
      "1\n",
      "1\n",
      "2\n",
      "3\n",
      "5\n",
      "8\n",
      "13\n",
      "21\n",
      "34\n"
     ]
    }
   ],
   "source": [
    "for i in test_fib(10):\n",
    "    print(i)"
   ]
  },
  {
   "cell_type": "code",
   "execution_count": 4,
   "id": "ca445e5d",
   "metadata": {},
   "outputs": [],
   "source": [
    "def test_fib1():\n",
    "    a,b = 0,1\n",
    "    while True:\n",
    "        yield a\n",
    "        a,b = b , a+b"
   ]
  },
  {
   "cell_type": "code",
   "execution_count": 5,
   "id": "cdeb8505",
   "metadata": {},
   "outputs": [],
   "source": [
    "# making object\n",
    "fib = test_fib1()"
   ]
  },
  {
   "cell_type": "code",
   "execution_count": 7,
   "id": "ccdb3f95",
   "metadata": {},
   "outputs": [
    {
     "name": "stdout",
     "output_type": "stream",
     "text": [
      "0\n",
      "1\n",
      "1\n",
      "2\n",
      "3\n",
      "5\n",
      "8\n",
      "13\n",
      "21\n",
      "34\n"
     ]
    }
   ],
   "source": [
    "for i in range(10):\n",
    "    print(next(fib))"
   ]
  },
  {
   "cell_type": "code",
   "execution_count": 8,
   "id": "0fb2026b",
   "metadata": {},
   "outputs": [],
   "source": [
    "# what is next above?"
   ]
  },
  {
   "cell_type": "code",
   "execution_count": 9,
   "id": "dde02b49",
   "metadata": {},
   "outputs": [],
   "source": [
    "s = 'sudh'"
   ]
  },
  {
   "cell_type": "code",
   "execution_count": 10,
   "id": "aff24c60",
   "metadata": {},
   "outputs": [
    {
     "name": "stdout",
     "output_type": "stream",
     "text": [
      "s\n",
      "u\n",
      "d\n",
      "h\n"
     ]
    }
   ],
   "source": [
    "for i in s:\n",
    "    print(i)"
   ]
  },
  {
   "cell_type": "code",
   "execution_count": 12,
   "id": "1d50c3db",
   "metadata": {},
   "outputs": [],
   "source": [
    "# what is for loop doing internally?\n",
    "# next(s)\n",
    "# 'str' object is not an iterator\n",
    "# by default string se hum next next krke data nahi nikal sakte , \n",
    "# next ka kaam hai ptr jha pe bhi hai uske next ka data nikalna\n",
    "# next tabhi kaam krega jab object iterator ho\n",
    "# string is iterable but not iterator by default\n",
    "# to make it iterator put string s into iter function , iter function will return iterator"
   ]
  },
  {
   "cell_type": "code",
   "execution_count": 13,
   "id": "d49458ac",
   "metadata": {},
   "outputs": [],
   "source": [
    "s1 = iter(s)"
   ]
  },
  {
   "cell_type": "code",
   "execution_count": 18,
   "id": "e7231c1c",
   "metadata": {},
   "outputs": [
    {
     "data": {
      "text/plain": [
       "str_iterator"
      ]
     },
     "execution_count": 18,
     "metadata": {},
     "output_type": "execute_result"
    }
   ],
   "source": [
    "type(s1)"
   ]
  },
  {
   "cell_type": "code",
   "execution_count": 14,
   "id": "24949f1d",
   "metadata": {},
   "outputs": [
    {
     "data": {
      "text/plain": [
       "'s'"
      ]
     },
     "execution_count": 14,
     "metadata": {},
     "output_type": "execute_result"
    }
   ],
   "source": [
    "next(s1)"
   ]
  },
  {
   "cell_type": "code",
   "execution_count": 15,
   "id": "797e6a35",
   "metadata": {},
   "outputs": [
    {
     "data": {
      "text/plain": [
       "'u'"
      ]
     },
     "execution_count": 15,
     "metadata": {},
     "output_type": "execute_result"
    }
   ],
   "source": [
    "next(s1)"
   ]
  },
  {
   "cell_type": "code",
   "execution_count": 16,
   "id": "5dd3bee9",
   "metadata": {},
   "outputs": [
    {
     "data": {
      "text/plain": [
       "'d'"
      ]
     },
     "execution_count": 16,
     "metadata": {},
     "output_type": "execute_result"
    }
   ],
   "source": [
    "next(s1)"
   ]
  },
  {
   "cell_type": "code",
   "execution_count": 17,
   "id": "8b98f0cb",
   "metadata": {},
   "outputs": [
    {
     "data": {
      "text/plain": [
       "'h'"
      ]
     },
     "execution_count": 17,
     "metadata": {},
     "output_type": "execute_result"
    }
   ],
   "source": [
    "next(s1)"
   ]
  },
  {
   "cell_type": "code",
   "execution_count": 19,
   "id": "638efa81",
   "metadata": {},
   "outputs": [],
   "source": [
    "# for loop length calculate kar leta hai or for loop bhi internally kya karta hai ki sabse pehle iter ke andar \n",
    "# dalta hai or fir next next krta hai same like above"
   ]
  },
  {
   "cell_type": "code",
   "execution_count": 21,
   "id": "db2f074e",
   "metadata": {},
   "outputs": [],
   "source": [
    "# next(45) error"
   ]
  },
  {
   "cell_type": "code",
   "execution_count": 24,
   "id": "44cec5a8",
   "metadata": {},
   "outputs": [],
   "source": [
    "# iter(45)\n",
    "# 'int' object is not iterable\n",
    "# jo iterable hai vohi iterator ban sakta hai bas"
   ]
  },
  {
   "cell_type": "markdown",
   "id": "6d4ba012",
   "metadata": {},
   "source": [
    "1. Iterator -> vaisa object ya vaisa data jisko hum next next krke ja sake or next se data nikal sake\n",
    "2. Iterable -> vaise data jisko hum iterator mein convert kar sake"
   ]
  },
  {
   "cell_type": "code",
   "execution_count": 26,
   "id": "0d1b919a",
   "metadata": {},
   "outputs": [
    {
     "data": {
      "text/plain": [
       "generator"
      ]
     },
     "execution_count": 26,
     "metadata": {},
     "output_type": "execute_result"
    }
   ],
   "source": [
    "# coming back here :->\n",
    "# for i in range(10):\n",
    "#     print(next(fib))\n",
    "\n",
    "# by default ye aapka iterator object banchuka hai becuase it is generator, fib is generator and generator is \n",
    "# iterator as well \n",
    "# to yeah next next krke data dete ja rha hai\n",
    "\n",
    "type(fib)"
   ]
  },
  {
   "cell_type": "code",
   "execution_count": 32,
   "id": "89d7d534",
   "metadata": {},
   "outputs": [],
   "source": [
    "def count_test(n):\n",
    "    count = 1\n",
    "    while count<=n:\n",
    "        yield count\n",
    "        count = count + 1"
   ]
  },
  {
   "cell_type": "code",
   "execution_count": 33,
   "id": "d68ee004",
   "metadata": {},
   "outputs": [],
   "source": [
    "# making object of above generator function first\n",
    "c = count_test(10)"
   ]
  },
  {
   "cell_type": "code",
   "execution_count": 34,
   "id": "bb81f857",
   "metadata": {},
   "outputs": [
    {
     "name": "stdout",
     "output_type": "stream",
     "text": [
      "1\n",
      "2\n",
      "3\n",
      "4\n",
      "5\n",
      "6\n",
      "7\n",
      "8\n",
      "9\n",
      "10\n"
     ]
    }
   ],
   "source": [
    "for i in c:\n",
    "    print(i)\n",
    "\n",
    "# yeild count matlab abhi count ka value jo hai vo dediya, bhar feko\n",
    "# return ek baar dega data, ye yeild baar baar data fekta rhega"
   ]
  },
  {
   "cell_type": "code",
   "execution_count": null,
   "id": "c832d1fa",
   "metadata": {},
   "outputs": [],
   "source": []
  }
 ],
 "metadata": {
  "kernelspec": {
   "display_name": "Python 3 (ipykernel)",
   "language": "python",
   "name": "python3"
  },
  "language_info": {
   "codemirror_mode": {
    "name": "ipython",
    "version": 3
   },
   "file_extension": ".py",
   "mimetype": "text/x-python",
   "name": "python",
   "nbconvert_exporter": "python",
   "pygments_lexer": "ipython3",
   "version": "3.9.13"
  }
 },
 "nbformat": 4,
 "nbformat_minor": 5
}
