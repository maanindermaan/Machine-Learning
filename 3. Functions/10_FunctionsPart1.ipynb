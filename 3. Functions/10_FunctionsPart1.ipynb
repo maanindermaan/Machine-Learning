{
 "cells": [
  {
   "cell_type": "markdown",
   "id": "26467600",
   "metadata": {},
   "source": [
    "## Functions"
   ]
  },
  {
   "cell_type": "code",
   "execution_count": 1,
   "id": "58f3d365",
   "metadata": {},
   "outputs": [],
   "source": [
    "# This is some inbuilt functions"
   ]
  },
  {
   "cell_type": "code",
   "execution_count": 2,
   "id": "d9de7d01",
   "metadata": {},
   "outputs": [
    {
     "name": "stdout",
     "output_type": "stream",
     "text": [
      "this is my print\n"
     ]
    }
   ],
   "source": [
    "print(\"this is my print\")"
   ]
  },
  {
   "cell_type": "code",
   "execution_count": 3,
   "id": "e41a06dc",
   "metadata": {},
   "outputs": [],
   "source": [
    "l = [3,2,3]"
   ]
  },
  {
   "cell_type": "code",
   "execution_count": 4,
   "id": "d0c2e95e",
   "metadata": {},
   "outputs": [
    {
     "data": {
      "text/plain": [
       "3"
      ]
     },
     "execution_count": 4,
     "metadata": {},
     "output_type": "execute_result"
    }
   ],
   "source": [
    "len(l)"
   ]
  },
  {
   "cell_type": "code",
   "execution_count": 5,
   "id": "ccd9bad5",
   "metadata": {},
   "outputs": [
    {
     "data": {
      "text/plain": [
       "list"
      ]
     },
     "execution_count": 5,
     "metadata": {},
     "output_type": "execute_result"
    }
   ],
   "source": [
    "type(l)"
   ]
  },
  {
   "cell_type": "markdown",
   "id": "b93a3114",
   "metadata": {},
   "source": [
    "### Function Creation"
   ]
  },
  {
   "cell_type": "code",
   "execution_count": 6,
   "id": "c2bda8c8",
   "metadata": {},
   "outputs": [],
   "source": [
    "# def -> define , test is function name and it doesnot have any parameters\n",
    "# this is a blank function you have to use pass if it is blank\n",
    "def test():\n",
    "    pass"
   ]
  },
  {
   "cell_type": "code",
   "execution_count": 7,
   "id": "a88d081a",
   "metadata": {},
   "outputs": [],
   "source": [
    "def test1():\n",
    "    print(\"this is my very very first function\")"
   ]
  },
  {
   "cell_type": "code",
   "execution_count": 8,
   "id": "354a62e7",
   "metadata": {},
   "outputs": [
    {
     "name": "stdout",
     "output_type": "stream",
     "text": [
      "this is my very very first function\n"
     ]
    }
   ],
   "source": [
    "# To execute above function we have to call it\n",
    "test1()\n",
    "# this increases reusability"
   ]
  },
  {
   "cell_type": "code",
   "execution_count": 9,
   "id": "01ab2dbe",
   "metadata": {},
   "outputs": [],
   "source": [
    "# test1() + \"some\"\n",
    "# test1() is have print() which is none type so not possible we can't add\n",
    "# So we generally don't use print() as return from function\n",
    "# we use return(existing keyword)\n",
    "# return mein jo data type likhoge vohi aajayega"
   ]
  },
  {
   "cell_type": "code",
   "execution_count": 10,
   "id": "d9f42c27",
   "metadata": {},
   "outputs": [],
   "source": [
    "def test2():\n",
    "    return \"this is my very first return\""
   ]
  },
  {
   "cell_type": "code",
   "execution_count": 11,
   "id": "a759d712",
   "metadata": {},
   "outputs": [
    {
     "data": {
      "text/plain": [
       "'this is my very first return'"
      ]
     },
     "execution_count": 11,
     "metadata": {},
     "output_type": "execute_result"
    }
   ],
   "source": [
    "test2()"
   ]
  },
  {
   "cell_type": "code",
   "execution_count": 12,
   "id": "e38231bd",
   "metadata": {},
   "outputs": [
    {
     "data": {
      "text/plain": [
       "'this is my very first returnmaan'"
      ]
     },
     "execution_count": 12,
     "metadata": {},
     "output_type": "execute_result"
    }
   ],
   "source": [
    "test2() + 'maan'"
   ]
  },
  {
   "cell_type": "code",
   "execution_count": 13,
   "id": "29691c96",
   "metadata": {},
   "outputs": [],
   "source": [
    "def test3():\n",
    "    \n",
    "    return 'sudh' , 23, 345.56 , [1,2,3]"
   ]
  },
  {
   "cell_type": "code",
   "execution_count": 14,
   "id": "8ddcadb7",
   "metadata": {},
   "outputs": [
    {
     "data": {
      "text/plain": [
       "('sudh', 23, 345.56, [1, 2, 3])"
      ]
     },
     "execution_count": 14,
     "metadata": {},
     "output_type": "execute_result"
    }
   ],
   "source": [
    "# this return multiple data type in form of tuples\n",
    "test3()"
   ]
  },
  {
   "cell_type": "code",
   "execution_count": 15,
   "id": "2222877a",
   "metadata": {},
   "outputs": [],
   "source": [
    "# Ye alag alag variable mein data dal bhi dega\n",
    "a,b,c,d = test3()\n",
    "# accordingly"
   ]
  },
  {
   "cell_type": "code",
   "execution_count": 16,
   "id": "7c35a946",
   "metadata": {},
   "outputs": [
    {
     "data": {
      "text/plain": [
       "'sudh'"
      ]
     },
     "execution_count": 16,
     "metadata": {},
     "output_type": "execute_result"
    }
   ],
   "source": [
    "a"
   ]
  },
  {
   "cell_type": "code",
   "execution_count": 17,
   "id": "ccee236e",
   "metadata": {},
   "outputs": [
    {
     "data": {
      "text/plain": [
       "23"
      ]
     },
     "execution_count": 17,
     "metadata": {},
     "output_type": "execute_result"
    }
   ],
   "source": [
    "b"
   ]
  },
  {
   "cell_type": "code",
   "execution_count": 18,
   "id": "d8d6a80d",
   "metadata": {},
   "outputs": [
    {
     "data": {
      "text/plain": [
       "345.56"
      ]
     },
     "execution_count": 18,
     "metadata": {},
     "output_type": "execute_result"
    }
   ],
   "source": [
    "c"
   ]
  },
  {
   "cell_type": "code",
   "execution_count": 19,
   "id": "1ef6447f",
   "metadata": {},
   "outputs": [
    {
     "data": {
      "text/plain": [
       "[1, 2, 3]"
      ]
     },
     "execution_count": 19,
     "metadata": {},
     "output_type": "execute_result"
    }
   ],
   "source": [
    "d"
   ]
  },
  {
   "cell_type": "code",
   "execution_count": 20,
   "id": "9bed191d",
   "metadata": {},
   "outputs": [],
   "source": [
    "# this above is \n",
    "a = 1 \n",
    "b = 1 "
   ]
  },
  {
   "cell_type": "code",
   "execution_count": 21,
   "id": "1287df49",
   "metadata": {},
   "outputs": [],
   "source": [
    "a , b = 1 , 4"
   ]
  },
  {
   "cell_type": "code",
   "execution_count": 22,
   "id": "20ba118f",
   "metadata": {},
   "outputs": [],
   "source": [
    "def test4():\n",
    "    a = 5+6/7\n",
    "    return a"
   ]
  },
  {
   "cell_type": "code",
   "execution_count": 23,
   "id": "dfde168e",
   "metadata": {},
   "outputs": [
    {
     "data": {
      "text/plain": [
       "5.857142857142857"
      ]
     },
     "execution_count": 23,
     "metadata": {},
     "output_type": "execute_result"
    }
   ],
   "source": [
    "# jo iss return ke sath karna hai karlo\n",
    "test4()"
   ]
  },
  {
   "cell_type": "code",
   "execution_count": 24,
   "id": "0d45a6c2",
   "metadata": {},
   "outputs": [],
   "source": [
    "def test5(a,b,c):\n",
    "    d = a+b/c\n",
    "    return d"
   ]
  },
  {
   "cell_type": "code",
   "execution_count": 25,
   "id": "5be8f8b5",
   "metadata": {},
   "outputs": [
    {
     "data": {
      "text/plain": [
       "2.625"
      ]
     },
     "execution_count": 25,
     "metadata": {},
     "output_type": "execute_result"
    }
   ],
   "source": [
    "# test5() bina arguments ke bina pass nahi hoga becuase above function has some parameters a , b , c , d. \n",
    "# Arguments are the actual values or expressions that are passed into a function when it is called. when test5 is \n",
    "# called and values of a,b,c will be passed then they will be arguents\n",
    "test5(2,5,8)\n",
    "# 2,5,8 are arguments"
   ]
  },
  {
   "cell_type": "code",
   "execution_count": 26,
   "id": "8d3f71cf",
   "metadata": {},
   "outputs": [],
   "source": [
    "def test6(a,b):\n",
    "    return a+b"
   ]
  },
  {
   "cell_type": "code",
   "execution_count": 27,
   "id": "01acce98",
   "metadata": {},
   "outputs": [
    {
     "data": {
      "text/plain": [
       "7"
      ]
     },
     "execution_count": 27,
     "metadata": {},
     "output_type": "execute_result"
    }
   ],
   "source": [
    "test6(3,4)"
   ]
  },
  {
   "cell_type": "code",
   "execution_count": 28,
   "id": "a1985bba",
   "metadata": {},
   "outputs": [
    {
     "data": {
      "text/plain": [
       "'sudhkumar'"
      ]
     },
     "execution_count": 28,
     "metadata": {},
     "output_type": "execute_result"
    }
   ],
   "source": [
    "test6('sudh' , 'kumar')"
   ]
  },
  {
   "cell_type": "code",
   "execution_count": 29,
   "id": "d24437e1",
   "metadata": {},
   "outputs": [
    {
     "data": {
      "text/plain": [
       "[1, 2, 3, 4, 5, 6]"
      ]
     },
     "execution_count": 29,
     "metadata": {},
     "output_type": "execute_result"
    }
   ],
   "source": [
    "test6([1,2,3],[4,5,6])"
   ]
  },
  {
   "cell_type": "code",
   "execution_count": 30,
   "id": "8bc0ffdd",
   "metadata": {},
   "outputs": [],
   "source": [
    "l = [1,2,3,4,'sudh','kumar',[1,2,3,4,5,6]]\n",
    "# Ques -> Ek kaam kro ye jo list available hai na ek function likhdo jisse koi list aap pass kroge to uske andar \n",
    "# jo bhi data types ki value available hai usko ek aur list mein nikalke vo dede"
   ]
  },
  {
   "cell_type": "code",
   "execution_count": 31,
   "id": "6e08c8c6",
   "metadata": {},
   "outputs": [],
   "source": [
    "# without function\n",
    "l1 = []\n",
    "for i in l:\n",
    "    if type(i)==int or type(i)==float:\n",
    "        l1.append(i)"
   ]
  },
  {
   "cell_type": "code",
   "execution_count": 32,
   "id": "bdb26b3c",
   "metadata": {},
   "outputs": [
    {
     "data": {
      "text/plain": [
       "[1, 2, 3, 4]"
      ]
     },
     "execution_count": 32,
     "metadata": {},
     "output_type": "execute_result"
    }
   ],
   "source": [
    "l1"
   ]
  },
  {
   "cell_type": "code",
   "execution_count": 33,
   "id": "de7654f0",
   "metadata": {},
   "outputs": [],
   "source": [
    "# with function\n",
    "def test7(l):\n",
    "    l1 = []\n",
    "    for i in l:\n",
    "        if type(i)==int or type(i)==float:\n",
    "            l1.append(i)\n",
    "    return l1"
   ]
  },
  {
   "cell_type": "code",
   "execution_count": 34,
   "id": "f5e60f7f",
   "metadata": {},
   "outputs": [
    {
     "data": {
      "text/plain": [
       "[1, 2, 3, 4]"
      ]
     },
     "execution_count": 34,
     "metadata": {},
     "output_type": "execute_result"
    }
   ],
   "source": [
    "test7(l)"
   ]
  },
  {
   "cell_type": "code",
   "execution_count": 35,
   "id": "25767ca9",
   "metadata": {},
   "outputs": [
    {
     "data": {
      "text/plain": [
       "[1, 2, 3, 4, 'sudh', 'kumar', [1, 2, 3, 4, 5, 6]]"
      ]
     },
     "execution_count": 35,
     "metadata": {},
     "output_type": "execute_result"
    }
   ],
   "source": [
    "l"
   ]
  },
  {
   "cell_type": "code",
   "execution_count": 36,
   "id": "69cffb73",
   "metadata": {},
   "outputs": [],
   "source": [
    "def test8(a):\n",
    "    l2 = []\n",
    "    for i in a:\n",
    "        # Pehla loop list ke andar se list ko nikalne ke liye\n",
    "        if type(i) == list:\n",
    "            for j in i:\n",
    "                l2.append(j)\n",
    "        else:\n",
    "            if type(i) == int or type(i) == float:\n",
    "                l2.append(i)\n",
    "    return l2"
   ]
  },
  {
   "cell_type": "code",
   "execution_count": 37,
   "id": "6eefc0e8",
   "metadata": {},
   "outputs": [
    {
     "data": {
      "text/plain": [
       "[1, 2, 3, 4, 1, 2, 3, 4, 5, 6]"
      ]
     },
     "execution_count": 37,
     "metadata": {},
     "output_type": "execute_result"
    }
   ],
   "source": [
    "test8(l)"
   ]
  },
  {
   "cell_type": "code",
   "execution_count": 38,
   "id": "9f60cf06",
   "metadata": {},
   "outputs": [
    {
     "data": {
      "text/plain": [
       "[1, 2, 3, 4, 'sudh', 'kumar', [1, 2, 3, 4, 5, 6]]"
      ]
     },
     "execution_count": 38,
     "metadata": {},
     "output_type": "execute_result"
    }
   ],
   "source": [
    "l"
   ]
  },
  {
   "cell_type": "code",
   "execution_count": 39,
   "id": "a4ccd76d",
   "metadata": {},
   "outputs": [],
   "source": [
    "# How to make your function such that it shows info when you press tab and it shows infor\n",
    "# test8()\n",
    "# DOC String\n",
    "def test9(a):\n",
    "    \"\"\"this is my favourite to extract num data from list\"\"\"\n",
    "    l2 = []\n",
    "    for i in a:\n",
    "        # Pehla loop list ke andar se list ko nikalne ke liye\n",
    "        if type(i) == list:\n",
    "            for j in i:\n",
    "                l2.append(j)\n",
    "        else:\n",
    "            if type(i) == int or type(i) == float:\n",
    "                l2.append(i)\n",
    "    return l2"
   ]
  },
  {
   "cell_type": "code",
   "execution_count": 41,
   "id": "e71e47b5",
   "metadata": {},
   "outputs": [],
   "source": [
    "# test9() # now docstring will be available"
   ]
  },
  {
   "cell_type": "code",
   "execution_count": 42,
   "id": "99e5aa67",
   "metadata": {},
   "outputs": [],
   "source": [
    "# Static Parameters\n",
    "def test10(a,b):\n",
    "    return a+b"
   ]
  },
  {
   "cell_type": "code",
   "execution_count": 1,
   "id": "d3ab05a9",
   "metadata": {},
   "outputs": [],
   "source": [
    "# dynamic parameters\n",
    "def test11(*args):\n",
    "    return args\n",
    "# this '*' steric means any number of arguments you can pass into a function\n",
    "# args is not fixed you can use anything"
   ]
  },
  {
   "cell_type": "code",
   "execution_count": 2,
   "id": "d188a84f",
   "metadata": {},
   "outputs": [
    {
     "data": {
      "text/plain": [
       "()"
      ]
     },
     "execution_count": 2,
     "metadata": {},
     "output_type": "execute_result"
    }
   ],
   "source": [
    "test11()"
   ]
  },
  {
   "cell_type": "code",
   "execution_count": 52,
   "id": "1c6b6bad",
   "metadata": {},
   "outputs": [
    {
     "data": {
      "text/plain": [
       "tuple"
      ]
     },
     "execution_count": 52,
     "metadata": {},
     "output_type": "execute_result"
    }
   ],
   "source": [
    "type(test11())"
   ]
  },
  {
   "cell_type": "code",
   "execution_count": 53,
   "id": "6cdb1513",
   "metadata": {},
   "outputs": [
    {
     "data": {
      "text/plain": [
       "(1, 2, 3)"
      ]
     },
     "execution_count": 53,
     "metadata": {},
     "output_type": "execute_result"
    }
   ],
   "source": [
    "test11(1,2,3)"
   ]
  },
  {
   "cell_type": "code",
   "execution_count": 54,
   "id": "c569682d",
   "metadata": {},
   "outputs": [
    {
     "data": {
      "text/plain": [
       "(1, 2, 3, 'sudh', 'kumar', [1, 2, 3, 4, 5, 6])"
      ]
     },
     "execution_count": 54,
     "metadata": {},
     "output_type": "execute_result"
    }
   ],
   "source": [
    "test11(1,2,3,'sudh' , 'kumar',[1,2,3,4,5,6])\n",
    "# it will take data into tuples"
   ]
  },
  {
   "cell_type": "code",
   "execution_count": 55,
   "id": "a1cebfc9",
   "metadata": {},
   "outputs": [],
   "source": [
    "def test12(*astha):\n",
    "    return astha"
   ]
  },
  {
   "cell_type": "code",
   "execution_count": 56,
   "id": "62852f0b",
   "metadata": {},
   "outputs": [
    {
     "data": {
      "text/plain": [
       "('i', 'know', 1, 22, 34)"
      ]
     },
     "execution_count": 56,
     "metadata": {},
     "output_type": "execute_result"
    }
   ],
   "source": [
    "test12('i' , 'know' , 1,22,34)"
   ]
  },
  {
   "cell_type": "code",
   "execution_count": 57,
   "id": "fd8c1d06",
   "metadata": {},
   "outputs": [],
   "source": [
    "def test13(*args , a):\n",
    "    return args , a"
   ]
  },
  {
   "cell_type": "code",
   "execution_count": 59,
   "id": "db20183e",
   "metadata": {},
   "outputs": [],
   "source": [
    "# test13(1,2,3,4)\n",
    "# # Multiple input dediye hai toh extra variable alag se specify krna padega vrna error aajega"
   ]
  },
  {
   "cell_type": "code",
   "execution_count": 60,
   "id": "50299d18",
   "metadata": {},
   "outputs": [
    {
     "data": {
      "text/plain": [
       "((1, 2, 3, 4), 0)"
      ]
     },
     "execution_count": 60,
     "metadata": {},
     "output_type": "execute_result"
    }
   ],
   "source": [
    "test13(1,2,3,4,a=0)"
   ]
  },
  {
   "cell_type": "code",
   "execution_count": 61,
   "id": "162590a5",
   "metadata": {},
   "outputs": [],
   "source": [
    "def test14(c , d , a=23 , b = 1):\n",
    "    return a , b , c , d"
   ]
  },
  {
   "cell_type": "code",
   "execution_count": 62,
   "id": "1a4e0045",
   "metadata": {},
   "outputs": [
    {
     "data": {
      "text/plain": [
       "(23, 1, 3, 4)"
      ]
     },
     "execution_count": 62,
     "metadata": {},
     "output_type": "execute_result"
    }
   ],
   "source": [
    "# two values jo nahi di hai vo deni padengi\n",
    "test14(3,4)"
   ]
  },
  {
   "cell_type": "code",
   "execution_count": 63,
   "id": "58718d60",
   "metadata": {},
   "outputs": [
    {
     "data": {
      "text/plain": [
       "(0, 1, 2, 5)"
      ]
     },
     "execution_count": 63,
     "metadata": {},
     "output_type": "execute_result"
    }
   ],
   "source": [
    "# you can override default value\n",
    "test14(2,5,a=0)"
   ]
  },
  {
   "cell_type": "code",
   "execution_count": 65,
   "id": "4c2a3510",
   "metadata": {},
   "outputs": [],
   "source": [
    "# user ko n number of data chahiye in a dictionary format , in key : value pair\n",
    "def test15(**kwargs):\n",
    "    return kwargs"
   ]
  },
  {
   "cell_type": "code",
   "execution_count": 66,
   "id": "d9224275",
   "metadata": {},
   "outputs": [
    {
     "data": {
      "text/plain": [
       "{}"
      ]
     },
     "execution_count": 66,
     "metadata": {},
     "output_type": "execute_result"
    }
   ],
   "source": [
    "test15()"
   ]
  },
  {
   "cell_type": "code",
   "execution_count": 67,
   "id": "d0f32d98",
   "metadata": {},
   "outputs": [
    {
     "data": {
      "text/plain": [
       "dict"
      ]
     },
     "execution_count": 67,
     "metadata": {},
     "output_type": "execute_result"
    }
   ],
   "source": [
    "type(test15())"
   ]
  },
  {
   "cell_type": "code",
   "execution_count": 68,
   "id": "30006c2f",
   "metadata": {},
   "outputs": [
    {
     "data": {
      "text/plain": [
       "{'a': [1, 2, 3, 4], 'b': 'sudh', 'c': 23.45}"
      ]
     },
     "execution_count": 68,
     "metadata": {},
     "output_type": "execute_result"
    }
   ],
   "source": [
    "# key value pair\n",
    "test15(a = [1,2,3,4] , b = 'sudh' , c = 23.45)"
   ]
  }
 ],
 "metadata": {
  "kernelspec": {
   "display_name": "Python 3 (ipykernel)",
   "language": "python",
   "name": "python3"
  },
  "language_info": {
   "codemirror_mode": {
    "name": "ipython",
    "version": 3
   },
   "file_extension": ".py",
   "mimetype": "text/x-python",
   "name": "python",
   "nbconvert_exporter": "python",
   "pygments_lexer": "ipython3",
   "version": "3.9.13"
  }
 },
 "nbformat": 4,
 "nbformat_minor": 5
}
