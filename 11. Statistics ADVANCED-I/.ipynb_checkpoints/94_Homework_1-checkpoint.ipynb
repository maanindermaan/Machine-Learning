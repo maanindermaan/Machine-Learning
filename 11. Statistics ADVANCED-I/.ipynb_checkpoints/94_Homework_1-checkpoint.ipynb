{
 "cells": [
  {
   "cell_type": "markdown",
   "id": "7acbebda",
   "metadata": {},
   "source": [
    "Q1. Write a Python function to calculate the probability density function of a normal distribution with\n",
    "given mean and standard deviation at a given point."
   ]
  },
  {
   "cell_type": "code",
   "execution_count": 1,
   "id": "bb687cca",
   "metadata": {},
   "outputs": [],
   "source": [
    "import seaborn as sns"
   ]
  },
  {
   "cell_type": "code",
   "execution_count": 3,
   "id": "ec4a5a75",
   "metadata": {},
   "outputs": [],
   "source": [
    "df = sns.load_dataset('iris')"
   ]
  },
  {
   "cell_type": "code",
   "execution_count": 4,
   "id": "e39704a5",
   "metadata": {},
   "outputs": [
    {
     "data": {
      "text/html": [
       "<div>\n",
       "<style scoped>\n",
       "    .dataframe tbody tr th:only-of-type {\n",
       "        vertical-align: middle;\n",
       "    }\n",
       "\n",
       "    .dataframe tbody tr th {\n",
       "        vertical-align: top;\n",
       "    }\n",
       "\n",
       "    .dataframe thead th {\n",
       "        text-align: right;\n",
       "    }\n",
       "</style>\n",
       "<table border=\"1\" class=\"dataframe\">\n",
       "  <thead>\n",
       "    <tr style=\"text-align: right;\">\n",
       "      <th></th>\n",
       "      <th>sepal_length</th>\n",
       "      <th>sepal_width</th>\n",
       "      <th>petal_length</th>\n",
       "      <th>petal_width</th>\n",
       "      <th>species</th>\n",
       "    </tr>\n",
       "  </thead>\n",
       "  <tbody>\n",
       "    <tr>\n",
       "      <th>0</th>\n",
       "      <td>5.1</td>\n",
       "      <td>3.5</td>\n",
       "      <td>1.4</td>\n",
       "      <td>0.2</td>\n",
       "      <td>setosa</td>\n",
       "    </tr>\n",
       "    <tr>\n",
       "      <th>1</th>\n",
       "      <td>4.9</td>\n",
       "      <td>3.0</td>\n",
       "      <td>1.4</td>\n",
       "      <td>0.2</td>\n",
       "      <td>setosa</td>\n",
       "    </tr>\n",
       "    <tr>\n",
       "      <th>2</th>\n",
       "      <td>4.7</td>\n",
       "      <td>3.2</td>\n",
       "      <td>1.3</td>\n",
       "      <td>0.2</td>\n",
       "      <td>setosa</td>\n",
       "    </tr>\n",
       "    <tr>\n",
       "      <th>3</th>\n",
       "      <td>4.6</td>\n",
       "      <td>3.1</td>\n",
       "      <td>1.5</td>\n",
       "      <td>0.2</td>\n",
       "      <td>setosa</td>\n",
       "    </tr>\n",
       "    <tr>\n",
       "      <th>4</th>\n",
       "      <td>5.0</td>\n",
       "      <td>3.6</td>\n",
       "      <td>1.4</td>\n",
       "      <td>0.2</td>\n",
       "      <td>setosa</td>\n",
       "    </tr>\n",
       "  </tbody>\n",
       "</table>\n",
       "</div>"
      ],
      "text/plain": [
       "   sepal_length  sepal_width  petal_length  petal_width species\n",
       "0           5.1          3.5           1.4          0.2  setosa\n",
       "1           4.9          3.0           1.4          0.2  setosa\n",
       "2           4.7          3.2           1.3          0.2  setosa\n",
       "3           4.6          3.1           1.5          0.2  setosa\n",
       "4           5.0          3.6           1.4          0.2  setosa"
      ]
     },
     "execution_count": 4,
     "metadata": {},
     "output_type": "execute_result"
    }
   ],
   "source": [
    "df.head()"
   ]
  },
  {
   "cell_type": "code",
   "execution_count": 11,
   "id": "7476669b",
   "metadata": {},
   "outputs": [],
   "source": [
    "mean = df['petal_length'].mean()"
   ]
  },
  {
   "cell_type": "code",
   "execution_count": 12,
   "id": "12964cf8",
   "metadata": {},
   "outputs": [
    {
     "data": {
      "text/plain": [
       "3.7580000000000027"
      ]
     },
     "execution_count": 12,
     "metadata": {},
     "output_type": "execute_result"
    }
   ],
   "source": [
    "mean"
   ]
  },
  {
   "cell_type": "code",
   "execution_count": 13,
   "id": "43162244",
   "metadata": {},
   "outputs": [],
   "source": [
    "std = df['petal_length'].std()"
   ]
  },
  {
   "cell_type": "code",
   "execution_count": 14,
   "id": "a7f27adf",
   "metadata": {},
   "outputs": [
    {
     "data": {
      "text/plain": [
       "1.7652982332594667"
      ]
     },
     "execution_count": 14,
     "metadata": {},
     "output_type": "execute_result"
    }
   ],
   "source": [
    "std"
   ]
  },
  {
   "cell_type": "code",
   "execution_count": 16,
   "id": "b5d3401e",
   "metadata": {},
   "outputs": [],
   "source": [
    "from scipy.stats import norm"
   ]
  },
  {
   "cell_type": "code",
   "execution_count": 17,
   "id": "0bddb85a",
   "metadata": {},
   "outputs": [],
   "source": [
    "def pdf_calculator(x , std , mean):\n",
    "    return norm.pdf(x , loc = mean , scale = std)"
   ]
  },
  {
   "cell_type": "code",
   "execution_count": 18,
   "id": "5d6201bf",
   "metadata": {},
   "outputs": [],
   "source": [
    "ans = pdf_calculator(0.5 , std , mean)"
   ]
  },
  {
   "cell_type": "code",
   "execution_count": 19,
   "id": "d3e59e5f",
   "metadata": {},
   "outputs": [
    {
     "data": {
      "text/plain": [
       "0.04115779770382679"
      ]
     },
     "execution_count": 19,
     "metadata": {},
     "output_type": "execute_result"
    }
   ],
   "source": [
    "ans"
   ]
  },
  {
   "cell_type": "markdown",
   "id": "43015073",
   "metadata": {},
   "source": [
    "Q2. Generate a random sample of size 1000 from a binomial distribution with probability of success 0.4\n",
    "and plot a histogram of the results using matplotlib."
   ]
  },
  {
   "cell_type": "code",
   "execution_count": 20,
   "id": "79a4c4e7",
   "metadata": {},
   "outputs": [],
   "source": [
    "sample_size = 1000 \n",
    "p_success = 0.4\n",
    "p_failure = 0.6"
   ]
  },
  {
   "cell_type": "code",
   "execution_count": 21,
   "id": "ed85fb58",
   "metadata": {},
   "outputs": [],
   "source": [
    "import numpy as np"
   ]
  },
  {
   "cell_type": "code",
   "execution_count": 24,
   "id": "c43bb60c",
   "metadata": {},
   "outputs": [],
   "source": [
    "random_sample = np.random.binomial(1 , p_success , sample_size)"
   ]
  },
  {
   "cell_type": "code",
   "execution_count": 25,
   "id": "45c8a195",
   "metadata": {},
   "outputs": [
    {
     "data": {
      "text/plain": [
       "array([0, 0, 1, 1, 0, 0, 0, 0, 0, 1, 0, 1, 0, 1, 0, 0, 1, 0, 0, 0, 1, 0,\n",
       "       1, 1, 1, 1, 1, 0, 0, 0, 0, 0, 0, 0, 1, 0, 0, 0, 1, 1, 1, 0, 0, 0,\n",
       "       1, 1, 1, 0, 0, 0, 0, 0, 0, 1, 1, 1, 0, 0, 0, 0, 0, 1, 1, 0, 0, 0,\n",
       "       0, 1, 0, 0, 0, 0, 0, 1, 1, 0, 1, 1, 0, 1, 0, 1, 1, 1, 0, 0, 1, 1,\n",
       "       1, 1, 1, 0, 1, 0, 0, 1, 0, 0, 1, 0, 0, 1, 1, 0, 0, 0, 0, 0, 0, 0,\n",
       "       1, 0, 0, 0, 0, 0, 1, 0, 0, 0, 0, 0, 1, 1, 1, 0, 1, 1, 0, 1, 0, 1,\n",
       "       1, 0, 0, 0, 1, 1, 1, 0, 0, 0, 0, 0, 1, 0, 0, 1, 0, 1, 0, 1, 0, 0,\n",
       "       1, 0, 0, 0, 0, 1, 0, 0, 0, 0, 0, 0, 0, 1, 0, 0, 0, 0, 0, 0, 0, 1,\n",
       "       0, 0, 0, 1, 1, 1, 1, 1, 0, 1, 1, 1, 1, 0, 1, 1, 0, 1, 0, 1, 0, 0,\n",
       "       0, 1, 0, 1, 0, 1, 0, 0, 0, 0, 0, 1, 1, 1, 0, 1, 1, 1, 0, 1, 1, 0,\n",
       "       0, 1, 0, 1, 0, 0, 0, 1, 0, 0, 0, 0, 1, 0, 1, 0, 1, 0, 0, 0, 1, 0,\n",
       "       1, 1, 1, 0, 0, 1, 0, 0, 0, 0, 0, 0, 0, 0, 0, 1, 0, 0, 0, 0, 0, 0,\n",
       "       1, 0, 0, 1, 0, 1, 0, 0, 1, 0, 0, 1, 0, 0, 1, 1, 1, 1, 0, 1, 1, 0,\n",
       "       0, 1, 1, 0, 0, 0, 1, 1, 1, 0, 1, 0, 0, 1, 0, 1, 1, 0, 1, 0, 1, 0,\n",
       "       1, 1, 1, 0, 0, 0, 1, 0, 0, 1, 0, 0, 0, 1, 0, 0, 0, 1, 0, 1, 1, 1,\n",
       "       0, 1, 0, 0, 0, 0, 0, 0, 1, 0, 0, 1, 1, 1, 0, 0, 0, 1, 0, 1, 0, 0,\n",
       "       1, 1, 0, 1, 0, 0, 0, 0, 1, 0, 0, 1, 0, 0, 0, 0, 1, 0, 0, 0, 0, 1,\n",
       "       0, 1, 1, 1, 0, 1, 0, 0, 1, 1, 0, 1, 0, 1, 1, 1, 0, 1, 1, 0, 1, 0,\n",
       "       0, 1, 0, 1, 1, 1, 1, 0, 1, 0, 1, 1, 1, 1, 1, 1, 0, 0, 1, 0, 0, 0,\n",
       "       1, 0, 0, 0, 0, 0, 1, 0, 0, 0, 0, 0, 0, 0, 1, 1, 0, 0, 1, 0, 0, 0,\n",
       "       0, 1, 1, 0, 0, 0, 1, 0, 0, 0, 0, 0, 0, 0, 0, 0, 0, 1, 0, 0, 0, 0,\n",
       "       1, 0, 0, 0, 0, 0, 1, 0, 0, 0, 0, 0, 1, 0, 1, 1, 0, 0, 1, 0, 0, 0,\n",
       "       1, 1, 0, 0, 1, 0, 1, 0, 0, 1, 0, 0, 1, 1, 0, 1, 0, 0, 1, 1, 0, 1,\n",
       "       0, 1, 1, 0, 0, 1, 1, 0, 0, 0, 0, 1, 0, 1, 0, 0, 1, 0, 0, 0, 0, 1,\n",
       "       0, 0, 1, 0, 0, 0, 1, 0, 1, 1, 0, 1, 0, 0, 0, 0, 1, 1, 0, 0, 0, 0,\n",
       "       1, 0, 0, 1, 0, 1, 0, 0, 0, 0, 1, 1, 0, 0, 0, 0, 0, 0, 0, 1, 0, 0,\n",
       "       1, 0, 0, 0, 1, 0, 1, 1, 0, 0, 1, 1, 0, 0, 0, 0, 1, 0, 0, 1, 1, 0,\n",
       "       1, 1, 1, 0, 1, 0, 1, 0, 0, 1, 1, 1, 1, 1, 0, 0, 1, 0, 1, 1, 0, 1,\n",
       "       0, 1, 1, 0, 0, 0, 1, 0, 1, 0, 0, 0, 1, 0, 1, 0, 0, 0, 1, 0, 0, 1,\n",
       "       0, 0, 0, 0, 1, 0, 0, 0, 1, 1, 0, 1, 0, 0, 1, 1, 0, 0, 1, 0, 0, 1,\n",
       "       0, 1, 0, 1, 0, 0, 1, 0, 0, 0, 0, 1, 1, 0, 0, 1, 0, 0, 0, 0, 0, 0,\n",
       "       0, 0, 1, 0, 0, 0, 1, 1, 0, 0, 1, 0, 1, 1, 0, 0, 0, 0, 0, 0, 0, 1,\n",
       "       1, 0, 1, 0, 1, 0, 1, 0, 0, 1, 0, 1, 0, 0, 1, 0, 1, 0, 0, 0, 0, 1,\n",
       "       1, 0, 0, 0, 1, 0, 1, 0, 0, 1, 1, 0, 0, 1, 0, 1, 0, 1, 0, 0, 1, 1,\n",
       "       1, 0, 1, 1, 1, 1, 1, 1, 1, 0, 0, 0, 0, 0, 1, 0, 1, 0, 0, 1, 0, 0,\n",
       "       0, 0, 0, 1, 1, 0, 0, 1, 0, 0, 0, 1, 0, 0, 0, 1, 1, 0, 0, 0, 0, 1,\n",
       "       1, 0, 0, 1, 0, 0, 1, 0, 1, 1, 0, 1, 0, 1, 1, 0, 0, 0, 1, 0, 0, 0,\n",
       "       1, 0, 1, 0, 0, 0, 1, 1, 0, 0, 1, 0, 0, 1, 0, 0, 0, 1, 0, 0, 0, 1,\n",
       "       1, 1, 1, 0, 0, 1, 0, 0, 0, 1, 0, 0, 1, 1, 1, 1, 0, 1, 1, 0, 1, 0,\n",
       "       0, 1, 0, 1, 1, 0, 1, 1, 0, 0, 1, 0, 1, 0, 0, 1, 1, 1, 0, 1, 1, 0,\n",
       "       0, 0, 0, 1, 0, 1, 0, 0, 0, 1, 1, 1, 0, 0, 1, 1, 1, 1, 0, 0, 1, 0,\n",
       "       1, 0, 0, 1, 1, 1, 0, 0, 1, 1, 0, 0, 0, 1, 1, 0, 0, 0, 1, 1, 1, 1,\n",
       "       0, 0, 1, 1, 0, 1, 0, 1, 1, 1, 1, 1, 1, 0, 0, 0, 1, 1, 0, 0, 0, 0,\n",
       "       1, 1, 0, 1, 0, 1, 1, 0, 1, 1, 1, 0, 1, 0, 0, 1, 0, 1, 0, 0, 0, 0,\n",
       "       0, 0, 0, 0, 1, 0, 0, 0, 0, 0, 0, 0, 0, 0, 0, 0, 0, 0, 1, 0, 0, 1,\n",
       "       0, 0, 0, 0, 1, 1, 1, 1, 1, 0])"
      ]
     },
     "execution_count": 25,
     "metadata": {},
     "output_type": "execute_result"
    }
   ],
   "source": [
    "random_sample"
   ]
  },
  {
   "cell_type": "code",
   "execution_count": 31,
   "id": "1498b4c5",
   "metadata": {},
   "outputs": [],
   "source": [
    "import matplotlib.pyplot as plt"
   ]
  },
  {
   "cell_type": "code",
   "execution_count": 38,
   "id": "f31dcb2a",
   "metadata": {},
   "outputs": [
    {
     "data": {
      "image/png": "[encoded data removed]",
      "text/plain": [
       "<Figure size 640x480 with 1 Axes>"
      ]
     },
     "metadata": {},
     "output_type": "display_data"
    }
   ],
   "source": [
    "plt.hist(random_sample, bins=[-0.5, 0.5, 1.5], rwidth=0.8, density=True, alpha=0.7, color='b', edgecolor='black')\n",
    "plt.xticks([0, 1], ['Failure', 'Success'])\n",
    "plt.xlabel('Outcome')\n",
    "plt.ylabel('Probability')\n",
    "plt.title('Binomial Distribution Histogram (n=1000, p=0.4)')\n",
    "\n",
    "# Show the plot\n",
    "plt.show()"
   ]
  },
  {
   "cell_type": "code",
   "execution_count": 40,
   "id": "dc4d13cf",
   "metadata": {},
   "outputs": [
    {
     "data": {
      "text/plain": [
       "(array([599.,   0.,   0.,   0.,   0.,   0.,   0.,   0.,   0., 401.]),\n",
       " array([0. , 0.1, 0.2, 0.3, 0.4, 0.5, 0.6, 0.7, 0.8, 0.9, 1. ]),\n",
       " <BarContainer object of 10 artists>)"
      ]
     },
     "execution_count": 40,
     "metadata": {},
     "output_type": "execute_result"
    },
    {
     "data": {
      "image/png": "[encoded data removed]",
      "text/plain": [
       "<Figure size 640x480 with 1 Axes>"
      ]
     },
     "metadata": {},
     "output_type": "display_data"
    }
   ],
   "source": [
    "plt.hist(random_sample)"
   ]
  },
  {
   "cell_type": "markdown",
   "id": "9e249c65",
   "metadata": {},
   "source": [
    "Q3. Write a Python function to calculate the cumulative distribution function of a Poisson distribution\n",
    "with given mean at a given point."
   ]
  },
  {
   "cell_type": "code",
   "execution_count": 41,
   "id": "e37ea522",
   "metadata": {},
   "outputs": [
    {
     "data": {
      "text/plain": [
       "3.7580000000000027"
      ]
     },
     "execution_count": 41,
     "metadata": {},
     "output_type": "execute_result"
    }
   ],
   "source": [
    "mean"
   ]
  },
  {
   "cell_type": "code",
   "execution_count": 45,
   "id": "dc61f0d7",
   "metadata": {},
   "outputs": [],
   "source": [
    "from scipy.stats import poisson"
   ]
  },
  {
   "cell_type": "code",
   "execution_count": 48,
   "id": "1ee29ef9",
   "metadata": {},
   "outputs": [],
   "source": [
    "def cdf_calculator(x , mean):\n",
    "    return poisson.cdf(x , mu = mean )"
   ]
  },
  {
   "cell_type": "code",
   "execution_count": 49,
   "id": "eaf9d323",
   "metadata": {},
   "outputs": [
    {
     "data": {
      "text/plain": [
       "0.11100582649302658"
      ]
     },
     "execution_count": 49,
     "metadata": {},
     "output_type": "execute_result"
    }
   ],
   "source": [
    "cdf_calculator(1 , mean)"
   ]
  },
  {
   "cell_type": "markdown",
   "id": "aba75ae1",
   "metadata": {},
   "source": [
    "Q4. Generate a random sample of size 1000 from a Poisson distribution with mean 5 and calculate the\n",
    "sample mean and variance."
   ]
  },
  {
   "cell_type": "code",
   "execution_count": 52,
   "id": "d1fb7583",
   "metadata": {},
   "outputs": [],
   "source": [
    "mean = 5\n",
    "sample_size = 1000"
   ]
  },
  {
   "cell_type": "code",
   "execution_count": 53,
   "id": "f340acca",
   "metadata": {},
   "outputs": [],
   "source": [
    "random_sample4 = np.random.poisson(mean , sample_size)"
   ]
  },
  {
   "cell_type": "code",
   "execution_count": 56,
   "id": "2bfa20e5",
   "metadata": {},
   "outputs": [
    {
     "data": {
      "text/plain": [
       "array([ 5,  3,  3,  6,  5,  2,  4,  3,  7,  8,  3,  5,  1,  2,  5,  4,  1,\n",
       "        8,  2,  3,  6,  6,  2,  8,  3,  7,  1,  3,  3,  5,  2,  3,  2,  5,\n",
       "        5,  8,  4,  7,  2,  3,  5,  4,  3,  5,  3, 11,  4,  4,  5,  7,  6,\n",
       "        8,  6,  6,  3,  8,  2,  5,  5,  3,  5,  1,  7,  5,  4,  5,  5,  9,\n",
       "        3,  5,  4,  2,  7,  5,  4,  9,  4,  5,  2,  3,  9,  4,  2,  6,  8,\n",
       "        6,  5,  7,  4,  7,  3,  9,  7,  6, 10,  3,  7,  4,  3,  8,  8, 10,\n",
       "        3,  7,  2,  6,  5,  9,  6,  4,  9,  3,  4, 10,  6,  5,  2,  5,  5,\n",
       "        1,  6,  9,  5,  1,  4,  6,  3,  5,  4,  4,  7, 10,  3,  5,  6,  8,\n",
       "        3,  1,  3,  7,  3,  6,  3,  3,  7,  3,  9,  7, 11,  4,  5,  6,  8,\n",
       "        5,  1,  5,  7,  7,  3,  6,  3,  3,  4,  7, 10,  6,  5,  4,  4,  4,\n",
       "        6,  2,  5,  5,  8,  9,  2,  3,  2,  5,  4,  9,  5,  7,  4,  8,  3,\n",
       "        7,  3,  5,  6,  4,  6, 10,  3,  2,  7,  1,  1,  7,  1,  7,  6,  7,\n",
       "        3,  6,  2,  6,  3,  4,  3,  4,  4,  7,  9,  6,  2,  5,  2,  6,  9,\n",
       "        8,  5,  8, 10,  5,  6,  4,  6,  5,  5,  4,  6,  3,  1,  7,  4,  5,\n",
       "        5,  5,  2,  3,  5,  5,  5,  4,  8,  4,  6,  6,  3,  2,  7,  8,  4,\n",
       "        7,  4,  3,  3,  5,  5,  2,  6,  8,  7,  2,  8,  4,  3,  9,  7,  9,\n",
       "        2,  8,  3,  1,  5,  6,  3,  1, 10, 11,  6,  3,  5,  6,  3,  5,  6,\n",
       "        3,  3,  5,  4,  7,  9,  6,  6,  4,  7,  3,  6,  6,  5,  3,  9,  7,\n",
       "        5,  7,  4,  5,  5,  1,  1,  9,  2,  8,  6,  3,  4,  6,  4,  1,  4,\n",
       "        6, 10,  5,  8,  4,  3,  5,  2,  2,  6,  3,  3,  2,  3,  4,  5, 11,\n",
       "        2,  5,  8,  3,  7,  2,  7,  8,  3,  8,  6,  3,  0,  4,  3,  4,  6,\n",
       "        6,  8,  7,  6,  2,  5,  4,  8,  7,  4,  2,  5,  5,  5,  2,  5,  2,\n",
       "        7,  4,  8,  4,  5,  5,  3,  4,  7,  4,  3,  5,  8,  2,  3,  3,  1,\n",
       "       10,  5,  5,  4,  7,  4,  5,  3, 12,  4,  9,  5,  7,  6,  5,  5,  4,\n",
       "        8,  7,  5,  5,  6,  2,  3, 11,  4,  7,  2,  9,  7,  6,  6,  4,  3,\n",
       "        3,  7,  3,  3,  4,  5,  6,  4,  7,  5,  1,  4,  8,  6,  5,  8,  6,\n",
       "        5,  5,  3,  4,  3,  6,  3,  4,  3,  5,  1,  2,  3,  5,  4,  5,  3,\n",
       "        5,  3,  3,  9,  2,  4,  7,  4,  5,  6, 10,  7,  7,  7,  3,  4,  2,\n",
       "        6,  4,  5,  4,  4,  7,  5,  5,  5,  3,  3,  4,  5,  1,  4,  6,  5,\n",
       "        4,  7,  6,  2,  1,  4,  4,  4,  1, 11,  7,  5,  6,  4,  7,  5,  2,\n",
       "        5,  3,  4, 12,  8,  6,  6,  5,  9,  7,  6,  4,  6,  8,  4,  6,  8,\n",
       "        3, 12,  5,  4,  3,  4,  2,  4,  6,  4,  6,  4,  1,  3,  2,  1,  4,\n",
       "        5,  4,  4, 16,  5,  4,  5, 10,  4,  8,  2,  8,  8,  1,  5,  6,  5,\n",
       "        3, 13,  3,  7,  3,  7,  6,  4,  4,  7,  4,  6,  1,  3,  3,  5,  5,\n",
       "        7,  5,  6,  4,  5,  7,  7,  5,  4,  4,  5,  7,  6,  9,  1,  6,  8,\n",
       "        4,  4,  7,  6,  7,  4,  2,  2,  5,  5,  4,  2,  5,  5,  4,  1,  8,\n",
       "        4,  3,  3,  6,  1,  6,  6,  1,  6,  6,  6,  3,  5,  4,  6,  6,  4,\n",
       "        7,  6,  3,  3,  3,  5,  4,  7,  5,  4,  2,  5,  5,  8,  4,  5,  4,\n",
       "        4,  5,  4,  7,  8,  3,  8,  4,  3,  2,  6,  8,  3,  2,  2,  8,  7,\n",
       "        6,  5,  5,  2,  5,  7,  5,  5,  5,  7,  2,  1,  5,  6,  6,  9,  7,\n",
       "        7,  3,  3,  4,  8,  7,  5,  8,  3,  4,  5,  4,  6,  3,  4,  1,  5,\n",
       "        2,  8,  2,  5,  2,  4,  2,  4,  4,  9,  8,  4, 10,  1,  3,  7,  5,\n",
       "        5,  5,  4,  4,  5,  8,  7,  3,  4,  3,  4,  3,  4,  6,  6,  5,  1,\n",
       "        1,  8,  2,  7,  5,  6,  5,  5,  4,  2,  2,  6,  6,  6,  5,  5,  3,\n",
       "        6,  3,  5,  4,  8,  9,  5,  5,  3,  4,  7,  4,  5,  5,  5,  6,  5,\n",
       "        4,  9,  2,  7,  4,  5,  6,  4,  3,  5,  5,  3,  3,  6, 12,  6,  4,\n",
       "        5,  6,  3,  5,  3,  7,  3,  3,  3,  9,  7,  9,  7,  1,  7,  5,  8,\n",
       "        2,  2,  3,  3,  3,  6,  5,  3,  4,  8,  3,  3,  7,  7,  2,  9,  3,\n",
       "        5,  4,  2,  1,  2,  5,  4,  6,  4,  6,  5,  6,  3,  5,  4,  3,  3,\n",
       "        6,  3, 12,  4,  4,  7,  6,  7,  7,  6,  5,  3,  3,  3,  5,  2,  8,\n",
       "        3,  4,  5,  3,  2,  5,  3,  2,  2,  6,  5,  4, 10, 10,  6,  7,  4,\n",
       "        9,  1,  6,  5,  6,  6,  6,  2,  5,  5,  5, 10,  4,  1,  6,  4,  3,\n",
       "        1,  4,  6,  7,  9,  6,  6,  3,  8,  4,  6,  5,  4,  6,  4,  5,  2,\n",
       "        5,  5,  2,  8,  7,  5,  2,  6,  4,  2, 10,  5,  5,  6,  5,  7,  6,\n",
       "        6,  1, 11,  9,  7,  5,  2,  3,  1,  8,  5,  4,  1, 11,  3,  8,  9,\n",
       "        4,  4,  3,  6,  8,  3,  4,  7,  8,  8,  4,  5,  5,  5,  7,  3,  4,\n",
       "        3,  3,  6,  4,  6,  5,  7,  8,  9,  6,  5,  5,  2,  6,  2,  5,  7,\n",
       "        4,  4,  7,  2,  8,  4,  1,  0,  4,  1,  7,  4,  5,  4, 10,  7,  2,\n",
       "        4,  4,  2,  3,  9,  6,  5, 10,  5,  8,  3,  4,  2,  4])"
      ]
     },
     "execution_count": 56,
     "metadata": {},
     "output_type": "execute_result"
    }
   ],
   "source": [
    "random_sample4"
   ]
  },
  {
   "cell_type": "code",
   "execution_count": 57,
   "id": "be564afa",
   "metadata": {},
   "outputs": [
    {
     "data": {
      "text/plain": [
       "4.954"
      ]
     },
     "execution_count": 57,
     "metadata": {},
     "output_type": "execute_result"
    }
   ],
   "source": [
    "random_sample4.mean()"
   ]
  },
  {
   "cell_type": "code",
   "execution_count": 58,
   "id": "ae8fa797",
   "metadata": {},
   "outputs": [
    {
     "data": {
      "text/plain": [
       "5.167884"
      ]
     },
     "execution_count": 58,
     "metadata": {},
     "output_type": "execute_result"
    }
   ],
   "source": [
    "random_sample4.var()"
   ]
  },
  {
   "cell_type": "code",
   "execution_count": 59,
   "id": "289c3302",
   "metadata": {},
   "outputs": [
    {
     "data": {
      "text/plain": [
       "4.954"
      ]
     },
     "execution_count": 59,
     "metadata": {},
     "output_type": "execute_result"
    }
   ],
   "source": [
    "np.mean(random_sample4)"
   ]
  },
  {
   "cell_type": "code",
   "execution_count": 60,
   "id": "69beaeb6",
   "metadata": {},
   "outputs": [
    {
     "data": {
      "text/plain": [
       "5.167884"
      ]
     },
     "execution_count": 60,
     "metadata": {},
     "output_type": "execute_result"
    }
   ],
   "source": [
    "np.var(random_sample4)"
   ]
  },
  {
   "cell_type": "code",
   "execution_count": null,
   "id": "68ce4ee1",
   "metadata": {},
   "outputs": [],
   "source": []
  }
 ],
 "metadata": {
  "kernelspec": {
   "display_name": "Python 3 (ipykernel)",
   "language": "python",
   "name": "python3"
  },
  "language_info": {
   "codemirror_mode": {
    "name": "ipython",
    "version": 3
   },
   "file_extension": ".py",
   "mimetype": "text/x-python",
   "name": "python",
   "nbconvert_exporter": "python",
   "pygments_lexer": "ipython3",
   "version": "3.9.13"
  }
 },
 "nbformat": 4,
 "nbformat_minor": 5
}
