{
 "cells": [
  {
   "cell_type": "markdown",
   "id": "a55dffb6",
   "metadata": {},
   "source": [
    "### Polymorphism \n",
    "-> Different kind of behaviour in different situations"
   ]
  },
  {
   "cell_type": "code",
   "execution_count": 1,
   "id": "d042d83c",
   "metadata": {},
   "outputs": [],
   "source": [
    "def test(a , b):\n",
    "    return a+b"
   ]
  },
  {
   "cell_type": "code",
   "execution_count": 2,
   "id": "7fdde58e",
   "metadata": {},
   "outputs": [
    {
     "data": {
      "text/plain": [
       "7"
      ]
     },
     "execution_count": 2,
     "metadata": {},
     "output_type": "execute_result"
    }
   ],
   "source": [
    "test(3,4)"
   ]
  },
  {
   "cell_type": "code",
   "execution_count": 5,
   "id": "f25cc3ff",
   "metadata": {},
   "outputs": [
    {
     "data": {
      "text/plain": [
       "'sudh kumar'"
      ]
     },
     "execution_count": 5,
     "metadata": {},
     "output_type": "execute_result"
    }
   ],
   "source": [
    "test('sudh' , ' kumar')"
   ]
  },
  {
   "cell_type": "code",
   "execution_count": 6,
   "id": "26bd4ba2",
   "metadata": {},
   "outputs": [],
   "source": [
    "# function is same but behaviour is changing now i case of string it is not doing addition rather it is doing \n",
    "# concatenation"
   ]
  },
  {
   "cell_type": "code",
   "execution_count": 7,
   "id": "224b1f66",
   "metadata": {},
   "outputs": [
    {
     "data": {
      "text/plain": [
       "[3, 4, 5, 6, 34, 34, 21]"
      ]
     },
     "execution_count": 7,
     "metadata": {},
     "output_type": "execute_result"
    }
   ],
   "source": [
    "test([3,4,5,6] , [34,34,21])"
   ]
  },
  {
   "cell_type": "code",
   "execution_count": 8,
   "id": "0042a0a3",
   "metadata": {},
   "outputs": [],
   "source": [
    "class data_science:\n",
    "    \n",
    "    def syllabus(self):\n",
    "        print(\"this is my syllabus for data science masters\")"
   ]
  },
  {
   "cell_type": "code",
   "execution_count": 10,
   "id": "ccdf3e8b",
   "metadata": {},
   "outputs": [],
   "source": [
    "class web_dev:\n",
    "    \n",
    "    def syllabus(self):\n",
    "        print(\"this is my syllabus for web dev\")  "
   ]
  },
  {
   "cell_type": "code",
   "execution_count": 11,
   "id": "b2357948",
   "metadata": {},
   "outputs": [],
   "source": [
    "def class_parcer(class_obj):\n",
    "    for i in class_obj:\n",
    "        i.syllabus()"
   ]
  },
  {
   "cell_type": "code",
   "execution_count": 12,
   "id": "8a2aaaa6",
   "metadata": {},
   "outputs": [],
   "source": [
    "data_science = data_science()"
   ]
  },
  {
   "cell_type": "code",
   "execution_count": 13,
   "id": "495d6f1a",
   "metadata": {},
   "outputs": [],
   "source": [
    "web_dev = web_dev()"
   ]
  },
  {
   "cell_type": "code",
   "execution_count": 14,
   "id": "8a34db16",
   "metadata": {},
   "outputs": [],
   "source": [
    "class_obj = [data_science , web_dev]"
   ]
  },
  {
   "cell_type": "code",
   "execution_count": 15,
   "id": "b008ecd9",
   "metadata": {},
   "outputs": [
    {
     "name": "stdout",
     "output_type": "stream",
     "text": [
      "this is my syllabus for data science masters\n",
      "this is my syllabus for web dev\n"
     ]
    }
   ],
   "source": [
    "class_parcer(class_obj)"
   ]
  },
  {
   "cell_type": "code",
   "execution_count": null,
   "id": "4fba001e",
   "metadata": {},
   "outputs": [],
   "source": [
    "# syllabus ko call kar parha hu jo different different class mein available hai\n",
    "# jo class ka object pass krunga vo uske basis pe work krega and jab dusra pass krunga tab uske basis pe krega\n",
    "# nature of differnet object is different in different context"
   ]
  }
 ],
 "metadata": {
  "kernelspec": {
   "display_name": "Python 3 (ipykernel)",
   "language": "python",
   "name": "python3"
  },
  "language_info": {
   "codemirror_mode": {
    "name": "ipython",
    "version": 3
   },
   "file_extension": ".py",
   "mimetype": "text/x-python",
   "name": "python",
   "nbconvert_exporter": "python",
   "pygments_lexer": "ipython3",
   "version": "3.9.13"
  }
 },
 "nbformat": 4,
 "nbformat_minor": 5
}
