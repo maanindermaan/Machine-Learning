{
 "cells": [
  {
   "cell_type": "code",
   "execution_count": 1,
   "id": "34cc7e8e",
   "metadata": {},
   "outputs": [],
   "source": [
    "# Q1, Create a vehicle class with an init method having instance variables as name_of_vehicle, max_speed\n",
    "# and average_of_vehicle."
   ]
  },
  {
   "cell_type": "code",
   "execution_count": 2,
   "id": "ccb2f5d2",
   "metadata": {},
   "outputs": [],
   "source": [
    "class vehicle:\n",
    "    def __init__(self , name_of_vehicle , max_speed , average_of_vehicle):\n",
    "        self.nameOfVehicle = name_of_vehicle\n",
    "        self.maxSpeed = max_speed\n",
    "        self.averageOfVehicle = average_of_vehicle"
   ]
  },
  {
   "cell_type": "code",
   "execution_count": 3,
   "id": "2be30569",
   "metadata": {},
   "outputs": [],
   "source": [
    "automobile = vehicle(\"Land Cruiser\" , 250 , 6.2)"
   ]
  },
  {
   "cell_type": "code",
   "execution_count": 4,
   "id": "e0db70d2",
   "metadata": {},
   "outputs": [
    {
     "data": {
      "text/plain": [
       "'Land Cruiser'"
      ]
     },
     "execution_count": 4,
     "metadata": {},
     "output_type": "execute_result"
    }
   ],
   "source": [
    "automobile.nameOfVehicle"
   ]
  },
  {
   "cell_type": "code",
   "execution_count": 5,
   "id": "42d40f7e",
   "metadata": {},
   "outputs": [
    {
     "data": {
      "text/plain": [
       "250"
      ]
     },
     "execution_count": 5,
     "metadata": {},
     "output_type": "execute_result"
    }
   ],
   "source": [
    "automobile.maxSpeed"
   ]
  },
  {
   "cell_type": "code",
   "execution_count": 6,
   "id": "88b1f4eb",
   "metadata": {},
   "outputs": [
    {
     "data": {
      "text/plain": [
       "6.2"
      ]
     },
     "execution_count": 6,
     "metadata": {},
     "output_type": "execute_result"
    }
   ],
   "source": [
    "automobile.averageOfVehicle"
   ]
  },
  {
   "cell_type": "code",
   "execution_count": 7,
   "id": "523cbd18",
   "metadata": {},
   "outputs": [],
   "source": [
    "# Q2. Create a child class car from the vehicle class created in Que 1, which will inherit the vehicle class.\n",
    "# Create a method named seating_capacity which takes capacity as an argument and returns the name of\n",
    "# the vehicle and its seating capacity."
   ]
  },
  {
   "cell_type": "code",
   "execution_count": 17,
   "id": "c9288a24",
   "metadata": {},
   "outputs": [],
   "source": [
    "class child_vehicle(vehicle):\n",
    "    def seating_capacity(self , capacity):\n",
    "        return capacity"
   ]
  },
  {
   "cell_type": "code",
   "execution_count": 18,
   "id": "5f679895",
   "metadata": {},
   "outputs": [],
   "source": [
    "children = child_vehicle(\"Lamborghini\" , 350 , 2)"
   ]
  },
  {
   "cell_type": "code",
   "execution_count": 19,
   "id": "51beb03f",
   "metadata": {},
   "outputs": [
    {
     "data": {
      "text/plain": [
       "5"
      ]
     },
     "execution_count": 19,
     "metadata": {},
     "output_type": "execute_result"
    }
   ],
   "source": [
    "children.seating_capacity(5)"
   ]
  },
  {
   "cell_type": "code",
   "execution_count": 20,
   "id": "95dd2744",
   "metadata": {},
   "outputs": [
    {
     "data": {
      "text/plain": [
       "'Lamborghini'"
      ]
     },
     "execution_count": 20,
     "metadata": {},
     "output_type": "execute_result"
    }
   ],
   "source": [
    "children.nameOfVehicle"
   ]
  },
  {
   "cell_type": "code",
   "execution_count": 21,
   "id": "0612e3a5",
   "metadata": {},
   "outputs": [],
   "source": [
    "# Q3. What is multiple inheritance? Write a python code to demonstrate multiple inheritance."
   ]
  },
  {
   "cell_type": "code",
   "execution_count": 22,
   "id": "55bb224e",
   "metadata": {},
   "outputs": [],
   "source": [
    "class class1:\n",
    "    def info1(self):\n",
    "        return \"This is class 1\""
   ]
  },
  {
   "cell_type": "code",
   "execution_count": 23,
   "id": "6f238b74",
   "metadata": {},
   "outputs": [],
   "source": [
    "class class2(class1):\n",
    "    def info2(self):\n",
    "        return \"This is class 2\""
   ]
  },
  {
   "cell_type": "code",
   "execution_count": 24,
   "id": "b29c4465",
   "metadata": {},
   "outputs": [],
   "source": [
    "class class3(class2):\n",
    "    pass"
   ]
  },
  {
   "cell_type": "code",
   "execution_count": 25,
   "id": "b0f1f1bf",
   "metadata": {},
   "outputs": [],
   "source": [
    "class3_obj = class3()"
   ]
  },
  {
   "cell_type": "code",
   "execution_count": 26,
   "id": "b28eac67",
   "metadata": {},
   "outputs": [
    {
     "data": {
      "text/plain": [
       "'This is class 1'"
      ]
     },
     "execution_count": 26,
     "metadata": {},
     "output_type": "execute_result"
    }
   ],
   "source": [
    "class3_obj.info1()"
   ]
  },
  {
   "cell_type": "code",
   "execution_count": 27,
   "id": "85bfc32b",
   "metadata": {},
   "outputs": [
    {
     "data": {
      "text/plain": [
       "'This is class 2'"
      ]
     },
     "execution_count": 27,
     "metadata": {},
     "output_type": "execute_result"
    }
   ],
   "source": [
    "class3_obj.info2()"
   ]
  },
  {
   "cell_type": "code",
   "execution_count": 28,
   "id": "164d5ea0",
   "metadata": {},
   "outputs": [],
   "source": [
    "# Q4. What are getter and setter in python? Create a class and create a getter and a setter method in this\n",
    "# class."
   ]
  },
  {
   "cell_type": "code",
   "execution_count": 34,
   "id": "44adb9df",
   "metadata": {},
   "outputs": [],
   "source": [
    "class getter_setter:\n",
    "    #     applying ecapsulation\n",
    "    \n",
    "    def __init__(self , amount):\n",
    "        self.__amount = amount\n",
    "        \n",
    "    def set_amount(self , increment):\n",
    "        self.__amount = self.__amount + increment\n",
    "        \n",
    "    def get_amount(self):\n",
    "        return self.__amount"
   ]
  },
  {
   "cell_type": "code",
   "execution_count": 35,
   "id": "289ac765",
   "metadata": {},
   "outputs": [],
   "source": [
    "a = getter_setter(1000)"
   ]
  },
  {
   "cell_type": "code",
   "execution_count": 36,
   "id": "5b9e76b3",
   "metadata": {},
   "outputs": [
    {
     "data": {
      "text/plain": [
       "1000"
      ]
     },
     "execution_count": 36,
     "metadata": {},
     "output_type": "execute_result"
    }
   ],
   "source": [
    "a.get_amount()"
   ]
  },
  {
   "cell_type": "code",
   "execution_count": 37,
   "id": "8281c9cd",
   "metadata": {},
   "outputs": [],
   "source": [
    "a.set_amount(10000)"
   ]
  },
  {
   "cell_type": "code",
   "execution_count": 38,
   "id": "8d4c2fbe",
   "metadata": {},
   "outputs": [
    {
     "data": {
      "text/plain": [
       "11000"
      ]
     },
     "execution_count": 38,
     "metadata": {},
     "output_type": "execute_result"
    }
   ],
   "source": [
    "a.get_amount()"
   ]
  },
  {
   "cell_type": "code",
   "execution_count": 40,
   "id": "8cc02085",
   "metadata": {},
   "outputs": [],
   "source": [
    "# Q5.What is method overriding in python? Write a python code to demonstrate method overriding."
   ]
  },
  {
   "cell_type": "code",
   "execution_count": 41,
   "id": "10f45c6a",
   "metadata": {},
   "outputs": [],
   "source": [
    "# Method overriding is also called ABSTRACTION"
   ]
  },
  {
   "cell_type": "code",
   "execution_count": 47,
   "id": "f2e85ee9",
   "metadata": {},
   "outputs": [],
   "source": [
    "import abc\n",
    "class Animal:\n",
    "    @abc.abstractmethod\n",
    "    def speaks(self):\n",
    "        pass"
   ]
  },
  {
   "cell_type": "code",
   "execution_count": 48,
   "id": "77f4047a",
   "metadata": {},
   "outputs": [],
   "source": [
    "class Dog(Animal):\n",
    "    @abc.abstractmethod\n",
    "    def speaks(self):\n",
    "        return \"Dog barks\""
   ]
  },
  {
   "cell_type": "code",
   "execution_count": 49,
   "id": "d2235d67",
   "metadata": {},
   "outputs": [],
   "source": [
    "class Cat(Animal):\n",
    "    @abc.abstractmethod\n",
    "    def speaks(self):\n",
    "        return \"Cat meos\""
   ]
  },
  {
   "cell_type": "code",
   "execution_count": 50,
   "id": "ec4ddb61",
   "metadata": {},
   "outputs": [],
   "source": [
    "cat = Cat()\n",
    "dog = Dog()"
   ]
  },
  {
   "cell_type": "code",
   "execution_count": 53,
   "id": "d8c39068",
   "metadata": {},
   "outputs": [
    {
     "data": {
      "text/plain": [
       "'Cat meos'"
      ]
     },
     "execution_count": 53,
     "metadata": {},
     "output_type": "execute_result"
    }
   ],
   "source": [
    "cat.speaks()"
   ]
  },
  {
   "cell_type": "code",
   "execution_count": 54,
   "id": "a03b4932",
   "metadata": {},
   "outputs": [
    {
     "data": {
      "text/plain": [
       "'Dog barks'"
      ]
     },
     "execution_count": 54,
     "metadata": {},
     "output_type": "execute_result"
    }
   ],
   "source": [
    "dog.speaks()"
   ]
  }
 ],
 "metadata": {
  "kernelspec": {
   "display_name": "Python 3 (ipykernel)",
   "language": "python",
   "name": "python3"
  },
  "language_info": {
   "codemirror_mode": {
    "name": "ipython",
    "version": 3
   },
   "file_extension": ".py",
   "mimetype": "text/x-python",
   "name": "python",
   "nbconvert_exporter": "python",
   "pygments_lexer": "ipython3",
   "version": "3.9.13"
  }
 },
 "nbformat": 4,
 "nbformat_minor": 5
}
