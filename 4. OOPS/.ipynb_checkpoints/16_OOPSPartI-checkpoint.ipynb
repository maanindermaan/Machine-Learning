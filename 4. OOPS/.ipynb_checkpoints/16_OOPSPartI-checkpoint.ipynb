{
 "cells": [
  {
   "cell_type": "markdown",
   "id": "d2ecd38f",
   "metadata": {},
   "source": [
    "### Class"
   ]
  },
  {
   "cell_type": "code",
   "execution_count": 1,
   "id": "a1494442",
   "metadata": {},
   "outputs": [],
   "source": [
    "a = 1\n",
    "# a is object of class integer , instance of class integer"
   ]
  },
  {
   "cell_type": "code",
   "execution_count": 2,
   "id": "31fdaccb",
   "metadata": {},
   "outputs": [
    {
     "name": "stdout",
     "output_type": "stream",
     "text": [
      "<class 'int'>\n"
     ]
    }
   ],
   "source": [
    "print(type(a))"
   ]
  },
  {
   "cell_type": "code",
   "execution_count": 3,
   "id": "3707d08a",
   "metadata": {},
   "outputs": [
    {
     "name": "stdout",
     "output_type": "stream",
     "text": [
      "<class 'str'>\n"
     ]
    }
   ],
   "source": [
    "print(type(\"pw\"))"
   ]
  },
  {
   "cell_type": "code",
   "execution_count": 5,
   "id": "b8ddc420",
   "metadata": {},
   "outputs": [],
   "source": [
    "# Creating class\n",
    "# using 'class' keyword\n",
    "class test:\n",
    "    pass"
   ]
  },
  {
   "cell_type": "code",
   "execution_count": 6,
   "id": "d6f9f928",
   "metadata": {},
   "outputs": [],
   "source": [
    "# making variable/object of class\n",
    "a = test()"
   ]
  },
  {
   "cell_type": "code",
   "execution_count": 7,
   "id": "2a3786ab",
   "metadata": {},
   "outputs": [
    {
     "data": {
      "text/plain": [
       "__main__.test"
      ]
     },
     "execution_count": 7,
     "metadata": {},
     "output_type": "execute_result"
    }
   ],
   "source": [
    "type(a)"
   ]
  },
  {
   "cell_type": "code",
   "execution_count": 8,
   "id": "cacbade8",
   "metadata": {},
   "outputs": [
    {
     "name": "stdout",
     "output_type": "stream",
     "text": [
      "<class '__main__.test'>\n"
     ]
    }
   ],
   "source": [
    "print(type(a))"
   ]
  },
  {
   "cell_type": "code",
   "execution_count": 9,
   "id": "b680101b",
   "metadata": {},
   "outputs": [],
   "source": [
    "class pwskills:\n",
    "    def welcome_msg():\n",
    "        print('welcome to pwskills')"
   ]
  },
  {
   "cell_type": "code",
   "execution_count": 10,
   "id": "57af3b78",
   "metadata": {},
   "outputs": [],
   "source": [
    "rohan = pwskills()"
   ]
  },
  {
   "cell_type": "code",
   "execution_count": 11,
   "id": "3bec8cdc",
   "metadata": {},
   "outputs": [
    {
     "name": "stdout",
     "output_type": "stream",
     "text": [
      "<class '__main__.pwskills'>\n"
     ]
    }
   ],
   "source": [
    "print(type(rohan))"
   ]
  },
  {
   "cell_type": "code",
   "execution_count": 13,
   "id": "3e78efad",
   "metadata": {},
   "outputs": [],
   "source": [
    "# rohan.welcome_msg() -> error\n",
    "# jo bhi method ya function aap class ke andar define karte ho, usko bind karwana hota hai class se, \n",
    "# point karwana hota hai class se\n",
    "# so we write self in function"
   ]
  },
  {
   "cell_type": "code",
   "execution_count": 14,
   "id": "44cde447",
   "metadata": {},
   "outputs": [],
   "source": [
    "class pwskills:\n",
    "    def welcome_msg(self):\n",
    "        print('welcome to pwskills')"
   ]
  },
  {
   "cell_type": "code",
   "execution_count": 15,
   "id": "57e3ea75",
   "metadata": {},
   "outputs": [],
   "source": [
    "rohan = pwskills()"
   ]
  },
  {
   "cell_type": "code",
   "execution_count": 16,
   "id": "54f0d7df",
   "metadata": {},
   "outputs": [
    {
     "name": "stdout",
     "output_type": "stream",
     "text": [
      "welcome to pwskills\n"
     ]
    }
   ],
   "source": [
    "rohan.welcome_msg()"
   ]
  },
  {
   "cell_type": "code",
   "execution_count": 17,
   "id": "bd6bb08d",
   "metadata": {},
   "outputs": [],
   "source": [
    "gaurav = pwskills()"
   ]
  },
  {
   "cell_type": "code",
   "execution_count": 18,
   "id": "ecdda026",
   "metadata": {},
   "outputs": [
    {
     "name": "stdout",
     "output_type": "stream",
     "text": [
      "welcome to pwskills\n"
     ]
    }
   ],
   "source": [
    "gaurav.welcome_msg()"
   ]
  },
  {
   "cell_type": "code",
   "execution_count": 19,
   "id": "77d828fd",
   "metadata": {},
   "outputs": [],
   "source": [
    "# data pass and store\n",
    "# hum jab yha pe class likhrhe hai, blueprint likhrhe hai , humko kuch define karna padega jiske through hum \n",
    "# specific to an object, because object is real world entity, so specific to an object kuch na kuch hum yhapar data \n",
    "# pass karwa pae , or uske hisab se kaam karwa paye\n",
    "# agar data pass karwana hai class ke andar toh aapko basically ek inbuilt function call krna padega init, and this \n",
    "# is called constructor\n",
    "# init -> constructor\n",
    "\n",
    "# generic class and generic method which will take take and return that data\n",
    "class pwskills1 :\n",
    "    \n",
    "#     self is simply jo bhi aap bana rhe ho varibale usko bind krrha hai class se taki mere class ko pata rahe ki acha aisa koi varibale bhi mere paas hai\n",
    "    def __init__(self,phone_number , email_id , student_id):\n",
    "        self.phone_number = phone_number\n",
    "        self.email_id = email_id\n",
    "        self.student_id = student_id\n",
    "    \n",
    "    def return_student_details(self):\n",
    "        return self.student_id , self.phone_number , self.email_id      "
   ]
  },
  {
   "cell_type": "code",
   "execution_count": 21,
   "id": "2b04aa2d",
   "metadata": {},
   "outputs": [],
   "source": [
    "# ab ye data argument mangega mein\n",
    "# rohan = pwskills1() -> error"
   ]
  },
  {
   "cell_type": "code",
   "execution_count": 23,
   "id": "b563f1c7",
   "metadata": {},
   "outputs": [],
   "source": [
    "rohan = pwskills1(9991231339 , 'mmm@gmail.com' ,101)"
   ]
  },
  {
   "cell_type": "code",
   "execution_count": 31,
   "id": "efb6fa67",
   "metadata": {},
   "outputs": [
    {
     "data": {
      "text/plain": [
       "9991231339"
      ]
     },
     "execution_count": 31,
     "metadata": {},
     "output_type": "execute_result"
    }
   ],
   "source": [
    "rohan.phone_number"
   ]
  },
  {
   "cell_type": "code",
   "execution_count": 32,
   "id": "5ce482b9",
   "metadata": {},
   "outputs": [
    {
     "data": {
      "text/plain": [
       "'mmm@gmail.com'"
      ]
     },
     "execution_count": 32,
     "metadata": {},
     "output_type": "execute_result"
    }
   ],
   "source": [
    "rohan.email_id"
   ]
  },
  {
   "cell_type": "code",
   "execution_count": 24,
   "id": "6d799541",
   "metadata": {},
   "outputs": [
    {
     "data": {
      "text/plain": [
       "(101, 9991231339, 'mmm@gmail.com')"
      ]
     },
     "execution_count": 24,
     "metadata": {},
     "output_type": "execute_result"
    }
   ],
   "source": [
    "rohan.return_student_details()"
   ]
  },
  {
   "cell_type": "code",
   "execution_count": 25,
   "id": "6828d9af",
   "metadata": {},
   "outputs": [],
   "source": [
    "gaurav = pwskills1(9896923412 , 'gg@gmail.com' , 102)"
   ]
  },
  {
   "cell_type": "code",
   "execution_count": 26,
   "id": "25e120fb",
   "metadata": {},
   "outputs": [
    {
     "data": {
      "text/plain": [
       "(102, 9896923412, 'gg@gmail.com')"
      ]
     },
     "execution_count": 26,
     "metadata": {},
     "output_type": "execute_result"
    }
   ],
   "source": [
    "gaurav.return_student_details()"
   ]
  },
  {
   "cell_type": "code",
   "execution_count": 27,
   "id": "cf65cb15",
   "metadata": {},
   "outputs": [],
   "source": [
    "class pwskills2 :\n",
    "    def __init__(self,phone_number , email_id , student_id):\n",
    "        self.phone_number1 = phone_number\n",
    "        self.email_id1 = email_id\n",
    "        self.student_id1 = student_id\n",
    "    \n",
    "    def return_student_details(self):\n",
    "        return self.student_id , self.phone_number , self.email_id      "
   ]
  },
  {
   "cell_type": "code",
   "execution_count": 29,
   "id": "c5abbbf9",
   "metadata": {},
   "outputs": [],
   "source": [
    "sudh = pwskills2(9192828191 , 'sudh@gg.com' , 102)"
   ]
  },
  {
   "cell_type": "code",
   "execution_count": 34,
   "id": "c650298d",
   "metadata": {},
   "outputs": [],
   "source": [
    "# sudh.phone_number error\n",
    "# ye wala nahi pata class ko"
   ]
  },
  {
   "cell_type": "code",
   "execution_count": 35,
   "id": "bdf5229a",
   "metadata": {},
   "outputs": [
    {
     "data": {
      "text/plain": [
       "9192828191"
      ]
     },
     "execution_count": 35,
     "metadata": {},
     "output_type": "execute_result"
    }
   ],
   "source": [
    "# jo self ke sath associated hai vohi ayega\n",
    "sudh.phone_number1"
   ]
  },
  {
   "cell_type": "code",
   "execution_count": 37,
   "id": "2f3356f4",
   "metadata": {},
   "outputs": [],
   "source": [
    "# sudh.return_student_details()  # e.g.\n",
    "# becuase return_student_detail mein self wala ayega i.e. self.student_id1 , '1' missing hai jo uper self ke sath \n",
    "# associated hai"
   ]
  },
  {
   "cell_type": "code",
   "execution_count": 38,
   "id": "56b998b3",
   "metadata": {},
   "outputs": [],
   "source": [
    "class pwskills2 :\n",
    "#     init is constructor\n",
    "    def __init__(self,phone_number , email_id , student_id):\n",
    "        self.phone_number1 = phone_number\n",
    "        self.email_id1 = email_id\n",
    "        self.student_id1 = student_id\n",
    "    \n",
    "    def return_student_details(self):\n",
    "        return self.student_id1 , self.phone_number1 , self.email_id1     "
   ]
  },
  {
   "cell_type": "code",
   "execution_count": 40,
   "id": "0d132d03",
   "metadata": {},
   "outputs": [],
   "source": [
    "sudh = pwskills2(9192828191 , 'sudh@gg.com' , 102)"
   ]
  },
  {
   "cell_type": "code",
   "execution_count": 41,
   "id": "06d7d8ca",
   "metadata": {},
   "outputs": [
    {
     "data": {
      "text/plain": [
       "(102, 9192828191, 'sudh@gg.com')"
      ]
     },
     "execution_count": 41,
     "metadata": {},
     "output_type": "execute_result"
    }
   ],
   "source": [
    "sudh.return_student_details()"
   ]
  },
  {
   "cell_type": "code",
   "execution_count": 42,
   "id": "f02979a5",
   "metadata": {},
   "outputs": [],
   "source": [
    "# trying to replace self with sudh\n",
    "class pwskills2 :\n",
    "#     init is constructor\n",
    "    def __init__(sudh,phone_number , email_id , student_id):\n",
    "        sudh.phone_number1 = phone_number\n",
    "        sudh.email_id1 = email_id\n",
    "        sudh.student_id1 = student_id\n",
    "    \n",
    "    def return_student_details(sudh):\n",
    "        return sudh.student_id1 , sudh.phone_number1 , sudh.email_id1     "
   ]
  },
  {
   "cell_type": "code",
   "execution_count": 43,
   "id": "f8786ead",
   "metadata": {},
   "outputs": [],
   "source": [
    "rohan = pwskills2(32222 , 'rohangg@gmail.com' , 32)"
   ]
  },
  {
   "cell_type": "code",
   "execution_count": 44,
   "id": "fabdbcbd",
   "metadata": {},
   "outputs": [
    {
     "data": {
      "text/plain": [
       "32222"
      ]
     },
     "execution_count": 44,
     "metadata": {},
     "output_type": "execute_result"
    }
   ],
   "source": [
    "rohan.phone_number1"
   ]
  },
  {
   "cell_type": "code",
   "execution_count": 45,
   "id": "352d08bc",
   "metadata": {},
   "outputs": [],
   "source": [
    "# So self is not a fixed or reserved key word"
   ]
  }
 ],
 "metadata": {
  "kernelspec": {
   "display_name": "Python 3 (ipykernel)",
   "language": "python",
   "name": "python3"
  },
  "language_info": {
   "codemirror_mode": {
    "name": "ipython",
    "version": 3
   },
   "file_extension": ".py",
   "mimetype": "text/x-python",
   "name": "python",
   "nbconvert_exporter": "python",
   "pygments_lexer": "ipython3",
   "version": "3.9.13"
  }
 },
 "nbformat": 4,
 "nbformat_minor": 5
}
