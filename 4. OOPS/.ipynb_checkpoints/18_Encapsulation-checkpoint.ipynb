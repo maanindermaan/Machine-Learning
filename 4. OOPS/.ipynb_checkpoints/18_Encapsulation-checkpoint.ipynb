{
 "cells": [
  {
   "cell_type": "code",
   "execution_count": 1,
   "id": "09463983",
   "metadata": {},
   "outputs": [],
   "source": [
    "class test:\n",
    "    \n",
    "    def __init__(self , a , b):\n",
    "        self.a = a\n",
    "        self.b = b"
   ]
  },
  {
   "cell_type": "code",
   "execution_count": 2,
   "id": "36fb4fea",
   "metadata": {},
   "outputs": [],
   "source": [
    "t = test(23,34)"
   ]
  },
  {
   "cell_type": "code",
   "execution_count": 3,
   "id": "8bdf1206",
   "metadata": {},
   "outputs": [],
   "source": [
    "t.a = 101111"
   ]
  },
  {
   "cell_type": "code",
   "execution_count": 4,
   "id": "60c498ab",
   "metadata": {},
   "outputs": [
    {
     "data": {
      "text/plain": [
       "101111"
      ]
     },
     "execution_count": 4,
     "metadata": {},
     "output_type": "execute_result"
    }
   ],
   "source": [
    "t.a"
   ]
  },
  {
   "cell_type": "markdown",
   "id": "385f02c8",
   "metadata": {},
   "source": [
    "Encapsulation yehi problem solve karta hai, ki aap kuch bhi modify na kar paye , so to stop this encapsulation prevents this by hiding those variables which you want to prevent because agar ek baar user ko dikhgya to vo badaldega. Hum is tarah se variables ko encapsulate krdenge, wrapup kardenge taaki mere user ko yeah variables nahi dikha kabhi bhi , usko vohi chez dikhe jo mai use dikhana chahta hu, may be through a method vo usko modify kar paaye directly na kar paaye"
   ]
  },
  {
   "cell_type": "code",
   "execution_count": 5,
   "id": "d542e2bd",
   "metadata": {},
   "outputs": [],
   "source": [
    "class car:\n",
    "    def __init__(self , year , make , model , speed):\n",
    "#       __ aagya toh matlab dikhao nahi user ko\n",
    "        self.__year = year\n",
    "        self.__make = make\n",
    "        self.__model = model\n",
    "        self.__speed = 0"
   ]
  },
  {
   "cell_type": "code",
   "execution_count": 6,
   "id": "ff6b8edd",
   "metadata": {},
   "outputs": [],
   "source": [
    "c = car(2021 , \"toyota\" , \"innova\" , 12)"
   ]
  },
  {
   "cell_type": "code",
   "execution_count": 12,
   "id": "75afac3b",
   "metadata": {},
   "outputs": [
    {
     "data": {
      "text/plain": [
       "2021"
      ]
     },
     "execution_count": 12,
     "metadata": {},
     "output_type": "execute_result"
    }
   ],
   "source": [
    "# giving tab no hint giving(ENCAPSULATED)\n",
    "# c.year\n",
    "# c.__year\n",
    "# private can't be accessed directly\n",
    "c._car__year"
   ]
  },
  {
   "cell_type": "code",
   "execution_count": 16,
   "id": "1772217d",
   "metadata": {},
   "outputs": [],
   "source": [
    "class car:\n",
    "    def __init__(self , year , make , model , speed):\n",
    "#       __ aagya toh matlab dikhao nahi user ko\n",
    "        self.__year = year\n",
    "        self.__make = make\n",
    "        self.__model = model\n",
    "        self.__speed = 0\n",
    "        \n",
    "    def set_speed(self , speed):\n",
    "        self.__speed = 0 if speed<0 else speed\n",
    "    \n",
    "    def get_speed(self):\n",
    "        return self.__speed"
   ]
  },
  {
   "cell_type": "code",
   "execution_count": 17,
   "id": "016a17d8",
   "metadata": {},
   "outputs": [],
   "source": [
    "c = car(2021 , \"toyota\" , \"innova\" , 12)"
   ]
  },
  {
   "cell_type": "code",
   "execution_count": 18,
   "id": "d6c964c1",
   "metadata": {},
   "outputs": [],
   "source": [
    "# Now accesing through another function\n",
    "c.set_speed(-321)"
   ]
  },
  {
   "cell_type": "code",
   "execution_count": 19,
   "id": "0a8d89a1",
   "metadata": {},
   "outputs": [
    {
     "data": {
      "text/plain": [
       "0"
      ]
     },
     "execution_count": 19,
     "metadata": {},
     "output_type": "execute_result"
    }
   ],
   "source": [
    "c.get_speed()"
   ]
  },
  {
   "cell_type": "code",
   "execution_count": 20,
   "id": "0e9a785c",
   "metadata": {},
   "outputs": [],
   "source": [
    "c.set_speed(1234)"
   ]
  },
  {
   "cell_type": "code",
   "execution_count": 21,
   "id": "5c65232e",
   "metadata": {},
   "outputs": [
    {
     "data": {
      "text/plain": [
       "1234"
      ]
     },
     "execution_count": 21,
     "metadata": {},
     "output_type": "execute_result"
    }
   ],
   "source": [
    "c.get_speed()"
   ]
  },
  {
   "cell_type": "code",
   "execution_count": 22,
   "id": "869e3fed",
   "metadata": {},
   "outputs": [],
   "source": [
    "class bank_account:\n",
    "    def __init__(self , balance):\n",
    "        self.__balance = balance\n",
    "        \n",
    "    def deposit(self , amount):\n",
    "        self.__balance = self.__balance + amount\n",
    "    \n",
    "    def withdraw(self , amount):\n",
    "        if self.__balance >= amount:\n",
    "            self.__balance = self.__balance - amount\n",
    "            return True\n",
    "        else:\n",
    "            return False\n",
    "    \n",
    "    def get_balance(self):\n",
    "        return self.__balance"
   ]
  },
  {
   "cell_type": "code",
   "execution_count": 23,
   "id": "f33a0e21",
   "metadata": {},
   "outputs": [],
   "source": [
    "sudh = bank_account(1000)"
   ]
  },
  {
   "cell_type": "code",
   "execution_count": 24,
   "id": "181e1e8b",
   "metadata": {},
   "outputs": [
    {
     "data": {
      "text/plain": [
       "1000"
      ]
     },
     "execution_count": 24,
     "metadata": {},
     "output_type": "execute_result"
    }
   ],
   "source": [
    "sudh.get_balance()"
   ]
  },
  {
   "cell_type": "code",
   "execution_count": 25,
   "id": "a9d3b9ec",
   "metadata": {},
   "outputs": [],
   "source": [
    "sudh.deposit(5000)"
   ]
  },
  {
   "cell_type": "code",
   "execution_count": 26,
   "id": "51ca22d9",
   "metadata": {},
   "outputs": [
    {
     "data": {
      "text/plain": [
       "6000"
      ]
     },
     "execution_count": 26,
     "metadata": {},
     "output_type": "execute_result"
    }
   ],
   "source": [
    "sudh.get_balance()"
   ]
  },
  {
   "cell_type": "code",
   "execution_count": 27,
   "id": "83616d27",
   "metadata": {},
   "outputs": [
    {
     "data": {
      "text/plain": [
       "False"
      ]
     },
     "execution_count": 27,
     "metadata": {},
     "output_type": "execute_result"
    }
   ],
   "source": [
    "sudh.withdraw(9000)"
   ]
  },
  {
   "cell_type": "code",
   "execution_count": 28,
   "id": "0130a986",
   "metadata": {},
   "outputs": [
    {
     "data": {
      "text/plain": [
       "True"
      ]
     },
     "execution_count": 28,
     "metadata": {},
     "output_type": "execute_result"
    }
   ],
   "source": [
    "sudh.withdraw(1000)"
   ]
  },
  {
   "cell_type": "code",
   "execution_count": 29,
   "id": "3f3c09ee",
   "metadata": {},
   "outputs": [
    {
     "data": {
      "text/plain": [
       "5000"
      ]
     },
     "execution_count": 29,
     "metadata": {},
     "output_type": "execute_result"
    }
   ],
   "source": [
    "sudh.get_balance()"
   ]
  }
 ],
 "metadata": {
  "kernelspec": {
   "display_name": "Python 3 (ipykernel)",
   "language": "python",
   "name": "python3"
  },
  "language_info": {
   "codemirror_mode": {
    "name": "ipython",
    "version": 3
   },
   "file_extension": ".py",
   "mimetype": "text/x-python",
   "name": "python",
   "nbconvert_exporter": "python",
   "pygments_lexer": "ipython3",
   "version": "3.9.13"
  }
 },
 "nbformat": 4,
 "nbformat_minor": 5
}
