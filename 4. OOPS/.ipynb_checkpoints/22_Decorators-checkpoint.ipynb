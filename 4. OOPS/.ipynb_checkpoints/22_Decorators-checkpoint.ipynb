{
 "cells": [
  {
   "cell_type": "code",
   "execution_count": 1,
   "id": "913f8519",
   "metadata": {},
   "outputs": [],
   "source": [
    "# ghar ko decorate krna"
   ]
  },
  {
   "cell_type": "code",
   "execution_count": 4,
   "id": "bae87fd3",
   "metadata": {},
   "outputs": [],
   "source": [
    "def test():\n",
    "    print(\"This is the start of my fun\")\n",
    "    print(\"This is my fun to test\")\n",
    "    print(\"This is the end of my fun\")"
   ]
  },
  {
   "cell_type": "code",
   "execution_count": 5,
   "id": "6eeb15e8",
   "metadata": {},
   "outputs": [
    {
     "name": "stdout",
     "output_type": "stream",
     "text": [
      "This is the start of my fun\n",
      "This is my fun to test\n",
      "This is the end of my fun\n"
     ]
    }
   ],
   "source": [
    "test()"
   ]
  },
  {
   "cell_type": "code",
   "execution_count": 6,
   "id": "cd8b4052",
   "metadata": {},
   "outputs": [],
   "source": [
    "# 10 baar koi fun hota toh 10 baar likhna padta\n",
    "# baar baar koi operation na karna pade"
   ]
  },
  {
   "cell_type": "code",
   "execution_count": 7,
   "id": "3e00e1b5",
   "metadata": {},
   "outputs": [],
   "source": [
    "def deco(func):\n",
    "    def inner_dec():\n",
    "        print(\"This is the start of my fun\")\n",
    "        func()\n",
    "        print(\"This is the end of my fun\")\n",
    "    return inner_dec"
   ]
  },
  {
   "cell_type": "code",
   "execution_count": 8,
   "id": "41e1eabe",
   "metadata": {},
   "outputs": [],
   "source": [
    "def test1():\n",
    "    print(6+7)"
   ]
  },
  {
   "cell_type": "code",
   "execution_count": 9,
   "id": "b093651a",
   "metadata": {},
   "outputs": [
    {
     "name": "stdout",
     "output_type": "stream",
     "text": [
      "13\n"
     ]
    }
   ],
   "source": [
    "test1()"
   ]
  },
  {
   "cell_type": "code",
   "execution_count": 10,
   "id": "39264e3f",
   "metadata": {},
   "outputs": [],
   "source": [
    "# calling decorator function\n",
    "@deco\n",
    "def test1():\n",
    "    print(6+7)\n",
    "\n",
    "# in decorator func() is replaced by test1() \n",
    "# Kitne hi function banalo yeah sabpar chalega"
   ]
  },
  {
   "cell_type": "code",
   "execution_count": 11,
   "id": "6b6fbc0c",
   "metadata": {},
   "outputs": [
    {
     "name": "stdout",
     "output_type": "stream",
     "text": [
      "This is the start of my fun\n",
      "13\n",
      "This is the end of my fun\n"
     ]
    }
   ],
   "source": [
    "test1()"
   ]
  },
  {
   "cell_type": "code",
   "execution_count": 13,
   "id": "e94ddfc7",
   "metadata": {},
   "outputs": [],
   "source": [
    "# Ques -> kitna time laga rha hai yeah func execute karne mein using decorator"
   ]
  },
  {
   "cell_type": "code",
   "execution_count": 14,
   "id": "bb111d15",
   "metadata": {},
   "outputs": [],
   "source": [
    "import time\n",
    "\n",
    "def timer_test(func):\n",
    "    def timer_test_inner():\n",
    "        start = time.time()\n",
    "        func()\n",
    "        end = time.time()\n",
    "        print(end-start)\n",
    "    return timer_test_inner"
   ]
  },
  {
   "cell_type": "code",
   "execution_count": 15,
   "id": "032f584c",
   "metadata": {},
   "outputs": [],
   "source": [
    "def test2():\n",
    "    print(45+72)"
   ]
  },
  {
   "cell_type": "code",
   "execution_count": 16,
   "id": "d9bd86fc",
   "metadata": {},
   "outputs": [],
   "source": [
    "# using decorator\n",
    "@timer_test\n",
    "def test2():\n",
    "    print(45+72)"
   ]
  },
  {
   "cell_type": "code",
   "execution_count": 17,
   "id": "d6ae9d75",
   "metadata": {},
   "outputs": [
    {
     "name": "stdout",
     "output_type": "stream",
     "text": [
      "117\n",
      "4.506111145019531e-05\n"
     ]
    }
   ],
   "source": [
    "test2()"
   ]
  },
  {
   "cell_type": "code",
   "execution_count": 20,
   "id": "7502f636",
   "metadata": {},
   "outputs": [],
   "source": [
    "# using decorator\n",
    "@timer_test\n",
    "def test3():\n",
    "    for i in range(1000000000):\n",
    "        pass"
   ]
  },
  {
   "cell_type": "code",
   "execution_count": 21,
   "id": "706924c0",
   "metadata": {},
   "outputs": [
    {
     "name": "stdout",
     "output_type": "stream",
     "text": [
      "20.09923481941223\n"
     ]
    }
   ],
   "source": [
    "test3()"
   ]
  }
 ],
 "metadata": {
  "kernelspec": {
   "display_name": "Python 3 (ipykernel)",
   "language": "python",
   "name": "python3"
  },
  "language_info": {
   "codemirror_mode": {
    "name": "ipython",
    "version": 3
   },
   "file_extension": ".py",
   "mimetype": "text/x-python",
   "name": "python",
   "nbconvert_exporter": "python",
   "pygments_lexer": "ipython3",
   "version": "3.9.13"
  }
 },
 "nbformat": 4,
 "nbformat_minor": 5
}
