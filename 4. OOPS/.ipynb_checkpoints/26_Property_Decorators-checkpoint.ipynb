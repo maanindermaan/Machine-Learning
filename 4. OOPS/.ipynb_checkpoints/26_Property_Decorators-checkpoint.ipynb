{
 "cells": [
  {
   "cell_type": "code",
   "execution_count": 2,
   "id": "03e654fd",
   "metadata": {},
   "outputs": [],
   "source": [
    "# single _ -> protected\n",
    "# double __ -> private\n",
    "class pwskills:\n",
    "    def __init__(self , course_price , course_name):\n",
    "        \n",
    "        self.__course_price = course_price\n",
    "        self.course_name = course_name"
   ]
  },
  {
   "cell_type": "code",
   "execution_count": 3,
   "id": "e05ffb96",
   "metadata": {},
   "outputs": [],
   "source": [
    "pw = pwskills(3500 , \"data science masters\")"
   ]
  },
  {
   "cell_type": "code",
   "execution_count": 5,
   "id": "1b8e3b84",
   "metadata": {},
   "outputs": [],
   "source": [
    "# pw.__course_price -> privae can't access"
   ]
  },
  {
   "cell_type": "code",
   "execution_count": 6,
   "id": "5314609e",
   "metadata": {},
   "outputs": [
    {
     "data": {
      "text/plain": [
       "3500"
      ]
     },
     "execution_count": 6,
     "metadata": {},
     "output_type": "execute_result"
    }
   ],
   "source": [
    "pw._pwskills__course_price"
   ]
  },
  {
   "cell_type": "code",
   "execution_count": 7,
   "id": "5eb246c2",
   "metadata": {},
   "outputs": [
    {
     "data": {
      "text/plain": [
       "'data science masters'"
      ]
     },
     "execution_count": 7,
     "metadata": {},
     "output_type": "execute_result"
    }
   ],
   "source": [
    "pw.course_name"
   ]
  },
  {
   "cell_type": "code",
   "execution_count": 8,
   "id": "65af6ebe",
   "metadata": {},
   "outputs": [],
   "source": [
    "# agar iss private ka access mujhe dena hai in terms of accessing , modifying , deleting vohi hum sikenge with \n",
    "# property decorator"
   ]
  },
  {
   "cell_type": "code",
   "execution_count": 18,
   "id": "003900fb",
   "metadata": {},
   "outputs": [],
   "source": [
    "class pwskills1:\n",
    "    def __init__(self , course_price , course_name):\n",
    "        \n",
    "        self.__course_price = course_price\n",
    "        self.course_name = course_name\n",
    "        \n",
    "    @property\n",
    "#     access\n",
    "    def course_price_access(self):\n",
    "        return self.__course_price\n",
    "    \n",
    "#     modify\n",
    "    @course_price_access.setter\n",
    "    def course_price_set(self , price):\n",
    "        if price<=3500:\n",
    "            pass\n",
    "        else:\n",
    "            self.__course_price = price\n",
    "            \n",
    "#     delete\n",
    "    @course_price_access.deleter\n",
    "    def delete_course_price(self):\n",
    "        del self.__course_price"
   ]
  },
  {
   "cell_type": "code",
   "execution_count": 19,
   "id": "4ff4dbb7",
   "metadata": {},
   "outputs": [],
   "source": [
    "pw1 = pwskills1(3500 , \"data science masters\")"
   ]
  },
  {
   "cell_type": "code",
   "execution_count": 20,
   "id": "040cb303",
   "metadata": {},
   "outputs": [
    {
     "data": {
      "text/plain": [
       "3500"
      ]
     },
     "execution_count": 20,
     "metadata": {},
     "output_type": "execute_result"
    }
   ],
   "source": [
    "pw1.course_price_access"
   ]
  },
  {
   "cell_type": "code",
   "execution_count": 21,
   "id": "3cba3165",
   "metadata": {},
   "outputs": [],
   "source": [
    "pw1.course_price_set = 4500"
   ]
  },
  {
   "cell_type": "code",
   "execution_count": 22,
   "id": "601a8763",
   "metadata": {},
   "outputs": [
    {
     "data": {
      "text/plain": [
       "4500"
      ]
     },
     "execution_count": 22,
     "metadata": {},
     "output_type": "execute_result"
    }
   ],
   "source": [
    "pw1.course_price_access"
   ]
  },
  {
   "cell_type": "code",
   "execution_count": 23,
   "id": "30970299",
   "metadata": {},
   "outputs": [],
   "source": [
    "del pw1.delete_course_price"
   ]
  },
  {
   "cell_type": "code",
   "execution_count": 25,
   "id": "7a28cd73",
   "metadata": {},
   "outputs": [],
   "source": [
    "# pw1.course_price_access\n",
    "# error becuase deleted"
   ]
  }
 ],
 "metadata": {
  "kernelspec": {
   "display_name": "Python 3 (ipykernel)",
   "language": "python",
   "name": "python3"
  },
  "language_info": {
   "codemirror_mode": {
    "name": "ipython",
    "version": 3
   },
   "file_extension": ".py",
   "mimetype": "text/x-python",
   "name": "python",
   "nbconvert_exporter": "python",
   "pygments_lexer": "ipython3",
   "version": "3.9.13"
  }
 },
 "nbformat": 4,
 "nbformat_minor": 5
}
