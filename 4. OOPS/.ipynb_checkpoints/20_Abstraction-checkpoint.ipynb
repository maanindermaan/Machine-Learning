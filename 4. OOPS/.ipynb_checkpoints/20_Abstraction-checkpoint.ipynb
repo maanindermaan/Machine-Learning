{
 "cells": [
  {
   "cell_type": "code",
   "execution_count": 2,
   "id": "49eb4dac",
   "metadata": {},
   "outputs": [],
   "source": [
    "# if you want to make blueprint or something like that\n",
    "import abc\n",
    "class pwskills:\n",
    "    \n",
    "#     decorate with abstract method for blueprint(ABSTRACTION)\n",
    "    @abc.abstractmethod\n",
    "    def student_details(self):\n",
    "        pass\n",
    "    \n",
    "    @abc.abstractmethod\n",
    "    def student_assignment(self):\n",
    "        pass\n",
    "    \n",
    "    @abc.abstractmethod\n",
    "    def student_marks(self):\n",
    "        pass"
   ]
  },
  {
   "cell_type": "code",
   "execution_count": 3,
   "id": "fc6937c8",
   "metadata": {},
   "outputs": [],
   "source": [
    "class student_detils(pwskills):\n",
    "    \n",
    "    def student_details(self):\n",
    "        return \"this is a meth for taking student details\"\n",
    "    \n",
    "    def student_assignment(self):\n",
    "        return \"this is meth for taking assignment\""
   ]
  },
  {
   "cell_type": "code",
   "execution_count": 4,
   "id": "5ab77009",
   "metadata": {},
   "outputs": [],
   "source": [
    "class data_science_masters(pwskills):\n",
    "    \n",
    "    def student_details(self):\n",
    "        return \"this will return student details for data science masters\"\n",
    "    \n",
    "    def student_assignment(self):\n",
    "        return \"this will return assignment for data science masters\"\n"
   ]
  },
  {
   "cell_type": "code",
   "execution_count": 5,
   "id": "e204cd58",
   "metadata": {},
   "outputs": [
    {
     "data": {
      "text/plain": [
       "'this will return student details for data science masters'"
      ]
     },
     "execution_count": 5,
     "metadata": {},
     "output_type": "execute_result"
    }
   ],
   "source": [
    "dsm = data_science_masters()\n",
    "dsm.student_details()"
   ]
  },
  {
   "cell_type": "code",
   "execution_count": 6,
   "id": "ab33a031",
   "metadata": {},
   "outputs": [
    {
     "data": {
      "text/plain": [
       "'this is a meth for taking student details'"
      ]
     },
     "execution_count": 6,
     "metadata": {},
     "output_type": "execute_result"
    }
   ],
   "source": [
    "sd = student_detils()\n",
    "sd.student_details()"
   ]
  },
  {
   "cell_type": "code",
   "execution_count": null,
   "id": "14c61480",
   "metadata": {},
   "outputs": [],
   "source": [
    "# Do class same chez ko inherit karrha hai but uske andar jo method hai usko maine apna apna method ka definition \n",
    "# diya hua hai, humne jo main pwskills class hai uske andar humne koi bhi definiton nhi diya\n",
    "# usko sirf humne abstract banadiya ki yeah saara, abstract hai or isko apne hisab se define krdo jo call krega \n",
    "# vo apne hisab se ise define krega"
   ]
  }
 ],
 "metadata": {
  "kernelspec": {
   "display_name": "Python 3 (ipykernel)",
   "language": "python",
   "name": "python3"
  },
  "language_info": {
   "codemirror_mode": {
    "name": "ipython",
    "version": 3
   },
   "file_extension": ".py",
   "mimetype": "text/x-python",
   "name": "python",
   "nbconvert_exporter": "python",
   "pygments_lexer": "ipython3",
   "version": "3.9.13"
  }
 },
 "nbformat": 4,
 "nbformat_minor": 5
}
