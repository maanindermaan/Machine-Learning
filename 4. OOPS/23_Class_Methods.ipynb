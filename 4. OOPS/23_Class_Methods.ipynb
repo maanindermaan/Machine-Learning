{
 "cells": [
  {
   "cell_type": "markdown",
   "id": "e01cf731",
   "metadata": {},
   "source": [
    "### Concept Of Overloading"
   ]
  },
  {
   "cell_type": "code",
   "execution_count": 1,
   "id": "6e9c77f1",
   "metadata": {},
   "outputs": [],
   "source": [
    "class pwskills:\n",
    "    \n",
    "    def __init__(self , name , email):\n",
    "        \n",
    "        self.name = name\n",
    "        self.email = email\n",
    "    \n",
    "    def students_details(self):\n",
    "        print(self.name , self.email)"
   ]
  },
  {
   "cell_type": "code",
   "execution_count": 2,
   "id": "a38dddd0",
   "metadata": {},
   "outputs": [],
   "source": [
    "pw = pwskills(\"mohan\" , \"mohan@gg.com\")"
   ]
  },
  {
   "cell_type": "code",
   "execution_count": 3,
   "id": "9cdf882c",
   "metadata": {},
   "outputs": [
    {
     "data": {
      "text/plain": [
       "'mohan'"
      ]
     },
     "execution_count": 3,
     "metadata": {},
     "output_type": "execute_result"
    }
   ],
   "source": [
    "pw.name"
   ]
  },
  {
   "cell_type": "code",
   "execution_count": 4,
   "id": "b6f75e51",
   "metadata": {},
   "outputs": [
    {
     "data": {
      "text/plain": [
       "'mohan@gg.com'"
      ]
     },
     "execution_count": 4,
     "metadata": {},
     "output_type": "execute_result"
    }
   ],
   "source": [
    "pw.email"
   ]
  },
  {
   "cell_type": "code",
   "execution_count": 5,
   "id": "d76ca0b3",
   "metadata": {},
   "outputs": [
    {
     "name": "stdout",
     "output_type": "stream",
     "text": [
      "mohan mohan@gg.com\n"
     ]
    }
   ],
   "source": [
    "pw.students_details()"
   ]
  },
  {
   "cell_type": "code",
   "execution_count": 6,
   "id": "8b59bd11",
   "metadata": {},
   "outputs": [],
   "source": [
    "# NOW USING CLASS METHODS\n",
    "class pwskills1:\n",
    "    \n",
    "    def __init__(self , name , email):\n",
    "        \n",
    "        self.name = name\n",
    "        self.email = email\n",
    "        \n",
    "#   cls -> ek alag se humne reference or ek alag se humne pointer banalia jo ki directly class se bind krega\n",
    "#   init-> kya karta hai, init ke zariye you can do this but aapko pehle object banana padega then only you can do\n",
    "\n",
    "#   now this is a some different type of func\n",
    "\n",
    "#   default decorator\n",
    "#   what this decorator will do is instead of calling decorator method you can do same thing by calling details \n",
    "#   function, aur vo available rhega through out the class\n",
    "#   ab iss function ke liye hum object nahi banyenge without object krenge\n",
    "    @classmethod \n",
    "    def details(cls , name , email):\n",
    "        return cls(name , email)\n",
    "    \n",
    "    def students_details(self):\n",
    "        print(self.name , self.email)"
   ]
  },
  {
   "cell_type": "code",
   "execution_count": 7,
   "id": "89f375b1",
   "metadata": {},
   "outputs": [
    {
     "data": {
      "text/plain": [
       "<__main__.pwskills1 at 0x7f9cea0f4370>"
      ]
     },
     "execution_count": 7,
     "metadata": {},
     "output_type": "execute_result"
    }
   ],
   "source": [
    "# ab iss function ke liye hum object nahi banyenge without object krenge\n",
    "# WITHOUT CREATING OBJECT\n",
    "\n",
    "# so i have overloaded init method without calling object\n",
    "pwskills1.details(\"sudh\" , \"sudh@gg.com\")"
   ]
  },
  {
   "cell_type": "code",
   "execution_count": 8,
   "id": "142ff72b",
   "metadata": {},
   "outputs": [],
   "source": [
    "pw1 = pwskills1.details(\"sudh\" , \"sudh@gg.com\")"
   ]
  },
  {
   "cell_type": "code",
   "execution_count": 9,
   "id": "840a739d",
   "metadata": {},
   "outputs": [
    {
     "data": {
      "text/plain": [
       "'sudh'"
      ]
     },
     "execution_count": 9,
     "metadata": {},
     "output_type": "execute_result"
    }
   ],
   "source": [
    "pw1.name"
   ]
  },
  {
   "cell_type": "code",
   "execution_count": 10,
   "id": "aaaba864",
   "metadata": {},
   "outputs": [
    {
     "data": {
      "text/plain": [
       "'sudh@gg.com'"
      ]
     },
     "execution_count": 10,
     "metadata": {},
     "output_type": "execute_result"
    }
   ],
   "source": [
    "pw1.email"
   ]
  },
  {
   "cell_type": "code",
   "execution_count": 11,
   "id": "1480a2f9",
   "metadata": {},
   "outputs": [
    {
     "name": "stdout",
     "output_type": "stream",
     "text": [
      "sudh sudh@gg.com\n"
     ]
    }
   ],
   "source": [
    "# we can use it in any other class method/function that we have created , without creating object\n",
    "pw1.students_details()"
   ]
  },
  {
   "cell_type": "code",
   "execution_count": 12,
   "id": "5ca6c7cb",
   "metadata": {},
   "outputs": [],
   "source": [
    "class pwskills2:\n",
    "    \n",
    "#     this is called class variable\n",
    "    mobile_num = 9991231338\n",
    "    \n",
    "    def __init__(self , name , email):\n",
    "        \n",
    "        self.name = name\n",
    "        self.email = email\n",
    "        \n",
    "    @classmethod \n",
    "    def details(cls , name , email):\n",
    "        return cls(name , email)\n",
    "    \n",
    "    def students_details(self):\n",
    "        print(self.name , self.email)"
   ]
  },
  {
   "cell_type": "code",
   "execution_count": 13,
   "id": "4e2dc53f",
   "metadata": {},
   "outputs": [
    {
     "data": {
      "text/plain": [
       "9991231338"
      ]
     },
     "execution_count": 13,
     "metadata": {},
     "output_type": "execute_result"
    }
   ],
   "source": [
    "# accesing class varibale\n",
    "pwskills2.mobile_num"
   ]
  },
  {
   "cell_type": "code",
   "execution_count": 15,
   "id": "e9ba0e41",
   "metadata": {},
   "outputs": [],
   "source": [
    "# accesing this class variable even inside a class method\n",
    "class pwskills2:\n",
    "    \n",
    "#     this is called class variable\n",
    "    mobile_num = 9991231338\n",
    "    \n",
    "    def __init__(self , name , email):\n",
    "        \n",
    "        self.name = name\n",
    "        self.email = email\n",
    "        \n",
    "#     class method nahi banaoge toh object banana padega\n",
    "    @classmethod\n",
    "    def change_number(cls , mobile):\n",
    "        pwskills2.mobile_num = mobile\n",
    "    \n",
    "    \n",
    "    @classmethod \n",
    "    def details(cls , name , email):\n",
    "        return cls(name , email)\n",
    "    \n",
    "    def students_details(self):\n",
    "        print(self.name , self.email)"
   ]
  },
  {
   "cell_type": "code",
   "execution_count": 16,
   "id": "4209e4ed",
   "metadata": {},
   "outputs": [
    {
     "data": {
      "text/plain": [
       "9991231338"
      ]
     },
     "execution_count": 16,
     "metadata": {},
     "output_type": "execute_result"
    }
   ],
   "source": [
    "pwskills2.mobile_num"
   ]
  },
  {
   "cell_type": "code",
   "execution_count": 17,
   "id": "f8023f01",
   "metadata": {},
   "outputs": [],
   "source": [
    "# changing mobile number\n",
    "pwskills2.change_number(9896921234)"
   ]
  },
  {
   "cell_type": "code",
   "execution_count": 18,
   "id": "2f5e78b4",
   "metadata": {},
   "outputs": [
    {
     "data": {
      "text/plain": [
       "9896921234"
      ]
     },
     "execution_count": 18,
     "metadata": {},
     "output_type": "execute_result"
    }
   ],
   "source": [
    "pwskills2.mobile_num"
   ]
  },
  {
   "cell_type": "code",
   "execution_count": 19,
   "id": "aa325c08",
   "metadata": {},
   "outputs": [],
   "source": [
    "# accesing inside normal pwskills method\n",
    "class pwskills2:\n",
    "    \n",
    "#     this is called class variable\n",
    "    mobile_num = 9991231338\n",
    "    \n",
    "    def __init__(self , name , email):\n",
    "        \n",
    "        self.name = name\n",
    "        self.email = email\n",
    "        \n",
    "    @classmethod\n",
    "    def change_number(cls , mobile):\n",
    "        pwskills2.mobile_num = mobile\n",
    "    \n",
    "    \n",
    "    @classmethod \n",
    "    def details(cls , name , email):\n",
    "        return cls(name , email)\n",
    "    \n",
    "#     accessing here -> self nahi likhenge class ka nam likhenge becuase yeah class se associated hai\n",
    "    def students_details(self):\n",
    "        print(self.name , self.email , pwskills2.mobile_num)"
   ]
  },
  {
   "cell_type": "code",
   "execution_count": 21,
   "id": "7f849009",
   "metadata": {},
   "outputs": [],
   "source": [
    "# 1. Accesing pwskills's method through OBJECT\n",
    "pw_obj = pwskills2(\"sudh\" , \"sudh@gg.com\")"
   ]
  },
  {
   "cell_type": "code",
   "execution_count": 22,
   "id": "a95d83b2",
   "metadata": {},
   "outputs": [
    {
     "name": "stdout",
     "output_type": "stream",
     "text": [
      "sudh sudh@gg.com 9991231338\n"
     ]
    }
   ],
   "source": [
    "pw_obj.students_details()"
   ]
  },
  {
   "cell_type": "code",
   "execution_count": 23,
   "id": "9c0ddd47",
   "metadata": {},
   "outputs": [],
   "source": [
    "# 2. Accesing pwskills method via other class's method variable\n",
    "pw = pwskills2.details(\"rohan\" , \"rohan@gg.com\")"
   ]
  },
  {
   "cell_type": "code",
   "execution_count": 24,
   "id": "24df2370",
   "metadata": {},
   "outputs": [
    {
     "name": "stdout",
     "output_type": "stream",
     "text": [
      "rohan rohan@gg.com 9991231338\n"
     ]
    }
   ],
   "source": [
    "pw.students_details()"
   ]
  },
  {
   "cell_type": "markdown",
   "id": "a8cb1bf0",
   "metadata": {},
   "source": [
    "outside function ko kaise involve kare class methods ke andar"
   ]
  },
  {
   "cell_type": "code",
   "execution_count": 25,
   "id": "6e2b1795",
   "metadata": {},
   "outputs": [],
   "source": [
    "class pwskills3:\n",
    "    \n",
    "    mobile_num = 9991231338\n",
    "    \n",
    "    def __init__(self , name , email):\n",
    "        \n",
    "        self.name = name\n",
    "        self.email = email\n",
    "        \n",
    "    @classmethod\n",
    "    def change_number(cls , mobile):\n",
    "        pwskills2.mobile_num = mobile\n",
    "    \n",
    "    \n",
    "    @classmethod \n",
    "    def details(cls , name , email):\n",
    "        return cls(name , email)\n",
    "    \n",
    "    def students_details(self):\n",
    "        print(self.name , self.email , pwskills2.mobile_num)"
   ]
  },
  {
   "cell_type": "code",
   "execution_count": 26,
   "id": "35bd713a",
   "metadata": {},
   "outputs": [],
   "source": [
    "def course_details(cls , course_name):\n",
    "    print(\"course name is \", course_name)"
   ]
  },
  {
   "cell_type": "code",
   "execution_count": 27,
   "id": "41e26a89",
   "metadata": {},
   "outputs": [],
   "source": [
    "# adding this into our pwskills3 using class methods"
   ]
  },
  {
   "cell_type": "code",
   "execution_count": 28,
   "id": "84663d66",
   "metadata": {},
   "outputs": [],
   "source": [
    "pwskills3.course_details = classmethod(course_details)"
   ]
  },
  {
   "cell_type": "code",
   "execution_count": 29,
   "id": "2f334dbd",
   "metadata": {},
   "outputs": [
    {
     "name": "stdout",
     "output_type": "stream",
     "text": [
      "course name is  Archemedis\n"
     ]
    }
   ],
   "source": [
    "# included\n",
    "pwskills3.course_details(\"Archemedis\")"
   ]
  },
  {
   "cell_type": "code",
   "execution_count": 30,
   "id": "18d00b55",
   "metadata": {},
   "outputs": [],
   "source": [
    "# attaching some more functions\n",
    "def mentor(cls , list_of_mentors):\n",
    "    print(list_of_mentors)"
   ]
  },
  {
   "cell_type": "code",
   "execution_count": 31,
   "id": "d8e7438e",
   "metadata": {},
   "outputs": [],
   "source": [
    "pwskills3.mentor = classmethod(mentor)"
   ]
  },
  {
   "cell_type": "code",
   "execution_count": 32,
   "id": "4f793e9b",
   "metadata": {},
   "outputs": [
    {
     "name": "stdout",
     "output_type": "stream",
     "text": [
      "['maninder', 'astha']\n"
     ]
    }
   ],
   "source": [
    "# included mentor\n",
    "pwskills3.mentor([\"maninder\" , \"astha\"])"
   ]
  },
  {
   "cell_type": "markdown",
   "id": "688e7282",
   "metadata": {},
   "source": [
    "Deleting functions / methods"
   ]
  },
  {
   "cell_type": "code",
   "execution_count": 33,
   "id": "df293187",
   "metadata": {},
   "outputs": [],
   "source": [
    "del pwskills3.change_number"
   ]
  },
  {
   "cell_type": "code",
   "execution_count": 34,
   "id": "6795e196",
   "metadata": {},
   "outputs": [],
   "source": [
    "# pwskills3.change_number(1233)\n",
    "# error deleted"
   ]
  },
  {
   "cell_type": "code",
   "execution_count": 35,
   "id": "4cfa6984",
   "metadata": {},
   "outputs": [],
   "source": [
    "delattr(pwskills3 , \"details\")"
   ]
  },
  {
   "cell_type": "code",
   "execution_count": 36,
   "id": "d85a6fc6",
   "metadata": {},
   "outputs": [],
   "source": [
    "# pwskills3.details error"
   ]
  },
  {
   "cell_type": "code",
   "execution_count": 37,
   "id": "e6b41884",
   "metadata": {},
   "outputs": [],
   "source": [
    "# can we delete the method that is inside my class pwskills3 i.e. not a class method\n",
    "delattr(pwskills3 , \"students_details\")"
   ]
  },
  {
   "cell_type": "code",
   "execution_count": 38,
   "id": "0d06b4b0",
   "metadata": {},
   "outputs": [],
   "source": [
    "# pwskills3.students_details error"
   ]
  },
  {
   "cell_type": "code",
   "execution_count": 39,
   "id": "d8a2b0f4",
   "metadata": {},
   "outputs": [],
   "source": [
    "# deleting varible\n",
    "delattr(pwskills3 , \"mobile_num\")"
   ]
  },
  {
   "cell_type": "code",
   "execution_count": 40,
   "id": "2d29991d",
   "metadata": {},
   "outputs": [],
   "source": [
    "# pwskills3.mobile_num error"
   ]
  }
 ],
 "metadata": {
  "kernelspec": {
   "display_name": "Python 3 (ipykernel)",
   "language": "python",
   "name": "python3"
  },
  "language_info": {
   "codemirror_mode": {
    "name": "ipython",
    "version": 3
   },
   "file_extension": ".py",
   "mimetype": "text/x-python",
   "name": "python",
   "nbconvert_exporter": "python",
   "pygments_lexer": "ipython3",
   "version": "3.9.13"
  }
 },
 "nbformat": 4,
 "nbformat_minor": 5
}
