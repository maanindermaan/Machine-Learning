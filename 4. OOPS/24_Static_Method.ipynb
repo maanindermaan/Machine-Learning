{
 "cells": [
  {
   "cell_type": "code",
   "execution_count": 1,
   "id": "e9e64786",
   "metadata": {},
   "outputs": [],
   "source": [
    "class pwskills:\n",
    "    \n",
    "    def student_details(self , name , mail_id , number):\n",
    "        print(name , mail_id , number)"
   ]
  },
  {
   "cell_type": "code",
   "execution_count": 2,
   "id": "8a8b22b2",
   "metadata": {},
   "outputs": [],
   "source": [
    "pw = pwskills()"
   ]
  },
  {
   "cell_type": "code",
   "execution_count": 3,
   "id": "1267fe84",
   "metadata": {},
   "outputs": [
    {
     "name": "stdout",
     "output_type": "stream",
     "text": [
      "sudh sudh@gg.com 9918383\n"
     ]
    }
   ],
   "source": [
    "pw.student_details(\"sudh\" , \"sudh@gg.com\" , 9918383)"
   ]
  },
  {
   "cell_type": "code",
   "execution_count": 4,
   "id": "efd8e306",
   "metadata": {},
   "outputs": [],
   "source": [
    "# ACCESSING Without object creating"
   ]
  },
  {
   "cell_type": "code",
   "execution_count": 5,
   "id": "5638c3e9",
   "metadata": {},
   "outputs": [],
   "source": [
    "# Using static Method"
   ]
  },
  {
   "cell_type": "code",
   "execution_count": 6,
   "id": "9ee1d873",
   "metadata": {},
   "outputs": [],
   "source": [
    "class pwskills1:\n",
    "    \n",
    "    def student_details(self , name , mail_id , number):\n",
    "        print(name , mail_id , number)\n",
    "        \n",
    "        \n",
    "    @staticmethod\n",
    "    def mentor_class(list_mentor):\n",
    "        print(list_mentor)"
   ]
  },
  {
   "cell_type": "code",
   "execution_count": 7,
   "id": "76b6cb52",
   "metadata": {},
   "outputs": [
    {
     "name": "stdout",
     "output_type": "stream",
     "text": [
      "['sudh', 'krish']\n"
     ]
    }
   ],
   "source": [
    "pwskills1.mentor_class([\"sudh\" , \"krish\"])"
   ]
  },
  {
   "cell_type": "code",
   "execution_count": 8,
   "id": "78dccd24",
   "metadata": {},
   "outputs": [],
   "source": [
    "stu1 = pwskills1()"
   ]
  },
  {
   "cell_type": "code",
   "execution_count": 9,
   "id": "c7249b9b",
   "metadata": {},
   "outputs": [],
   "source": [
    "stu2 = pwskills1()"
   ]
  },
  {
   "cell_type": "code",
   "execution_count": 10,
   "id": "30ccda16",
   "metadata": {},
   "outputs": [],
   "source": [
    "stu3 = pwskills1()"
   ]
  },
  {
   "cell_type": "code",
   "execution_count": 11,
   "id": "94f1bf7c",
   "metadata": {},
   "outputs": [],
   "source": [
    "# student details har bar create hoga particular object ke liye"
   ]
  },
  {
   "cell_type": "code",
   "execution_count": 12,
   "id": "53ca7af5",
   "metadata": {},
   "outputs": [],
   "source": [
    "class pwskills1:\n",
    "    \n",
    "    def student_details(self , name , mail_id , number):\n",
    "        print(name , mail_id , number)\n",
    "        \n",
    "        \n",
    "    @staticmethod\n",
    "    def mentor_class(list_mentor):\n",
    "        print(list_mentor)\n",
    "        \n",
    "    def mentor(self , list_mentor):\n",
    "        print(list_mentor)"
   ]
  },
  {
   "cell_type": "code",
   "execution_count": 13,
   "id": "9cfb62dd",
   "metadata": {},
   "outputs": [],
   "source": [
    "# yeah mentor function har baar create hoga jab jab aap object banaoge"
   ]
  },
  {
   "cell_type": "code",
   "execution_count": 14,
   "id": "2dea4d53",
   "metadata": {},
   "outputs": [
    {
     "name": "stdout",
     "output_type": "stream",
     "text": [
      "['man', 'inder']\n"
     ]
    }
   ],
   "source": [
    "# stu1 ke mentor stu2 nahi access kar payega , stu2 ke liye alag banega\n",
    "stu1 = pwskills1()\n",
    "stu1.mentor([\"man\" , \"inder\"])"
   ]
  },
  {
   "cell_type": "code",
   "execution_count": 15,
   "id": "74dab7b2",
   "metadata": {},
   "outputs": [],
   "source": [
    "# ab yeah baar baar repliate hoga har ek object ke liye which is not preferable \n",
    "# so what we do is we make a static function using staticmethod which donnot recreate everytime , it is generic for all\n",
    "# Nahi banayenge toh memory consumption boht zyada high hojeyega\n",
    "# 1 million student_details or 1 million mentor function banjayenge for each student which is worst"
   ]
  },
  {
   "cell_type": "code",
   "execution_count": 16,
   "id": "802a6bf5",
   "metadata": {},
   "outputs": [],
   "source": [
    "# Using STATIC method inside a class METHOD / instance METHOD"
   ]
  },
  {
   "cell_type": "code",
   "execution_count": 17,
   "id": "c012c10b",
   "metadata": {},
   "outputs": [],
   "source": [
    "class pwskills2:\n",
    "    \n",
    "    def student_details(self , name , mail_id , number):\n",
    "        print(name , mail_id , number)\n",
    "        \n",
    "        \n",
    "    @staticmethod\n",
    "    def mentor_class(list_mentor):\n",
    "        print(list_mentor)\n",
    "        \n",
    "    @classmethod\n",
    "    def class_name(cls):\n",
    "        cls.mentor_class([\"sudh\" , \"krish\"])\n",
    "        \n",
    "    def mentor(self , list_mentor):\n",
    "        print(list_mentor)"
   ]
  },
  {
   "cell_type": "code",
   "execution_count": 18,
   "id": "6444d78b",
   "metadata": {},
   "outputs": [
    {
     "name": "stdout",
     "output_type": "stream",
     "text": [
      "['sudh', 'krish']\n"
     ]
    }
   ],
   "source": [
    "pwskills2.class_name()"
   ]
  },
  {
   "cell_type": "code",
   "execution_count": 19,
   "id": "56d772e0",
   "metadata": {},
   "outputs": [],
   "source": [
    "# Calling 1 static into another static"
   ]
  },
  {
   "cell_type": "code",
   "execution_count": 20,
   "id": "ba418064",
   "metadata": {},
   "outputs": [],
   "source": [
    "class pwskills3:\n",
    "    \n",
    "    def student_details(self , name , mail_id , number):\n",
    "        print(name , mail_id , number)\n",
    "    \n",
    "    @staticmethod\n",
    "    def mentor_mail_id(mail_id_mentor):\n",
    "        print(mail_id_mentor)\n",
    "        \n",
    "    @staticmethod\n",
    "    def mentor_class(list_mentor):\n",
    "        pwskills3.mentor_mail_id([\"mm@gg.com\" , \"nm@gg.com\"])\n",
    "        print(list_mentor)\n",
    "        \n",
    "    @classmethod\n",
    "    def class_name(cls):\n",
    "        cls.mentor_class([\"sudh\" , \"krish\"])\n",
    "        \n",
    "    def mentor(self , list_mentor):\n",
    "        print(list_mentor)"
   ]
  },
  {
   "cell_type": "code",
   "execution_count": 21,
   "id": "ada118df",
   "metadata": {},
   "outputs": [
    {
     "name": "stdout",
     "output_type": "stream",
     "text": [
      "['mm@gg.com', 'nm@gg.com']\n",
      "['krish', 'sudh']\n"
     ]
    }
   ],
   "source": [
    "pwskills3.mentor_class([\"krish\" , \"sudh\"])"
   ]
  },
  {
   "cell_type": "code",
   "execution_count": 22,
   "id": "a5e91603",
   "metadata": {},
   "outputs": [],
   "source": [
    "# calling static inside instance method(simple function)"
   ]
  },
  {
   "cell_type": "code",
   "execution_count": 23,
   "id": "29f434d3",
   "metadata": {},
   "outputs": [],
   "source": [
    "class pwskills4:\n",
    "    \n",
    "    def student_details(self , name , mail_id , number):\n",
    "        print(name , mail_id , number)\n",
    "    \n",
    "    @staticmethod\n",
    "    def mentor_mail_id(mail_id_mentor):\n",
    "        print(mail_id_mentor)\n",
    "        \n",
    "    @staticmethod\n",
    "    def mentor_class(list_mentor):\n",
    "        pwskills3.mentor_mail_id([\"mm@gg.com\" , \"nm@gg.com\"])\n",
    "        print(list_mentor)\n",
    "        \n",
    "    @classmethod\n",
    "    def class_name(cls):\n",
    "        cls.mentor_class([\"sudh\" , \"krish\"])\n",
    "        \n",
    "    def mentor(self , list_mentor):\n",
    "        print(list_mentor)\n",
    "        self.mentor_class([\"krish\" , \"sudh\"])"
   ]
  },
  {
   "cell_type": "code",
   "execution_count": 24,
   "id": "85662a19",
   "metadata": {},
   "outputs": [],
   "source": [
    "pw = pwskills4()"
   ]
  },
  {
   "cell_type": "code",
   "execution_count": 25,
   "id": "83191532",
   "metadata": {},
   "outputs": [
    {
     "name": "stdout",
     "output_type": "stream",
     "text": [
      "['krish', 'suddd']\n",
      "['mm@gg.com', 'nm@gg.com']\n",
      "['krish', 'sudh']\n"
     ]
    }
   ],
   "source": [
    "pw.mentor([\"krish\" , \"suddd\"])"
   ]
  }
 ],
 "metadata": {
  "kernelspec": {
   "display_name": "Python 3 (ipykernel)",
   "language": "python",
   "name": "python3"
  },
  "language_info": {
   "codemirror_mode": {
    "name": "ipython",
    "version": 3
   },
   "file_extension": ".py",
   "mimetype": "text/x-python",
   "name": "python",
   "nbconvert_exporter": "python",
   "pygments_lexer": "ipython3",
   "version": "3.9.13"
  }
 },
 "nbformat": 4,
 "nbformat_minor": 5
}
